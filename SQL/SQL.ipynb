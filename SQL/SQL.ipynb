{
 "cells": [
  {
   "cell_type": "markdown",
   "id": "f9129050",
   "metadata": {},
   "source": [
    "## Проект по SQL. Описание."
   ]
  },
  {
   "cell_type": "markdown",
   "id": "bc00ce51",
   "metadata": {},
   "source": [
    "Компания решила купилть крупный сервис для чтения книг по подписке. Нам необходимо проанализировать базу данных. В ней — информация о книгах, издательствах, авторах, а также пользовательские обзоры книг. Эти данные помогут сформулировать ценностное предложение для нового продукта."
   ]
  },
  {
   "cell_type": "markdown",
   "id": "2a956ce0",
   "metadata": {},
   "source": [
    "### Описание данных"
   ]
  },
  {
   "cell_type": "markdown",
   "id": "d06d1405",
   "metadata": {},
   "source": [
    "`Таблица books` cодержит данные о книгах:\n",
    "-\tbook_id — идентификатор книги;\n",
    "-\tauthor_id — идентификатор автора;\n",
    "-\ttitle — название книги;\n",
    "-\tnum_pages — количество страниц;\n",
    "-\tpublication_date — дата публикации книги;\n",
    "-\tpublisher_id — идентификатор издателя.\n",
    "\n",
    "`Таблица authors` cодержит данные об авторах:\n",
    "-\tauthor_id — идентификатор автора;\n",
    "-\tauthor — имя автора.\n",
    "\n",
    "`Таблица publishers` cодержит данные об издательствах:\n",
    "-\tpublisher_id — идентификатор издательства;\n",
    "-\tpublisher — название издательства;\n",
    "\n",
    "`Таблица ratings` cодержит данные о пользовательских оценках книг:\n",
    "-\trating_id — идентификатор оценки;\n",
    "-\tbook_id — идентификатор книги;\n",
    "-\tusername — имя пользователя, оставившего оценку;\n",
    "-\trating — оценка книги.\n",
    "\n",
    "`Таблица reviews` cодержит данные о пользовательских обзорах на книги:\n",
    "-\treview_id — идентификатор обзора;\n",
    "-\tbook_id — идентификатор книги;\n",
    "-\tusername — имя пользователя, написавшего обзор;\n",
    "-\ttext — текст обзора.\n"
   ]
  },
  {
   "cell_type": "markdown",
   "id": "ffe75fd8",
   "metadata": {},
   "source": [
    "## Задачи.\n",
    "1. Выяснить, сколько книг вышло после 1 января 2000 года;\n",
    "2. Для каждой книги посчитать количество обзоров и среднюю оценку;\n",
    "3. Определить издательство, которое выпустило наибольшее число книг толще 50 страниц (исключаем из анализа брошюры);\n",
    "4. Определить автора с самой высокой средней оценкой книг, необходимо учитывать только книги с 50 и более оценками;\n",
    "5. Посчитайть среднее количество обзоров от пользователей, которые поставили больше 50 оценок.\n"
   ]
  },
  {
   "cell_type": "markdown",
   "id": "61d3036b",
   "metadata": {},
   "source": [
    "## Подключение к базе данных"
   ]
  },
  {
   "cell_type": "code",
   "execution_count": 1,
   "id": "4595ddc5",
   "metadata": {},
   "outputs": [],
   "source": [
    "# импорт библиотек\n",
    "import pandas as pd\n",
    "from sqlalchemy import create_engine\n",
    "\n",
    "# # отключим предупреждения Anaconda\n",
    "import warnings\n",
    "warnings.simplefilter('ignore')\n",
    "\n",
    "\n",
    "pd.set_option('display.float_format', '{:,.2f}'.format) # вывод всех значений в столбцах с двумя знаками после запятой\n",
    "pd.set_option('display.max_columns', None) # вывод всех столбцов без скрытых за многоточием\n",
    "pd.options.display.max_colwidth = 150 # вывод полного текста в ячейке"
   ]
  },
  {
   "cell_type": "code",
   "execution_count": 2,
   "id": "b5f56d84",
   "metadata": {},
   "outputs": [],
   "source": [
    "# установка параметров\n",
    "db_config = {'user': 'praktikum_student', # имя пользователя\n",
    " 'pwd': 'Sdf4$2;d-d30pp', # пароль\n",
    " 'host': 'rc1b-wcoijxj3yxfsf3fs.mdb.yandexcloud.net', # адрес сервера\n",
    " 'port': 6432, # порт подключения\n",
    " 'db': 'data-analyst-final-project-db'} # название базы данных"
   ]
  },
  {
   "cell_type": "code",
   "execution_count": 3,
   "id": "9178a0ee",
   "metadata": {},
   "outputs": [],
   "source": [
    "connection_string = 'postgresql://{}:{}@{}:{}/{}'.format(db_config['user'],\n",
    " db_config['pwd'],\n",
    " db_config['host'],\n",
    " db_config['port'],\n",
    " db_config['db'])  \n",
    "# сохраняем коннектор\n",
    "engine = create_engine(connection_string, connect_args={'sslmode':'require'}) "
   ]
  },
  {
   "cell_type": "markdown",
   "id": "32a10257",
   "metadata": {},
   "source": [
    "## Исследование"
   ]
  },
  {
   "cell_type": "markdown",
   "id": "05b4b874",
   "metadata": {},
   "source": [
    "### Взгляд на данные. Первые строки таблиц"
   ]
  },
  {
   "cell_type": "code",
   "execution_count": 4,
   "id": "e06b969a",
   "metadata": {},
   "outputs": [],
   "source": [
    "# обращение к базе данных через строку query, которая отбирает все*столбцы из каждой таблицы\n",
    "\n",
    "query = ''' SELECT *\n",
    "         FROM books\n",
    "        '''\n",
    "\n",
    "query1 = ''' SELECT *\n",
    "         FROM authors\n",
    "        '''\n",
    "\n",
    "query2 = ''' SELECT *\n",
    "         FROM publishers\n",
    "        '''\n",
    "\n",
    "query3 = ''' SELECT *\n",
    "         FROM ratings\n",
    "        '''\n",
    "query4 = ''' SELECT *\n",
    "         FROM reviews\n",
    "        '''"
   ]
  },
  {
   "cell_type": "code",
   "execution_count": 5,
   "id": "9a1951a6",
   "metadata": {},
   "outputs": [],
   "source": [
    "# вывод таблиц в питоне\n",
    "books = pd.io.sql.read_sql(query, con = engine) \n",
    "authors = pd.io.sql.read_sql(query1, con = engine) \n",
    "publishers = pd.io.sql.read_sql(query2, con = engine) \n",
    "ratings = pd.io.sql.read_sql(query3, con = engine) \n",
    "reviews = pd.io.sql.read_sql(query4, con = engine) "
   ]
  },
  {
   "cell_type": "code",
   "execution_count": 6,
   "id": "cb138777",
   "metadata": {},
   "outputs": [],
   "source": [
    "# функция для вывода общей информации о датасете\n",
    "def basic_func(data):\n",
    "        display(data.head())\n",
    "        display(data.info())\n",
    "        display(data.describe().T)\n",
    "        print('Количество явных дуликатов в таблице', data.duplicated().sum())\n",
    "        print('Размер датасета:', data.shape)"
   ]
  },
  {
   "cell_type": "code",
   "execution_count": 7,
   "id": "641b2970",
   "metadata": {},
   "outputs": [
    {
     "data": {
      "text/html": [
       "<div>\n",
       "<style scoped>\n",
       "    .dataframe tbody tr th:only-of-type {\n",
       "        vertical-align: middle;\n",
       "    }\n",
       "\n",
       "    .dataframe tbody tr th {\n",
       "        vertical-align: top;\n",
       "    }\n",
       "\n",
       "    .dataframe thead th {\n",
       "        text-align: right;\n",
       "    }\n",
       "</style>\n",
       "<table border=\"1\" class=\"dataframe\">\n",
       "  <thead>\n",
       "    <tr style=\"text-align: right;\">\n",
       "      <th></th>\n",
       "      <th>book_id</th>\n",
       "      <th>author_id</th>\n",
       "      <th>title</th>\n",
       "      <th>num_pages</th>\n",
       "      <th>publication_date</th>\n",
       "      <th>publisher_id</th>\n",
       "    </tr>\n",
       "  </thead>\n",
       "  <tbody>\n",
       "    <tr>\n",
       "      <th>0</th>\n",
       "      <td>1</td>\n",
       "      <td>546</td>\n",
       "      <td>'Salem's Lot</td>\n",
       "      <td>594</td>\n",
       "      <td>2005-11-01</td>\n",
       "      <td>93</td>\n",
       "    </tr>\n",
       "    <tr>\n",
       "      <th>1</th>\n",
       "      <td>2</td>\n",
       "      <td>465</td>\n",
       "      <td>1 000 Places to See Before You Die</td>\n",
       "      <td>992</td>\n",
       "      <td>2003-05-22</td>\n",
       "      <td>336</td>\n",
       "    </tr>\n",
       "    <tr>\n",
       "      <th>2</th>\n",
       "      <td>3</td>\n",
       "      <td>407</td>\n",
       "      <td>13 Little Blue Envelopes (Little Blue Envelope  #1)</td>\n",
       "      <td>322</td>\n",
       "      <td>2010-12-21</td>\n",
       "      <td>135</td>\n",
       "    </tr>\n",
       "    <tr>\n",
       "      <th>3</th>\n",
       "      <td>4</td>\n",
       "      <td>82</td>\n",
       "      <td>1491: New Revelations of the Americas Before Columbus</td>\n",
       "      <td>541</td>\n",
       "      <td>2006-10-10</td>\n",
       "      <td>309</td>\n",
       "    </tr>\n",
       "    <tr>\n",
       "      <th>4</th>\n",
       "      <td>5</td>\n",
       "      <td>125</td>\n",
       "      <td>1776</td>\n",
       "      <td>386</td>\n",
       "      <td>2006-07-04</td>\n",
       "      <td>268</td>\n",
       "    </tr>\n",
       "  </tbody>\n",
       "</table>\n",
       "</div>"
      ],
      "text/plain": [
       "   book_id  author_id                                                  title  \\\n",
       "0        1        546                                           'Salem's Lot   \n",
       "1        2        465                     1 000 Places to See Before You Die   \n",
       "2        3        407    13 Little Blue Envelopes (Little Blue Envelope  #1)   \n",
       "3        4         82  1491: New Revelations of the Americas Before Columbus   \n",
       "4        5        125                                                   1776   \n",
       "\n",
       "   num_pages publication_date  publisher_id  \n",
       "0        594       2005-11-01            93  \n",
       "1        992       2003-05-22           336  \n",
       "2        322       2010-12-21           135  \n",
       "3        541       2006-10-10           309  \n",
       "4        386       2006-07-04           268  "
      ]
     },
     "metadata": {},
     "output_type": "display_data"
    },
    {
     "name": "stdout",
     "output_type": "stream",
     "text": [
      "<class 'pandas.core.frame.DataFrame'>\n",
      "RangeIndex: 1000 entries, 0 to 999\n",
      "Data columns (total 6 columns):\n",
      " #   Column            Non-Null Count  Dtype \n",
      "---  ------            --------------  ----- \n",
      " 0   book_id           1000 non-null   int64 \n",
      " 1   author_id         1000 non-null   int64 \n",
      " 2   title             1000 non-null   object\n",
      " 3   num_pages         1000 non-null   int64 \n",
      " 4   publication_date  1000 non-null   object\n",
      " 5   publisher_id      1000 non-null   int64 \n",
      "dtypes: int64(4), object(2)\n",
      "memory usage: 47.0+ KB\n"
     ]
    },
    {
     "data": {
      "text/plain": [
       "None"
      ]
     },
     "metadata": {},
     "output_type": "display_data"
    },
    {
     "data": {
      "text/html": [
       "<div>\n",
       "<style scoped>\n",
       "    .dataframe tbody tr th:only-of-type {\n",
       "        vertical-align: middle;\n",
       "    }\n",
       "\n",
       "    .dataframe tbody tr th {\n",
       "        vertical-align: top;\n",
       "    }\n",
       "\n",
       "    .dataframe thead th {\n",
       "        text-align: right;\n",
       "    }\n",
       "</style>\n",
       "<table border=\"1\" class=\"dataframe\">\n",
       "  <thead>\n",
       "    <tr style=\"text-align: right;\">\n",
       "      <th></th>\n",
       "      <th>count</th>\n",
       "      <th>mean</th>\n",
       "      <th>std</th>\n",
       "      <th>min</th>\n",
       "      <th>25%</th>\n",
       "      <th>50%</th>\n",
       "      <th>75%</th>\n",
       "      <th>max</th>\n",
       "    </tr>\n",
       "  </thead>\n",
       "  <tbody>\n",
       "    <tr>\n",
       "      <th>book_id</th>\n",
       "      <td>1,000.00</td>\n",
       "      <td>500.50</td>\n",
       "      <td>288.82</td>\n",
       "      <td>1.00</td>\n",
       "      <td>250.75</td>\n",
       "      <td>500.50</td>\n",
       "      <td>750.25</td>\n",
       "      <td>1,000.00</td>\n",
       "    </tr>\n",
       "    <tr>\n",
       "      <th>author_id</th>\n",
       "      <td>1,000.00</td>\n",
       "      <td>320.42</td>\n",
       "      <td>181.62</td>\n",
       "      <td>1.00</td>\n",
       "      <td>162.75</td>\n",
       "      <td>316.50</td>\n",
       "      <td>481.00</td>\n",
       "      <td>636.00</td>\n",
       "    </tr>\n",
       "    <tr>\n",
       "      <th>num_pages</th>\n",
       "      <td>1,000.00</td>\n",
       "      <td>389.11</td>\n",
       "      <td>229.39</td>\n",
       "      <td>14.00</td>\n",
       "      <td>249.00</td>\n",
       "      <td>352.00</td>\n",
       "      <td>453.00</td>\n",
       "      <td>2,690.00</td>\n",
       "    </tr>\n",
       "    <tr>\n",
       "      <th>publisher_id</th>\n",
       "      <td>1,000.00</td>\n",
       "      <td>171.27</td>\n",
       "      <td>99.08</td>\n",
       "      <td>1.00</td>\n",
       "      <td>83.00</td>\n",
       "      <td>177.50</td>\n",
       "      <td>258.00</td>\n",
       "      <td>340.00</td>\n",
       "    </tr>\n",
       "  </tbody>\n",
       "</table>\n",
       "</div>"
      ],
      "text/plain": [
       "                count   mean    std   min    25%    50%    75%      max\n",
       "book_id      1,000.00 500.50 288.82  1.00 250.75 500.50 750.25 1,000.00\n",
       "author_id    1,000.00 320.42 181.62  1.00 162.75 316.50 481.00   636.00\n",
       "num_pages    1,000.00 389.11 229.39 14.00 249.00 352.00 453.00 2,690.00\n",
       "publisher_id 1,000.00 171.27  99.08  1.00  83.00 177.50 258.00   340.00"
      ]
     },
     "metadata": {},
     "output_type": "display_data"
    },
    {
     "name": "stdout",
     "output_type": "stream",
     "text": [
      "Количество явных дуликатов в таблице 0\n",
      "Размер датасета: (1000, 6)\n"
     ]
    }
   ],
   "source": [
    "basic_func(books)"
   ]
  },
  {
   "cell_type": "markdown",
   "id": "a09d93ea",
   "metadata": {},
   "source": [
    "Итак, `таблица books` состоит из 6 колонок и 1000 записей. Дубликатов и пропущенных значений нет. Все колонки соответствуют корректному типу данных, кроме даты."
   ]
  },
  {
   "cell_type": "code",
   "execution_count": 8,
   "id": "8ba70ce2",
   "metadata": {},
   "outputs": [
    {
     "data": {
      "text/html": [
       "<div>\n",
       "<style scoped>\n",
       "    .dataframe tbody tr th:only-of-type {\n",
       "        vertical-align: middle;\n",
       "    }\n",
       "\n",
       "    .dataframe tbody tr th {\n",
       "        vertical-align: top;\n",
       "    }\n",
       "\n",
       "    .dataframe thead th {\n",
       "        text-align: right;\n",
       "    }\n",
       "</style>\n",
       "<table border=\"1\" class=\"dataframe\">\n",
       "  <thead>\n",
       "    <tr style=\"text-align: right;\">\n",
       "      <th></th>\n",
       "      <th>author_id</th>\n",
       "      <th>author</th>\n",
       "    </tr>\n",
       "  </thead>\n",
       "  <tbody>\n",
       "    <tr>\n",
       "      <th>0</th>\n",
       "      <td>1</td>\n",
       "      <td>A.S. Byatt</td>\n",
       "    </tr>\n",
       "    <tr>\n",
       "      <th>1</th>\n",
       "      <td>2</td>\n",
       "      <td>Aesop/Laura Harris/Laura Gibbs</td>\n",
       "    </tr>\n",
       "    <tr>\n",
       "      <th>2</th>\n",
       "      <td>3</td>\n",
       "      <td>Agatha Christie</td>\n",
       "    </tr>\n",
       "    <tr>\n",
       "      <th>3</th>\n",
       "      <td>4</td>\n",
       "      <td>Alan Brennert</td>\n",
       "    </tr>\n",
       "    <tr>\n",
       "      <th>4</th>\n",
       "      <td>5</td>\n",
       "      <td>Alan Moore/David   Lloyd</td>\n",
       "    </tr>\n",
       "  </tbody>\n",
       "</table>\n",
       "</div>"
      ],
      "text/plain": [
       "   author_id                          author\n",
       "0          1                      A.S. Byatt\n",
       "1          2  Aesop/Laura Harris/Laura Gibbs\n",
       "2          3                 Agatha Christie\n",
       "3          4                   Alan Brennert\n",
       "4          5        Alan Moore/David   Lloyd"
      ]
     },
     "metadata": {},
     "output_type": "display_data"
    },
    {
     "name": "stdout",
     "output_type": "stream",
     "text": [
      "<class 'pandas.core.frame.DataFrame'>\n",
      "RangeIndex: 636 entries, 0 to 635\n",
      "Data columns (total 2 columns):\n",
      " #   Column     Non-Null Count  Dtype \n",
      "---  ------     --------------  ----- \n",
      " 0   author_id  636 non-null    int64 \n",
      " 1   author     636 non-null    object\n",
      "dtypes: int64(1), object(1)\n",
      "memory usage: 10.1+ KB\n"
     ]
    },
    {
     "data": {
      "text/plain": [
       "None"
      ]
     },
     "metadata": {},
     "output_type": "display_data"
    },
    {
     "data": {
      "text/html": [
       "<div>\n",
       "<style scoped>\n",
       "    .dataframe tbody tr th:only-of-type {\n",
       "        vertical-align: middle;\n",
       "    }\n",
       "\n",
       "    .dataframe tbody tr th {\n",
       "        vertical-align: top;\n",
       "    }\n",
       "\n",
       "    .dataframe thead th {\n",
       "        text-align: right;\n",
       "    }\n",
       "</style>\n",
       "<table border=\"1\" class=\"dataframe\">\n",
       "  <thead>\n",
       "    <tr style=\"text-align: right;\">\n",
       "      <th></th>\n",
       "      <th>count</th>\n",
       "      <th>mean</th>\n",
       "      <th>std</th>\n",
       "      <th>min</th>\n",
       "      <th>25%</th>\n",
       "      <th>50%</th>\n",
       "      <th>75%</th>\n",
       "      <th>max</th>\n",
       "    </tr>\n",
       "  </thead>\n",
       "  <tbody>\n",
       "    <tr>\n",
       "      <th>author_id</th>\n",
       "      <td>636.00</td>\n",
       "      <td>318.50</td>\n",
       "      <td>183.74</td>\n",
       "      <td>1.00</td>\n",
       "      <td>159.75</td>\n",
       "      <td>318.50</td>\n",
       "      <td>477.25</td>\n",
       "      <td>636.00</td>\n",
       "    </tr>\n",
       "  </tbody>\n",
       "</table>\n",
       "</div>"
      ],
      "text/plain": [
       "           count   mean    std  min    25%    50%    75%    max\n",
       "author_id 636.00 318.50 183.74 1.00 159.75 318.50 477.25 636.00"
      ]
     },
     "metadata": {},
     "output_type": "display_data"
    },
    {
     "name": "stdout",
     "output_type": "stream",
     "text": [
      "Количество явных дуликатов в таблице 0\n",
      "Размер датасета: (636, 2)\n"
     ]
    }
   ],
   "source": [
    "basic_func(authors)"
   ]
  },
  {
   "cell_type": "markdown",
   "id": "acb6beca",
   "metadata": {},
   "source": [
    "Итак, `таблица authors` состоит из 2 колонки и 636 записей. Дубликатов и пропущенных значений нет. Все колонки соответствуют корректному типу данных."
   ]
  },
  {
   "cell_type": "code",
   "execution_count": 9,
   "id": "e8ab12bf",
   "metadata": {},
   "outputs": [
    {
     "data": {
      "text/html": [
       "<div>\n",
       "<style scoped>\n",
       "    .dataframe tbody tr th:only-of-type {\n",
       "        vertical-align: middle;\n",
       "    }\n",
       "\n",
       "    .dataframe tbody tr th {\n",
       "        vertical-align: top;\n",
       "    }\n",
       "\n",
       "    .dataframe thead th {\n",
       "        text-align: right;\n",
       "    }\n",
       "</style>\n",
       "<table border=\"1\" class=\"dataframe\">\n",
       "  <thead>\n",
       "    <tr style=\"text-align: right;\">\n",
       "      <th></th>\n",
       "      <th>publisher_id</th>\n",
       "      <th>publisher</th>\n",
       "    </tr>\n",
       "  </thead>\n",
       "  <tbody>\n",
       "    <tr>\n",
       "      <th>0</th>\n",
       "      <td>1</td>\n",
       "      <td>Ace</td>\n",
       "    </tr>\n",
       "    <tr>\n",
       "      <th>1</th>\n",
       "      <td>2</td>\n",
       "      <td>Ace Book</td>\n",
       "    </tr>\n",
       "    <tr>\n",
       "      <th>2</th>\n",
       "      <td>3</td>\n",
       "      <td>Ace Books</td>\n",
       "    </tr>\n",
       "    <tr>\n",
       "      <th>3</th>\n",
       "      <td>4</td>\n",
       "      <td>Ace Hardcover</td>\n",
       "    </tr>\n",
       "    <tr>\n",
       "      <th>4</th>\n",
       "      <td>5</td>\n",
       "      <td>Addison Wesley Publishing Company</td>\n",
       "    </tr>\n",
       "  </tbody>\n",
       "</table>\n",
       "</div>"
      ],
      "text/plain": [
       "   publisher_id                          publisher\n",
       "0             1                                Ace\n",
       "1             2                           Ace Book\n",
       "2             3                          Ace Books\n",
       "3             4                      Ace Hardcover\n",
       "4             5  Addison Wesley Publishing Company"
      ]
     },
     "metadata": {},
     "output_type": "display_data"
    },
    {
     "name": "stdout",
     "output_type": "stream",
     "text": [
      "<class 'pandas.core.frame.DataFrame'>\n",
      "RangeIndex: 340 entries, 0 to 339\n",
      "Data columns (total 2 columns):\n",
      " #   Column        Non-Null Count  Dtype \n",
      "---  ------        --------------  ----- \n",
      " 0   publisher_id  340 non-null    int64 \n",
      " 1   publisher     340 non-null    object\n",
      "dtypes: int64(1), object(1)\n",
      "memory usage: 5.4+ KB\n"
     ]
    },
    {
     "data": {
      "text/plain": [
       "None"
      ]
     },
     "metadata": {},
     "output_type": "display_data"
    },
    {
     "data": {
      "text/html": [
       "<div>\n",
       "<style scoped>\n",
       "    .dataframe tbody tr th:only-of-type {\n",
       "        vertical-align: middle;\n",
       "    }\n",
       "\n",
       "    .dataframe tbody tr th {\n",
       "        vertical-align: top;\n",
       "    }\n",
       "\n",
       "    .dataframe thead th {\n",
       "        text-align: right;\n",
       "    }\n",
       "</style>\n",
       "<table border=\"1\" class=\"dataframe\">\n",
       "  <thead>\n",
       "    <tr style=\"text-align: right;\">\n",
       "      <th></th>\n",
       "      <th>count</th>\n",
       "      <th>mean</th>\n",
       "      <th>std</th>\n",
       "      <th>min</th>\n",
       "      <th>25%</th>\n",
       "      <th>50%</th>\n",
       "      <th>75%</th>\n",
       "      <th>max</th>\n",
       "    </tr>\n",
       "  </thead>\n",
       "  <tbody>\n",
       "    <tr>\n",
       "      <th>publisher_id</th>\n",
       "      <td>340.00</td>\n",
       "      <td>170.50</td>\n",
       "      <td>98.29</td>\n",
       "      <td>1.00</td>\n",
       "      <td>85.75</td>\n",
       "      <td>170.50</td>\n",
       "      <td>255.25</td>\n",
       "      <td>340.00</td>\n",
       "    </tr>\n",
       "  </tbody>\n",
       "</table>\n",
       "</div>"
      ],
      "text/plain": [
       "              count   mean   std  min   25%    50%    75%    max\n",
       "publisher_id 340.00 170.50 98.29 1.00 85.75 170.50 255.25 340.00"
      ]
     },
     "metadata": {},
     "output_type": "display_data"
    },
    {
     "name": "stdout",
     "output_type": "stream",
     "text": [
      "Количество явных дуликатов в таблице 0\n",
      "Размер датасета: (340, 2)\n"
     ]
    }
   ],
   "source": [
    "basic_func(publishers)"
   ]
  },
  {
   "cell_type": "markdown",
   "id": "e3c6ffb8",
   "metadata": {},
   "source": [
    "Итак, `таблица publishers` состоит из 2 колонок и 340 записей. Дубликатов и пропущенных значений нет. Все колонки соответствуют корректному типу данных."
   ]
  },
  {
   "cell_type": "code",
   "execution_count": 10,
   "id": "be0402dc",
   "metadata": {},
   "outputs": [
    {
     "data": {
      "text/html": [
       "<div>\n",
       "<style scoped>\n",
       "    .dataframe tbody tr th:only-of-type {\n",
       "        vertical-align: middle;\n",
       "    }\n",
       "\n",
       "    .dataframe tbody tr th {\n",
       "        vertical-align: top;\n",
       "    }\n",
       "\n",
       "    .dataframe thead th {\n",
       "        text-align: right;\n",
       "    }\n",
       "</style>\n",
       "<table border=\"1\" class=\"dataframe\">\n",
       "  <thead>\n",
       "    <tr style=\"text-align: right;\">\n",
       "      <th></th>\n",
       "      <th>rating_id</th>\n",
       "      <th>book_id</th>\n",
       "      <th>username</th>\n",
       "      <th>rating</th>\n",
       "    </tr>\n",
       "  </thead>\n",
       "  <tbody>\n",
       "    <tr>\n",
       "      <th>0</th>\n",
       "      <td>1</td>\n",
       "      <td>1</td>\n",
       "      <td>ryanfranco</td>\n",
       "      <td>4</td>\n",
       "    </tr>\n",
       "    <tr>\n",
       "      <th>1</th>\n",
       "      <td>2</td>\n",
       "      <td>1</td>\n",
       "      <td>grantpatricia</td>\n",
       "      <td>2</td>\n",
       "    </tr>\n",
       "    <tr>\n",
       "      <th>2</th>\n",
       "      <td>3</td>\n",
       "      <td>1</td>\n",
       "      <td>brandtandrea</td>\n",
       "      <td>5</td>\n",
       "    </tr>\n",
       "    <tr>\n",
       "      <th>3</th>\n",
       "      <td>4</td>\n",
       "      <td>2</td>\n",
       "      <td>lorichen</td>\n",
       "      <td>3</td>\n",
       "    </tr>\n",
       "    <tr>\n",
       "      <th>4</th>\n",
       "      <td>5</td>\n",
       "      <td>2</td>\n",
       "      <td>mariokeller</td>\n",
       "      <td>2</td>\n",
       "    </tr>\n",
       "  </tbody>\n",
       "</table>\n",
       "</div>"
      ],
      "text/plain": [
       "   rating_id  book_id       username  rating\n",
       "0          1        1     ryanfranco       4\n",
       "1          2        1  grantpatricia       2\n",
       "2          3        1   brandtandrea       5\n",
       "3          4        2       lorichen       3\n",
       "4          5        2    mariokeller       2"
      ]
     },
     "metadata": {},
     "output_type": "display_data"
    },
    {
     "name": "stdout",
     "output_type": "stream",
     "text": [
      "<class 'pandas.core.frame.DataFrame'>\n",
      "RangeIndex: 6456 entries, 0 to 6455\n",
      "Data columns (total 4 columns):\n",
      " #   Column     Non-Null Count  Dtype \n",
      "---  ------     --------------  ----- \n",
      " 0   rating_id  6456 non-null   int64 \n",
      " 1   book_id    6456 non-null   int64 \n",
      " 2   username   6456 non-null   object\n",
      " 3   rating     6456 non-null   int64 \n",
      "dtypes: int64(3), object(1)\n",
      "memory usage: 201.9+ KB\n"
     ]
    },
    {
     "data": {
      "text/plain": [
       "None"
      ]
     },
     "metadata": {},
     "output_type": "display_data"
    },
    {
     "data": {
      "text/html": [
       "<div>\n",
       "<style scoped>\n",
       "    .dataframe tbody tr th:only-of-type {\n",
       "        vertical-align: middle;\n",
       "    }\n",
       "\n",
       "    .dataframe tbody tr th {\n",
       "        vertical-align: top;\n",
       "    }\n",
       "\n",
       "    .dataframe thead th {\n",
       "        text-align: right;\n",
       "    }\n",
       "</style>\n",
       "<table border=\"1\" class=\"dataframe\">\n",
       "  <thead>\n",
       "    <tr style=\"text-align: right;\">\n",
       "      <th></th>\n",
       "      <th>count</th>\n",
       "      <th>mean</th>\n",
       "      <th>std</th>\n",
       "      <th>min</th>\n",
       "      <th>25%</th>\n",
       "      <th>50%</th>\n",
       "      <th>75%</th>\n",
       "      <th>max</th>\n",
       "    </tr>\n",
       "  </thead>\n",
       "  <tbody>\n",
       "    <tr>\n",
       "      <th>rating_id</th>\n",
       "      <td>6,456.00</td>\n",
       "      <td>3,228.50</td>\n",
       "      <td>1,863.83</td>\n",
       "      <td>1.00</td>\n",
       "      <td>1,614.75</td>\n",
       "      <td>3,228.50</td>\n",
       "      <td>4,842.25</td>\n",
       "      <td>6,456.00</td>\n",
       "    </tr>\n",
       "    <tr>\n",
       "      <th>book_id</th>\n",
       "      <td>6,456.00</td>\n",
       "      <td>510.57</td>\n",
       "      <td>284.14</td>\n",
       "      <td>1.00</td>\n",
       "      <td>291.00</td>\n",
       "      <td>506.00</td>\n",
       "      <td>750.00</td>\n",
       "      <td>1,000.00</td>\n",
       "    </tr>\n",
       "    <tr>\n",
       "      <th>rating</th>\n",
       "      <td>6,456.00</td>\n",
       "      <td>3.93</td>\n",
       "      <td>0.94</td>\n",
       "      <td>1.00</td>\n",
       "      <td>3.00</td>\n",
       "      <td>4.00</td>\n",
       "      <td>5.00</td>\n",
       "      <td>5.00</td>\n",
       "    </tr>\n",
       "  </tbody>\n",
       "</table>\n",
       "</div>"
      ],
      "text/plain": [
       "             count     mean      std  min      25%      50%      75%      max\n",
       "rating_id 6,456.00 3,228.50 1,863.83 1.00 1,614.75 3,228.50 4,842.25 6,456.00\n",
       "book_id   6,456.00   510.57   284.14 1.00   291.00   506.00   750.00 1,000.00\n",
       "rating    6,456.00     3.93     0.94 1.00     3.00     4.00     5.00     5.00"
      ]
     },
     "metadata": {},
     "output_type": "display_data"
    },
    {
     "name": "stdout",
     "output_type": "stream",
     "text": [
      "Количество явных дуликатов в таблице 0\n",
      "Размер датасета: (6456, 4)\n"
     ]
    }
   ],
   "source": [
    "basic_func(ratings)"
   ]
  },
  {
   "cell_type": "code",
   "execution_count": 11,
   "id": "0f6540ae",
   "metadata": {},
   "outputs": [
    {
     "data": {
      "text/plain": [
       "1000"
      ]
     },
     "execution_count": 11,
     "metadata": {},
     "output_type": "execute_result"
    }
   ],
   "source": [
    "ratings['book_id'].nunique()"
   ]
  },
  {
   "cell_type": "markdown",
   "id": "381516e2",
   "metadata": {},
   "source": [
    "Итак, `таблица ratings` состоит из 4 колонок и 6456 записей. Дубликатов и пропущенных значений нет. Все колонки соответствуют корректному типу данных."
   ]
  },
  {
   "cell_type": "code",
   "execution_count": 12,
   "id": "ead3830a",
   "metadata": {},
   "outputs": [
    {
     "data": {
      "text/html": [
       "<div>\n",
       "<style scoped>\n",
       "    .dataframe tbody tr th:only-of-type {\n",
       "        vertical-align: middle;\n",
       "    }\n",
       "\n",
       "    .dataframe tbody tr th {\n",
       "        vertical-align: top;\n",
       "    }\n",
       "\n",
       "    .dataframe thead th {\n",
       "        text-align: right;\n",
       "    }\n",
       "</style>\n",
       "<table border=\"1\" class=\"dataframe\">\n",
       "  <thead>\n",
       "    <tr style=\"text-align: right;\">\n",
       "      <th></th>\n",
       "      <th>review_id</th>\n",
       "      <th>book_id</th>\n",
       "      <th>username</th>\n",
       "      <th>text</th>\n",
       "    </tr>\n",
       "  </thead>\n",
       "  <tbody>\n",
       "    <tr>\n",
       "      <th>0</th>\n",
       "      <td>1</td>\n",
       "      <td>1</td>\n",
       "      <td>brandtandrea</td>\n",
       "      <td>Mention society tell send professor analysis. Over provide race technology continue these.</td>\n",
       "    </tr>\n",
       "    <tr>\n",
       "      <th>1</th>\n",
       "      <td>2</td>\n",
       "      <td>1</td>\n",
       "      <td>ryanfranco</td>\n",
       "      <td>Foot glass pretty audience hit themselves. Among admit investment argue security.</td>\n",
       "    </tr>\n",
       "    <tr>\n",
       "      <th>2</th>\n",
       "      <td>3</td>\n",
       "      <td>2</td>\n",
       "      <td>lorichen</td>\n",
       "      <td>Listen treat keep worry. Miss husband tax but person sport treatment industry. Kitchen decision deep the. Social party body the.</td>\n",
       "    </tr>\n",
       "    <tr>\n",
       "      <th>3</th>\n",
       "      <td>4</td>\n",
       "      <td>3</td>\n",
       "      <td>johnsonamanda</td>\n",
       "      <td>Finally month interesting blue could nature cultural bit. Prepare beat finish grow that smile teach. Dream me play near.</td>\n",
       "    </tr>\n",
       "    <tr>\n",
       "      <th>4</th>\n",
       "      <td>5</td>\n",
       "      <td>3</td>\n",
       "      <td>scotttamara</td>\n",
       "      <td>Nation purpose heavy give wait song will. List dinner another whole positive radio fast. Music staff many green.</td>\n",
       "    </tr>\n",
       "  </tbody>\n",
       "</table>\n",
       "</div>"
      ],
      "text/plain": [
       "   review_id  book_id       username  \\\n",
       "0          1        1   brandtandrea   \n",
       "1          2        1     ryanfranco   \n",
       "2          3        2       lorichen   \n",
       "3          4        3  johnsonamanda   \n",
       "4          5        3    scotttamara   \n",
       "\n",
       "                                                                                                                               text  \n",
       "0                                        Mention society tell send professor analysis. Over provide race technology continue these.  \n",
       "1                                                 Foot glass pretty audience hit themselves. Among admit investment argue security.  \n",
       "2  Listen treat keep worry. Miss husband tax but person sport treatment industry. Kitchen decision deep the. Social party body the.  \n",
       "3          Finally month interesting blue could nature cultural bit. Prepare beat finish grow that smile teach. Dream me play near.  \n",
       "4                  Nation purpose heavy give wait song will. List dinner another whole positive radio fast. Music staff many green.  "
      ]
     },
     "metadata": {},
     "output_type": "display_data"
    },
    {
     "name": "stdout",
     "output_type": "stream",
     "text": [
      "<class 'pandas.core.frame.DataFrame'>\n",
      "RangeIndex: 2793 entries, 0 to 2792\n",
      "Data columns (total 4 columns):\n",
      " #   Column     Non-Null Count  Dtype \n",
      "---  ------     --------------  ----- \n",
      " 0   review_id  2793 non-null   int64 \n",
      " 1   book_id    2793 non-null   int64 \n",
      " 2   username   2793 non-null   object\n",
      " 3   text       2793 non-null   object\n",
      "dtypes: int64(2), object(2)\n",
      "memory usage: 87.4+ KB\n"
     ]
    },
    {
     "data": {
      "text/plain": [
       "None"
      ]
     },
     "metadata": {},
     "output_type": "display_data"
    },
    {
     "data": {
      "text/html": [
       "<div>\n",
       "<style scoped>\n",
       "    .dataframe tbody tr th:only-of-type {\n",
       "        vertical-align: middle;\n",
       "    }\n",
       "\n",
       "    .dataframe tbody tr th {\n",
       "        vertical-align: top;\n",
       "    }\n",
       "\n",
       "    .dataframe thead th {\n",
       "        text-align: right;\n",
       "    }\n",
       "</style>\n",
       "<table border=\"1\" class=\"dataframe\">\n",
       "  <thead>\n",
       "    <tr style=\"text-align: right;\">\n",
       "      <th></th>\n",
       "      <th>count</th>\n",
       "      <th>mean</th>\n",
       "      <th>std</th>\n",
       "      <th>min</th>\n",
       "      <th>25%</th>\n",
       "      <th>50%</th>\n",
       "      <th>75%</th>\n",
       "      <th>max</th>\n",
       "    </tr>\n",
       "  </thead>\n",
       "  <tbody>\n",
       "    <tr>\n",
       "      <th>review_id</th>\n",
       "      <td>2,793.00</td>\n",
       "      <td>1,397.00</td>\n",
       "      <td>806.41</td>\n",
       "      <td>1.00</td>\n",
       "      <td>699.00</td>\n",
       "      <td>1,397.00</td>\n",
       "      <td>2,095.00</td>\n",
       "      <td>2,793.00</td>\n",
       "    </tr>\n",
       "    <tr>\n",
       "      <th>book_id</th>\n",
       "      <td>2,793.00</td>\n",
       "      <td>504.69</td>\n",
       "      <td>288.47</td>\n",
       "      <td>1.00</td>\n",
       "      <td>259.00</td>\n",
       "      <td>505.00</td>\n",
       "      <td>753.00</td>\n",
       "      <td>1,000.00</td>\n",
       "    </tr>\n",
       "  </tbody>\n",
       "</table>\n",
       "</div>"
      ],
      "text/plain": [
       "             count     mean    std  min    25%      50%      75%      max\n",
       "review_id 2,793.00 1,397.00 806.41 1.00 699.00 1,397.00 2,095.00 2,793.00\n",
       "book_id   2,793.00   504.69 288.47 1.00 259.00   505.00   753.00 1,000.00"
      ]
     },
     "metadata": {},
     "output_type": "display_data"
    },
    {
     "name": "stdout",
     "output_type": "stream",
     "text": [
      "Количество явных дуликатов в таблице 0\n",
      "Размер датасета: (2793, 4)\n"
     ]
    }
   ],
   "source": [
    "basic_func(reviews)"
   ]
  },
  {
   "cell_type": "code",
   "execution_count": 13,
   "id": "edba8955",
   "metadata": {},
   "outputs": [
    {
     "data": {
      "text/plain": [
       "994"
      ]
     },
     "execution_count": 13,
     "metadata": {},
     "output_type": "execute_result"
    }
   ],
   "source": [
    "reviews['book_id'].nunique()"
   ]
  },
  {
   "cell_type": "markdown",
   "id": "33c63eb7",
   "metadata": {},
   "source": [
    "Итак, `таблица reviews` состоит из 4 колонок и 3793 записей. Дубликатов и пропущенных значений нет. Все колонки соответствуют корректному типу данных."
   ]
  },
  {
   "cell_type": "markdown",
   "id": "f70c7550",
   "metadata": {},
   "source": [
    "### Расчет количества книг, вышедших после 1 января 2000 года."
   ]
  },
  {
   "cell_type": "code",
   "execution_count": 14,
   "id": "766a3277",
   "metadata": {},
   "outputs": [],
   "source": [
    "query_num_books = ''' SELECT COUNT(DISTINCT book_id)\n",
    "                      FROM books\n",
    "                      WHERE (publication_date) > '2000-01-01'\n",
    "                  '''"
   ]
  },
  {
   "cell_type": "code",
   "execution_count": 15,
   "id": "32c7c0b7",
   "metadata": {},
   "outputs": [
    {
     "data": {
      "text/html": [
       "<div>\n",
       "<style scoped>\n",
       "    .dataframe tbody tr th:only-of-type {\n",
       "        vertical-align: middle;\n",
       "    }\n",
       "\n",
       "    .dataframe tbody tr th {\n",
       "        vertical-align: top;\n",
       "    }\n",
       "\n",
       "    .dataframe thead th {\n",
       "        text-align: right;\n",
       "    }\n",
       "</style>\n",
       "<table border=\"1\" class=\"dataframe\">\n",
       "  <thead>\n",
       "    <tr style=\"text-align: right;\">\n",
       "      <th></th>\n",
       "      <th>count</th>\n",
       "    </tr>\n",
       "  </thead>\n",
       "  <tbody>\n",
       "    <tr>\n",
       "      <th>0</th>\n",
       "      <td>819</td>\n",
       "    </tr>\n",
       "  </tbody>\n",
       "</table>\n",
       "</div>"
      ],
      "text/plain": [
       "   count\n",
       "0    819"
      ]
     },
     "execution_count": 15,
     "metadata": {},
     "output_type": "execute_result"
    }
   ],
   "source": [
    "num_books = pd.io.sql.read_sql(query_num_books, con = engine) \n",
    "num_books"
   ]
  },
  {
   "cell_type": "markdown",
   "id": "c9077454",
   "metadata": {},
   "source": [
    "Количество книг, вышедших после 1 января 2000 года, составляет 819 штук."
   ]
  },
  {
   "cell_type": "markdown",
   "id": "bbb8aa50",
   "metadata": {},
   "source": [
    "### Для каждой книги посчитайте количество обзоров и среднюю оценку"
   ]
  },
  {
   "cell_type": "code",
   "execution_count": 16,
   "id": "b0852b0f",
   "metadata": {},
   "outputs": [],
   "source": [
    "# решение\n",
    "query_num_text_rating = '''SELECT b.book_id,\n",
    "                                   b.title,\n",
    "                                   AVG(r.rating) AS avg_rating,\n",
    "                                   COUNT(DISTINCT v.review_id) AS text_qty\n",
    "                            FROM books AS b\n",
    "                            JOIN ratings AS r ON b.book_id = r.book_id\n",
    "                            LEFT JOIN reviews AS v ON r.book_id= v.book_id\n",
    "                            GROUP BY b.book_id, b.title\n",
    "                            ORDER BY COUNT(v.review_id) DESC   \n",
    "                        '''"
   ]
  },
  {
   "cell_type": "code",
   "execution_count": 17,
   "id": "be05c741",
   "metadata": {
    "scrolled": false
   },
   "outputs": [
    {
     "data": {
      "text/html": [
       "<div>\n",
       "<style scoped>\n",
       "    .dataframe tbody tr th:only-of-type {\n",
       "        vertical-align: middle;\n",
       "    }\n",
       "\n",
       "    .dataframe tbody tr th {\n",
       "        vertical-align: top;\n",
       "    }\n",
       "\n",
       "    .dataframe thead th {\n",
       "        text-align: right;\n",
       "    }\n",
       "</style>\n",
       "<table border=\"1\" class=\"dataframe\">\n",
       "  <thead>\n",
       "    <tr style=\"text-align: right;\">\n",
       "      <th></th>\n",
       "      <th>book_id</th>\n",
       "      <th>title</th>\n",
       "      <th>avg_rating</th>\n",
       "      <th>text_qty</th>\n",
       "    </tr>\n",
       "  </thead>\n",
       "  <tbody>\n",
       "    <tr>\n",
       "      <th>0</th>\n",
       "      <td>948</td>\n",
       "      <td>Twilight (Twilight  #1)</td>\n",
       "      <td>3.66</td>\n",
       "      <td>7</td>\n",
       "    </tr>\n",
       "    <tr>\n",
       "      <th>1</th>\n",
       "      <td>750</td>\n",
       "      <td>The Hobbit  or There and Back Again</td>\n",
       "      <td>4.12</td>\n",
       "      <td>6</td>\n",
       "    </tr>\n",
       "    <tr>\n",
       "      <th>2</th>\n",
       "      <td>673</td>\n",
       "      <td>The Catcher in the Rye</td>\n",
       "      <td>3.83</td>\n",
       "      <td>6</td>\n",
       "    </tr>\n",
       "    <tr>\n",
       "      <th>3</th>\n",
       "      <td>302</td>\n",
       "      <td>Harry Potter and the Prisoner of Azkaban (Harry Potter  #3)</td>\n",
       "      <td>4.41</td>\n",
       "      <td>6</td>\n",
       "    </tr>\n",
       "    <tr>\n",
       "      <th>4</th>\n",
       "      <td>299</td>\n",
       "      <td>Harry Potter and the Chamber of Secrets (Harry Potter  #2)</td>\n",
       "      <td>4.29</td>\n",
       "      <td>6</td>\n",
       "    </tr>\n",
       "    <tr>\n",
       "      <th>...</th>\n",
       "      <td>...</td>\n",
       "      <td>...</td>\n",
       "      <td>...</td>\n",
       "      <td>...</td>\n",
       "    </tr>\n",
       "    <tr>\n",
       "      <th>995</th>\n",
       "      <td>221</td>\n",
       "      <td>Essential Tales and Poems</td>\n",
       "      <td>4.00</td>\n",
       "      <td>0</td>\n",
       "    </tr>\n",
       "    <tr>\n",
       "      <th>996</th>\n",
       "      <td>387</td>\n",
       "      <td>Leonardo's Notebooks</td>\n",
       "      <td>4.00</td>\n",
       "      <td>0</td>\n",
       "    </tr>\n",
       "    <tr>\n",
       "      <th>997</th>\n",
       "      <td>672</td>\n",
       "      <td>The Cat in the Hat and Other Dr. Seuss Favorites</td>\n",
       "      <td>5.00</td>\n",
       "      <td>0</td>\n",
       "    </tr>\n",
       "    <tr>\n",
       "      <th>998</th>\n",
       "      <td>83</td>\n",
       "      <td>Anne Rice's The Vampire Lestat: A Graphic Novel</td>\n",
       "      <td>3.67</td>\n",
       "      <td>0</td>\n",
       "    </tr>\n",
       "    <tr>\n",
       "      <th>999</th>\n",
       "      <td>808</td>\n",
       "      <td>The Natural Way to Draw</td>\n",
       "      <td>3.00</td>\n",
       "      <td>0</td>\n",
       "    </tr>\n",
       "  </tbody>\n",
       "</table>\n",
       "<p>1000 rows × 4 columns</p>\n",
       "</div>"
      ],
      "text/plain": [
       "     book_id                                                        title  \\\n",
       "0        948                                      Twilight (Twilight  #1)   \n",
       "1        750                          The Hobbit  or There and Back Again   \n",
       "2        673                                       The Catcher in the Rye   \n",
       "3        302  Harry Potter and the Prisoner of Azkaban (Harry Potter  #3)   \n",
       "4        299   Harry Potter and the Chamber of Secrets (Harry Potter  #2)   \n",
       "..       ...                                                          ...   \n",
       "995      221                                    Essential Tales and Poems   \n",
       "996      387                                         Leonardo's Notebooks   \n",
       "997      672             The Cat in the Hat and Other Dr. Seuss Favorites   \n",
       "998       83              Anne Rice's The Vampire Lestat: A Graphic Novel   \n",
       "999      808                                      The Natural Way to Draw   \n",
       "\n",
       "     avg_rating  text_qty  \n",
       "0          3.66         7  \n",
       "1          4.12         6  \n",
       "2          3.83         6  \n",
       "3          4.41         6  \n",
       "4          4.29         6  \n",
       "..          ...       ...  \n",
       "995        4.00         0  \n",
       "996        4.00         0  \n",
       "997        5.00         0  \n",
       "998        3.67         0  \n",
       "999        3.00         0  \n",
       "\n",
       "[1000 rows x 4 columns]"
      ]
     },
     "execution_count": 17,
     "metadata": {},
     "output_type": "execute_result"
    }
   ],
   "source": [
    "num_text_rating = pd.io.sql.read_sql(query_num_text_rating, con = engine) \n",
    "num_text_rating"
   ]
  },
  {
   "cell_type": "markdown",
   "id": "3b692ed1",
   "metadata": {},
   "source": [
    "Количество обзоров text_qty не всегда кореллирует со средним рейтингом avg_rating: иногда обзоров много, а рейтинг низкий, и наоборот: мало обзоров - рейтинг высокий. Срейдний рейтинг книг колеблется от 1.5 до 5. Всего обзору подверглись 994 книги. 6 книг не получили обзора, но имеют оценку."
   ]
  },
  {
   "cell_type": "markdown",
   "id": "846e0be0",
   "metadata": {},
   "source": [
    "### Определите издательство, которое выпустило наибольшее число книг толще 50 страниц — так вы исключите из анализа брошюры;"
   ]
  },
  {
   "cell_type": "code",
   "execution_count": 18,
   "id": "e82514d1",
   "metadata": {},
   "outputs": [],
   "source": [
    "query_publisher_most = '''SELECT p.publisher_id,\n",
    "                                 p.publisher,\n",
    "                                 COUNT(b.book_id) AS book_qty\n",
    "                          FROM publishers AS p\n",
    "                          JOIN books AS b ON p.publisher_id = b.publisher_id\n",
    "                          WHERE b.num_pages > 50\n",
    "                          GROUP BY p.publisher_id, p.publisher\n",
    "                          ORDER BY COUNT(b.book_id) DESC\n",
    "                          LIMIT (1);\n",
    "                       '''"
   ]
  },
  {
   "cell_type": "code",
   "execution_count": 19,
   "id": "7a7dc3d1",
   "metadata": {},
   "outputs": [
    {
     "data": {
      "text/html": [
       "<div>\n",
       "<style scoped>\n",
       "    .dataframe tbody tr th:only-of-type {\n",
       "        vertical-align: middle;\n",
       "    }\n",
       "\n",
       "    .dataframe tbody tr th {\n",
       "        vertical-align: top;\n",
       "    }\n",
       "\n",
       "    .dataframe thead th {\n",
       "        text-align: right;\n",
       "    }\n",
       "</style>\n",
       "<table border=\"1\" class=\"dataframe\">\n",
       "  <thead>\n",
       "    <tr style=\"text-align: right;\">\n",
       "      <th></th>\n",
       "      <th>publisher_id</th>\n",
       "      <th>publisher</th>\n",
       "      <th>book_qty</th>\n",
       "    </tr>\n",
       "  </thead>\n",
       "  <tbody>\n",
       "    <tr>\n",
       "      <th>0</th>\n",
       "      <td>212</td>\n",
       "      <td>Penguin Books</td>\n",
       "      <td>42</td>\n",
       "    </tr>\n",
       "  </tbody>\n",
       "</table>\n",
       "</div>"
      ],
      "text/plain": [
       "   publisher_id      publisher  book_qty\n",
       "0           212  Penguin Books        42"
      ]
     },
     "execution_count": 19,
     "metadata": {},
     "output_type": "execute_result"
    }
   ],
   "source": [
    "publisher_most = pd.io.sql.read_sql(query_publisher_most, con = engine) \n",
    "publisher_most"
   ]
  },
  {
   "cell_type": "markdown",
   "id": "3e6301fe",
   "metadata": {},
   "source": [
    "Издательство Penguin Books выпустило 42 книги - наибольшее количество по всему датасету, и это именно книги, а не брошюры!"
   ]
  },
  {
   "cell_type": "markdown",
   "id": "bfec09e1",
   "metadata": {},
   "source": [
    "### Определите автора с самой высокой средней оценкой книг — учитывайте только книги с 50 и более оценками;"
   ]
  },
  {
   "cell_type": "code",
   "execution_count": 20,
   "id": "7762ff05",
   "metadata": {},
   "outputs": [],
   "source": [
    "# решение\n",
    "query_author_high_rate = '''SELECT Автор,\n",
    "                                   AVG(СР_оценка) AS Ср_рейтинг\n",
    "                            FROM (SELECT bs.book_id,\n",
    "                                   COUNT(DISTINCT rt.rating_id) AS Количество_оценок,\n",
    "                                   AVG(rt.rating) AS СР_оценка,\n",
    "                                   ath.author_id,\n",
    "                                   ath.author AS Автор\n",
    "                            FROM ratings AS rt\n",
    "                            JOIN books AS bs ON rt.book_id = bs.book_id\n",
    "                            JOIN authors AS ath ON bs.author_id=ath.author_id\n",
    "                            GROUP BY bs.book_id, ath.author_id\n",
    "                            HAVING COUNT(rt.rating_id) >=50\n",
    "                            ORDER BY AVG(DISTINCT rt.rating_id) DESC)T\n",
    "                            GROUP BY Автор\n",
    "                            LIMIT(1)\n",
    "                            \n",
    "                        '''"
   ]
  },
  {
   "cell_type": "code",
   "execution_count": 21,
   "id": "8b46032c",
   "metadata": {},
   "outputs": [
    {
     "data": {
      "text/html": [
       "<div>\n",
       "<style scoped>\n",
       "    .dataframe tbody tr th:only-of-type {\n",
       "        vertical-align: middle;\n",
       "    }\n",
       "\n",
       "    .dataframe tbody tr th {\n",
       "        vertical-align: top;\n",
       "    }\n",
       "\n",
       "    .dataframe thead th {\n",
       "        text-align: right;\n",
       "    }\n",
       "</style>\n",
       "<table border=\"1\" class=\"dataframe\">\n",
       "  <thead>\n",
       "    <tr style=\"text-align: right;\">\n",
       "      <th></th>\n",
       "      <th>Автор</th>\n",
       "      <th>Ср_рейтинг</th>\n",
       "    </tr>\n",
       "  </thead>\n",
       "  <tbody>\n",
       "    <tr>\n",
       "      <th>0</th>\n",
       "      <td>J.K. Rowling/Mary GrandPré</td>\n",
       "      <td>4.28</td>\n",
       "    </tr>\n",
       "  </tbody>\n",
       "</table>\n",
       "</div>"
      ],
      "text/plain": [
       "                        Автор  Ср_рейтинг\n",
       "0  J.K. Rowling/Mary GrandPré        4.28"
      ]
     },
     "execution_count": 21,
     "metadata": {},
     "output_type": "execute_result"
    }
   ],
   "source": [
    "author_high_rate = pd.io.sql.read_sql(query_author_high_rate, con = engine) \n",
    "author_high_rate"
   ]
  },
  {
   "cell_type": "markdown",
   "id": "8a9e6f52",
   "metadata": {},
   "source": [
    "Diana Gabaldon - автор с самой высокой средней оценкой среди книг, которые были оценены 50 и более раз."
   ]
  },
  {
   "cell_type": "markdown",
   "id": "6756bbe2",
   "metadata": {},
   "source": [
    "### Посчитайте среднее количество обзоров от пользователей, которые поставили больше 50 оценок."
   ]
  },
  {
   "cell_type": "code",
   "execution_count": 24,
   "id": "74019b36",
   "metadata": {},
   "outputs": [
    {
     "data": {
      "text/html": [
       "<div>\n",
       "<style scoped>\n",
       "    .dataframe tbody tr th:only-of-type {\n",
       "        vertical-align: middle;\n",
       "    }\n",
       "\n",
       "    .dataframe tbody tr th {\n",
       "        vertical-align: top;\n",
       "    }\n",
       "\n",
       "    .dataframe thead th {\n",
       "        text-align: right;\n",
       "    }\n",
       "</style>\n",
       "<table border=\"1\" class=\"dataframe\">\n",
       "  <thead>\n",
       "    <tr style=\"text-align: right;\">\n",
       "      <th></th>\n",
       "      <th>avg_review_qty</th>\n",
       "    </tr>\n",
       "  </thead>\n",
       "  <tbody>\n",
       "    <tr>\n",
       "      <th>0</th>\n",
       "      <td>24.33</td>\n",
       "    </tr>\n",
       "  </tbody>\n",
       "</table>\n",
       "</div>"
      ],
      "text/plain": [
       "   avg_review_qty\n",
       "0           24.33"
      ]
     },
     "execution_count": 24,
     "metadata": {},
     "output_type": "execute_result"
    }
   ],
   "source": [
    "# решение\n",
    "query_mean_text_50rate = '''SELECT AVG(rev_qty) AS avg_review_qty\n",
    "                            FROM (SELECT COUNT(rv.review_id) AS rev_qty\n",
    "                            FROM reviews AS rv\n",
    "                            WHERE rv.username IN (SELECT rt.username\n",
    "                            FROM ratings AS rt\n",
    "                            GROUP BY rt.username\n",
    "                            HAVING COUNT(rt.rating_id)>50)\n",
    "                            GROUP BY rv.username) T;\n",
    "                            \n",
    "                            '''\n",
    "mean_text_50rate = pd.io.sql.read_sql(query_mean_text_50rate, con = engine) \n",
    "mean_text_50rate\n"
   ]
  },
  {
   "cell_type": "markdown",
   "id": "ad2c556f",
   "metadata": {},
   "source": [
    "Итак, среднее количество обзоров от пользователей, поставивших более 50ти оценок, составило 24.33."
   ]
  }
 ],
 "metadata": {
  "ExecuteTimeLog": [
   {
    "duration": 717,
    "start_time": "2022-04-23T10:57:43.792Z"
   },
   {
    "duration": 3,
    "start_time": "2022-04-23T10:57:44.512Z"
   },
   {
    "duration": 11369,
    "start_time": "2022-04-23T10:57:44.517Z"
   },
   {
    "duration": 5,
    "start_time": "2022-04-23T10:57:55.889Z"
   },
   {
    "duration": 104,
    "start_time": "2022-04-23T10:57:55.895Z"
   },
   {
    "duration": 6,
    "start_time": "2022-04-23T10:57:56.001Z"
   },
   {
    "duration": 104,
    "start_time": "2022-04-23T10:57:56.010Z"
   },
   {
    "duration": 47,
    "start_time": "2022-04-23T10:57:56.116Z"
   },
   {
    "duration": 37,
    "start_time": "2022-04-23T10:57:56.194Z"
   },
   {
    "duration": 85,
    "start_time": "2022-04-23T10:57:56.235Z"
   },
   {
    "duration": 72,
    "start_time": "2022-04-23T10:57:56.322Z"
   },
   {
    "duration": 3,
    "start_time": "2022-04-23T10:57:56.397Z"
   },
   {
    "duration": 20,
    "start_time": "2022-04-23T10:57:56.402Z"
   },
   {
    "duration": 4,
    "start_time": "2022-04-23T10:57:56.424Z"
   },
   {
    "duration": 42,
    "start_time": "2022-04-23T10:57:56.430Z"
   },
   {
    "duration": 4,
    "start_time": "2022-04-23T10:57:56.494Z"
   },
   {
    "duration": 24,
    "start_time": "2022-04-23T10:57:56.501Z"
   },
   {
    "duration": 4,
    "start_time": "2022-04-23T10:57:56.528Z"
   },
   {
    "duration": 30,
    "start_time": "2022-04-23T10:57:56.534Z"
   },
   {
    "duration": 27,
    "start_time": "2022-04-23T10:57:56.566Z"
   },
   {
    "duration": 26,
    "start_time": "2022-04-23T10:57:56.596Z"
   },
   {
    "duration": 18,
    "start_time": "2022-04-23T10:59:02.112Z"
   },
   {
    "duration": 3,
    "start_time": "2022-04-23T10:59:29.542Z"
   },
   {
    "duration": 24,
    "start_time": "2022-04-23T10:59:33.051Z"
   },
   {
    "duration": 3,
    "start_time": "2022-04-23T10:59:39.795Z"
   },
   {
    "duration": 21,
    "start_time": "2022-04-23T10:59:42.134Z"
   },
   {
    "duration": 5,
    "start_time": "2022-04-23T11:00:07.237Z"
   },
   {
    "duration": 22,
    "start_time": "2022-04-23T11:00:08.012Z"
   },
   {
    "duration": 4,
    "start_time": "2022-04-23T11:01:30.409Z"
   },
   {
    "duration": 21,
    "start_time": "2022-04-23T11:01:31.193Z"
   },
   {
    "duration": 4,
    "start_time": "2022-04-23T11:02:09.385Z"
   },
   {
    "duration": 50,
    "start_time": "2022-04-23T11:02:10.066Z"
   },
   {
    "duration": 4,
    "start_time": "2022-04-23T11:05:44.028Z"
   },
   {
    "duration": 2897,
    "start_time": "2022-04-23T11:05:44.868Z"
   },
   {
    "duration": 118,
    "start_time": "2022-04-23T20:20:42.145Z"
   },
   {
    "duration": 136,
    "start_time": "2022-04-23T20:27:16.811Z"
   },
   {
    "duration": 874,
    "start_time": "2022-04-23T20:27:33.842Z"
   },
   {
    "duration": 7,
    "start_time": "2022-04-23T20:27:34.725Z"
   },
   {
    "duration": 9318,
    "start_time": "2022-04-23T20:27:34.741Z"
   },
   {
    "duration": 7,
    "start_time": "2022-04-23T20:27:44.069Z"
   },
   {
    "duration": 533,
    "start_time": "2022-04-23T20:27:44.082Z"
   },
   {
    "duration": 7,
    "start_time": "2022-04-23T20:27:44.625Z"
   },
   {
    "duration": 99,
    "start_time": "2022-04-23T20:27:44.642Z"
   },
   {
    "duration": 66,
    "start_time": "2022-04-23T20:27:44.749Z"
   },
   {
    "duration": 67,
    "start_time": "2022-04-23T20:27:44.824Z"
   },
   {
    "duration": 85,
    "start_time": "2022-04-23T20:27:44.901Z"
   },
   {
    "duration": 102,
    "start_time": "2022-04-23T20:27:44.995Z"
   },
   {
    "duration": 18,
    "start_time": "2022-04-23T20:27:45.105Z"
   },
   {
    "duration": 17,
    "start_time": "2022-04-23T20:27:45.131Z"
   },
   {
    "duration": 72,
    "start_time": "2022-04-23T20:27:45.155Z"
   },
   {
    "duration": 4,
    "start_time": "2022-04-23T20:27:45.230Z"
   },
   {
    "duration": 112,
    "start_time": "2022-04-23T20:27:45.236Z"
   },
   {
    "duration": 6,
    "start_time": "2022-04-23T20:27:45.357Z"
   },
   {
    "duration": 82,
    "start_time": "2022-04-23T20:27:45.371Z"
   },
   {
    "duration": 6,
    "start_time": "2022-04-23T20:27:45.462Z"
   },
   {
    "duration": 86,
    "start_time": "2022-04-23T20:27:45.476Z"
   },
   {
    "duration": 9,
    "start_time": "2022-04-23T20:27:45.586Z"
   },
   {
    "duration": 88,
    "start_time": "2022-04-23T20:27:45.615Z"
   },
   {
    "duration": 8,
    "start_time": "2022-04-23T20:33:09.181Z"
   },
   {
    "duration": 5,
    "start_time": "2022-04-23T20:33:48.879Z"
   },
   {
    "duration": 117,
    "start_time": "2022-04-23T20:33:49.483Z"
   },
   {
    "duration": 7,
    "start_time": "2022-04-23T20:34:04.599Z"
   },
   {
    "duration": 364,
    "start_time": "2022-04-23T20:34:07.543Z"
   },
   {
    "duration": 7,
    "start_time": "2022-04-23T20:34:24.410Z"
   },
   {
    "duration": 121,
    "start_time": "2022-04-23T20:34:24.621Z"
   },
   {
    "duration": 7,
    "start_time": "2022-04-23T20:34:49.815Z"
   },
   {
    "duration": 114,
    "start_time": "2022-04-23T20:34:50.292Z"
   },
   {
    "duration": 7,
    "start_time": "2022-04-23T20:35:48.552Z"
   },
   {
    "duration": 113,
    "start_time": "2022-04-23T20:35:49.393Z"
   },
   {
    "duration": 7,
    "start_time": "2022-04-23T20:36:25.526Z"
   },
   {
    "duration": 213,
    "start_time": "2022-04-23T20:36:27.884Z"
   },
   {
    "duration": 6,
    "start_time": "2022-04-23T20:36:32.351Z"
   },
   {
    "duration": 194,
    "start_time": "2022-04-23T20:36:32.556Z"
   },
   {
    "duration": 7,
    "start_time": "2022-04-23T20:36:47.054Z"
   },
   {
    "duration": 123,
    "start_time": "2022-04-23T20:36:47.267Z"
   },
   {
    "duration": 5,
    "start_time": "2022-04-23T20:38:29.864Z"
   },
   {
    "duration": 201,
    "start_time": "2022-04-23T20:38:30.110Z"
   },
   {
    "duration": 8,
    "start_time": "2022-04-23T20:41:11.578Z"
   },
   {
    "duration": 194,
    "start_time": "2022-04-23T20:41:12.175Z"
   },
   {
    "duration": 4,
    "start_time": "2022-04-23T20:42:24.081Z"
   },
   {
    "duration": 186,
    "start_time": "2022-04-23T20:42:24.573Z"
   },
   {
    "duration": 8,
    "start_time": "2022-04-23T20:42:40.536Z"
   },
   {
    "duration": 100,
    "start_time": "2022-04-23T20:42:40.813Z"
   },
   {
    "duration": 5,
    "start_time": "2022-04-23T20:42:55.991Z"
   },
   {
    "duration": 187,
    "start_time": "2022-04-23T20:42:56.622Z"
   },
   {
    "duration": 3,
    "start_time": "2022-04-23T20:46:05.910Z"
   },
   {
    "duration": 184,
    "start_time": "2022-04-23T20:46:07.926Z"
   },
   {
    "duration": 4,
    "start_time": "2022-04-23T20:46:19.366Z"
   },
   {
    "duration": 188,
    "start_time": "2022-04-23T20:46:19.922Z"
   },
   {
    "duration": 4,
    "start_time": "2022-04-23T20:50:03.093Z"
   },
   {
    "duration": 267,
    "start_time": "2022-04-23T20:50:04.246Z"
   },
   {
    "duration": 4,
    "start_time": "2022-04-23T20:50:28.021Z"
   },
   {
    "duration": 174,
    "start_time": "2022-04-23T20:50:28.737Z"
   },
   {
    "duration": 5,
    "start_time": "2022-04-23T20:51:00.892Z"
   },
   {
    "duration": 221,
    "start_time": "2022-04-23T20:51:01.281Z"
   },
   {
    "duration": 4,
    "start_time": "2022-04-23T20:51:08.618Z"
   },
   {
    "duration": 379,
    "start_time": "2022-04-23T20:51:09.073Z"
   },
   {
    "duration": 5,
    "start_time": "2022-04-23T21:01:02.909Z"
   },
   {
    "duration": 110,
    "start_time": "2022-04-23T21:01:05.447Z"
   },
   {
    "duration": 6,
    "start_time": "2022-04-23T21:01:44.888Z"
   },
   {
    "duration": 216,
    "start_time": "2022-04-23T21:01:46.150Z"
   },
   {
    "duration": 6,
    "start_time": "2022-04-23T21:02:12.545Z"
   },
   {
    "duration": 211,
    "start_time": "2022-04-23T21:02:13.205Z"
   },
   {
    "duration": 4,
    "start_time": "2022-04-23T21:03:12.846Z"
   },
   {
    "duration": 196,
    "start_time": "2022-04-23T21:03:13.747Z"
   },
   {
    "duration": 4,
    "start_time": "2022-04-23T21:05:51.955Z"
   },
   {
    "duration": 107,
    "start_time": "2022-04-23T21:05:52.561Z"
   },
   {
    "duration": 4,
    "start_time": "2022-04-23T21:06:57.931Z"
   },
   {
    "duration": 77,
    "start_time": "2022-04-23T21:06:58.522Z"
   },
   {
    "duration": 10,
    "start_time": "2022-04-23T21:07:29.771Z"
   },
   {
    "duration": 73,
    "start_time": "2022-04-23T21:07:30.055Z"
   },
   {
    "duration": 4,
    "start_time": "2022-04-23T21:07:41.858Z"
   },
   {
    "duration": 69,
    "start_time": "2022-04-23T21:07:42.271Z"
   },
   {
    "duration": 3,
    "start_time": "2022-04-23T21:12:25.216Z"
   },
   {
    "duration": 82,
    "start_time": "2022-04-23T21:12:25.500Z"
   },
   {
    "duration": 4,
    "start_time": "2022-04-23T21:27:10.427Z"
   },
   {
    "duration": 356,
    "start_time": "2022-04-23T21:27:11.076Z"
   },
   {
    "duration": 4,
    "start_time": "2022-04-23T21:27:43.693Z"
   },
   {
    "duration": 239,
    "start_time": "2022-04-23T21:27:44.233Z"
   },
   {
    "duration": 3,
    "start_time": "2022-04-23T21:27:55.703Z"
   },
   {
    "duration": 220,
    "start_time": "2022-04-23T21:27:55.986Z"
   },
   {
    "duration": 4,
    "start_time": "2022-04-23T21:28:30.508Z"
   },
   {
    "duration": 239,
    "start_time": "2022-04-23T21:28:30.771Z"
   },
   {
    "duration": 4,
    "start_time": "2022-04-23T21:31:45.875Z"
   },
   {
    "duration": 71,
    "start_time": "2022-04-23T21:31:46.287Z"
   },
   {
    "duration": 3,
    "start_time": "2022-04-23T21:35:43.841Z"
   },
   {
    "duration": 90,
    "start_time": "2022-04-23T21:35:44.213Z"
   },
   {
    "duration": 8,
    "start_time": "2022-04-23T21:36:36.067Z"
   },
   {
    "duration": 99,
    "start_time": "2022-04-23T21:36:36.325Z"
   },
   {
    "duration": 5,
    "start_time": "2022-04-23T21:39:50.935Z"
   },
   {
    "duration": 98,
    "start_time": "2022-04-23T21:39:53.336Z"
   },
   {
    "duration": 3,
    "start_time": "2022-04-23T21:40:45.387Z"
   },
   {
    "duration": 4,
    "start_time": "2022-04-23T21:40:51.213Z"
   },
   {
    "duration": 216,
    "start_time": "2022-04-23T21:40:51.977Z"
   },
   {
    "duration": 4,
    "start_time": "2022-04-23T21:41:01.750Z"
   },
   {
    "duration": 255,
    "start_time": "2022-04-23T21:41:02.635Z"
   },
   {
    "duration": 5,
    "start_time": "2022-04-23T21:41:17.045Z"
   },
   {
    "duration": 256,
    "start_time": "2022-04-23T21:41:17.516Z"
   },
   {
    "duration": 5,
    "start_time": "2022-04-23T21:41:53.184Z"
   },
   {
    "duration": 85,
    "start_time": "2022-04-23T21:41:55.664Z"
   },
   {
    "duration": 5,
    "start_time": "2022-04-23T21:42:28.672Z"
   },
   {
    "duration": 87,
    "start_time": "2022-04-23T21:42:29.210Z"
   },
   {
    "duration": 5,
    "start_time": "2022-04-23T21:43:25.672Z"
   },
   {
    "duration": 234,
    "start_time": "2022-04-23T21:43:26.266Z"
   },
   {
    "duration": 10,
    "start_time": "2022-04-23T21:43:41.873Z"
   },
   {
    "duration": 217,
    "start_time": "2022-04-23T21:43:42.403Z"
   },
   {
    "duration": 7,
    "start_time": "2022-04-23T21:44:13.889Z"
   },
   {
    "duration": 98,
    "start_time": "2022-04-23T21:44:14.532Z"
   },
   {
    "duration": 6,
    "start_time": "2022-04-23T21:49:24.679Z"
   },
   {
    "duration": 404,
    "start_time": "2022-04-23T21:49:25.522Z"
   },
   {
    "duration": 8,
    "start_time": "2022-04-23T21:49:51.182Z"
   },
   {
    "duration": 225,
    "start_time": "2022-04-23T21:49:51.578Z"
   },
   {
    "duration": 5,
    "start_time": "2022-04-23T21:51:43.578Z"
   },
   {
    "duration": 258,
    "start_time": "2022-04-23T21:51:44.202Z"
   },
   {
    "duration": 4,
    "start_time": "2022-04-23T21:52:26.003Z"
   },
   {
    "duration": 262,
    "start_time": "2022-04-23T21:52:27.013Z"
   },
   {
    "duration": 5,
    "start_time": "2022-04-23T21:52:37.044Z"
   },
   {
    "duration": 292,
    "start_time": "2022-04-23T21:52:37.589Z"
   },
   {
    "duration": 7,
    "start_time": "2022-04-24T08:48:12.165Z"
   },
   {
    "duration": 44,
    "start_time": "2022-04-24T08:48:13.298Z"
   },
   {
    "duration": 532,
    "start_time": "2022-04-24T08:48:20.185Z"
   },
   {
    "duration": 3,
    "start_time": "2022-04-24T08:48:20.719Z"
   },
   {
    "duration": 8360,
    "start_time": "2022-04-24T08:48:20.724Z"
   },
   {
    "duration": 4,
    "start_time": "2022-04-24T08:48:29.086Z"
   },
   {
    "duration": 542,
    "start_time": "2022-04-24T08:48:29.091Z"
   },
   {
    "duration": 3,
    "start_time": "2022-04-24T08:48:29.635Z"
   },
   {
    "duration": 45,
    "start_time": "2022-04-24T08:48:29.640Z"
   },
   {
    "duration": 24,
    "start_time": "2022-04-24T08:48:29.686Z"
   },
   {
    "duration": 24,
    "start_time": "2022-04-24T08:48:29.712Z"
   },
   {
    "duration": 58,
    "start_time": "2022-04-24T08:48:29.739Z"
   },
   {
    "duration": 5,
    "start_time": "2022-04-24T08:48:29.798Z"
   },
   {
    "duration": 31,
    "start_time": "2022-04-24T08:48:29.805Z"
   },
   {
    "duration": 5,
    "start_time": "2022-04-24T08:48:29.838Z"
   },
   {
    "duration": 5,
    "start_time": "2022-04-24T08:48:29.845Z"
   },
   {
    "duration": 108,
    "start_time": "2022-04-24T08:48:29.852Z"
   },
   {
    "duration": 2,
    "start_time": "2022-04-24T08:48:29.962Z"
   },
   {
    "duration": 91,
    "start_time": "2022-04-24T08:48:29.966Z"
   },
   {
    "duration": 3,
    "start_time": "2022-04-24T08:48:30.058Z"
   },
   {
    "duration": 85,
    "start_time": "2022-04-24T08:48:30.062Z"
   },
   {
    "duration": 2,
    "start_time": "2022-04-24T08:48:30.149Z"
   },
   {
    "duration": 298,
    "start_time": "2022-04-24T08:48:30.153Z"
   },
   {
    "duration": 0,
    "start_time": "2022-04-24T08:48:30.452Z"
   },
   {
    "duration": 0,
    "start_time": "2022-04-24T08:48:30.454Z"
   },
   {
    "duration": 3,
    "start_time": "2022-04-24T08:59:07.689Z"
   },
   {
    "duration": 106,
    "start_time": "2022-04-24T08:59:11.096Z"
   },
   {
    "duration": 3,
    "start_time": "2022-04-24T08:59:23.335Z"
   },
   {
    "duration": 104,
    "start_time": "2022-04-24T08:59:25.350Z"
   },
   {
    "duration": 3,
    "start_time": "2022-04-24T08:59:57.871Z"
   },
   {
    "duration": 106,
    "start_time": "2022-04-24T08:59:59.600Z"
   },
   {
    "duration": 3,
    "start_time": "2022-04-24T09:01:31.105Z"
   },
   {
    "duration": 103,
    "start_time": "2022-04-24T09:01:32.543Z"
   },
   {
    "duration": 11,
    "start_time": "2022-04-24T09:03:12.187Z"
   },
   {
    "duration": 3,
    "start_time": "2022-04-24T09:03:37.806Z"
   },
   {
    "duration": 109,
    "start_time": "2022-04-24T09:03:39.558Z"
   },
   {
    "duration": 7,
    "start_time": "2022-04-24T09:04:40.132Z"
   },
   {
    "duration": 3,
    "start_time": "2022-04-24T09:05:55.540Z"
   },
   {
    "duration": 105,
    "start_time": "2022-04-24T09:05:57.451Z"
   },
   {
    "duration": 3,
    "start_time": "2022-04-24T09:06:51.188Z"
   },
   {
    "duration": 104,
    "start_time": "2022-04-24T09:06:53.524Z"
   },
   {
    "duration": 3,
    "start_time": "2022-04-24T09:07:07.429Z"
   },
   {
    "duration": 108,
    "start_time": "2022-04-24T09:07:09.181Z"
   },
   {
    "duration": 9,
    "start_time": "2022-04-24T09:08:13.579Z"
   },
   {
    "duration": 16,
    "start_time": "2022-04-24T09:08:43.267Z"
   },
   {
    "duration": 8,
    "start_time": "2022-04-24T09:09:18.196Z"
   },
   {
    "duration": 7,
    "start_time": "2022-04-24T09:09:41.259Z"
   },
   {
    "duration": 8,
    "start_time": "2022-04-24T09:10:02.347Z"
   },
   {
    "duration": 11,
    "start_time": "2022-04-24T09:10:48.458Z"
   },
   {
    "duration": 14,
    "start_time": "2022-04-24T09:11:13.516Z"
   },
   {
    "duration": 13,
    "start_time": "2022-04-24T09:11:35.529Z"
   },
   {
    "duration": 3,
    "start_time": "2022-04-24T09:12:24.891Z"
   },
   {
    "duration": 108,
    "start_time": "2022-04-24T09:12:28.283Z"
   },
   {
    "duration": 3,
    "start_time": "2022-04-24T09:19:35.648Z"
   },
   {
    "duration": 81,
    "start_time": "2022-04-24T09:19:36.396Z"
   },
   {
    "duration": 3,
    "start_time": "2022-04-24T09:40:16.872Z"
   },
   {
    "duration": 73,
    "start_time": "2022-04-24T09:40:17.349Z"
   },
   {
    "duration": 12,
    "start_time": "2022-04-24T09:49:44.233Z"
   },
   {
    "duration": 6,
    "start_time": "2022-04-24T09:49:53.275Z"
   },
   {
    "duration": 9,
    "start_time": "2022-04-24T09:50:09.506Z"
   },
   {
    "duration": 9,
    "start_time": "2022-04-24T09:50:41.315Z"
   },
   {
    "duration": 16,
    "start_time": "2022-04-24T09:51:19.626Z"
   },
   {
    "duration": 15,
    "start_time": "2022-04-24T09:51:26.922Z"
   },
   {
    "duration": 14,
    "start_time": "2022-04-24T09:51:40.130Z"
   },
   {
    "duration": 2,
    "start_time": "2022-04-24T09:51:50.379Z"
   },
   {
    "duration": 3,
    "start_time": "2022-04-24T09:53:48.912Z"
   },
   {
    "duration": 74,
    "start_time": "2022-04-24T09:53:51.118Z"
   },
   {
    "duration": 3,
    "start_time": "2022-04-24T09:54:12.187Z"
   },
   {
    "duration": 76,
    "start_time": "2022-04-24T09:54:14.449Z"
   },
   {
    "duration": 14,
    "start_time": "2022-04-24T09:54:20.945Z"
   },
   {
    "duration": 2,
    "start_time": "2022-04-24T09:54:42.497Z"
   },
   {
    "duration": 14,
    "start_time": "2022-04-24T09:55:54.840Z"
   },
   {
    "duration": 2,
    "start_time": "2022-04-24T09:56:36.418Z"
   },
   {
    "duration": 75,
    "start_time": "2022-04-24T09:56:36.734Z"
   },
   {
    "duration": 15,
    "start_time": "2022-04-24T09:57:13.857Z"
   },
   {
    "duration": 14,
    "start_time": "2022-04-24T09:57:49.601Z"
   },
   {
    "duration": 15,
    "start_time": "2022-04-24T09:57:55.360Z"
   },
   {
    "duration": 142,
    "start_time": "2022-04-24T09:58:57.230Z"
   },
   {
    "duration": 15,
    "start_time": "2022-04-24T09:59:10.311Z"
   },
   {
    "duration": 14,
    "start_time": "2022-04-24T09:59:26.775Z"
   },
   {
    "duration": 3,
    "start_time": "2022-04-24T10:00:03.614Z"
   },
   {
    "duration": 235,
    "start_time": "2022-04-24T10:00:05.509Z"
   },
   {
    "duration": 3,
    "start_time": "2022-04-24T10:00:09.839Z"
   },
   {
    "duration": 75,
    "start_time": "2022-04-24T10:00:11.291Z"
   },
   {
    "duration": 10,
    "start_time": "2022-04-24T10:01:07.159Z"
   },
   {
    "duration": 18,
    "start_time": "2022-04-24T10:02:09.975Z"
   },
   {
    "duration": 17,
    "start_time": "2022-04-24T10:02:50.471Z"
   },
   {
    "duration": 19,
    "start_time": "2022-04-24T10:02:58.614Z"
   },
   {
    "duration": 2,
    "start_time": "2022-04-24T10:04:48.005Z"
   },
   {
    "duration": 3,
    "start_time": "2022-04-24T10:04:52.188Z"
   },
   {
    "duration": 3,
    "start_time": "2022-04-24T10:09:02.669Z"
   },
   {
    "duration": 212,
    "start_time": "2022-04-24T10:09:03.449Z"
   },
   {
    "duration": 3,
    "start_time": "2022-04-24T10:09:30.932Z"
   },
   {
    "duration": 205,
    "start_time": "2022-04-24T10:09:31.418Z"
   },
   {
    "duration": 3,
    "start_time": "2022-04-24T10:10:31.253Z"
   },
   {
    "duration": 224,
    "start_time": "2022-04-24T10:10:31.817Z"
   },
   {
    "duration": 3,
    "start_time": "2022-04-24T10:10:47.125Z"
   },
   {
    "duration": 219,
    "start_time": "2022-04-24T10:10:47.545Z"
   },
   {
    "duration": 3,
    "start_time": "2022-04-24T10:11:04.123Z"
   },
   {
    "duration": 219,
    "start_time": "2022-04-24T10:11:04.809Z"
   },
   {
    "duration": 3,
    "start_time": "2022-04-24T10:11:29.525Z"
   },
   {
    "duration": 80,
    "start_time": "2022-04-24T10:11:30.573Z"
   },
   {
    "duration": 10,
    "start_time": "2022-04-24T10:12:07.122Z"
   },
   {
    "duration": 2,
    "start_time": "2022-04-24T10:12:11.161Z"
   },
   {
    "duration": 3,
    "start_time": "2022-04-24T10:15:42.714Z"
   },
   {
    "duration": 222,
    "start_time": "2022-04-24T10:15:43.391Z"
   },
   {
    "duration": 3,
    "start_time": "2022-04-24T10:15:54.266Z"
   },
   {
    "duration": 215,
    "start_time": "2022-04-24T10:15:54.743Z"
   },
   {
    "duration": 3,
    "start_time": "2022-04-24T10:16:08.065Z"
   },
   {
    "duration": 220,
    "start_time": "2022-04-24T10:16:08.840Z"
   },
   {
    "duration": 3,
    "start_time": "2022-04-24T10:16:48.226Z"
   },
   {
    "duration": 79,
    "start_time": "2022-04-24T10:16:48.406Z"
   },
   {
    "duration": 3,
    "start_time": "2022-04-24T10:17:27.058Z"
   },
   {
    "duration": 285,
    "start_time": "2022-04-24T10:17:28.874Z"
   },
   {
    "duration": 3,
    "start_time": "2022-04-24T10:17:32.168Z"
   },
   {
    "duration": 80,
    "start_time": "2022-04-24T10:17:32.462Z"
   },
   {
    "duration": 3,
    "start_time": "2022-04-24T10:17:37.667Z"
   },
   {
    "duration": 222,
    "start_time": "2022-04-24T10:17:39.377Z"
   },
   {
    "duration": 4,
    "start_time": "2022-04-24T10:18:05.778Z"
   },
   {
    "duration": 77,
    "start_time": "2022-04-24T10:18:07.546Z"
   },
   {
    "duration": 4,
    "start_time": "2022-04-24T10:36:32.260Z"
   },
   {
    "duration": 3,
    "start_time": "2022-04-24T10:36:44.635Z"
   },
   {
    "duration": 78,
    "start_time": "2022-04-24T10:36:47.306Z"
   },
   {
    "duration": 3,
    "start_time": "2022-04-24T10:36:59.394Z"
   },
   {
    "duration": 83,
    "start_time": "2022-04-24T10:37:02.594Z"
   },
   {
    "duration": 3,
    "start_time": "2022-04-24T10:39:05.282Z"
   },
   {
    "duration": 80,
    "start_time": "2022-04-24T10:39:05.583Z"
   },
   {
    "duration": 2,
    "start_time": "2022-04-24T10:39:25.129Z"
   },
   {
    "duration": 79,
    "start_time": "2022-04-24T10:39:25.333Z"
   },
   {
    "duration": 3,
    "start_time": "2022-04-24T10:43:54.199Z"
   },
   {
    "duration": 248,
    "start_time": "2022-04-24T10:43:54.900Z"
   },
   {
    "duration": 3,
    "start_time": "2022-04-24T10:44:01.592Z"
   },
   {
    "duration": 3,
    "start_time": "2022-04-24T10:44:04.984Z"
   },
   {
    "duration": 72,
    "start_time": "2022-04-24T10:44:05.380Z"
   },
   {
    "duration": 3,
    "start_time": "2022-04-24T10:51:42.509Z"
   },
   {
    "duration": 225,
    "start_time": "2022-04-24T10:51:44.421Z"
   },
   {
    "duration": 3,
    "start_time": "2022-04-24T10:51:54.485Z"
   },
   {
    "duration": 215,
    "start_time": "2022-04-24T10:51:55.193Z"
   },
   {
    "duration": 2,
    "start_time": "2022-04-24T10:52:01.237Z"
   },
   {
    "duration": 231,
    "start_time": "2022-04-24T10:52:01.682Z"
   },
   {
    "duration": 3,
    "start_time": "2022-04-24T10:52:09.908Z"
   },
   {
    "duration": 219,
    "start_time": "2022-04-24T10:52:10.314Z"
   },
   {
    "duration": 2,
    "start_time": "2022-04-24T10:52:42.773Z"
   },
   {
    "duration": 242,
    "start_time": "2022-04-24T10:52:43.378Z"
   },
   {
    "duration": 3,
    "start_time": "2022-04-24T10:54:21.516Z"
   },
   {
    "duration": 217,
    "start_time": "2022-04-24T10:54:21.737Z"
   },
   {
    "duration": 2,
    "start_time": "2022-04-24T10:54:28.284Z"
   },
   {
    "duration": 214,
    "start_time": "2022-04-24T10:54:29.762Z"
   },
   {
    "duration": 2,
    "start_time": "2022-04-24T10:55:31.110Z"
   },
   {
    "duration": 72,
    "start_time": "2022-04-24T10:55:33.604Z"
   },
   {
    "duration": 2,
    "start_time": "2022-04-24T10:56:41.714Z"
   },
   {
    "duration": 221,
    "start_time": "2022-04-24T10:56:42.294Z"
   },
   {
    "duration": 2,
    "start_time": "2022-04-24T10:57:18.067Z"
   },
   {
    "duration": 221,
    "start_time": "2022-04-24T10:57:18.511Z"
   },
   {
    "duration": 3,
    "start_time": "2022-04-24T10:57:40.724Z"
   },
   {
    "duration": 218,
    "start_time": "2022-04-24T10:57:41.207Z"
   },
   {
    "duration": 3,
    "start_time": "2022-04-24T10:59:26.195Z"
   },
   {
    "duration": 219,
    "start_time": "2022-04-24T10:59:26.927Z"
   },
   {
    "duration": 2,
    "start_time": "2022-04-24T10:59:53.163Z"
   },
   {
    "duration": 227,
    "start_time": "2022-04-24T10:59:54.013Z"
   },
   {
    "duration": 3,
    "start_time": "2022-04-24T11:00:06.494Z"
   },
   {
    "duration": 241,
    "start_time": "2022-04-24T11:00:07.054Z"
   },
   {
    "duration": 2,
    "start_time": "2022-04-24T11:00:19.657Z"
   },
   {
    "duration": 215,
    "start_time": "2022-04-24T11:00:20.430Z"
   },
   {
    "duration": 3,
    "start_time": "2022-04-24T11:00:28.521Z"
   },
   {
    "duration": 241,
    "start_time": "2022-04-24T11:00:28.998Z"
   },
   {
    "duration": 3,
    "start_time": "2022-04-24T11:00:35.041Z"
   },
   {
    "duration": 225,
    "start_time": "2022-04-24T11:00:35.470Z"
   },
   {
    "duration": 3,
    "start_time": "2022-04-24T11:00:43.633Z"
   },
   {
    "duration": 218,
    "start_time": "2022-04-24T11:00:44.158Z"
   },
   {
    "duration": 3,
    "start_time": "2022-04-24T11:01:26.345Z"
   },
   {
    "duration": 217,
    "start_time": "2022-04-24T11:01:27.085Z"
   },
   {
    "duration": 3,
    "start_time": "2022-04-24T11:01:37.297Z"
   },
   {
    "duration": 233,
    "start_time": "2022-04-24T11:01:37.741Z"
   },
   {
    "duration": 3,
    "start_time": "2022-04-24T11:01:52.257Z"
   },
   {
    "duration": 228,
    "start_time": "2022-04-24T11:01:53.189Z"
   },
   {
    "duration": 3,
    "start_time": "2022-04-24T11:02:41.906Z"
   },
   {
    "duration": 71,
    "start_time": "2022-04-24T11:02:42.366Z"
   },
   {
    "duration": 3,
    "start_time": "2022-04-24T11:03:10.088Z"
   },
   {
    "duration": 226,
    "start_time": "2022-04-24T11:03:11.944Z"
   },
   {
    "duration": 3,
    "start_time": "2022-04-24T11:03:22.929Z"
   },
   {
    "duration": 370,
    "start_time": "2022-04-24T11:03:24.248Z"
   },
   {
    "duration": 3,
    "start_time": "2022-04-24T11:04:29.016Z"
   },
   {
    "duration": 234,
    "start_time": "2022-04-24T11:04:30.639Z"
   },
   {
    "duration": 2,
    "start_time": "2022-04-24T11:05:55.831Z"
   },
   {
    "duration": 70,
    "start_time": "2022-04-24T11:05:57.408Z"
   },
   {
    "duration": 4,
    "start_time": "2022-04-24T11:06:44.246Z"
   },
   {
    "duration": 226,
    "start_time": "2022-04-24T11:06:46.031Z"
   },
   {
    "duration": 3,
    "start_time": "2022-04-24T11:07:40.446Z"
   },
   {
    "duration": 211,
    "start_time": "2022-04-24T11:07:42.399Z"
   },
   {
    "duration": 3,
    "start_time": "2022-04-24T11:07:49.568Z"
   },
   {
    "duration": 217,
    "start_time": "2022-04-24T11:07:52.806Z"
   },
   {
    "duration": 2,
    "start_time": "2022-04-24T11:08:08.077Z"
   },
   {
    "duration": 236,
    "start_time": "2022-04-24T11:08:09.895Z"
   },
   {
    "duration": 3,
    "start_time": "2022-04-24T11:08:56.013Z"
   },
   {
    "duration": 215,
    "start_time": "2022-04-24T11:08:57.557Z"
   },
   {
    "duration": 3,
    "start_time": "2022-04-24T11:09:17.302Z"
   },
   {
    "duration": 70,
    "start_time": "2022-04-24T11:09:19.221Z"
   },
   {
    "duration": 702,
    "start_time": "2022-04-24T17:05:21.455Z"
   },
   {
    "duration": 4,
    "start_time": "2022-04-24T17:05:22.160Z"
   },
   {
    "duration": 11485,
    "start_time": "2022-04-24T17:05:22.167Z"
   },
   {
    "duration": 4,
    "start_time": "2022-04-24T17:05:33.655Z"
   },
   {
    "duration": 96,
    "start_time": "2022-04-24T17:05:33.662Z"
   },
   {
    "duration": 7,
    "start_time": "2022-04-24T17:05:33.760Z"
   },
   {
    "duration": 71,
    "start_time": "2022-04-24T17:05:33.770Z"
   },
   {
    "duration": 72,
    "start_time": "2022-04-24T17:05:33.843Z"
   },
   {
    "duration": 78,
    "start_time": "2022-04-24T17:05:33.917Z"
   },
   {
    "duration": 55,
    "start_time": "2022-04-24T17:05:34.001Z"
   },
   {
    "duration": 9,
    "start_time": "2022-04-24T17:05:34.094Z"
   },
   {
    "duration": 114,
    "start_time": "2022-04-24T17:05:34.107Z"
   },
   {
    "duration": 10,
    "start_time": "2022-04-24T17:05:34.224Z"
   },
   {
    "duration": 5,
    "start_time": "2022-04-24T17:05:34.239Z"
   },
   {
    "duration": 50,
    "start_time": "2022-04-24T17:05:34.248Z"
   },
   {
    "duration": 5,
    "start_time": "2022-04-24T17:05:34.300Z"
   },
   {
    "duration": 44,
    "start_time": "2022-04-24T17:05:34.308Z"
   },
   {
    "duration": 5,
    "start_time": "2022-04-24T17:05:34.355Z"
   },
   {
    "duration": 43,
    "start_time": "2022-04-24T17:05:34.363Z"
   },
   {
    "duration": 4,
    "start_time": "2022-04-24T17:05:34.409Z"
   },
   {
    "duration": 29,
    "start_time": "2022-04-24T17:05:34.415Z"
   },
   {
    "duration": 4,
    "start_time": "2022-04-24T17:05:34.446Z"
   },
   {
    "duration": 29,
    "start_time": "2022-04-24T17:05:34.451Z"
   },
   {
    "duration": 5,
    "start_time": "2022-04-24T17:06:16.457Z"
   },
   {
    "duration": 26,
    "start_time": "2022-04-24T17:06:20.295Z"
   },
   {
    "duration": 5,
    "start_time": "2022-04-24T17:06:25.204Z"
   },
   {
    "duration": 23,
    "start_time": "2022-04-24T17:06:26.194Z"
   },
   {
    "duration": 3,
    "start_time": "2022-04-24T17:07:33.509Z"
   },
   {
    "duration": 19,
    "start_time": "2022-04-24T17:07:34.193Z"
   },
   {
    "duration": 5,
    "start_time": "2022-04-24T17:08:41.417Z"
   },
   {
    "duration": 352,
    "start_time": "2022-04-24T17:08:42.958Z"
   },
   {
    "duration": 5,
    "start_time": "2022-04-24T17:09:23.594Z"
   },
   {
    "duration": 303,
    "start_time": "2022-04-24T17:09:26.230Z"
   },
   {
    "duration": 4,
    "start_time": "2022-04-24T17:10:12.880Z"
   },
   {
    "duration": 240,
    "start_time": "2022-04-24T17:10:17.209Z"
   },
   {
    "duration": 248,
    "start_time": "2022-04-24T17:10:27.067Z"
   },
   {
    "duration": 243,
    "start_time": "2022-04-24T17:10:38.840Z"
   },
   {
    "duration": 4,
    "start_time": "2022-04-24T17:10:44.333Z"
   },
   {
    "duration": 18,
    "start_time": "2022-04-24T17:10:46.294Z"
   },
   {
    "duration": 18,
    "start_time": "2022-04-24T17:11:10.755Z"
   },
   {
    "duration": 230,
    "start_time": "2022-04-24T17:11:20.882Z"
   },
   {
    "duration": 4,
    "start_time": "2022-04-24T17:14:30.643Z"
   },
   {
    "duration": 237,
    "start_time": "2022-04-24T17:14:41.201Z"
   },
   {
    "duration": 24,
    "start_time": "2022-04-24T17:16:39.473Z"
   },
   {
    "duration": 507,
    "start_time": "2022-04-24T20:00:29.567Z"
   },
   {
    "duration": 3,
    "start_time": "2022-04-24T20:00:30.076Z"
   },
   {
    "duration": 10582,
    "start_time": "2022-04-24T20:00:30.080Z"
   },
   {
    "duration": 4,
    "start_time": "2022-04-24T20:00:40.664Z"
   },
   {
    "duration": 66,
    "start_time": "2022-04-24T20:00:40.669Z"
   },
   {
    "duration": 3,
    "start_time": "2022-04-24T20:00:40.737Z"
   },
   {
    "duration": 41,
    "start_time": "2022-04-24T20:00:40.741Z"
   },
   {
    "duration": 25,
    "start_time": "2022-04-24T20:00:40.784Z"
   },
   {
    "duration": 20,
    "start_time": "2022-04-24T20:00:40.811Z"
   },
   {
    "duration": 27,
    "start_time": "2022-04-24T20:00:40.833Z"
   },
   {
    "duration": 40,
    "start_time": "2022-04-24T20:00:40.862Z"
   },
   {
    "duration": 26,
    "start_time": "2022-04-24T20:00:40.903Z"
   },
   {
    "duration": 3,
    "start_time": "2022-04-24T20:00:40.930Z"
   },
   {
    "duration": 3,
    "start_time": "2022-04-24T20:00:40.935Z"
   },
   {
    "duration": 11,
    "start_time": "2022-04-24T20:00:40.940Z"
   },
   {
    "duration": 2,
    "start_time": "2022-04-24T20:00:40.952Z"
   },
   {
    "duration": 51,
    "start_time": "2022-04-24T20:00:40.956Z"
   },
   {
    "duration": 2,
    "start_time": "2022-04-24T20:00:41.009Z"
   },
   {
    "duration": 17,
    "start_time": "2022-04-24T20:00:41.012Z"
   },
   {
    "duration": 3,
    "start_time": "2022-04-24T20:00:41.030Z"
   },
   {
    "duration": 20,
    "start_time": "2022-04-24T20:00:41.034Z"
   },
   {
    "duration": 3,
    "start_time": "2022-04-24T20:00:41.055Z"
   },
   {
    "duration": 22,
    "start_time": "2022-04-24T20:00:41.059Z"
   },
   {
    "duration": 12,
    "start_time": "2022-04-24T20:00:41.082Z"
   },
   {
    "duration": 2,
    "start_time": "2022-04-24T20:03:18.669Z"
   },
   {
    "duration": 13,
    "start_time": "2022-04-24T20:03:19.016Z"
   },
   {
    "duration": 3,
    "start_time": "2022-04-24T20:03:37.007Z"
   },
   {
    "duration": 12,
    "start_time": "2022-04-24T20:03:37.491Z"
   }
  ],
  "kernelspec": {
   "display_name": "Python 3 (ipykernel)",
   "language": "python",
   "name": "python3"
  },
  "language_info": {
   "codemirror_mode": {
    "name": "ipython",
    "version": 3
   },
   "file_extension": ".py",
   "mimetype": "text/x-python",
   "name": "python",
   "nbconvert_exporter": "python",
   "pygments_lexer": "ipython3",
   "version": "3.9.12"
  },
  "toc": {
   "base_numbering": 1,
   "nav_menu": {},
   "number_sections": false,
   "sideBar": true,
   "skip_h1_title": false,
   "title_cell": "Table of Contents",
   "title_sidebar": "Contents",
   "toc_cell": true,
   "toc_position": {
    "height": "calc(100% - 180px)",
    "left": "10px",
    "top": "150px",
    "width": "321.458px"
   },
   "toc_section_display": true,
   "toc_window_display": true
  }
 },
 "nbformat": 4,
 "nbformat_minor": 5
}
