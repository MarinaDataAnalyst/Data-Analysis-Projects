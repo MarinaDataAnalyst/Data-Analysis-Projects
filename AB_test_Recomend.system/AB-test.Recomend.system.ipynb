{
 "cells": [
  {
   "cell_type": "markdown",
   "id": "a071f546",
   "metadata": {
    "toc": true
   },
   "source": [
    "<h1>Table of Contents<span class=\"tocSkip\"></span></h1>\n",
    "<div class=\"toc\"><ul class=\"toc-item\"><li><span><a href=\"#Вывод-данных.\" data-toc-modified-id=\"Вывод-данных.-1\"><span class=\"toc-item-num\">1&nbsp;&nbsp;</span>Вывод данных.</a></span><ul class=\"toc-item\"><li><span><a href=\"#Таблица-marketing_events\" data-toc-modified-id=\"Таблица-marketing_events-1.1\"><span class=\"toc-item-num\">1.1&nbsp;&nbsp;</span>Таблица marketing_events</a></span></li><li><span><a href=\"#Таблица-final_ab_new_users\" data-toc-modified-id=\"Таблица-final_ab_new_users-1.2\"><span class=\"toc-item-num\">1.2&nbsp;&nbsp;</span>Таблица final_ab_new_users</a></span></li><li><span><a href=\"#Таблица-final_ab_events\" data-toc-modified-id=\"Таблица-final_ab_events-1.3\"><span class=\"toc-item-num\">1.3&nbsp;&nbsp;</span>Таблица final_ab_events</a></span></li><li><span><a href=\"#Таблица-final_ab_participants\" data-toc-modified-id=\"Таблица-final_ab_participants-1.4\"><span class=\"toc-item-num\">1.4&nbsp;&nbsp;</span>Таблица final_ab_participants</a></span></li></ul></li><li><span><a href=\"#Предобработка\" data-toc-modified-id=\"Предобработка-2\"><span class=\"toc-item-num\">2&nbsp;&nbsp;</span>Предобработка</a></span><ul class=\"toc-item\"><li><span><a href=\"#корректировка-типов-данных\" data-toc-modified-id=\"корректировка-типов-данных-2.1\"><span class=\"toc-item-num\">2.1&nbsp;&nbsp;</span>корректировка типов данных</a></span></li><li><span><a href=\"#Работа-с-нулевыми-значениями\" data-toc-modified-id=\"Работа-с-нулевыми-значениями-2.2\"><span class=\"toc-item-num\">2.2&nbsp;&nbsp;</span>Работа с нулевыми значениями</a></span></li></ul></li><li><span><a href=\"#Оценка-корректности-проведения-теста.-Обратим-внимание-на:\" data-toc-modified-id=\"Оценка-корректности-проведения-теста.-Обратим-внимание-на:-3\"><span class=\"toc-item-num\">3&nbsp;&nbsp;</span>Оценка корректности проведения теста. Обратим внимание на:</a></span><ul class=\"toc-item\"><li><span><a href=\"#Проверка-совпадений-времени-тестов-и-маркетинговых-событий.\" data-toc-modified-id=\"Проверка-совпадений-времени-тестов-и-маркетинговых-событий.-3.1\"><span class=\"toc-item-num\">3.1&nbsp;&nbsp;</span>Проверка совпадений времени тестов и маркетинговых событий.</a></span></li><li><span><a href=\"#Проверка-времени-набора-новых-пользователей\" data-toc-modified-id=\"Проверка-времени-набора-новых-пользователей-3.2\"><span class=\"toc-item-num\">3.2&nbsp;&nbsp;</span>Проверка времени набора новых пользователей</a></span></li><li><span><a href=\"#Проверка-на-наличие-других-тестов-в-срезе.\" data-toc-modified-id=\"Проверка-на-наличие-других-тестов-в-срезе.-3.3\"><span class=\"toc-item-num\">3.3&nbsp;&nbsp;</span>Проверка на наличие других тестов в срезе.</a></span></li><li><span><a href=\"#Проверка-аудитории-теста.\" data-toc-modified-id=\"Проверка-аудитории-теста.-3.4\"><span class=\"toc-item-num\">3.4&nbsp;&nbsp;</span>Проверка аудитории теста.</a></span></li></ul></li><li><span><a href=\"#Исследовательский-анализ-данных.\" data-toc-modified-id=\"Исследовательский-анализ-данных.-4\"><span class=\"toc-item-num\">4&nbsp;&nbsp;</span>Исследовательский анализ данных.</a></span><ul class=\"toc-item\"><li><span><a href=\"#Подготовка-данных.-Объединение-таблиц.\" data-toc-modified-id=\"Подготовка-данных.-Объединение-таблиц.-4.1\"><span class=\"toc-item-num\">4.1&nbsp;&nbsp;</span>Подготовка данных. Объединение таблиц.</a></span></li><li><span><a href=\"#Ожидаемый-эффект.\" data-toc-modified-id=\"Ожидаемый-эффект.-4.2\"><span class=\"toc-item-num\">4.2&nbsp;&nbsp;</span>Ожидаемый эффект.</a></span></li><li><span><a href=\"#Распределение-количества-событий-по-пользователю.\" data-toc-modified-id=\"Распределение-количества-событий-по-пользователю.-4.3\"><span class=\"toc-item-num\">4.3&nbsp;&nbsp;</span>Распределение количества событий по пользователю.</a></span></li><li><span><a href=\"#Распределение-числа-событий-в-выборках-по-дням.\" data-toc-modified-id=\"Распределение-числа-событий-в-выборках-по-дням.-4.4\"><span class=\"toc-item-num\">4.4&nbsp;&nbsp;</span>Распределение числа событий в выборках по дням.</a></span></li><li><span><a href=\"#Как-меняется-конверсия-в-воронке-в-выборках-на-разных-этапах?\" data-toc-modified-id=\"Как-меняется-конверсия-в-воронке-в-выборках-на-разных-этапах?-4.5\"><span class=\"toc-item-num\">4.5&nbsp;&nbsp;</span>Как меняется конверсия в воронке в выборках на разных этапах?</a></span></li></ul></li><li><span><a href=\"#Оценка-результатов-A/B-тестирования\" data-toc-modified-id=\"Оценка-результатов-A/B-тестирования-5\"><span class=\"toc-item-num\">5&nbsp;&nbsp;</span>Оценка результатов A/B-тестирования</a></span></li><li><span><a href=\"#Выводы.\" data-toc-modified-id=\"Выводы.-6\"><span class=\"toc-item-num\">6&nbsp;&nbsp;</span>Выводы.</a></span></li></ul></div>"
   ]
  },
  {
   "cell_type": "markdown",
   "id": "a7f31be0",
   "metadata": {},
   "source": [
    "# Проект \"A/B-тестирование\"\n",
    "\n",
    "**Описание проекта.**\n",
    "\n",
    "Задача — провести оценку результатов A/B-теста. В вашем распоряжении есть датасет с действиями пользователей, техническое задание и несколько вспомогательных датасетов.\n",
    "\n",
    "# Цели и задачи:\n",
    "\n",
    "- Оценить корректность проведения теста;\n",
    "- Проанализировать результаты теста;\n",
    "- необходимо проверить пересечение тестовой аудитории с конкурирующим тестом;\n",
    "- необходимо проверить совпадение теста и маркетинговых событий, другие проблемы временных границ теста."
   ]
  },
  {
   "cell_type": "markdown",
   "id": "d5bbb274",
   "metadata": {},
   "source": [
    "# Техническое задание\n",
    "\n",
    "- Название теста: `recommender_system_test`;\n",
    "- группы: А — контрольная, B — новая платёжная воронка;\n",
    "- дата запуска: 2020-12-07;\n",
    "- дата остановки набора новых пользователей: 2020-12-21;\n",
    "- дата остановки: 2021-01-04;\n",
    "- аудитория: 15% новых пользователей из региона EU;\n",
    "- назначение теста: тестирование изменений, связанных с внедрением улучшенной рекомендательной системы;\n",
    "- ожидаемое количество участников теста: 6000.\n",
    "- ожидаемый эффект: за 14 дней с момента регистрации пользователи покажут улучшение каждой метрики не менее, чем на 10%:\n",
    "    - конверсии в просмотр карточек товаров — событие `product_page`,\n",
    "    - просмотры корзины — `product_cart`,\n",
    "    - покупки — `purchase`."
   ]
  },
  {
   "cell_type": "markdown",
   "id": "0a759c5f",
   "metadata": {},
   "source": [
    "\n",
    "# Данные. Обзор"
   ]
  },
  {
   "cell_type": "markdown",
   "id": "cf689577",
   "metadata": {},
   "source": [
    "1. Таблица `календарь маркетинговых событий на 2020 год`.\n",
    "\n",
    "Структура файла:\n",
    "\n",
    "- `наименование` маркетингового события;\n",
    "- `регионы`, в которых будет проводиться рекламная кампания;\n",
    "- `дата начала` кампании;\n",
    "- `дата завершения` кампании.\n",
    "\n",
    "2. Таблица `пользователи, зарегистрировавшиеся с 7 по 21 декабря 2020 года`.\n",
    "\n",
    "Структура файла:\n",
    "\n",
    "- `идентификатор пользователя`;\n",
    "- `дата регистрации`;\n",
    "- `регион` пользователя;\n",
    "- `устройство`, с которого происходила регистрация.\n",
    "\n",
    "3. Таблица `действия новых пользователей в период с 7 декабря 2020 по 4 января 2021 года`.\n",
    "\n",
    "Структура файла:\n",
    "\n",
    "- `идентификатор пользователя`;\n",
    "- `дата и время покупки`;\n",
    "- `тип события`;\n",
    "- `детали` — дополнительные данные о событии. Например, для покупок, `purchase,` в этом поле хранится стоимость покупки в долларах.\n",
    "\n",
    "4. Таблица `участники тестов`.\n",
    "\n",
    "Структура файла:\n",
    "\n",
    "- `идентификатор пользователя`;\n",
    "- `название` теста;\n",
    "- `группа` пользователя."
   ]
  },
  {
   "cell_type": "markdown",
   "id": "e374a724",
   "metadata": {},
   "source": [
    "## Вывод данных."
   ]
  },
  {
   "cell_type": "code",
   "execution_count": 1,
   "id": "85d536a3",
   "metadata": {},
   "outputs": [],
   "source": [
    "# импорт библиотек\n",
    "\n",
    "import pandas as pd\n",
    "import seaborn as sns\n",
    "import numpy as nm\n",
    "\n",
    "from scipy import stats as st\n",
    "import math as mth\n",
    "\n",
    "\n",
    "import datetime\n",
    "from datetime import time, timedelta\n",
    "\n",
    "import matplotlib.pyplot as plt\n",
    "import plotly.express as px\n",
    "from plotly.subplots import make_subplots\n",
    "from plotly import graph_objects as go\n",
    "\n",
    "\n",
    "# # отключим предупреждения Anaconda\n",
    "import warnings\n",
    "warnings.simplefilter('ignore')\n",
    "\n",
    "\n",
    "pd.set_option('display.float_format', '{:,.2f}'.format) # вывод всех значений в столбцах с двумя знаками после запятой\n",
    "pd.set_option('display.max_columns', None) # вывод всех столбцов без скрытых за многоточием\n",
    "pd.options.display.max_colwidth = 150 # вывод полного текста в ячейке"
   ]
  },
  {
   "cell_type": "code",
   "execution_count": 2,
   "id": "e7afb148",
   "metadata": {},
   "outputs": [],
   "source": [
    "try:\n",
    "    marketing_events = pd.read_csv('/datasets/ab_project_marketing_events.csv')\n",
    "    final_ab_new_users = pd.read_csv('/datasets/final_ab_new_users.csv')\n",
    "    final_ab_events = pd.read_csv('/datasets/final_ab_events.csv')\n",
    "    final_ab_participants = pd.read_csv('/datasets/final_ab_participants.csv')\n",
    "except:\n",
    "    marketing_events = pd.read_csv('ab_project_marketing_events.csv')\n",
    "    final_ab_new_users = pd.read_csv('final_ab_new_users.csv')\n",
    "    final_ab_events = pd.read_csv('final_ab_events.csv')\n",
    "    final_ab_participants = pd.read_csv('final_ab_participants.csv')"
   ]
  },
  {
   "cell_type": "code",
   "execution_count": 3,
   "id": "bf5507cb",
   "metadata": {},
   "outputs": [],
   "source": [
    "# функция для вывода Общей информции о датасете:\n",
    "def basic_func(data):\n",
    "        display(data.head())\n",
    "        display(data.info())\n",
    "        display(data.describe().T)\n",
    "        print('Количество явных дуликатов в таблице', data.duplicated().sum())\n",
    "        print('Размер датасета:', data.shape)\n",
    "        display(data.columns)"
   ]
  },
  {
   "cell_type": "markdown",
   "id": "87dc6656",
   "metadata": {},
   "source": [
    "### Таблица marketing_events"
   ]
  },
  {
   "cell_type": "code",
   "execution_count": 4,
   "id": "728cb0f7",
   "metadata": {},
   "outputs": [
    {
     "data": {
      "text/html": [
       "<div>\n",
       "<style scoped>\n",
       "    .dataframe tbody tr th:only-of-type {\n",
       "        vertical-align: middle;\n",
       "    }\n",
       "\n",
       "    .dataframe tbody tr th {\n",
       "        vertical-align: top;\n",
       "    }\n",
       "\n",
       "    .dataframe thead th {\n",
       "        text-align: right;\n",
       "    }\n",
       "</style>\n",
       "<table border=\"1\" class=\"dataframe\">\n",
       "  <thead>\n",
       "    <tr style=\"text-align: right;\">\n",
       "      <th></th>\n",
       "      <th>name</th>\n",
       "      <th>regions</th>\n",
       "      <th>start_dt</th>\n",
       "      <th>finish_dt</th>\n",
       "    </tr>\n",
       "  </thead>\n",
       "  <tbody>\n",
       "    <tr>\n",
       "      <th>0</th>\n",
       "      <td>Christmas&amp;New Year Promo</td>\n",
       "      <td>EU, N.America</td>\n",
       "      <td>2020-12-25</td>\n",
       "      <td>2021-01-03</td>\n",
       "    </tr>\n",
       "    <tr>\n",
       "      <th>1</th>\n",
       "      <td>St. Valentine's Day Giveaway</td>\n",
       "      <td>EU, CIS, APAC, N.America</td>\n",
       "      <td>2020-02-14</td>\n",
       "      <td>2020-02-16</td>\n",
       "    </tr>\n",
       "    <tr>\n",
       "      <th>2</th>\n",
       "      <td>St. Patric's Day Promo</td>\n",
       "      <td>EU, N.America</td>\n",
       "      <td>2020-03-17</td>\n",
       "      <td>2020-03-19</td>\n",
       "    </tr>\n",
       "    <tr>\n",
       "      <th>3</th>\n",
       "      <td>Easter Promo</td>\n",
       "      <td>EU, CIS, APAC, N.America</td>\n",
       "      <td>2020-04-12</td>\n",
       "      <td>2020-04-19</td>\n",
       "    </tr>\n",
       "    <tr>\n",
       "      <th>4</th>\n",
       "      <td>4th of July Promo</td>\n",
       "      <td>N.America</td>\n",
       "      <td>2020-07-04</td>\n",
       "      <td>2020-07-11</td>\n",
       "    </tr>\n",
       "  </tbody>\n",
       "</table>\n",
       "</div>"
      ],
      "text/plain": [
       "                           name                   regions    start_dt  \\\n",
       "0      Christmas&New Year Promo             EU, N.America  2020-12-25   \n",
       "1  St. Valentine's Day Giveaway  EU, CIS, APAC, N.America  2020-02-14   \n",
       "2        St. Patric's Day Promo             EU, N.America  2020-03-17   \n",
       "3                  Easter Promo  EU, CIS, APAC, N.America  2020-04-12   \n",
       "4             4th of July Promo                 N.America  2020-07-04   \n",
       "\n",
       "    finish_dt  \n",
       "0  2021-01-03  \n",
       "1  2020-02-16  \n",
       "2  2020-03-19  \n",
       "3  2020-04-19  \n",
       "4  2020-07-11  "
      ]
     },
     "metadata": {},
     "output_type": "display_data"
    },
    {
     "name": "stdout",
     "output_type": "stream",
     "text": [
      "<class 'pandas.core.frame.DataFrame'>\n",
      "RangeIndex: 14 entries, 0 to 13\n",
      "Data columns (total 4 columns):\n",
      " #   Column     Non-Null Count  Dtype \n",
      "---  ------     --------------  ----- \n",
      " 0   name       14 non-null     object\n",
      " 1   regions    14 non-null     object\n",
      " 2   start_dt   14 non-null     object\n",
      " 3   finish_dt  14 non-null     object\n",
      "dtypes: object(4)\n",
      "memory usage: 576.0+ bytes\n"
     ]
    },
    {
     "data": {
      "text/plain": [
       "None"
      ]
     },
     "metadata": {},
     "output_type": "display_data"
    },
    {
     "data": {
      "text/html": [
       "<div>\n",
       "<style scoped>\n",
       "    .dataframe tbody tr th:only-of-type {\n",
       "        vertical-align: middle;\n",
       "    }\n",
       "\n",
       "    .dataframe tbody tr th {\n",
       "        vertical-align: top;\n",
       "    }\n",
       "\n",
       "    .dataframe thead th {\n",
       "        text-align: right;\n",
       "    }\n",
       "</style>\n",
       "<table border=\"1\" class=\"dataframe\">\n",
       "  <thead>\n",
       "    <tr style=\"text-align: right;\">\n",
       "      <th></th>\n",
       "      <th>count</th>\n",
       "      <th>unique</th>\n",
       "      <th>top</th>\n",
       "      <th>freq</th>\n",
       "    </tr>\n",
       "  </thead>\n",
       "  <tbody>\n",
       "    <tr>\n",
       "      <th>name</th>\n",
       "      <td>14</td>\n",
       "      <td>14</td>\n",
       "      <td>St. Valentine's Day Giveaway</td>\n",
       "      <td>1</td>\n",
       "    </tr>\n",
       "    <tr>\n",
       "      <th>regions</th>\n",
       "      <td>14</td>\n",
       "      <td>6</td>\n",
       "      <td>APAC</td>\n",
       "      <td>4</td>\n",
       "    </tr>\n",
       "    <tr>\n",
       "      <th>start_dt</th>\n",
       "      <td>14</td>\n",
       "      <td>14</td>\n",
       "      <td>2020-11-26</td>\n",
       "      <td>1</td>\n",
       "    </tr>\n",
       "    <tr>\n",
       "      <th>finish_dt</th>\n",
       "      <td>14</td>\n",
       "      <td>14</td>\n",
       "      <td>2021-01-07</td>\n",
       "      <td>1</td>\n",
       "    </tr>\n",
       "  </tbody>\n",
       "</table>\n",
       "</div>"
      ],
      "text/plain": [
       "          count unique                           top freq\n",
       "name         14     14  St. Valentine's Day Giveaway    1\n",
       "regions      14      6                          APAC    4\n",
       "start_dt     14     14                    2020-11-26    1\n",
       "finish_dt    14     14                    2021-01-07    1"
      ]
     },
     "metadata": {},
     "output_type": "display_data"
    },
    {
     "name": "stdout",
     "output_type": "stream",
     "text": [
      "Количество явных дуликатов в таблице 0\n",
      "Размер датасета: (14, 4)\n"
     ]
    },
    {
     "data": {
      "text/plain": [
       "Index(['name', 'regions', 'start_dt', 'finish_dt'], dtype='object')"
      ]
     },
     "metadata": {},
     "output_type": "display_data"
    }
   ],
   "source": [
    " # календарь маркетинговых событий на 2020 год.\n",
    "basic_func(marketing_events)"
   ]
  },
  {
   "cell_type": "markdown",
   "id": "26eeacbc",
   "metadata": {},
   "source": [
    "**Итак**,\n",
    "`ab_project_marketing_events.csv` — календарь маркетинговых событий на 2020 год.\n",
    "\n",
    "таблица состоит из 4 колонок и 14 строк/записей событий. Пропусков нет, явных дубликатов нет. Наименования столбцов корректны с точки зрения синтаксиса и  чтения наименований. \n",
    "\n",
    "**Типы** объектов требуют корректировки по столбцам 'start_dt' и 'finish_dt', так как не соответствуют нужному datetime.\n",
    "\n",
    "Структура файла:\n",
    "\n",
    "- `name` — название маркетингового события;\n",
    "- `regions` — регионы, в которых будет проводиться рекламная кампания;\n",
    "- `start_dt` — дата начала кампании;\n",
    "- `finish_dt` — дата завершения кампании."
   ]
  },
  {
   "cell_type": "markdown",
   "id": "b55cc521",
   "metadata": {},
   "source": [
    "### Таблица final_ab_new_users"
   ]
  },
  {
   "cell_type": "code",
   "execution_count": 5,
   "id": "b50901f2",
   "metadata": {},
   "outputs": [
    {
     "data": {
      "text/html": [
       "<div>\n",
       "<style scoped>\n",
       "    .dataframe tbody tr th:only-of-type {\n",
       "        vertical-align: middle;\n",
       "    }\n",
       "\n",
       "    .dataframe tbody tr th {\n",
       "        vertical-align: top;\n",
       "    }\n",
       "\n",
       "    .dataframe thead th {\n",
       "        text-align: right;\n",
       "    }\n",
       "</style>\n",
       "<table border=\"1\" class=\"dataframe\">\n",
       "  <thead>\n",
       "    <tr style=\"text-align: right;\">\n",
       "      <th></th>\n",
       "      <th>user_id</th>\n",
       "      <th>first_date</th>\n",
       "      <th>region</th>\n",
       "      <th>device</th>\n",
       "    </tr>\n",
       "  </thead>\n",
       "  <tbody>\n",
       "    <tr>\n",
       "      <th>0</th>\n",
       "      <td>D72A72121175D8BE</td>\n",
       "      <td>2020-12-07</td>\n",
       "      <td>EU</td>\n",
       "      <td>PC</td>\n",
       "    </tr>\n",
       "    <tr>\n",
       "      <th>1</th>\n",
       "      <td>F1C668619DFE6E65</td>\n",
       "      <td>2020-12-07</td>\n",
       "      <td>N.America</td>\n",
       "      <td>Android</td>\n",
       "    </tr>\n",
       "    <tr>\n",
       "      <th>2</th>\n",
       "      <td>2E1BF1D4C37EA01F</td>\n",
       "      <td>2020-12-07</td>\n",
       "      <td>EU</td>\n",
       "      <td>PC</td>\n",
       "    </tr>\n",
       "    <tr>\n",
       "      <th>3</th>\n",
       "      <td>50734A22C0C63768</td>\n",
       "      <td>2020-12-07</td>\n",
       "      <td>EU</td>\n",
       "      <td>iPhone</td>\n",
       "    </tr>\n",
       "    <tr>\n",
       "      <th>4</th>\n",
       "      <td>E1BDDCE0DAFA2679</td>\n",
       "      <td>2020-12-07</td>\n",
       "      <td>N.America</td>\n",
       "      <td>iPhone</td>\n",
       "    </tr>\n",
       "  </tbody>\n",
       "</table>\n",
       "</div>"
      ],
      "text/plain": [
       "            user_id  first_date     region   device\n",
       "0  D72A72121175D8BE  2020-12-07         EU       PC\n",
       "1  F1C668619DFE6E65  2020-12-07  N.America  Android\n",
       "2  2E1BF1D4C37EA01F  2020-12-07         EU       PC\n",
       "3  50734A22C0C63768  2020-12-07         EU   iPhone\n",
       "4  E1BDDCE0DAFA2679  2020-12-07  N.America   iPhone"
      ]
     },
     "metadata": {},
     "output_type": "display_data"
    },
    {
     "name": "stdout",
     "output_type": "stream",
     "text": [
      "<class 'pandas.core.frame.DataFrame'>\n",
      "RangeIndex: 61733 entries, 0 to 61732\n",
      "Data columns (total 4 columns):\n",
      " #   Column      Non-Null Count  Dtype \n",
      "---  ------      --------------  ----- \n",
      " 0   user_id     61733 non-null  object\n",
      " 1   first_date  61733 non-null  object\n",
      " 2   region      61733 non-null  object\n",
      " 3   device      61733 non-null  object\n",
      "dtypes: object(4)\n",
      "memory usage: 1.9+ MB\n"
     ]
    },
    {
     "data": {
      "text/plain": [
       "None"
      ]
     },
     "metadata": {},
     "output_type": "display_data"
    },
    {
     "data": {
      "text/html": [
       "<div>\n",
       "<style scoped>\n",
       "    .dataframe tbody tr th:only-of-type {\n",
       "        vertical-align: middle;\n",
       "    }\n",
       "\n",
       "    .dataframe tbody tr th {\n",
       "        vertical-align: top;\n",
       "    }\n",
       "\n",
       "    .dataframe thead th {\n",
       "        text-align: right;\n",
       "    }\n",
       "</style>\n",
       "<table border=\"1\" class=\"dataframe\">\n",
       "  <thead>\n",
       "    <tr style=\"text-align: right;\">\n",
       "      <th></th>\n",
       "      <th>count</th>\n",
       "      <th>unique</th>\n",
       "      <th>top</th>\n",
       "      <th>freq</th>\n",
       "    </tr>\n",
       "  </thead>\n",
       "  <tbody>\n",
       "    <tr>\n",
       "      <th>user_id</th>\n",
       "      <td>61733</td>\n",
       "      <td>61733</td>\n",
       "      <td>B530CC75382E150F</td>\n",
       "      <td>1</td>\n",
       "    </tr>\n",
       "    <tr>\n",
       "      <th>first_date</th>\n",
       "      <td>61733</td>\n",
       "      <td>17</td>\n",
       "      <td>2020-12-21</td>\n",
       "      <td>6290</td>\n",
       "    </tr>\n",
       "    <tr>\n",
       "      <th>region</th>\n",
       "      <td>61733</td>\n",
       "      <td>4</td>\n",
       "      <td>EU</td>\n",
       "      <td>46270</td>\n",
       "    </tr>\n",
       "    <tr>\n",
       "      <th>device</th>\n",
       "      <td>61733</td>\n",
       "      <td>4</td>\n",
       "      <td>Android</td>\n",
       "      <td>27520</td>\n",
       "    </tr>\n",
       "  </tbody>\n",
       "</table>\n",
       "</div>"
      ],
      "text/plain": [
       "            count unique               top   freq\n",
       "user_id     61733  61733  B530CC75382E150F      1\n",
       "first_date  61733     17        2020-12-21   6290\n",
       "region      61733      4                EU  46270\n",
       "device      61733      4           Android  27520"
      ]
     },
     "metadata": {},
     "output_type": "display_data"
    },
    {
     "name": "stdout",
     "output_type": "stream",
     "text": [
      "Количество явных дуликатов в таблице 0\n",
      "Размер датасета: (61733, 4)\n"
     ]
    },
    {
     "data": {
      "text/plain": [
       "Index(['user_id', 'first_date', 'region', 'device'], dtype='object')"
      ]
     },
     "metadata": {},
     "output_type": "display_data"
    }
   ],
   "source": [
    "# пользователи, зарегистрировавшиеся с 7 по 21 декабря 2020 года.\n",
    "basic_func(final_ab_new_users)"
   ]
  },
  {
   "cell_type": "markdown",
   "id": "dc4201d7",
   "metadata": {},
   "source": [
    "**Итак**,\n",
    "`final_ab_new_users.csv` — пользователи, зарегистрировавшиеся с 7 по 21 декабря 2020 года.\n",
    "\n",
    "таблица состоит из 4 колонок и 61733 строк/записей событий. Пропусков нет, явных дубликатов нет. Наименования столбцов корректны с точки зрения синтаксиса и  чтения наименований. \n",
    "\n",
    "**Типы** объектов требуют корректировки по столбцу 'first_date', так как не соответствуют нужному datetime.\n",
    "\n",
    "\n",
    "Структура файла:\n",
    "\n",
    "- `user_id` — идентификатор пользователя;\n",
    "- `first_date` — дата регистрации;\n",
    "- `region` — регион пользователя;\n",
    "- `device` — устройство, с которого происходила регистрация."
   ]
  },
  {
   "cell_type": "markdown",
   "id": "e74aed81",
   "metadata": {},
   "source": [
    "### Таблица final_ab_events"
   ]
  },
  {
   "cell_type": "code",
   "execution_count": 6,
   "id": "5d594af2",
   "metadata": {},
   "outputs": [
    {
     "data": {
      "text/html": [
       "<div>\n",
       "<style scoped>\n",
       "    .dataframe tbody tr th:only-of-type {\n",
       "        vertical-align: middle;\n",
       "    }\n",
       "\n",
       "    .dataframe tbody tr th {\n",
       "        vertical-align: top;\n",
       "    }\n",
       "\n",
       "    .dataframe thead th {\n",
       "        text-align: right;\n",
       "    }\n",
       "</style>\n",
       "<table border=\"1\" class=\"dataframe\">\n",
       "  <thead>\n",
       "    <tr style=\"text-align: right;\">\n",
       "      <th></th>\n",
       "      <th>user_id</th>\n",
       "      <th>event_dt</th>\n",
       "      <th>event_name</th>\n",
       "      <th>details</th>\n",
       "    </tr>\n",
       "  </thead>\n",
       "  <tbody>\n",
       "    <tr>\n",
       "      <th>0</th>\n",
       "      <td>E1BDDCE0DAFA2679</td>\n",
       "      <td>2020-12-07 20:22:03</td>\n",
       "      <td>purchase</td>\n",
       "      <td>99.99</td>\n",
       "    </tr>\n",
       "    <tr>\n",
       "      <th>1</th>\n",
       "      <td>7B6452F081F49504</td>\n",
       "      <td>2020-12-07 09:22:53</td>\n",
       "      <td>purchase</td>\n",
       "      <td>9.99</td>\n",
       "    </tr>\n",
       "    <tr>\n",
       "      <th>2</th>\n",
       "      <td>9CD9F34546DF254C</td>\n",
       "      <td>2020-12-07 12:59:29</td>\n",
       "      <td>purchase</td>\n",
       "      <td>4.99</td>\n",
       "    </tr>\n",
       "    <tr>\n",
       "      <th>3</th>\n",
       "      <td>96F27A054B191457</td>\n",
       "      <td>2020-12-07 04:02:40</td>\n",
       "      <td>purchase</td>\n",
       "      <td>4.99</td>\n",
       "    </tr>\n",
       "    <tr>\n",
       "      <th>4</th>\n",
       "      <td>1FD7660FDF94CA1F</td>\n",
       "      <td>2020-12-07 10:15:09</td>\n",
       "      <td>purchase</td>\n",
       "      <td>4.99</td>\n",
       "    </tr>\n",
       "  </tbody>\n",
       "</table>\n",
       "</div>"
      ],
      "text/plain": [
       "            user_id             event_dt event_name  details\n",
       "0  E1BDDCE0DAFA2679  2020-12-07 20:22:03   purchase    99.99\n",
       "1  7B6452F081F49504  2020-12-07 09:22:53   purchase     9.99\n",
       "2  9CD9F34546DF254C  2020-12-07 12:59:29   purchase     4.99\n",
       "3  96F27A054B191457  2020-12-07 04:02:40   purchase     4.99\n",
       "4  1FD7660FDF94CA1F  2020-12-07 10:15:09   purchase     4.99"
      ]
     },
     "metadata": {},
     "output_type": "display_data"
    },
    {
     "name": "stdout",
     "output_type": "stream",
     "text": [
      "<class 'pandas.core.frame.DataFrame'>\n",
      "RangeIndex: 440317 entries, 0 to 440316\n",
      "Data columns (total 4 columns):\n",
      " #   Column      Non-Null Count   Dtype  \n",
      "---  ------      --------------   -----  \n",
      " 0   user_id     440317 non-null  object \n",
      " 1   event_dt    440317 non-null  object \n",
      " 2   event_name  440317 non-null  object \n",
      " 3   details     62740 non-null   float64\n",
      "dtypes: float64(1), object(3)\n",
      "memory usage: 13.4+ MB\n"
     ]
    },
    {
     "data": {
      "text/plain": [
       "None"
      ]
     },
     "metadata": {},
     "output_type": "display_data"
    },
    {
     "data": {
      "text/html": [
       "<div>\n",
       "<style scoped>\n",
       "    .dataframe tbody tr th:only-of-type {\n",
       "        vertical-align: middle;\n",
       "    }\n",
       "\n",
       "    .dataframe tbody tr th {\n",
       "        vertical-align: top;\n",
       "    }\n",
       "\n",
       "    .dataframe thead th {\n",
       "        text-align: right;\n",
       "    }\n",
       "</style>\n",
       "<table border=\"1\" class=\"dataframe\">\n",
       "  <thead>\n",
       "    <tr style=\"text-align: right;\">\n",
       "      <th></th>\n",
       "      <th>count</th>\n",
       "      <th>mean</th>\n",
       "      <th>std</th>\n",
       "      <th>min</th>\n",
       "      <th>25%</th>\n",
       "      <th>50%</th>\n",
       "      <th>75%</th>\n",
       "      <th>max</th>\n",
       "    </tr>\n",
       "  </thead>\n",
       "  <tbody>\n",
       "    <tr>\n",
       "      <th>details</th>\n",
       "      <td>62,740.00</td>\n",
       "      <td>23.88</td>\n",
       "      <td>72.18</td>\n",
       "      <td>4.99</td>\n",
       "      <td>4.99</td>\n",
       "      <td>4.99</td>\n",
       "      <td>9.99</td>\n",
       "      <td>499.99</td>\n",
       "    </tr>\n",
       "  </tbody>\n",
       "</table>\n",
       "</div>"
      ],
      "text/plain": [
       "            count  mean   std  min  25%  50%  75%    max\n",
       "details 62,740.00 23.88 72.18 4.99 4.99 4.99 9.99 499.99"
      ]
     },
     "metadata": {},
     "output_type": "display_data"
    },
    {
     "name": "stdout",
     "output_type": "stream",
     "text": [
      "Количество явных дуликатов в таблице 0\n",
      "Размер датасета: (440317, 4)\n"
     ]
    },
    {
     "data": {
      "text/plain": [
       "Index(['user_id', 'event_dt', 'event_name', 'details'], dtype='object')"
      ]
     },
     "metadata": {},
     "output_type": "display_data"
    }
   ],
   "source": [
    "# действия новых пользователей в период с 7 декабря 2020 по 4 января 2021 года.\n",
    "basic_func(final_ab_events)"
   ]
  },
  {
   "cell_type": "markdown",
   "id": "6db582ee",
   "metadata": {},
   "source": [
    "**Итак**,\n",
    "`final_ab_events.csv` — действия новых пользователей в период с 7 декабря 2020 по 4 января 2021 года.\n",
    "\n",
    "таблица состоит из 4 колонок и 440317 строк/записей событий. Явных дубликатов нет. Наименования столбцов корректны с точки зрения синтаксиса и  чтения наименований. \n",
    "\n",
    "**Типы** объектов требуют корректировки по столбцу 'event_dt', так как не соответствуют нужному datetime.\n",
    "\n",
    "Имеются **пропуски** в столбце **'details'**. Чуть позже проанализируем этот столбец.\n",
    "\n",
    "Структура файла:\n",
    "\n",
    "- `user_id` — идентификатор пользователя;\n",
    "- `event_dt` — дата и время события;\n",
    "- `event_name` — тип события;\n",
    "- `details` — дополнительные данные о событии. Например, для покупок, `purchase,` в этом поле хранится стоимость покупки в долларах.\n"
   ]
  },
  {
   "cell_type": "markdown",
   "id": "8ec73d53",
   "metadata": {},
   "source": [
    "### Таблица final_ab_participants"
   ]
  },
  {
   "cell_type": "code",
   "execution_count": 7,
   "id": "02222590",
   "metadata": {},
   "outputs": [
    {
     "data": {
      "text/html": [
       "<div>\n",
       "<style scoped>\n",
       "    .dataframe tbody tr th:only-of-type {\n",
       "        vertical-align: middle;\n",
       "    }\n",
       "\n",
       "    .dataframe tbody tr th {\n",
       "        vertical-align: top;\n",
       "    }\n",
       "\n",
       "    .dataframe thead th {\n",
       "        text-align: right;\n",
       "    }\n",
       "</style>\n",
       "<table border=\"1\" class=\"dataframe\">\n",
       "  <thead>\n",
       "    <tr style=\"text-align: right;\">\n",
       "      <th></th>\n",
       "      <th>user_id</th>\n",
       "      <th>group</th>\n",
       "      <th>ab_test</th>\n",
       "    </tr>\n",
       "  </thead>\n",
       "  <tbody>\n",
       "    <tr>\n",
       "      <th>0</th>\n",
       "      <td>D1ABA3E2887B6A73</td>\n",
       "      <td>A</td>\n",
       "      <td>recommender_system_test</td>\n",
       "    </tr>\n",
       "    <tr>\n",
       "      <th>1</th>\n",
       "      <td>A7A3664BD6242119</td>\n",
       "      <td>A</td>\n",
       "      <td>recommender_system_test</td>\n",
       "    </tr>\n",
       "    <tr>\n",
       "      <th>2</th>\n",
       "      <td>DABC14FDDFADD29E</td>\n",
       "      <td>A</td>\n",
       "      <td>recommender_system_test</td>\n",
       "    </tr>\n",
       "    <tr>\n",
       "      <th>3</th>\n",
       "      <td>04988C5DF189632E</td>\n",
       "      <td>A</td>\n",
       "      <td>recommender_system_test</td>\n",
       "    </tr>\n",
       "    <tr>\n",
       "      <th>4</th>\n",
       "      <td>482F14783456D21B</td>\n",
       "      <td>B</td>\n",
       "      <td>recommender_system_test</td>\n",
       "    </tr>\n",
       "  </tbody>\n",
       "</table>\n",
       "</div>"
      ],
      "text/plain": [
       "            user_id group                  ab_test\n",
       "0  D1ABA3E2887B6A73     A  recommender_system_test\n",
       "1  A7A3664BD6242119     A  recommender_system_test\n",
       "2  DABC14FDDFADD29E     A  recommender_system_test\n",
       "3  04988C5DF189632E     A  recommender_system_test\n",
       "4  482F14783456D21B     B  recommender_system_test"
      ]
     },
     "metadata": {},
     "output_type": "display_data"
    },
    {
     "name": "stdout",
     "output_type": "stream",
     "text": [
      "<class 'pandas.core.frame.DataFrame'>\n",
      "RangeIndex: 18268 entries, 0 to 18267\n",
      "Data columns (total 3 columns):\n",
      " #   Column   Non-Null Count  Dtype \n",
      "---  ------   --------------  ----- \n",
      " 0   user_id  18268 non-null  object\n",
      " 1   group    18268 non-null  object\n",
      " 2   ab_test  18268 non-null  object\n",
      "dtypes: object(3)\n",
      "memory usage: 428.3+ KB\n"
     ]
    },
    {
     "data": {
      "text/plain": [
       "None"
      ]
     },
     "metadata": {},
     "output_type": "display_data"
    },
    {
     "data": {
      "text/html": [
       "<div>\n",
       "<style scoped>\n",
       "    .dataframe tbody tr th:only-of-type {\n",
       "        vertical-align: middle;\n",
       "    }\n",
       "\n",
       "    .dataframe tbody tr th {\n",
       "        vertical-align: top;\n",
       "    }\n",
       "\n",
       "    .dataframe thead th {\n",
       "        text-align: right;\n",
       "    }\n",
       "</style>\n",
       "<table border=\"1\" class=\"dataframe\">\n",
       "  <thead>\n",
       "    <tr style=\"text-align: right;\">\n",
       "      <th></th>\n",
       "      <th>count</th>\n",
       "      <th>unique</th>\n",
       "      <th>top</th>\n",
       "      <th>freq</th>\n",
       "    </tr>\n",
       "  </thead>\n",
       "  <tbody>\n",
       "    <tr>\n",
       "      <th>user_id</th>\n",
       "      <td>18268</td>\n",
       "      <td>16666</td>\n",
       "      <td>A1EE4FBD37EA95B8</td>\n",
       "      <td>2</td>\n",
       "    </tr>\n",
       "    <tr>\n",
       "      <th>group</th>\n",
       "      <td>18268</td>\n",
       "      <td>2</td>\n",
       "      <td>A</td>\n",
       "      <td>9655</td>\n",
       "    </tr>\n",
       "    <tr>\n",
       "      <th>ab_test</th>\n",
       "      <td>18268</td>\n",
       "      <td>2</td>\n",
       "      <td>interface_eu_test</td>\n",
       "      <td>11567</td>\n",
       "    </tr>\n",
       "  </tbody>\n",
       "</table>\n",
       "</div>"
      ],
      "text/plain": [
       "         count unique                top   freq\n",
       "user_id  18268  16666   A1EE4FBD37EA95B8      2\n",
       "group    18268      2                  A   9655\n",
       "ab_test  18268      2  interface_eu_test  11567"
      ]
     },
     "metadata": {},
     "output_type": "display_data"
    },
    {
     "name": "stdout",
     "output_type": "stream",
     "text": [
      "Количество явных дуликатов в таблице 0\n",
      "Размер датасета: (18268, 3)\n"
     ]
    },
    {
     "data": {
      "text/plain": [
       "Index(['user_id', 'group', 'ab_test'], dtype='object')"
      ]
     },
     "metadata": {},
     "output_type": "display_data"
    }
   ],
   "source": [
    "# таблица участников тестов:\n",
    "basic_func(final_ab_participants)"
   ]
  },
  {
   "cell_type": "markdown",
   "id": "b4a60a9b",
   "metadata": {},
   "source": [
    "**Итак**,\n",
    "`final_ab_participants.csv` — таблица участников тестов.\n",
    "\n",
    "таблица состоит из 3 колонок и 18268 строк/записей событий. Явных дубликатов нет, пропусков нет. Наименования столбцов корректны с точки зрения синтаксиса и  чтения наименований. \n",
    "\n",
    "**Типы** объектов корректны.\n",
    "\n",
    "Столбец **'ab_test'** содержит 2 уникальных значения: \n",
    "- recommender_system_test\n",
    "- interface_eu_test\n",
    "\n",
    "Нас интересует *recommender_system_test*, поэтому при необходимости будем делать срез по нему.\n",
    "\n",
    "Столбец **'group'** содержит 2 уникальных значения: А и В, но количество значений А больше. После осуществления среза по виду 'ab_test' посмотрим на количество в группах. \n",
    "\n",
    "Структура файла:\n",
    "\n",
    "- `user_id` — идентификатор пользователя;\n",
    "- `ab_test` — название теста;\n",
    "- `group` — группа пользователя."
   ]
  },
  {
   "cell_type": "markdown",
   "id": "f71dee18",
   "metadata": {},
   "source": [
    "## Предобработка"
   ]
  },
  {
   "cell_type": "markdown",
   "id": "5aa93318",
   "metadata": {},
   "source": [
    "### корректировка типов данных\n",
    "\n",
    "Приведем данные к корректному типу данных в столбцах с датой и временем:\n",
    "- таблица `marketing_events`, столбцы 'start_dt' и 'finish_dt'\n",
    "- таблица `final_ab_new_users`, столбец 'first_date'\n",
    "- таблица `final_ab_events`, столбец 'event_dt'"
   ]
  },
  {
   "cell_type": "code",
   "execution_count": 8,
   "id": "009602e1",
   "metadata": {},
   "outputs": [
    {
     "name": "stdout",
     "output_type": "stream",
     "text": [
      "<class 'pandas.core.frame.DataFrame'>\n",
      "RangeIndex: 14 entries, 0 to 13\n",
      "Data columns (total 4 columns):\n",
      " #   Column     Non-Null Count  Dtype         \n",
      "---  ------     --------------  -----         \n",
      " 0   name       14 non-null     object        \n",
      " 1   regions    14 non-null     object        \n",
      " 2   start_dt   14 non-null     datetime64[ns]\n",
      " 3   finish_dt  14 non-null     datetime64[ns]\n",
      "dtypes: datetime64[ns](2), object(2)\n",
      "memory usage: 576.0+ bytes\n"
     ]
    }
   ],
   "source": [
    "# приведем данные к корректному типу данных в столбцах с датой и временем:\n",
    "marketing_events['start_dt'] = pd.to_datetime(marketing_events['start_dt'])\n",
    "marketing_events['finish_dt'] = pd.to_datetime(marketing_events['finish_dt'])\n",
    "marketing_events.info()"
   ]
  },
  {
   "cell_type": "code",
   "execution_count": 9,
   "id": "00abadd2",
   "metadata": {},
   "outputs": [
    {
     "name": "stdout",
     "output_type": "stream",
     "text": [
      "<class 'pandas.core.frame.DataFrame'>\n",
      "RangeIndex: 61733 entries, 0 to 61732\n",
      "Data columns (total 4 columns):\n",
      " #   Column      Non-Null Count  Dtype         \n",
      "---  ------      --------------  -----         \n",
      " 0   user_id     61733 non-null  object        \n",
      " 1   first_date  61733 non-null  datetime64[ns]\n",
      " 2   region      61733 non-null  object        \n",
      " 3   device      61733 non-null  object        \n",
      "dtypes: datetime64[ns](1), object(3)\n",
      "memory usage: 1.9+ MB\n"
     ]
    }
   ],
   "source": [
    "final_ab_new_users['first_date'] = pd.to_datetime(final_ab_new_users['first_date'])\n",
    "final_ab_new_users.info()"
   ]
  },
  {
   "cell_type": "code",
   "execution_count": 10,
   "id": "1b353644",
   "metadata": {},
   "outputs": [
    {
     "name": "stdout",
     "output_type": "stream",
     "text": [
      "<class 'pandas.core.frame.DataFrame'>\n",
      "RangeIndex: 440317 entries, 0 to 440316\n",
      "Data columns (total 4 columns):\n",
      " #   Column      Non-Null Count   Dtype         \n",
      "---  ------      --------------   -----         \n",
      " 0   user_id     440317 non-null  object        \n",
      " 1   event_dt    440317 non-null  datetime64[ns]\n",
      " 2   event_name  440317 non-null  object        \n",
      " 3   details     62740 non-null   float64       \n",
      "dtypes: datetime64[ns](1), float64(1), object(2)\n",
      "memory usage: 13.4+ MB\n"
     ]
    }
   ],
   "source": [
    "final_ab_events['event_dt'] = pd.to_datetime(final_ab_events['event_dt'])\n",
    "final_ab_events.info()"
   ]
  },
  {
   "cell_type": "markdown",
   "id": "8488c6bb",
   "metadata": {},
   "source": [
    "### Работа с нулевыми значениями\n",
    "\n",
    "- таблица `final_ab_events`, столбец 'details'"
   ]
  },
  {
   "cell_type": "code",
   "execution_count": 11,
   "id": "ec76164c",
   "metadata": {},
   "outputs": [
    {
     "data": {
      "text/plain": [
       "377577"
      ]
     },
     "execution_count": 11,
     "metadata": {},
     "output_type": "execute_result"
    }
   ],
   "source": [
    "final_ab_events['details'].isna().sum()"
   ]
  },
  {
   "cell_type": "code",
   "execution_count": 12,
   "id": "cdef5b31",
   "metadata": {},
   "outputs": [
    {
     "data": {
      "text/html": [
       "<div>\n",
       "<style scoped>\n",
       "    .dataframe tbody tr th:only-of-type {\n",
       "        vertical-align: middle;\n",
       "    }\n",
       "\n",
       "    .dataframe tbody tr th {\n",
       "        vertical-align: top;\n",
       "    }\n",
       "\n",
       "    .dataframe thead th {\n",
       "        text-align: right;\n",
       "    }\n",
       "</style>\n",
       "<table border=\"1\" class=\"dataframe\">\n",
       "  <thead>\n",
       "    <tr style=\"text-align: right;\">\n",
       "      <th></th>\n",
       "      <th>user_id</th>\n",
       "      <th>event_dt</th>\n",
       "      <th>event_name</th>\n",
       "      <th>details</th>\n",
       "    </tr>\n",
       "  </thead>\n",
       "  <tbody>\n",
       "    <tr>\n",
       "      <th>62740</th>\n",
       "      <td>2E1BF1D4C37EA01F</td>\n",
       "      <td>2020-12-07 09:05:47</td>\n",
       "      <td>product_cart</td>\n",
       "      <td>NaN</td>\n",
       "    </tr>\n",
       "    <tr>\n",
       "      <th>62741</th>\n",
       "      <td>50734A22C0C63768</td>\n",
       "      <td>2020-12-07 13:24:03</td>\n",
       "      <td>product_cart</td>\n",
       "      <td>NaN</td>\n",
       "    </tr>\n",
       "    <tr>\n",
       "      <th>62742</th>\n",
       "      <td>5EB159DA9DC94DBA</td>\n",
       "      <td>2020-12-07 22:54:02</td>\n",
       "      <td>product_cart</td>\n",
       "      <td>NaN</td>\n",
       "    </tr>\n",
       "    <tr>\n",
       "      <th>62743</th>\n",
       "      <td>084A22B980BA8169</td>\n",
       "      <td>2020-12-07 15:25:55</td>\n",
       "      <td>product_cart</td>\n",
       "      <td>NaN</td>\n",
       "    </tr>\n",
       "    <tr>\n",
       "      <th>62744</th>\n",
       "      <td>0FC21E6F8FAA8DEC</td>\n",
       "      <td>2020-12-07 06:56:27</td>\n",
       "      <td>product_cart</td>\n",
       "      <td>NaN</td>\n",
       "    </tr>\n",
       "    <tr>\n",
       "      <th>...</th>\n",
       "      <td>...</td>\n",
       "      <td>...</td>\n",
       "      <td>...</td>\n",
       "      <td>...</td>\n",
       "    </tr>\n",
       "    <tr>\n",
       "      <th>440312</th>\n",
       "      <td>245E85F65C358E08</td>\n",
       "      <td>2020-12-30 19:35:55</td>\n",
       "      <td>login</td>\n",
       "      <td>NaN</td>\n",
       "    </tr>\n",
       "    <tr>\n",
       "      <th>440313</th>\n",
       "      <td>9385A108F5A0A7A7</td>\n",
       "      <td>2020-12-30 10:54:15</td>\n",
       "      <td>login</td>\n",
       "      <td>NaN</td>\n",
       "    </tr>\n",
       "    <tr>\n",
       "      <th>440314</th>\n",
       "      <td>DB650B7559AC6EAC</td>\n",
       "      <td>2020-12-30 10:59:09</td>\n",
       "      <td>login</td>\n",
       "      <td>NaN</td>\n",
       "    </tr>\n",
       "    <tr>\n",
       "      <th>440315</th>\n",
       "      <td>F80C9BDDEA02E53C</td>\n",
       "      <td>2020-12-30 09:53:39</td>\n",
       "      <td>login</td>\n",
       "      <td>NaN</td>\n",
       "    </tr>\n",
       "    <tr>\n",
       "      <th>440316</th>\n",
       "      <td>7AEC61159B672CC5</td>\n",
       "      <td>2020-12-30 11:36:13</td>\n",
       "      <td>login</td>\n",
       "      <td>NaN</td>\n",
       "    </tr>\n",
       "  </tbody>\n",
       "</table>\n",
       "<p>377577 rows × 4 columns</p>\n",
       "</div>"
      ],
      "text/plain": [
       "                 user_id            event_dt    event_name  details\n",
       "62740   2E1BF1D4C37EA01F 2020-12-07 09:05:47  product_cart      NaN\n",
       "62741   50734A22C0C63768 2020-12-07 13:24:03  product_cart      NaN\n",
       "62742   5EB159DA9DC94DBA 2020-12-07 22:54:02  product_cart      NaN\n",
       "62743   084A22B980BA8169 2020-12-07 15:25:55  product_cart      NaN\n",
       "62744   0FC21E6F8FAA8DEC 2020-12-07 06:56:27  product_cart      NaN\n",
       "...                  ...                 ...           ...      ...\n",
       "440312  245E85F65C358E08 2020-12-30 19:35:55         login      NaN\n",
       "440313  9385A108F5A0A7A7 2020-12-30 10:54:15         login      NaN\n",
       "440314  DB650B7559AC6EAC 2020-12-30 10:59:09         login      NaN\n",
       "440315  F80C9BDDEA02E53C 2020-12-30 09:53:39         login      NaN\n",
       "440316  7AEC61159B672CC5 2020-12-30 11:36:13         login      NaN\n",
       "\n",
       "[377577 rows x 4 columns]"
      ]
     },
     "execution_count": 12,
     "metadata": {},
     "output_type": "execute_result"
    }
   ],
   "source": [
    "final_ab_events[final_ab_events['details'].isna()]"
   ]
  },
  {
   "cell_type": "code",
   "execution_count": 13,
   "id": "e46957e9",
   "metadata": {},
   "outputs": [
    {
     "data": {
      "text/plain": [
       "array(['product_cart', 'product_page', 'login'], dtype=object)"
      ]
     },
     "execution_count": 13,
     "metadata": {},
     "output_type": "execute_result"
    }
   ],
   "source": [
    "final_ab_events[final_ab_events['details'].isna()]['event_name'].unique()"
   ]
  },
  {
   "cell_type": "code",
   "execution_count": 14,
   "id": "1d2a3bed",
   "metadata": {},
   "outputs": [
    {
     "data": {
      "text/plain": [
       "array(['purchase', 'product_cart', 'product_page', 'login'], dtype=object)"
      ]
     },
     "execution_count": 14,
     "metadata": {},
     "output_type": "execute_result"
    }
   ],
   "source": [
    "final_ab_events['event_name'].unique()"
   ]
  },
  {
   "cell_type": "code",
   "execution_count": 15,
   "id": "e8d5af3c",
   "metadata": {},
   "outputs": [
    {
     "name": "stdout",
     "output_type": "stream",
     "text": [
      "Процент пропусков столбце details: 85.75\n"
     ]
    }
   ],
   "source": [
    "print('Процент пропусков столбце details: {:.2f}'.format((final_ab_events['details'].isna().sum()*100)/final_ab_events['event_name'].count()))"
   ]
  },
  {
   "cell_type": "markdown",
   "id": "1f5acf81",
   "metadata": {},
   "source": [
    "Процент пропусков столбце details равен почти 86% - или 377 577 строк/записей. Это большое соотношение. Удалять его не будем. Так как мы имеем информацию, что данный столбец заполняется как доп.информация в случае, если столбец 'event_name'  содержит запись о том, что произошло событие purchase, и еще мы видим что все строки с пропущенными значениями не являются событием purchase, то мы можем заполнить пропуски нулями и привести столбец к типу float/вещественный - для облегчения работы с датасетом. Но в этом случае, надо быть аккуратным и внимательным, при заполнении пропусков 0, во время расчета средней стоимости покупки, эти нули приведут к сильному снижению стоимости. Поэтому будем помнить об этом."
   ]
  },
  {
   "cell_type": "code",
   "execution_count": 16,
   "id": "bfedb3bb",
   "metadata": {},
   "outputs": [
    {
     "data": {
      "text/plain": [
       "0"
      ]
     },
     "execution_count": 16,
     "metadata": {},
     "output_type": "execute_result"
    }
   ],
   "source": [
    "final_ab_events['details'] = final_ab_events['details'].fillna(0)\n",
    "final_ab_events['details'].isna().sum()"
   ]
  },
  {
   "cell_type": "code",
   "execution_count": 17,
   "id": "19486794",
   "metadata": {},
   "outputs": [
    {
     "data": {
      "text/plain": [
       "user_id               object\n",
       "event_dt      datetime64[ns]\n",
       "event_name            object\n",
       "details              float64\n",
       "dtype: object"
      ]
     },
     "execution_count": 17,
     "metadata": {},
     "output_type": "execute_result"
    }
   ],
   "source": [
    "final_ab_events['details'] = final_ab_events['details'].astype(float)\n",
    "final_ab_events.dtypes"
   ]
  },
  {
   "cell_type": "code",
   "execution_count": 18,
   "id": "0b504845",
   "metadata": {},
   "outputs": [
    {
     "data": {
      "text/plain": [
       "array([ 99.99,   9.99,   4.99, 499.99,   0.  ])"
      ]
     },
     "execution_count": 18,
     "metadata": {},
     "output_type": "execute_result"
    }
   ],
   "source": [
    "final_ab_events['details'].unique()"
   ]
  },
  {
   "cell_type": "markdown",
   "id": "96aa88cf",
   "metadata": {},
   "source": [
    "**Предобработка** завершена. Данные в порядке. Можем переходить к основному анализу."
   ]
  },
  {
   "cell_type": "markdown",
   "id": "9dff4626",
   "metadata": {},
   "source": [
    "## Оценка корректности проведения теста. Обратим внимание на:\n",
    "    - Соответствие данных требованиям технического задания. \n",
    "    - Время проведения теста. Совпадения с маркетинговыми и другими активностями.\n",
    "    - Аудитория теста. Пересечения с конкурирующим тестом. Наличие пользователей, участвующих в двух группах теста одновременно. Равномерность распределения по тестовым группам и правильность их формирования.\n",
    "    \n",
    "    \n",
    "**Техническое задание (далее будем использовать сокращение ТЗ)**\n",
    "\n",
    "- Название теста: `recommender_system_test`;\n",
    "- группы: А — контрольная, B — новая платёжная воронка;\n",
    "- дата запуска: 2020-12-07;\n",
    "- дата остановки набора новых пользователей: 2020-12-21;\n",
    "- дата остановки: 2021-01-04;\n",
    "- аудитория: 15% новых пользователей из региона EU;\n",
    "- назначение теста: тестирование изменений, связанных с внедрением улучшенной рекомендательной системы;\n",
    "- ожидаемое количество участников теста: 6000.\n",
    "- ожидаемый эффект: за 14 дней с момента регистрации пользователи покажут улучшение каждой метрики не менее, чем на 10%:\n",
    "    - конверсии в просмотр карточек товаров — событие `product_page`,\n",
    "    - просмотры корзины — `product_cart`,\n",
    "    - покупки — `purchase`.\n",
    "   "
   ]
  },
  {
   "cell_type": "markdown",
   "id": "c44c25a9",
   "metadata": {},
   "source": [
    "### Проверка совпадений времени тестов и маркетинговых событий."
   ]
  },
  {
   "cell_type": "code",
   "execution_count": 19,
   "id": "b3eff29b",
   "metadata": {},
   "outputs": [
    {
     "data": {
      "text/html": [
       "<div>\n",
       "<style scoped>\n",
       "    .dataframe tbody tr th:only-of-type {\n",
       "        vertical-align: middle;\n",
       "    }\n",
       "\n",
       "    .dataframe tbody tr th {\n",
       "        vertical-align: top;\n",
       "    }\n",
       "\n",
       "    .dataframe thead th {\n",
       "        text-align: right;\n",
       "    }\n",
       "</style>\n",
       "<table border=\"1\" class=\"dataframe\">\n",
       "  <thead>\n",
       "    <tr style=\"text-align: right;\">\n",
       "      <th></th>\n",
       "      <th>name</th>\n",
       "      <th>regions</th>\n",
       "      <th>start_dt</th>\n",
       "      <th>finish_dt</th>\n",
       "    </tr>\n",
       "  </thead>\n",
       "  <tbody>\n",
       "    <tr>\n",
       "      <th>0</th>\n",
       "      <td>Christmas&amp;New Year Promo</td>\n",
       "      <td>EU, N.America</td>\n",
       "      <td>2020-12-25</td>\n",
       "      <td>2021-01-03</td>\n",
       "    </tr>\n",
       "    <tr>\n",
       "      <th>1</th>\n",
       "      <td>St. Valentine's Day Giveaway</td>\n",
       "      <td>EU, CIS, APAC, N.America</td>\n",
       "      <td>2020-02-14</td>\n",
       "      <td>2020-02-16</td>\n",
       "    </tr>\n",
       "    <tr>\n",
       "      <th>2</th>\n",
       "      <td>St. Patric's Day Promo</td>\n",
       "      <td>EU, N.America</td>\n",
       "      <td>2020-03-17</td>\n",
       "      <td>2020-03-19</td>\n",
       "    </tr>\n",
       "    <tr>\n",
       "      <th>3</th>\n",
       "      <td>Easter Promo</td>\n",
       "      <td>EU, CIS, APAC, N.America</td>\n",
       "      <td>2020-04-12</td>\n",
       "      <td>2020-04-19</td>\n",
       "    </tr>\n",
       "    <tr>\n",
       "      <th>4</th>\n",
       "      <td>4th of July Promo</td>\n",
       "      <td>N.America</td>\n",
       "      <td>2020-07-04</td>\n",
       "      <td>2020-07-11</td>\n",
       "    </tr>\n",
       "    <tr>\n",
       "      <th>5</th>\n",
       "      <td>Black Friday Ads Campaign</td>\n",
       "      <td>EU, CIS, APAC, N.America</td>\n",
       "      <td>2020-11-26</td>\n",
       "      <td>2020-12-01</td>\n",
       "    </tr>\n",
       "    <tr>\n",
       "      <th>6</th>\n",
       "      <td>Chinese New Year Promo</td>\n",
       "      <td>APAC</td>\n",
       "      <td>2020-01-25</td>\n",
       "      <td>2020-02-07</td>\n",
       "    </tr>\n",
       "    <tr>\n",
       "      <th>7</th>\n",
       "      <td>Labor day (May 1st) Ads Campaign</td>\n",
       "      <td>EU, CIS, APAC</td>\n",
       "      <td>2020-05-01</td>\n",
       "      <td>2020-05-03</td>\n",
       "    </tr>\n",
       "    <tr>\n",
       "      <th>8</th>\n",
       "      <td>International Women's Day Promo</td>\n",
       "      <td>EU, CIS, APAC</td>\n",
       "      <td>2020-03-08</td>\n",
       "      <td>2020-03-10</td>\n",
       "    </tr>\n",
       "    <tr>\n",
       "      <th>9</th>\n",
       "      <td>Victory Day CIS (May 9th) Event</td>\n",
       "      <td>CIS</td>\n",
       "      <td>2020-05-09</td>\n",
       "      <td>2020-05-11</td>\n",
       "    </tr>\n",
       "    <tr>\n",
       "      <th>10</th>\n",
       "      <td>CIS New Year Gift Lottery</td>\n",
       "      <td>CIS</td>\n",
       "      <td>2020-12-30</td>\n",
       "      <td>2021-01-07</td>\n",
       "    </tr>\n",
       "    <tr>\n",
       "      <th>11</th>\n",
       "      <td>Dragon Boat Festival Giveaway</td>\n",
       "      <td>APAC</td>\n",
       "      <td>2020-06-25</td>\n",
       "      <td>2020-07-01</td>\n",
       "    </tr>\n",
       "    <tr>\n",
       "      <th>12</th>\n",
       "      <td>Single's Day Gift Promo</td>\n",
       "      <td>APAC</td>\n",
       "      <td>2020-11-11</td>\n",
       "      <td>2020-11-12</td>\n",
       "    </tr>\n",
       "    <tr>\n",
       "      <th>13</th>\n",
       "      <td>Chinese Moon Festival</td>\n",
       "      <td>APAC</td>\n",
       "      <td>2020-10-01</td>\n",
       "      <td>2020-10-07</td>\n",
       "    </tr>\n",
       "  </tbody>\n",
       "</table>\n",
       "</div>"
      ],
      "text/plain": [
       "                                name                   regions   start_dt  \\\n",
       "0           Christmas&New Year Promo             EU, N.America 2020-12-25   \n",
       "1       St. Valentine's Day Giveaway  EU, CIS, APAC, N.America 2020-02-14   \n",
       "2             St. Patric's Day Promo             EU, N.America 2020-03-17   \n",
       "3                       Easter Promo  EU, CIS, APAC, N.America 2020-04-12   \n",
       "4                  4th of July Promo                 N.America 2020-07-04   \n",
       "5          Black Friday Ads Campaign  EU, CIS, APAC, N.America 2020-11-26   \n",
       "6             Chinese New Year Promo                      APAC 2020-01-25   \n",
       "7   Labor day (May 1st) Ads Campaign             EU, CIS, APAC 2020-05-01   \n",
       "8    International Women's Day Promo             EU, CIS, APAC 2020-03-08   \n",
       "9    Victory Day CIS (May 9th) Event                       CIS 2020-05-09   \n",
       "10         CIS New Year Gift Lottery                       CIS 2020-12-30   \n",
       "11     Dragon Boat Festival Giveaway                      APAC 2020-06-25   \n",
       "12           Single's Day Gift Promo                      APAC 2020-11-11   \n",
       "13             Chinese Moon Festival                      APAC 2020-10-01   \n",
       "\n",
       "    finish_dt  \n",
       "0  2021-01-03  \n",
       "1  2020-02-16  \n",
       "2  2020-03-19  \n",
       "3  2020-04-19  \n",
       "4  2020-07-11  \n",
       "5  2020-12-01  \n",
       "6  2020-02-07  \n",
       "7  2020-05-03  \n",
       "8  2020-03-10  \n",
       "9  2020-05-11  \n",
       "10 2021-01-07  \n",
       "11 2020-07-01  \n",
       "12 2020-11-12  \n",
       "13 2020-10-07  "
      ]
     },
     "execution_count": 19,
     "metadata": {},
     "output_type": "execute_result"
    }
   ],
   "source": [
    "# выведем таблицу с маркетинговыми событиями\n",
    "marketing_events"
   ]
  },
  {
   "cell_type": "code",
   "execution_count": 20,
   "id": "b977ca80",
   "metadata": {},
   "outputs": [
    {
     "data": {
      "text/html": [
       "<div>\n",
       "<style scoped>\n",
       "    .dataframe tbody tr th:only-of-type {\n",
       "        vertical-align: middle;\n",
       "    }\n",
       "\n",
       "    .dataframe tbody tr th {\n",
       "        vertical-align: top;\n",
       "    }\n",
       "\n",
       "    .dataframe thead th {\n",
       "        text-align: right;\n",
       "    }\n",
       "</style>\n",
       "<table border=\"1\" class=\"dataframe\">\n",
       "  <thead>\n",
       "    <tr style=\"text-align: right;\">\n",
       "      <th></th>\n",
       "      <th>user_id</th>\n",
       "      <th>event_dt</th>\n",
       "      <th>event_name</th>\n",
       "      <th>details</th>\n",
       "    </tr>\n",
       "  </thead>\n",
       "  <tbody>\n",
       "    <tr>\n",
       "      <th>390825</th>\n",
       "      <td>355E781F2D95012A</td>\n",
       "      <td>2020-12-22 16:15:15</td>\n",
       "      <td>login</td>\n",
       "      <td>0.00</td>\n",
       "    </tr>\n",
       "    <tr>\n",
       "      <th>82196</th>\n",
       "      <td>25CDE8C43F052564</td>\n",
       "      <td>2020-12-15 16:12:06</td>\n",
       "      <td>product_cart</td>\n",
       "      <td>0.00</td>\n",
       "    </tr>\n",
       "    <tr>\n",
       "      <th>211107</th>\n",
       "      <td>8857321F4D97B089</td>\n",
       "      <td>2020-12-22 15:56:32</td>\n",
       "      <td>product_page</td>\n",
       "      <td>0.00</td>\n",
       "    </tr>\n",
       "    <tr>\n",
       "      <th>182271</th>\n",
       "      <td>6F28139FA1E8EF98</td>\n",
       "      <td>2020-12-18 10:11:55</td>\n",
       "      <td>product_page</td>\n",
       "      <td>0.00</td>\n",
       "    </tr>\n",
       "    <tr>\n",
       "      <th>380348</th>\n",
       "      <td>CD104B18BF9D39BE</td>\n",
       "      <td>2020-12-21 21:02:39</td>\n",
       "      <td>login</td>\n",
       "      <td>0.00</td>\n",
       "    </tr>\n",
       "  </tbody>\n",
       "</table>\n",
       "</div>"
      ],
      "text/plain": [
       "                 user_id            event_dt    event_name  details\n",
       "390825  355E781F2D95012A 2020-12-22 16:15:15         login     0.00\n",
       "82196   25CDE8C43F052564 2020-12-15 16:12:06  product_cart     0.00\n",
       "211107  8857321F4D97B089 2020-12-22 15:56:32  product_page     0.00\n",
       "182271  6F28139FA1E8EF98 2020-12-18 10:11:55  product_page     0.00\n",
       "380348  CD104B18BF9D39BE 2020-12-21 21:02:39         login     0.00"
      ]
     },
     "metadata": {},
     "output_type": "display_data"
    },
    {
     "data": {
      "text/plain": [
       "Timestamp('2020-12-07 00:00:33')"
      ]
     },
     "metadata": {},
     "output_type": "display_data"
    },
    {
     "data": {
      "text/plain": [
       "Timestamp('2020-12-30 23:36:33')"
      ]
     },
     "metadata": {},
     "output_type": "display_data"
    },
    {
     "data": {
      "text/plain": [
       "267268"
      ]
     },
     "metadata": {},
     "output_type": "display_data"
    }
   ],
   "source": [
    "# действия новых пользователей в период с 7 декабря 2020 по 4 января 2021 года.\n",
    "display(final_ab_events.sample(n=5, random_state = 0))\n",
    "\n",
    "display(final_ab_events['event_dt'].min())\n",
    "display(final_ab_events['event_dt'].max())\n",
    "display(final_ab_events['event_dt'].nunique())"
   ]
  },
  {
   "cell_type": "code",
   "execution_count": 21,
   "id": "a642ab95",
   "metadata": {},
   "outputs": [
    {
     "data": {
      "text/html": [
       "<div>\n",
       "<style scoped>\n",
       "    .dataframe tbody tr th:only-of-type {\n",
       "        vertical-align: middle;\n",
       "    }\n",
       "\n",
       "    .dataframe tbody tr th {\n",
       "        vertical-align: top;\n",
       "    }\n",
       "\n",
       "    .dataframe thead th {\n",
       "        text-align: right;\n",
       "    }\n",
       "</style>\n",
       "<table border=\"1\" class=\"dataframe\">\n",
       "  <thead>\n",
       "    <tr style=\"text-align: right;\">\n",
       "      <th></th>\n",
       "      <th>user_id</th>\n",
       "      <th>event_dt</th>\n",
       "      <th>event_name</th>\n",
       "      <th>details</th>\n",
       "      <th>date_test</th>\n",
       "    </tr>\n",
       "  </thead>\n",
       "  <tbody>\n",
       "    <tr>\n",
       "      <th>0</th>\n",
       "      <td>E1BDDCE0DAFA2679</td>\n",
       "      <td>2020-12-07 20:22:03</td>\n",
       "      <td>purchase</td>\n",
       "      <td>99.99</td>\n",
       "      <td>2020-12-07</td>\n",
       "    </tr>\n",
       "  </tbody>\n",
       "</table>\n",
       "</div>"
      ],
      "text/plain": [
       "            user_id            event_dt event_name  details   date_test\n",
       "0  E1BDDCE0DAFA2679 2020-12-07 20:22:03   purchase    99.99  2020-12-07"
      ]
     },
     "execution_count": 21,
     "metadata": {},
     "output_type": "execute_result"
    }
   ],
   "source": [
    "# выделим из даты только саму дату без времени:\n",
    "final_ab_events['date_test'] = final_ab_events['event_dt'].dt.date\n",
    "final_ab_events.head(1)"
   ]
  },
  {
   "cell_type": "code",
   "execution_count": 22,
   "id": "816e2304",
   "metadata": {},
   "outputs": [
    {
     "data": {
      "text/plain": [
       "24"
      ]
     },
     "metadata": {},
     "output_type": "display_data"
    }
   ],
   "source": [
    "display(final_ab_events['date_test'].nunique())"
   ]
  },
  {
   "cell_type": "markdown",
   "id": "72e8d56d",
   "metadata": {},
   "source": [
    "Согласно ТЗ дата остановки теста: 2021-01-04, но как мы видим наши пользователи прекратили активность уже 31 декабря 2020. Тест проходил всего 24 дня с 07 декабря по 30 декабря 2020. Видимо с 2020-12-31 по 2021-01-04 пользователи праздновали Новый Год.\n",
    "\n",
    "Что касается **маркетинговых акций и совпадения дат проведения теста** с ними, то у нас присутствует совпадение теста  по двум маркетинговым событиям:\n",
    "\n",
    "1. Christmas&New Year Promo\tрегионы EU, N.America\tдата начала 2020-12-25 дата окончания 2021-01-03 \n",
    "2. CIS New Year Gift Lottery\tрегион CIS\tдата начала 2020-12-30\tдата окончания 2021-01-07\n",
    "\n",
    "Пересечение в последние 5 дней с другими маркетинговыми событиями хотя и будет влиять на наш тест, но в равной степени на обе группы. Набор новых пользователей закончился 21 декабря, то есть до начала других маркетинговых событий. То есть на само участие пользователей они не повлияли, но остается малая вероятность, что будут влиять на активность, тогда можно взглянуть на график активности пользователей по дням и только в случае аномальной активности в последние 5 дней, можно думать об удалении.\n",
    "\n",
    "Проверим, влияет ли совпадение времени теста с маркетинговыми событиями на активность пользователей. Построим график активности по дням:"
   ]
  },
  {
   "cell_type": "code",
   "execution_count": 23,
   "id": "62c277ef",
   "metadata": {},
   "outputs": [
    {
     "data": {
      "text/plain": [
       "Text(0, 0.5, 'Количество событий')"
      ]
     },
     "execution_count": 23,
     "metadata": {},
     "output_type": "execute_result"
    },
    {
     "data": {
      "image/png": "[encoded data removed]",
      "text/plain": [
       "<Figure size 1296x648 with 1 Axes>"
      ]
     },
     "metadata": {
      "needs_background": "light"
     },
     "output_type": "display_data"
    }
   ],
   "source": [
    "plt.figure(\n",
    "    figsize=(18, 9))\n",
    "\n",
    "final_ab_events['event_dt'].hist(bins=160)\n",
    "\n",
    "plt.title('Распределение событий во времени', fontsize=20)\n",
    "plt.xlabel(\"Дата\", fontsize=15)\n",
    "plt.ylabel(\"Количество событий\", fontsize=15)"
   ]
  },
  {
   "cell_type": "markdown",
   "id": "1cd1f9ee",
   "metadata": {},
   "source": [
    "По графику видно, что активность пользователей идет на спад к концу декабря. Сильных скачков нет. В принципе в таком случае, можно оставить эти даты в исследовании, так как сильного влияния на пользователей маркетинговые акции не оказали."
   ]
  },
  {
   "cell_type": "markdown",
   "id": "79dba3d6",
   "metadata": {},
   "source": [
    "**Готово. Получили датафрейм с корректными датами событий по пользователям во время теста: final_ab_events.**"
   ]
  },
  {
   "cell_type": "markdown",
   "id": "53702887",
   "metadata": {},
   "source": [
    "### Проверка времени набора новых пользователей"
   ]
  },
  {
   "cell_type": "code",
   "execution_count": 24,
   "id": "37be6984",
   "metadata": {},
   "outputs": [
    {
     "data": {
      "text/html": [
       "<div>\n",
       "<style scoped>\n",
       "    .dataframe tbody tr th:only-of-type {\n",
       "        vertical-align: middle;\n",
       "    }\n",
       "\n",
       "    .dataframe tbody tr th {\n",
       "        vertical-align: top;\n",
       "    }\n",
       "\n",
       "    .dataframe thead th {\n",
       "        text-align: right;\n",
       "    }\n",
       "</style>\n",
       "<table border=\"1\" class=\"dataframe\">\n",
       "  <thead>\n",
       "    <tr style=\"text-align: right;\">\n",
       "      <th></th>\n",
       "      <th>user_id</th>\n",
       "      <th>first_date</th>\n",
       "      <th>region</th>\n",
       "      <th>device</th>\n",
       "    </tr>\n",
       "  </thead>\n",
       "  <tbody>\n",
       "    <tr>\n",
       "      <th>48237</th>\n",
       "      <td>02CC199625AFDAE6</td>\n",
       "      <td>2020-12-12</td>\n",
       "      <td>EU</td>\n",
       "      <td>Android</td>\n",
       "    </tr>\n",
       "    <tr>\n",
       "      <th>30424</th>\n",
       "      <td>7B48E72587EFD2C5</td>\n",
       "      <td>2020-12-16</td>\n",
       "      <td>EU</td>\n",
       "      <td>iPhone</td>\n",
       "    </tr>\n",
       "    <tr>\n",
       "      <th>41509</th>\n",
       "      <td>4CF8E8855FB1A493</td>\n",
       "      <td>2020-12-11</td>\n",
       "      <td>EU</td>\n",
       "      <td>iPhone</td>\n",
       "    </tr>\n",
       "    <tr>\n",
       "      <th>16079</th>\n",
       "      <td>4734A67AF2ABE4A2</td>\n",
       "      <td>2020-12-21</td>\n",
       "      <td>EU</td>\n",
       "      <td>PC</td>\n",
       "    </tr>\n",
       "    <tr>\n",
       "      <th>31356</th>\n",
       "      <td>8EE10B875F4C87FB</td>\n",
       "      <td>2020-12-23</td>\n",
       "      <td>EU</td>\n",
       "      <td>PC</td>\n",
       "    </tr>\n",
       "  </tbody>\n",
       "</table>\n",
       "</div>"
      ],
      "text/plain": [
       "                user_id first_date region   device\n",
       "48237  02CC199625AFDAE6 2020-12-12     EU  Android\n",
       "30424  7B48E72587EFD2C5 2020-12-16     EU   iPhone\n",
       "41509  4CF8E8855FB1A493 2020-12-11     EU   iPhone\n",
       "16079  4734A67AF2ABE4A2 2020-12-21     EU       PC\n",
       "31356  8EE10B875F4C87FB 2020-12-23     EU       PC"
      ]
     },
     "execution_count": 24,
     "metadata": {},
     "output_type": "execute_result"
    }
   ],
   "source": [
    "# пользователи, зарегистрировавшиеся с 7 по 21 декабря 2020 года.\n",
    "final_ab_new_users.sample(n=5, random_state=1)"
   ]
  },
  {
   "cell_type": "code",
   "execution_count": 25,
   "id": "c097c415",
   "metadata": {},
   "outputs": [
    {
     "name": "stdout",
     "output_type": "stream",
     "text": [
      "Колонка user_id : ['D72A72121175D8BE' 'F1C668619DFE6E65' '2E1BF1D4C37EA01F' ...\n",
      " '7ADEE837D5D8CBBD' '1C7D23927835213F' '8F04273BB2860229']\n",
      "\n",
      "Колонка first_date : ['2020-12-07T00:00:00.000000000' '2020-12-14T00:00:00.000000000'\n",
      " '2020-12-21T00:00:00.000000000' '2020-12-08T00:00:00.000000000'\n",
      " '2020-12-15T00:00:00.000000000' '2020-12-22T00:00:00.000000000'\n",
      " '2020-12-09T00:00:00.000000000' '2020-12-16T00:00:00.000000000'\n",
      " '2020-12-23T00:00:00.000000000' '2020-12-10T00:00:00.000000000'\n",
      " '2020-12-17T00:00:00.000000000' '2020-12-11T00:00:00.000000000'\n",
      " '2020-12-18T00:00:00.000000000' '2020-12-12T00:00:00.000000000'\n",
      " '2020-12-19T00:00:00.000000000' '2020-12-13T00:00:00.000000000'\n",
      " '2020-12-20T00:00:00.000000000']\n",
      "\n",
      "Колонка region : ['EU' 'N.America' 'APAC' 'CIS']\n",
      "\n",
      "Колонка device : ['PC' 'Android' 'iPhone' 'Mac']\n",
      "\n"
     ]
    }
   ],
   "source": [
    "# посмотрим на уникальные значения всех колонок \n",
    "for i in final_ab_new_users:\n",
    "    print('Колонка',i,':',final_ab_new_users[i].unique())\n",
    "    print()"
   ]
  },
  {
   "cell_type": "code",
   "execution_count": 26,
   "id": "a1e5190d",
   "metadata": {},
   "outputs": [
    {
     "data": {
      "text/plain": [
       "61733"
      ]
     },
     "metadata": {},
     "output_type": "display_data"
    },
    {
     "data": {
      "text/plain": [
       "17"
      ]
     },
     "metadata": {},
     "output_type": "display_data"
    },
    {
     "data": {
      "text/plain": [
       "Timestamp('2020-12-07 00:00:00')"
      ]
     },
     "metadata": {},
     "output_type": "display_data"
    },
    {
     "data": {
      "text/plain": [
       "Timestamp('2020-12-23 00:00:00')"
      ]
     },
     "metadata": {},
     "output_type": "display_data"
    }
   ],
   "source": [
    "display(final_ab_new_users['user_id'].nunique())\n",
    "display(final_ab_new_users['first_date'].nunique())\n",
    "display(final_ab_new_users['first_date'].min())\n",
    "display(final_ab_new_users['first_date'].max())"
   ]
  },
  {
   "cell_type": "markdown",
   "id": "afe447fc",
   "metadata": {},
   "source": [
    "Мы видим, что дата запуска: 2020-12-07 - соответствует ТЗ, а вот дата остановки набора новых пользователей: 2020-12-23 - не соответствует ТЗ, должна быть 2020-12-21. Поэтому все строки с датами 2020-12-22 и 2020-12-23 удалим:"
   ]
  },
  {
   "cell_type": "code",
   "execution_count": 27,
   "id": "91017f7a",
   "metadata": {},
   "outputs": [
    {
     "data": {
      "text/html": [
       "<div>\n",
       "<style scoped>\n",
       "    .dataframe tbody tr th:only-of-type {\n",
       "        vertical-align: middle;\n",
       "    }\n",
       "\n",
       "    .dataframe tbody tr th {\n",
       "        vertical-align: top;\n",
       "    }\n",
       "\n",
       "    .dataframe thead th {\n",
       "        text-align: right;\n",
       "    }\n",
       "</style>\n",
       "<table border=\"1\" class=\"dataframe\">\n",
       "  <thead>\n",
       "    <tr style=\"text-align: right;\">\n",
       "      <th></th>\n",
       "      <th>user_id</th>\n",
       "      <th>first_date</th>\n",
       "      <th>region</th>\n",
       "      <th>device</th>\n",
       "    </tr>\n",
       "  </thead>\n",
       "  <tbody>\n",
       "    <tr>\n",
       "      <th>0</th>\n",
       "      <td>D72A72121175D8BE</td>\n",
       "      <td>2020-12-07</td>\n",
       "      <td>EU</td>\n",
       "      <td>PC</td>\n",
       "    </tr>\n",
       "    <tr>\n",
       "      <th>1</th>\n",
       "      <td>F1C668619DFE6E65</td>\n",
       "      <td>2020-12-07</td>\n",
       "      <td>N.America</td>\n",
       "      <td>Android</td>\n",
       "    </tr>\n",
       "    <tr>\n",
       "      <th>2</th>\n",
       "      <td>2E1BF1D4C37EA01F</td>\n",
       "      <td>2020-12-07</td>\n",
       "      <td>EU</td>\n",
       "      <td>PC</td>\n",
       "    </tr>\n",
       "    <tr>\n",
       "      <th>3</th>\n",
       "      <td>50734A22C0C63768</td>\n",
       "      <td>2020-12-07</td>\n",
       "      <td>EU</td>\n",
       "      <td>iPhone</td>\n",
       "    </tr>\n",
       "    <tr>\n",
       "      <th>4</th>\n",
       "      <td>E1BDDCE0DAFA2679</td>\n",
       "      <td>2020-12-07</td>\n",
       "      <td>N.America</td>\n",
       "      <td>iPhone</td>\n",
       "    </tr>\n",
       "    <tr>\n",
       "      <th>...</th>\n",
       "      <td>...</td>\n",
       "      <td>...</td>\n",
       "      <td>...</td>\n",
       "      <td>...</td>\n",
       "    </tr>\n",
       "    <tr>\n",
       "      <th>61728</th>\n",
       "      <td>1DB53B933257165D</td>\n",
       "      <td>2020-12-20</td>\n",
       "      <td>EU</td>\n",
       "      <td>Android</td>\n",
       "    </tr>\n",
       "    <tr>\n",
       "      <th>61729</th>\n",
       "      <td>538643EB4527ED03</td>\n",
       "      <td>2020-12-20</td>\n",
       "      <td>EU</td>\n",
       "      <td>Mac</td>\n",
       "    </tr>\n",
       "    <tr>\n",
       "      <th>61730</th>\n",
       "      <td>7ADEE837D5D8CBBD</td>\n",
       "      <td>2020-12-20</td>\n",
       "      <td>EU</td>\n",
       "      <td>PC</td>\n",
       "    </tr>\n",
       "    <tr>\n",
       "      <th>61731</th>\n",
       "      <td>1C7D23927835213F</td>\n",
       "      <td>2020-12-20</td>\n",
       "      <td>EU</td>\n",
       "      <td>iPhone</td>\n",
       "    </tr>\n",
       "    <tr>\n",
       "      <th>61732</th>\n",
       "      <td>8F04273BB2860229</td>\n",
       "      <td>2020-12-20</td>\n",
       "      <td>EU</td>\n",
       "      <td>Android</td>\n",
       "    </tr>\n",
       "  </tbody>\n",
       "</table>\n",
       "<p>56470 rows × 4 columns</p>\n",
       "</div>"
      ],
      "text/plain": [
       "                user_id first_date     region   device\n",
       "0      D72A72121175D8BE 2020-12-07         EU       PC\n",
       "1      F1C668619DFE6E65 2020-12-07  N.America  Android\n",
       "2      2E1BF1D4C37EA01F 2020-12-07         EU       PC\n",
       "3      50734A22C0C63768 2020-12-07         EU   iPhone\n",
       "4      E1BDDCE0DAFA2679 2020-12-07  N.America   iPhone\n",
       "...                 ...        ...        ...      ...\n",
       "61728  1DB53B933257165D 2020-12-20         EU  Android\n",
       "61729  538643EB4527ED03 2020-12-20         EU      Mac\n",
       "61730  7ADEE837D5D8CBBD 2020-12-20         EU       PC\n",
       "61731  1C7D23927835213F 2020-12-20         EU   iPhone\n",
       "61732  8F04273BB2860229 2020-12-20         EU  Android\n",
       "\n",
       "[56470 rows x 4 columns]"
      ]
     },
     "metadata": {},
     "output_type": "display_data"
    },
    {
     "data": {
      "text/plain": [
       "Timestamp('2020-12-07 00:00:00')"
      ]
     },
     "metadata": {},
     "output_type": "display_data"
    },
    {
     "data": {
      "text/plain": [
       "Timestamp('2020-12-21 00:00:00')"
      ]
     },
     "metadata": {},
     "output_type": "display_data"
    }
   ],
   "source": [
    "df_to_delete1 = final_ab_new_users[(final_ab_new_users['first_date'] > '2020, 12, 21')]\n",
    "df_to_delete1\n",
    "\n",
    "index_to_delete1=df_to_delete1.index\n",
    "final_ab_new_users.drop(labels = index_to_delete1, axis = 0, inplace = True)\n",
    "display(final_ab_new_users)\n",
    "\n",
    "display(final_ab_new_users['first_date'].min())\n",
    "display(final_ab_new_users['first_date'].max())"
   ]
  },
  {
   "cell_type": "markdown",
   "id": "d192b6f6",
   "metadata": {},
   "source": [
    "**Теперь с датами регистрации все в порядке.**"
   ]
  },
  {
   "cell_type": "markdown",
   "id": "08b4351f",
   "metadata": {},
   "source": [
    "### Проверка на наличие других тестов в срезе."
   ]
  },
  {
   "cell_type": "markdown",
   "id": "368cb4eb",
   "metadata": {},
   "source": [
    "На этапе предобработки мы обратили внимание на то, что в Таблице final_ab_participants столбец **'ab_test'** содержит 2 уникальных значения: \n",
    "- recommender_system_test\n",
    "- interface_eu_test\n",
    "\n",
    "Согласно ТЗ нас интересует **recommender_system_test**, поэтому будем делать срез по нему. Но для начала проверим, а не пересекаются ли участники тестов. Удалять пересекающихся нет необходимости, конкурирующий тест одинаково будет влиять на обе группы нашего теста"
   ]
  },
  {
   "cell_type": "code",
   "execution_count": 28,
   "id": "0447b758",
   "metadata": {},
   "outputs": [
    {
     "data": {
      "text/html": [
       "<div>\n",
       "<style scoped>\n",
       "    .dataframe tbody tr th:only-of-type {\n",
       "        vertical-align: middle;\n",
       "    }\n",
       "\n",
       "    .dataframe tbody tr th {\n",
       "        vertical-align: top;\n",
       "    }\n",
       "\n",
       "    .dataframe thead th {\n",
       "        text-align: right;\n",
       "    }\n",
       "</style>\n",
       "<table border=\"1\" class=\"dataframe\">\n",
       "  <thead>\n",
       "    <tr style=\"text-align: right;\">\n",
       "      <th></th>\n",
       "      <th>user_id</th>\n",
       "      <th>group</th>\n",
       "      <th>ab_test</th>\n",
       "    </tr>\n",
       "  </thead>\n",
       "  <tbody>\n",
       "    <tr>\n",
       "      <th>0</th>\n",
       "      <td>D1ABA3E2887B6A73</td>\n",
       "      <td>A</td>\n",
       "      <td>recommender_system_test</td>\n",
       "    </tr>\n",
       "  </tbody>\n",
       "</table>\n",
       "</div>"
      ],
      "text/plain": [
       "            user_id group                  ab_test\n",
       "0  D1ABA3E2887B6A73     A  recommender_system_test"
      ]
     },
     "execution_count": 28,
     "metadata": {},
     "output_type": "execute_result"
    }
   ],
   "source": [
    "final_ab_participants.head(1)"
   ]
  },
  {
   "cell_type": "code",
   "execution_count": 29,
   "id": "3432608b",
   "metadata": {},
   "outputs": [
    {
     "data": {
      "text/html": [
       "<div>\n",
       "<style scoped>\n",
       "    .dataframe tbody tr th:only-of-type {\n",
       "        vertical-align: middle;\n",
       "    }\n",
       "\n",
       "    .dataframe tbody tr th {\n",
       "        vertical-align: top;\n",
       "    }\n",
       "\n",
       "    .dataframe thead th {\n",
       "        text-align: right;\n",
       "    }\n",
       "</style>\n",
       "<table border=\"1\" class=\"dataframe\">\n",
       "  <thead>\n",
       "    <tr style=\"text-align: right;\">\n",
       "      <th></th>\n",
       "      <th>group</th>\n",
       "      <th>ab_test</th>\n",
       "      <th>total_users</th>\n",
       "    </tr>\n",
       "  </thead>\n",
       "  <tbody>\n",
       "    <tr>\n",
       "      <th>0</th>\n",
       "      <td>A</td>\n",
       "      <td>interface_eu_test</td>\n",
       "      <td>5831</td>\n",
       "    </tr>\n",
       "    <tr>\n",
       "      <th>1</th>\n",
       "      <td>A</td>\n",
       "      <td>recommender_system_test</td>\n",
       "      <td>3824</td>\n",
       "    </tr>\n",
       "    <tr>\n",
       "      <th>2</th>\n",
       "      <td>B</td>\n",
       "      <td>interface_eu_test</td>\n",
       "      <td>5736</td>\n",
       "    </tr>\n",
       "    <tr>\n",
       "      <th>3</th>\n",
       "      <td>B</td>\n",
       "      <td>recommender_system_test</td>\n",
       "      <td>2877</td>\n",
       "    </tr>\n",
       "  </tbody>\n",
       "</table>\n",
       "</div>"
      ],
      "text/plain": [
       "  group                  ab_test  total_users\n",
       "0     A        interface_eu_test         5831\n",
       "1     A  recommender_system_test         3824\n",
       "2     B        interface_eu_test         5736\n",
       "3     B  recommender_system_test         2877"
      ]
     },
     "metadata": {},
     "output_type": "display_data"
    },
    {
     "name": "stdout",
     "output_type": "stream",
     "text": [
      "Тест interface_eu_test:\n",
      "суммарное количество id в обеих группах: 11567\n",
      "количество уникальных id: 11567\n",
      "\n",
      "Тест recommender_system_test:\n",
      "суммарное количество id в обеих группах: 6701\n",
      "количество уникальных id: 6701\n"
     ]
    }
   ],
   "source": [
    "ab_totals_test = final_ab_participants.groupby(['group','ab_test'], as_index=False)['user_id'].count()\n",
    "ab_totals_test = ab_totals_test.rename(columns={'user_id':'total_users'})\n",
    "display(ab_totals_test)\n",
    "print('Тест interface_eu_test:')\n",
    "print('суммарное количество id в обеих группах:',\n",
    "      ab_totals_test.query('ab_test==\"interface_eu_test\"')['total_users'].sum())\n",
    "print('количество уникальных id:', final_ab_participants.query('ab_test==\"interface_eu_test\"')['user_id'].nunique())\n",
    "print()\n",
    "print('Тест recommender_system_test:')\n",
    "print('суммарное количество id в обеих группах:',\n",
    "      ab_totals_test.query('ab_test==\"recommender_system_test\"')['total_users'].sum())\n",
    "print('количество уникальных id:', final_ab_participants.query('ab_test==\"recommender_system_test\"')['user_id'].nunique())"
   ]
  },
  {
   "cell_type": "code",
   "execution_count": 30,
   "id": "2a10b9bd",
   "metadata": {},
   "outputs": [
    {
     "data": {
      "text/html": [
       "<div>\n",
       "<style scoped>\n",
       "    .dataframe tbody tr th:only-of-type {\n",
       "        vertical-align: middle;\n",
       "    }\n",
       "\n",
       "    .dataframe tbody tr th {\n",
       "        vertical-align: top;\n",
       "    }\n",
       "\n",
       "    .dataframe thead th {\n",
       "        text-align: right;\n",
       "    }\n",
       "</style>\n",
       "<table border=\"1\" class=\"dataframe\">\n",
       "  <thead>\n",
       "    <tr style=\"text-align: right;\">\n",
       "      <th></th>\n",
       "      <th>ab_test</th>\n",
       "    </tr>\n",
       "    <tr>\n",
       "      <th>user_id</th>\n",
       "      <th></th>\n",
       "    </tr>\n",
       "  </thead>\n",
       "  <tbody>\n",
       "    <tr>\n",
       "      <th>8C5E672BF19D5DEE</th>\n",
       "      <td>2</td>\n",
       "    </tr>\n",
       "    <tr>\n",
       "      <th>47999DC76E9AD81C</th>\n",
       "      <td>1</td>\n",
       "    </tr>\n",
       "    <tr>\n",
       "      <th>49E2E13212CF8B10</th>\n",
       "      <td>1</td>\n",
       "    </tr>\n",
       "    <tr>\n",
       "      <th>84655CAEDB37CF27</th>\n",
       "      <td>1</td>\n",
       "    </tr>\n",
       "    <tr>\n",
       "      <th>E379C074A8158033</th>\n",
       "      <td>1</td>\n",
       "    </tr>\n",
       "  </tbody>\n",
       "</table>\n",
       "</div>"
      ],
      "text/plain": [
       "                  ab_test\n",
       "user_id                  \n",
       "8C5E672BF19D5DEE        2\n",
       "47999DC76E9AD81C        1\n",
       "49E2E13212CF8B10        1\n",
       "84655CAEDB37CF27        1\n",
       "E379C074A8158033        1"
      ]
     },
     "metadata": {},
     "output_type": "display_data"
    },
    {
     "name": "stdout",
     "output_type": "stream",
     "text": [
      "количество задублированных пользователей: ab_test    1602\n",
      "dtype: int64\n"
     ]
    }
   ],
   "source": [
    "# сгруппируем по id пользователя и посчитаем количество уникальных групп, в которых присутствует id:\n",
    "id_grouped_test= final_ab_participants.groupby(['user_id']).agg({'ab_test':'nunique'}).sort_values(by='ab_test', ascending=False)#.head(40)\n",
    "display(id_grouped_test.sample(n=5, random_state=0))\n",
    "# посчитаем, сколько id пользователей попали в обе группы\n",
    "print('количество задублированных пользователей:', id_grouped_test.query('ab_test == 2').count())"
   ]
  },
  {
   "cell_type": "code",
   "execution_count": 31,
   "id": "a8f6dfbd",
   "metadata": {},
   "outputs": [
    {
     "data": {
      "text/plain": [
       "(1602, 1)"
      ]
     },
     "execution_count": 31,
     "metadata": {},
     "output_type": "execute_result"
    }
   ],
   "source": [
    "id_grouped_test.query('ab_test == 2').shape"
   ]
  },
  {
   "cell_type": "markdown",
   "id": "0c1cbdda",
   "metadata": {},
   "source": [
    "Итак, мы видим, что тесты пересеклись по участникам. При корректном дизайне теста такого пересечения не должно быть. Но если выбирать из двух зол - то пересечение по тестам менее критично чем пересечение по группам (А и В), а у нас нет пересечения по группам. Итак, выделим участников целевого теста:"
   ]
  },
  {
   "cell_type": "code",
   "execution_count": 32,
   "id": "0343d438",
   "metadata": {},
   "outputs": [
    {
     "data": {
      "text/plain": [
       "ab_test\n",
       "interface_eu_test          11567\n",
       "recommender_system_test     6701\n",
       "Name: ab_test, dtype: int64"
      ]
     },
     "execution_count": 32,
     "metadata": {},
     "output_type": "execute_result"
    }
   ],
   "source": [
    "final_ab_participants.groupby('ab_test')['ab_test'].count()"
   ]
  },
  {
   "cell_type": "code",
   "execution_count": 33,
   "id": "990fb476",
   "metadata": {},
   "outputs": [
    {
     "data": {
      "text/html": [
       "<div>\n",
       "<style scoped>\n",
       "    .dataframe tbody tr th:only-of-type {\n",
       "        vertical-align: middle;\n",
       "    }\n",
       "\n",
       "    .dataframe tbody tr th {\n",
       "        vertical-align: top;\n",
       "    }\n",
       "\n",
       "    .dataframe thead th {\n",
       "        text-align: right;\n",
       "    }\n",
       "</style>\n",
       "<table border=\"1\" class=\"dataframe\">\n",
       "  <thead>\n",
       "    <tr style=\"text-align: right;\">\n",
       "      <th></th>\n",
       "      <th>user_id</th>\n",
       "      <th>group</th>\n",
       "      <th>ab_test</th>\n",
       "    </tr>\n",
       "  </thead>\n",
       "  <tbody>\n",
       "    <tr>\n",
       "      <th>0</th>\n",
       "      <td>D1ABA3E2887B6A73</td>\n",
       "      <td>A</td>\n",
       "      <td>recommender_system_test</td>\n",
       "    </tr>\n",
       "  </tbody>\n",
       "</table>\n",
       "</div>"
      ],
      "text/plain": [
       "            user_id group                  ab_test\n",
       "0  D1ABA3E2887B6A73     A  recommender_system_test"
      ]
     },
     "execution_count": 33,
     "metadata": {},
     "output_type": "execute_result"
    }
   ],
   "source": [
    "final_ab_participants.head(1)"
   ]
  },
  {
   "cell_type": "code",
   "execution_count": 34,
   "id": "48ed6af1",
   "metadata": {},
   "outputs": [
    {
     "data": {
      "text/plain": [
       "ab_test\n",
       "recommender_system_test    6701\n",
       "Name: ab_test, dtype: int64"
      ]
     },
     "execution_count": 34,
     "metadata": {},
     "output_type": "execute_result"
    }
   ],
   "source": [
    "final_ab_participants_upd = final_ab_participants.query('ab_test == \"recommender_system_test\"')\n",
    "final_ab_participants_upd.groupby('ab_test')['ab_test'].count()"
   ]
  },
  {
   "cell_type": "markdown",
   "id": "32f7ec7f",
   "metadata": {},
   "source": [
    "Отлично. Оставили только необходимый тест. Пользователей в нем оказалось 6701 чел., что вполне соответствует ТЗ, которое предполагает, что пользователей должно быть 6000."
   ]
  },
  {
   "cell_type": "markdown",
   "id": "1a443fb4",
   "metadata": {},
   "source": [
    "### Проверка аудитории теста. "
   ]
  },
  {
   "cell_type": "markdown",
   "id": "b49c85f2",
   "metadata": {},
   "source": [
    "На предыдущем этапе мы удалили все строки с конкурирующим тестом, сделав срез **final_ab_participants_upd**, в котором остались только пользователи, участвующие в нужном нам тесте \"recommender_system_test\".\n",
    "\n",
    "**Проверим, не попали ли одни и те же пользователи в разные группы теста:**"
   ]
  },
  {
   "cell_type": "code",
   "execution_count": 35,
   "id": "1cd3c1a9",
   "metadata": {},
   "outputs": [
    {
     "data": {
      "text/html": [
       "<div>\n",
       "<style scoped>\n",
       "    .dataframe tbody tr th:only-of-type {\n",
       "        vertical-align: middle;\n",
       "    }\n",
       "\n",
       "    .dataframe tbody tr th {\n",
       "        vertical-align: top;\n",
       "    }\n",
       "\n",
       "    .dataframe thead th {\n",
       "        text-align: right;\n",
       "    }\n",
       "</style>\n",
       "<table border=\"1\" class=\"dataframe\">\n",
       "  <thead>\n",
       "    <tr style=\"text-align: right;\">\n",
       "      <th></th>\n",
       "      <th>group</th>\n",
       "      <th>total_users</th>\n",
       "    </tr>\n",
       "  </thead>\n",
       "  <tbody>\n",
       "    <tr>\n",
       "      <th>0</th>\n",
       "      <td>A</td>\n",
       "      <td>3824</td>\n",
       "    </tr>\n",
       "    <tr>\n",
       "      <th>1</th>\n",
       "      <td>B</td>\n",
       "      <td>2877</td>\n",
       "    </tr>\n",
       "  </tbody>\n",
       "</table>\n",
       "</div>"
      ],
      "text/plain": [
       "  group  total_users\n",
       "0     A         3824\n",
       "1     B         2877"
      ]
     },
     "metadata": {},
     "output_type": "display_data"
    },
    {
     "name": "stdout",
     "output_type": "stream",
     "text": [
      "суммарное количество id в обеих группах: 6701\n",
      "количество уникальных id: 6701\n"
     ]
    }
   ],
   "source": [
    "# посчитаем число уникальных пользователей в каждой группе id\n",
    "ab_totals = final_ab_participants_upd.groupby('group', as_index=False)['user_id'].count()\n",
    "ab_totals = ab_totals.rename(columns={'user_id':'total_users'})\n",
    "display(ab_totals)\n",
    "print('суммарное количество id в обеих группах:', ab_totals['total_users'].sum())\n",
    "print('количество уникальных id:', final_ab_participants_upd['user_id'].nunique())"
   ]
  },
  {
   "cell_type": "code",
   "execution_count": 36,
   "id": "26d60e42",
   "metadata": {},
   "outputs": [
    {
     "data": {
      "text/html": [
       "<div>\n",
       "<style scoped>\n",
       "    .dataframe tbody tr th:only-of-type {\n",
       "        vertical-align: middle;\n",
       "    }\n",
       "\n",
       "    .dataframe tbody tr th {\n",
       "        vertical-align: top;\n",
       "    }\n",
       "\n",
       "    .dataframe thead th {\n",
       "        text-align: right;\n",
       "    }\n",
       "</style>\n",
       "<table border=\"1\" class=\"dataframe\">\n",
       "  <thead>\n",
       "    <tr style=\"text-align: right;\">\n",
       "      <th></th>\n",
       "      <th>group</th>\n",
       "    </tr>\n",
       "    <tr>\n",
       "      <th>user_id</th>\n",
       "      <th></th>\n",
       "    </tr>\n",
       "  </thead>\n",
       "  <tbody>\n",
       "    <tr>\n",
       "      <th>95D34D562BFF2C2C</th>\n",
       "      <td>1</td>\n",
       "    </tr>\n",
       "    <tr>\n",
       "      <th>4187C5B2AD15A168</th>\n",
       "      <td>1</td>\n",
       "    </tr>\n",
       "    <tr>\n",
       "      <th>FF44696E39039D29</th>\n",
       "      <td>1</td>\n",
       "    </tr>\n",
       "    <tr>\n",
       "      <th>BAAF93DAD4F05D21</th>\n",
       "      <td>1</td>\n",
       "    </tr>\n",
       "    <tr>\n",
       "      <th>1BD87764BD9A6DA9</th>\n",
       "      <td>1</td>\n",
       "    </tr>\n",
       "  </tbody>\n",
       "</table>\n",
       "</div>"
      ],
      "text/plain": [
       "                  group\n",
       "user_id                \n",
       "95D34D562BFF2C2C      1\n",
       "4187C5B2AD15A168      1\n",
       "FF44696E39039D29      1\n",
       "BAAF93DAD4F05D21      1\n",
       "1BD87764BD9A6DA9      1"
      ]
     },
     "metadata": {},
     "output_type": "display_data"
    },
    {
     "name": "stdout",
     "output_type": "stream",
     "text": [
      "количество задублированных пользователей: group    0\n",
      "dtype: int64\n"
     ]
    }
   ],
   "source": [
    "# сгруппируем по id пользователя и посчитаем количество уникальных групп, в которых присутствует id:\n",
    "id_grouped = final_ab_participants_upd.groupby(['user_id']).agg({'group':'nunique'}).sort_values(by='group', ascending=False)#.head(40)\n",
    "display(id_grouped.sample(n=5, random_state=0))\n",
    "# посчитаем, сколько id пользователей попали в обе группы\n",
    "print('количество задублированных пользователей:', id_grouped.query('group == 2').count())"
   ]
  },
  {
   "cell_type": "code",
   "execution_count": 37,
   "id": "69352874",
   "metadata": {},
   "outputs": [
    {
     "data": {
      "text/html": [
       "<div>\n",
       "<style scoped>\n",
       "    .dataframe tbody tr th:only-of-type {\n",
       "        vertical-align: middle;\n",
       "    }\n",
       "\n",
       "    .dataframe tbody tr th {\n",
       "        vertical-align: top;\n",
       "    }\n",
       "\n",
       "    .dataframe thead th {\n",
       "        text-align: right;\n",
       "    }\n",
       "</style>\n",
       "<table border=\"1\" class=\"dataframe\">\n",
       "  <thead>\n",
       "    <tr style=\"text-align: right;\">\n",
       "      <th></th>\n",
       "      <th>group</th>\n",
       "      <th>total_users</th>\n",
       "      <th>user_ratio</th>\n",
       "    </tr>\n",
       "  </thead>\n",
       "  <tbody>\n",
       "    <tr>\n",
       "      <th>0</th>\n",
       "      <td>A</td>\n",
       "      <td>3824</td>\n",
       "      <td>0.57</td>\n",
       "    </tr>\n",
       "    <tr>\n",
       "      <th>1</th>\n",
       "      <td>B</td>\n",
       "      <td>2877</td>\n",
       "      <td>0.43</td>\n",
       "    </tr>\n",
       "  </tbody>\n",
       "</table>\n",
       "</div>"
      ],
      "text/plain": [
       "  group  total_users  user_ratio\n",
       "0     A         3824        0.57\n",
       "1     B         2877        0.43"
      ]
     },
     "execution_count": 37,
     "metadata": {},
     "output_type": "execute_result"
    }
   ],
   "source": [
    "# посчитаем доли пользователей:\n",
    "ab_totals['user_ratio'] = ab_totals['total_users']/ab_totals['total_users'].sum()\n",
    "ab_totals"
   ]
  },
  {
   "cell_type": "markdown",
   "id": "040e95c2",
   "metadata": {},
   "source": [
    "С участниками групп все в порядке. Одновременно участвующих в разных группах нет. По соотношению пользователи в группах А и В практически равны.\n",
    "\n",
    "Согласно ТЗ аудитория должна содержать 15% новых пользователей из региона EU. Проверим соотношение пользователей по регионам:"
   ]
  },
  {
   "cell_type": "code",
   "execution_count": 38,
   "id": "1682f25d",
   "metadata": {},
   "outputs": [
    {
     "data": {
      "text/html": [
       "<div>\n",
       "<style scoped>\n",
       "    .dataframe tbody tr th:only-of-type {\n",
       "        vertical-align: middle;\n",
       "    }\n",
       "\n",
       "    .dataframe tbody tr th {\n",
       "        vertical-align: top;\n",
       "    }\n",
       "\n",
       "    .dataframe thead th {\n",
       "        text-align: right;\n",
       "    }\n",
       "</style>\n",
       "<table border=\"1\" class=\"dataframe\">\n",
       "  <thead>\n",
       "    <tr style=\"text-align: right;\">\n",
       "      <th></th>\n",
       "      <th>region</th>\n",
       "      <th>user_qty</th>\n",
       "      <th>ratio</th>\n",
       "    </tr>\n",
       "  </thead>\n",
       "  <tbody>\n",
       "    <tr>\n",
       "      <th>0</th>\n",
       "      <td>APAC</td>\n",
       "      <td>2883</td>\n",
       "      <td>5.11</td>\n",
       "    </tr>\n",
       "    <tr>\n",
       "      <th>1</th>\n",
       "      <td>CIS</td>\n",
       "      <td>2900</td>\n",
       "      <td>5.14</td>\n",
       "    </tr>\n",
       "    <tr>\n",
       "      <th>2</th>\n",
       "      <td>EU</td>\n",
       "      <td>42340</td>\n",
       "      <td>74.98</td>\n",
       "    </tr>\n",
       "    <tr>\n",
       "      <th>3</th>\n",
       "      <td>N.America</td>\n",
       "      <td>8347</td>\n",
       "      <td>14.78</td>\n",
       "    </tr>\n",
       "  </tbody>\n",
       "</table>\n",
       "</div>"
      ],
      "text/plain": [
       "      region  user_qty  ratio\n",
       "0       APAC      2883   5.11\n",
       "1        CIS      2900   5.14\n",
       "2         EU     42340  74.98\n",
       "3  N.America      8347  14.78"
      ]
     },
     "execution_count": 38,
     "metadata": {},
     "output_type": "execute_result"
    }
   ],
   "source": [
    "# проверим, соответствует ли аудитория ожидаемому проценту: 15% новых пользователей из региона EU\n",
    "regions = final_ab_new_users.groupby('region').agg(user_qty =('user_id','count')).reset_index()\n",
    "regions['ratio'] = regions['user_qty']*100/regions['user_qty'].sum()\n",
    "regions"
   ]
  },
  {
   "cell_type": "code",
   "execution_count": 91,
   "id": "789051ef",
   "metadata": {},
   "outputs": [],
   "source": [
    "fig = px.pie(regions, values='user_qty', names='region', title='Доля пользователей по регионам',)\n",
    "#                          color_discrete_sequence=px.colors.sequential.Purpor)\n",
    "fig.show()"
   ]
  },
  {
   "attachments": {
    "image-2.png": {
     "image/png": "[encoded data removed]"
    }
   },
   "cell_type": "markdown",
   "id": "c5ef92dc",
   "metadata": {},
   "source": [
    "![image-2.png](attachment:image-2.png)"
   ]
  },
  {
   "cell_type": "markdown",
   "id": "10753420",
   "metadata": {},
   "source": [
    "Соотношение пользователей по регионам отличается от ожидаемого, тем не менее пользователи из Европы присутствуют в %соотношении, не меньшем 15%, а даже большем - их 75%. Из Северной Америки - почти 15%,  из Азиатско-Тихоокеанского региона 5.11% и из стран СНГ - 5.14%. \n",
    "\n",
    "Мы увидели, что состав всей аудитории нашего сервиса или приложения не только пользователи из EU, но и из других регионов. Посмотрим, сколько пользователей из EU участвовали в А/Б тесте:"
   ]
  },
  {
   "cell_type": "code",
   "execution_count": 40,
   "id": "75ccb997",
   "metadata": {},
   "outputs": [
    {
     "name": "stdout",
     "output_type": "stream",
     "text": [
      "Пользователей из региона EU: 42340\n",
      "Пользователей из региона EU: 6351\n",
      "Доля аудитории из региона EU: 15.0%\n"
     ]
    }
   ],
   "source": [
    "new_users_from_EU = final_ab_new_users.query(\"region=='EU'\").shape[0]\n",
    "\n",
    "print(f\"Пользователей из региона EU: {new_users_from_EU}\")\n",
    "\n",
    "ab_users_from_EU = final_ab_new_users.merge(final_ab_participants, on='user_id')\\\n",
    "                        .query(\"region=='EU' and ab_test=='recommender_system_test'\").shape[0]\n",
    "\n",
    "print(f\"Пользователей из региона EU: {ab_users_from_EU}\")\n",
    "\n",
    "print(f\"Доля аудитории из региона EU: {ab_users_from_EU / new_users_from_EU:.1%}\")"
   ]
  },
  {
   "cell_type": "markdown",
   "id": "537c110b",
   "metadata": {},
   "source": [
    "**Итак, мы убедились, что для аудитории из Европы, принявшей участие в А/Б тестах, составила 15%. Это удовлетворяет условиям ТЗ.**"
   ]
  },
  {
   "cell_type": "markdown",
   "id": "076cc061",
   "metadata": {},
   "source": [
    "## Исследовательский анализ данных."
   ]
  },
  {
   "cell_type": "markdown",
   "id": "02632d8f",
   "metadata": {},
   "source": [
    "### Подготовка данных. Объединение таблиц."
   ]
  },
  {
   "cell_type": "markdown",
   "id": "83f893bd",
   "metadata": {},
   "source": [
    "В таблице <code>final_ab_events</code> - действия всех пользователей за указанный период пересекаются по обоим тестам:"
   ]
  },
  {
   "cell_type": "code",
   "execution_count": 41,
   "id": "60398165",
   "metadata": {},
   "outputs": [
    {
     "name": "stdout",
     "output_type": "stream",
     "text": [
      "Кол-во пользователей из теста: recommender_system_test совершавших действия: 3675\n",
      "Кол-во пользователей из теста: interface_eu_test совершавших действия: 10850\n"
     ]
    }
   ],
   "source": [
    "# проверка, что в таблице событий есть пользователи всех тестов\n",
    "for test in final_ab_participants['ab_test'].unique():\n",
    "    user_with_actions = len(set(final_ab_participants.query(\"ab_test==@test\")['user_id']) & set(final_ab_events['user_id']))\n",
    "    print(f\"Кол-во пользователей из теста: {test} совершавших действия: {user_with_actions}\")"
   ]
  },
  {
   "cell_type": "markdown",
   "id": "1d28a604",
   "metadata": {},
   "source": [
    "В таблице `final_ab_participants_upd` участники целевого теста. Участник теста - это тот кто зарегистрировался в указанный период, далее участники могут совершать действия, отраженные в таблице `final_ab_events`:  `login\\product_page\\product_cart\\purchase`. \n",
    "\n",
    "Не все участники выполняют действия. Согласно ТЗ эффект ожидается именно от момента регистраци - в идеальном случае воронку и проверки гипотез необходимо выполнить от числа участников (в минимальном варианте воронку можно делать только по тем кто совершал события, а проверки выполнять все равно от числа участников (требование ТЗ))\n",
    "\n",
    "Объединим таблицы `final_ab_participants_upd` и `final_ab_events`:"
   ]
  },
  {
   "cell_type": "code",
   "execution_count": 42,
   "id": "478489f6",
   "metadata": {},
   "outputs": [
    {
     "name": "stdout",
     "output_type": "stream",
     "text": [
      "Кол-во пользователей в объединении: 6701\n"
     ]
    }
   ],
   "source": [
    "# объединение таблиц\n",
    "df_merged = final_ab_participants_upd.merge(final_ab_events, on='user_id', how='left')\n",
    "\n",
    "print(f\"Кол-во пользователей в объединении: {df_merged['user_id'].nunique()}\")"
   ]
  },
  {
   "cell_type": "markdown",
   "id": "552f4db6",
   "metadata": {},
   "source": [
    "В таблице можно найти пропуски в столбце <code>event_name</code> - это те пользователи, которые не совершали никаких событий после регистрации. Заполним пропуски названием <code>only_register</code>."
   ]
  },
  {
   "cell_type": "code",
   "execution_count": 43,
   "id": "7fa96c21",
   "metadata": {},
   "outputs": [
    {
     "data": {
      "text/html": [
       "<div>\n",
       "<style scoped>\n",
       "    .dataframe tbody tr th:only-of-type {\n",
       "        vertical-align: middle;\n",
       "    }\n",
       "\n",
       "    .dataframe tbody tr th {\n",
       "        vertical-align: top;\n",
       "    }\n",
       "\n",
       "    .dataframe thead th {\n",
       "        text-align: right;\n",
       "    }\n",
       "</style>\n",
       "<table border=\"1\" class=\"dataframe\">\n",
       "  <thead>\n",
       "    <tr style=\"text-align: right;\">\n",
       "      <th>group</th>\n",
       "      <th>A</th>\n",
       "      <th>B</th>\n",
       "    </tr>\n",
       "    <tr>\n",
       "      <th>event_name</th>\n",
       "      <th></th>\n",
       "      <th></th>\n",
       "    </tr>\n",
       "  </thead>\n",
       "  <tbody>\n",
       "    <tr>\n",
       "      <th>login</th>\n",
       "      <td>2747</td>\n",
       "      <td>928</td>\n",
       "    </tr>\n",
       "    <tr>\n",
       "      <th>only_register</th>\n",
       "      <td>1077</td>\n",
       "      <td>1949</td>\n",
       "    </tr>\n",
       "    <tr>\n",
       "      <th>product_cart</th>\n",
       "      <td>824</td>\n",
       "      <td>255</td>\n",
       "    </tr>\n",
       "    <tr>\n",
       "      <th>product_page</th>\n",
       "      <td>1780</td>\n",
       "      <td>523</td>\n",
       "    </tr>\n",
       "    <tr>\n",
       "      <th>purchase</th>\n",
       "      <td>872</td>\n",
       "      <td>256</td>\n",
       "    </tr>\n",
       "  </tbody>\n",
       "</table>\n",
       "</div>"
      ],
      "text/plain": [
       "group             A     B\n",
       "event_name               \n",
       "login          2747   928\n",
       "only_register  1077  1949\n",
       "product_cart    824   255\n",
       "product_page   1780   523\n",
       "purchase        872   256"
      ]
     },
     "execution_count": 43,
     "metadata": {},
     "output_type": "execute_result"
    }
   ],
   "source": [
    "df_merged.fillna(value={'event_name': 'only_register'})\\\n",
    "    .pivot_table(index='event_name', columns='group', values='user_id', aggfunc='nunique')"
   ]
  },
  {
   "cell_type": "markdown",
   "id": "d432507e",
   "metadata": {},
   "source": [
    "Для проверки временного периода,  в который пользователи осуществляли действия, нам понадобится дата регистрации пользователей. Добавим  ее присоединением таблицы, содержащей данные о регистрации:"
   ]
  },
  {
   "cell_type": "code",
   "execution_count": 44,
   "id": "234db780",
   "metadata": {},
   "outputs": [
    {
     "data": {
      "text/html": [
       "<div>\n",
       "<style scoped>\n",
       "    .dataframe tbody tr th:only-of-type {\n",
       "        vertical-align: middle;\n",
       "    }\n",
       "\n",
       "    .dataframe tbody tr th {\n",
       "        vertical-align: top;\n",
       "    }\n",
       "\n",
       "    .dataframe thead th {\n",
       "        text-align: right;\n",
       "    }\n",
       "</style>\n",
       "<table border=\"1\" class=\"dataframe\">\n",
       "  <thead>\n",
       "    <tr style=\"text-align: right;\">\n",
       "      <th></th>\n",
       "      <th>user_id</th>\n",
       "      <th>group</th>\n",
       "      <th>ab_test</th>\n",
       "      <th>event_dt</th>\n",
       "      <th>event_name</th>\n",
       "      <th>details</th>\n",
       "      <th>date_test</th>\n",
       "      <th>first_date</th>\n",
       "    </tr>\n",
       "  </thead>\n",
       "  <tbody>\n",
       "    <tr>\n",
       "      <th>0</th>\n",
       "      <td>D1ABA3E2887B6A73</td>\n",
       "      <td>A</td>\n",
       "      <td>recommender_system_test</td>\n",
       "      <td>2020-12-07 14:43:27</td>\n",
       "      <td>purchase</td>\n",
       "      <td>99.99</td>\n",
       "      <td>2020-12-07</td>\n",
       "      <td>2020-12-07</td>\n",
       "    </tr>\n",
       "  </tbody>\n",
       "</table>\n",
       "</div>"
      ],
      "text/plain": [
       "            user_id group                  ab_test            event_dt  \\\n",
       "0  D1ABA3E2887B6A73     A  recommender_system_test 2020-12-07 14:43:27   \n",
       "\n",
       "  event_name  details   date_test first_date  \n",
       "0   purchase    99.99  2020-12-07 2020-12-07  "
      ]
     },
     "execution_count": 44,
     "metadata": {},
     "output_type": "execute_result"
    }
   ],
   "source": [
    "df_merged = df_merged.merge(final_ab_new_users, on='user_id', how='left')\n",
    "df_merged = df_merged.drop(columns=['region','device'], axis=1)\n",
    "df_merged.head(1)"
   ]
  },
  {
   "cell_type": "markdown",
   "id": "459950f1",
   "metadata": {},
   "source": [
    "Посчитаем общее кол-во участников по группам. По отношению к ним будем осуществлять проверки гипотез."
   ]
  },
  {
   "cell_type": "code",
   "execution_count": 45,
   "id": "2b950172",
   "metadata": {},
   "outputs": [
    {
     "data": {
      "text/html": [
       "<div>\n",
       "<style scoped>\n",
       "    .dataframe tbody tr th:only-of-type {\n",
       "        vertical-align: middle;\n",
       "    }\n",
       "\n",
       "    .dataframe tbody tr th {\n",
       "        vertical-align: top;\n",
       "    }\n",
       "\n",
       "    .dataframe thead th {\n",
       "        text-align: right;\n",
       "    }\n",
       "</style>\n",
       "<table border=\"1\" class=\"dataframe\">\n",
       "  <thead>\n",
       "    <tr style=\"text-align: right;\">\n",
       "      <th></th>\n",
       "      <th>user_id</th>\n",
       "    </tr>\n",
       "    <tr>\n",
       "      <th>group</th>\n",
       "      <th></th>\n",
       "    </tr>\n",
       "  </thead>\n",
       "  <tbody>\n",
       "    <tr>\n",
       "      <th>A</th>\n",
       "      <td>3824</td>\n",
       "    </tr>\n",
       "    <tr>\n",
       "      <th>B</th>\n",
       "      <td>2877</td>\n",
       "    </tr>\n",
       "  </tbody>\n",
       "</table>\n",
       "</div>"
      ],
      "text/plain": [
       "       user_id\n",
       "group         \n",
       "A         3824\n",
       "B         2877"
      ]
     },
     "execution_count": 45,
     "metadata": {},
     "output_type": "execute_result"
    }
   ],
   "source": [
    "df_merged = df_merged.fillna(value={'event_name': 'only_register'})\n",
    "df_merged.groupby('group')[['user_id']].nunique()"
   ]
  },
  {
   "cell_type": "markdown",
   "id": "b9c382df",
   "metadata": {},
   "source": [
    "<a class=\"anchor\" id=\"23-bullet\"></a>"
   ]
  },
  {
   "cell_type": "markdown",
   "id": "4fda6519",
   "metadata": {},
   "source": [
    "С объединением таблиц справились. Сделаем проверки выборок."
   ]
  },
  {
   "cell_type": "markdown",
   "id": "9c99faeb",
   "metadata": {},
   "source": [
    "### Ожидаемый эффект."
   ]
  },
  {
   "cell_type": "markdown",
   "id": "b3326070",
   "metadata": {},
   "source": [
    "Согласно ТЗ ожидаемый эффект по результатам А/Б теста: за 14 дней с момента регистрации в системе пользователи покажут улучшение каждой метрики не менее, чем на 10%:\n",
    "\n",
    "- конверсии в просмотр карточек товаров — событие product_page\n",
    "- просмотры корзины — product_cart\n",
    "- покупки — purchase.\n",
    "\n",
    "Т.к исходные данные не соответствют длительности проведения теста вплоть до 04 января 2021 года, не для всех пользователей может быть достигнут ожидаемый эффект. Проверим лайфтайм действий пользователя:"
   ]
  },
  {
   "cell_type": "code",
   "execution_count": 46,
   "id": "5e0a6882",
   "metadata": {},
   "outputs": [
    {
     "data": {
      "text/html": [
       "<div>\n",
       "<style scoped>\n",
       "    .dataframe tbody tr th:only-of-type {\n",
       "        vertical-align: middle;\n",
       "    }\n",
       "\n",
       "    .dataframe tbody tr th {\n",
       "        vertical-align: top;\n",
       "    }\n",
       "\n",
       "    .dataframe thead th {\n",
       "        text-align: right;\n",
       "    }\n",
       "</style>\n",
       "<table border=\"1\" class=\"dataframe\">\n",
       "  <thead>\n",
       "    <tr style=\"text-align: right;\">\n",
       "      <th></th>\n",
       "      <th>user_id</th>\n",
       "      <th>group</th>\n",
       "      <th>ab_test</th>\n",
       "      <th>event_dt</th>\n",
       "      <th>event_name</th>\n",
       "      <th>details</th>\n",
       "      <th>date_test</th>\n",
       "      <th>first_date</th>\n",
       "    </tr>\n",
       "  </thead>\n",
       "  <tbody>\n",
       "    <tr>\n",
       "      <th>0</th>\n",
       "      <td>D1ABA3E2887B6A73</td>\n",
       "      <td>A</td>\n",
       "      <td>recommender_system_test</td>\n",
       "      <td>2020-12-07 14:43:27</td>\n",
       "      <td>purchase</td>\n",
       "      <td>99.99</td>\n",
       "      <td>2020-12-07</td>\n",
       "      <td>2020-12-07</td>\n",
       "    </tr>\n",
       "  </tbody>\n",
       "</table>\n",
       "</div>"
      ],
      "text/plain": [
       "            user_id group                  ab_test            event_dt  \\\n",
       "0  D1ABA3E2887B6A73     A  recommender_system_test 2020-12-07 14:43:27   \n",
       "\n",
       "  event_name  details   date_test first_date  \n",
       "0   purchase    99.99  2020-12-07 2020-12-07  "
      ]
     },
     "execution_count": 46,
     "metadata": {},
     "output_type": "execute_result"
    }
   ],
   "source": [
    "df_merged.head(1)"
   ]
  },
  {
   "cell_type": "code",
   "execution_count": 47,
   "id": "3c3d36f1",
   "metadata": {},
   "outputs": [],
   "source": [
    "# df_merged.query('event_name == \"login\"')"
   ]
  },
  {
   "cell_type": "code",
   "execution_count": 48,
   "id": "c3918f79",
   "metadata": {},
   "outputs": [],
   "source": [
    "# выделим отдельно дату события:\n",
    "df_merged['event_date'] = df_merged['event_dt'].dt.date\n",
    "\n",
    "# преобразуем тип данных в выделенном столбце:\n",
    "df_merged['event_date'] = pd.to_datetime(df_merged['event_date'])"
   ]
  },
  {
   "cell_type": "code",
   "execution_count": 49,
   "id": "0a25b454",
   "metadata": {},
   "outputs": [],
   "source": [
    "# если пользователь не совершил действие, то нет значения даты действия. Такие пропуски заполним датой регистрации\n",
    "df_merged['event_date'] = df_merged['event_date'].fillna(df_merged['first_date'])"
   ]
  },
  {
   "cell_type": "code",
   "execution_count": 50,
   "id": "870be065",
   "metadata": {},
   "outputs": [
    {
     "data": {
      "text/html": [
       "<div>\n",
       "<style scoped>\n",
       "    .dataframe tbody tr th:only-of-type {\n",
       "        vertical-align: middle;\n",
       "    }\n",
       "\n",
       "    .dataframe tbody tr th {\n",
       "        vertical-align: top;\n",
       "    }\n",
       "\n",
       "    .dataframe thead th {\n",
       "        text-align: right;\n",
       "    }\n",
       "</style>\n",
       "<table border=\"1\" class=\"dataframe\">\n",
       "  <thead>\n",
       "    <tr style=\"text-align: right;\">\n",
       "      <th></th>\n",
       "      <th>details</th>\n",
       "      <th>lifetime_event</th>\n",
       "    </tr>\n",
       "  </thead>\n",
       "  <tbody>\n",
       "    <tr>\n",
       "      <th>count</th>\n",
       "      <td>24,698.00</td>\n",
       "      <td>27,724.00</td>\n",
       "    </tr>\n",
       "    <tr>\n",
       "      <th>mean</th>\n",
       "      <td>3.13</td>\n",
       "      <td>2.94</td>\n",
       "    </tr>\n",
       "    <tr>\n",
       "      <th>std</th>\n",
       "      <td>27.20</td>\n",
       "      <td>4.03</td>\n",
       "    </tr>\n",
       "    <tr>\n",
       "      <th>min</th>\n",
       "      <td>0.00</td>\n",
       "      <td>0.00</td>\n",
       "    </tr>\n",
       "    <tr>\n",
       "      <th>25%</th>\n",
       "      <td>0.00</td>\n",
       "      <td>0.00</td>\n",
       "    </tr>\n",
       "    <tr>\n",
       "      <th>50%</th>\n",
       "      <td>0.00</td>\n",
       "      <td>1.00</td>\n",
       "    </tr>\n",
       "    <tr>\n",
       "      <th>75%</th>\n",
       "      <td>0.00</td>\n",
       "      <td>5.00</td>\n",
       "    </tr>\n",
       "    <tr>\n",
       "      <th>max</th>\n",
       "      <td>499.99</td>\n",
       "      <td>23.00</td>\n",
       "    </tr>\n",
       "  </tbody>\n",
       "</table>\n",
       "</div>"
      ],
      "text/plain": [
       "        details  lifetime_event\n",
       "count 24,698.00       27,724.00\n",
       "mean       3.13            2.94\n",
       "std       27.20            4.03\n",
       "min        0.00            0.00\n",
       "25%        0.00            0.00\n",
       "50%        0.00            1.00\n",
       "75%        0.00            5.00\n",
       "max      499.99           23.00"
      ]
     },
     "execution_count": 50,
     "metadata": {},
     "output_type": "execute_result"
    }
   ],
   "source": [
    "# посчитаем лайфтайм события относительно регистрации пользователя\n",
    "df_merged['lifetime_event'] = (df_merged['event_date'] - df_merged['first_date']).dt.days\n",
    "df_merged.describe()"
   ]
  },
  {
   "cell_type": "markdown",
   "id": "cec59dbe",
   "metadata": {},
   "source": [
    "Как мы видим, существуют события, которые произошли через 23 дня после регистрации пользователя. Это не соответствует ТЗ. События старше 14 дней отсекаем."
   ]
  },
  {
   "cell_type": "code",
   "execution_count": 51,
   "id": "5bfc4449",
   "metadata": {},
   "outputs": [
    {
     "data": {
      "text/html": [
       "<div>\n",
       "<style scoped>\n",
       "    .dataframe tbody tr th:only-of-type {\n",
       "        vertical-align: middle;\n",
       "    }\n",
       "\n",
       "    .dataframe tbody tr th {\n",
       "        vertical-align: top;\n",
       "    }\n",
       "\n",
       "    .dataframe thead th {\n",
       "        text-align: right;\n",
       "    }\n",
       "</style>\n",
       "<table border=\"1\" class=\"dataframe\">\n",
       "  <thead>\n",
       "    <tr style=\"text-align: right;\">\n",
       "      <th></th>\n",
       "      <th>details</th>\n",
       "      <th>lifetime_event</th>\n",
       "    </tr>\n",
       "  </thead>\n",
       "  <tbody>\n",
       "    <tr>\n",
       "      <th>count</th>\n",
       "      <td>24,070.00</td>\n",
       "      <td>27,096.00</td>\n",
       "    </tr>\n",
       "    <tr>\n",
       "      <th>mean</th>\n",
       "      <td>3.14</td>\n",
       "      <td>2.61</td>\n",
       "    </tr>\n",
       "    <tr>\n",
       "      <th>std</th>\n",
       "      <td>27.29</td>\n",
       "      <td>3.40</td>\n",
       "    </tr>\n",
       "    <tr>\n",
       "      <th>min</th>\n",
       "      <td>0.00</td>\n",
       "      <td>0.00</td>\n",
       "    </tr>\n",
       "    <tr>\n",
       "      <th>25%</th>\n",
       "      <td>0.00</td>\n",
       "      <td>0.00</td>\n",
       "    </tr>\n",
       "    <tr>\n",
       "      <th>50%</th>\n",
       "      <td>0.00</td>\n",
       "      <td>1.00</td>\n",
       "    </tr>\n",
       "    <tr>\n",
       "      <th>75%</th>\n",
       "      <td>0.00</td>\n",
       "      <td>4.00</td>\n",
       "    </tr>\n",
       "    <tr>\n",
       "      <th>max</th>\n",
       "      <td>499.99</td>\n",
       "      <td>14.00</td>\n",
       "    </tr>\n",
       "  </tbody>\n",
       "</table>\n",
       "</div>"
      ],
      "text/plain": [
       "        details  lifetime_event\n",
       "count 24,070.00       27,096.00\n",
       "mean       3.14            2.61\n",
       "std       27.29            3.40\n",
       "min        0.00            0.00\n",
       "25%        0.00            0.00\n",
       "50%        0.00            1.00\n",
       "75%        0.00            4.00\n",
       "max      499.99           14.00"
      ]
     },
     "execution_count": 51,
     "metadata": {},
     "output_type": "execute_result"
    }
   ],
   "source": [
    "df_merged = df_merged.query('lifetime_event <= 14')\n",
    "df_merged.describe()"
   ]
  },
  {
   "cell_type": "markdown",
   "id": "ce7b4d8c",
   "metadata": {},
   "source": [
    "Перейдем к анализу распределения событий по пользователю."
   ]
  },
  {
   "cell_type": "markdown",
   "id": "34dff8cb",
   "metadata": {},
   "source": [
    "### Распределение количества событий по пользователю."
   ]
  },
  {
   "cell_type": "code",
   "execution_count": 52,
   "id": "84a79384",
   "metadata": {},
   "outputs": [
    {
     "data": {
      "image/png": "[encoded data removed]",
      "text/plain": [
       "<Figure size 648x360 with 1 Axes>"
      ]
     },
     "metadata": {},
     "output_type": "display_data"
    }
   ],
   "source": [
    "# посмотрим на распределение событий в группах\n",
    "# df_ab_grouped_event = df_ab.groupby(['group','event_name']).agg(event_qty=('event_name', 'count')).reset_index()\n",
    "df_ab_grouped_event = df_merged.groupby(['group','event_name']).agg(event_qty=('event_name', 'count')).reset_index()\n",
    "df_ab_grouped_event['ratio'] = df_ab_grouped_event['event_qty']*100/df_ab_grouped_event['event_qty'].sum()\n",
    "# display(df_ab_grouped_event)\n",
    "\n",
    "sns.set_style(\"whitegrid\")\n",
    "plt.figure(figsize = (9,5))\n",
    "sns.set_palette('Set2')\n",
    "sns.barplot(x=\"group\", y=\"event_qty\", hue=\"event_name\", data=df_ab_grouped_event)\n",
    "\n",
    "plt.title('Распределение событий в группах', fontsize = 15)\n",
    "plt.xlabel(\"Принадлежность к группе\", fontsize = 14)\n",
    "plt.ylabel(\"Количество событий\", fontsize = 14)\n",
    "\n",
    "plt.show()"
   ]
  },
  {
   "cell_type": "code",
   "execution_count": 53,
   "id": "2169d93c",
   "metadata": {},
   "outputs": [
    {
     "data": {
      "text/html": [
       "<div>\n",
       "<style scoped>\n",
       "    .dataframe tbody tr th:only-of-type {\n",
       "        vertical-align: middle;\n",
       "    }\n",
       "\n",
       "    .dataframe tbody tr th {\n",
       "        vertical-align: top;\n",
       "    }\n",
       "\n",
       "    .dataframe thead th {\n",
       "        text-align: right;\n",
       "    }\n",
       "</style>\n",
       "<table border=\"1\" class=\"dataframe\">\n",
       "  <thead>\n",
       "    <tr style=\"text-align: right;\">\n",
       "      <th></th>\n",
       "      <th>group</th>\n",
       "      <th>event_name</th>\n",
       "      <th>event_qty</th>\n",
       "      <th>ratio</th>\n",
       "    </tr>\n",
       "  </thead>\n",
       "  <tbody>\n",
       "    <tr>\n",
       "      <th>0</th>\n",
       "      <td>A</td>\n",
       "      <td>login</td>\n",
       "      <td>8400</td>\n",
       "      <td>41.95</td>\n",
       "    </tr>\n",
       "    <tr>\n",
       "      <th>1</th>\n",
       "      <td>A</td>\n",
       "      <td>only_register</td>\n",
       "      <td>1077</td>\n",
       "      <td>5.38</td>\n",
       "    </tr>\n",
       "    <tr>\n",
       "      <th>2</th>\n",
       "      <td>A</td>\n",
       "      <td>product_cart</td>\n",
       "      <td>2519</td>\n",
       "      <td>12.58</td>\n",
       "    </tr>\n",
       "    <tr>\n",
       "      <th>3</th>\n",
       "      <td>A</td>\n",
       "      <td>product_page</td>\n",
       "      <td>5415</td>\n",
       "      <td>27.04</td>\n",
       "    </tr>\n",
       "    <tr>\n",
       "      <th>4</th>\n",
       "      <td>A</td>\n",
       "      <td>purchase</td>\n",
       "      <td>2613</td>\n",
       "      <td>13.05</td>\n",
       "    </tr>\n",
       "  </tbody>\n",
       "</table>\n",
       "</div>"
      ],
      "text/plain": [
       "  group     event_name  event_qty  ratio\n",
       "0     A          login       8400  41.95\n",
       "1     A  only_register       1077   5.38\n",
       "2     A   product_cart       2519  12.58\n",
       "3     A   product_page       5415  27.04\n",
       "4     A       purchase       2613  13.05"
      ]
     },
     "metadata": {},
     "output_type": "display_data"
    },
    {
     "data": {
      "text/html": [
       "<div>\n",
       "<style scoped>\n",
       "    .dataframe tbody tr th:only-of-type {\n",
       "        vertical-align: middle;\n",
       "    }\n",
       "\n",
       "    .dataframe tbody tr th {\n",
       "        vertical-align: top;\n",
       "    }\n",
       "\n",
       "    .dataframe thead th {\n",
       "        text-align: right;\n",
       "    }\n",
       "</style>\n",
       "<table border=\"1\" class=\"dataframe\">\n",
       "  <thead>\n",
       "    <tr style=\"text-align: right;\">\n",
       "      <th></th>\n",
       "      <th>group</th>\n",
       "      <th>event_name</th>\n",
       "      <th>event_qty</th>\n",
       "      <th>ratio</th>\n",
       "    </tr>\n",
       "  </thead>\n",
       "  <tbody>\n",
       "    <tr>\n",
       "      <th>0</th>\n",
       "      <td>B</td>\n",
       "      <td>login</td>\n",
       "      <td>2493</td>\n",
       "      <td>35.25</td>\n",
       "    </tr>\n",
       "    <tr>\n",
       "      <th>1</th>\n",
       "      <td>B</td>\n",
       "      <td>only_register</td>\n",
       "      <td>1949</td>\n",
       "      <td>27.56</td>\n",
       "    </tr>\n",
       "    <tr>\n",
       "      <th>2</th>\n",
       "      <td>B</td>\n",
       "      <td>product_cart</td>\n",
       "      <td>659</td>\n",
       "      <td>9.32</td>\n",
       "    </tr>\n",
       "    <tr>\n",
       "      <th>3</th>\n",
       "      <td>B</td>\n",
       "      <td>product_page</td>\n",
       "      <td>1331</td>\n",
       "      <td>18.82</td>\n",
       "    </tr>\n",
       "    <tr>\n",
       "      <th>4</th>\n",
       "      <td>B</td>\n",
       "      <td>purchase</td>\n",
       "      <td>640</td>\n",
       "      <td>9.05</td>\n",
       "    </tr>\n",
       "  </tbody>\n",
       "</table>\n",
       "</div>"
      ],
      "text/plain": [
       "  group     event_name  event_qty  ratio\n",
       "0     B          login       2493  35.25\n",
       "1     B  only_register       1949  27.56\n",
       "2     B   product_cart        659   9.32\n",
       "3     B   product_page       1331  18.82\n",
       "4     B       purchase        640   9.05"
      ]
     },
     "metadata": {},
     "output_type": "display_data"
    }
   ],
   "source": [
    "df_ab_grouped_event_a = df_merged.query('group == \"A\"').groupby(['group','event_name']).agg(event_qty=('event_name', 'count')).reset_index()\n",
    "df_ab_grouped_event_a['ratio'] = df_ab_grouped_event_a['event_qty']*100/df_ab_grouped_event_a['event_qty'].sum()\n",
    "\n",
    "df_ab_grouped_event_b = df_merged.query('group == \"B\"').groupby(['group','event_name']).agg(event_qty=('event_name', 'count')).reset_index()\n",
    "df_ab_grouped_event_b['ratio'] = df_ab_grouped_event_b['event_qty']*100/df_ab_grouped_event_b['event_qty'].sum()\n",
    "\n",
    "display(df_ab_grouped_event_a)\n",
    "display(df_ab_grouped_event_b)"
   ]
  },
  {
   "cell_type": "markdown",
   "id": "be982bcc",
   "metadata": {},
   "source": [
    "Судя по доле событий в каждой группе, распределение событий в каждой из групп - отличается.\n",
    "\n",
    "Посмотрим на распределение событий **по пользователю:**"
   ]
  },
  {
   "cell_type": "code",
   "execution_count": 54,
   "id": "989ce50e",
   "metadata": {},
   "outputs": [
    {
     "data": {
      "text/html": [
       "<div>\n",
       "<style scoped>\n",
       "    .dataframe tbody tr th:only-of-type {\n",
       "        vertical-align: middle;\n",
       "    }\n",
       "\n",
       "    .dataframe tbody tr th {\n",
       "        vertical-align: top;\n",
       "    }\n",
       "\n",
       "    .dataframe thead th {\n",
       "        text-align: right;\n",
       "    }\n",
       "</style>\n",
       "<table border=\"1\" class=\"dataframe\">\n",
       "  <thead>\n",
       "    <tr style=\"text-align: right;\">\n",
       "      <th></th>\n",
       "      <th>user_id</th>\n",
       "      <th>group</th>\n",
       "      <th>ab_test</th>\n",
       "      <th>event_dt</th>\n",
       "      <th>event_name</th>\n",
       "      <th>details</th>\n",
       "      <th>date_test</th>\n",
       "      <th>first_date</th>\n",
       "      <th>event_date</th>\n",
       "      <th>lifetime_event</th>\n",
       "    </tr>\n",
       "  </thead>\n",
       "  <tbody>\n",
       "    <tr>\n",
       "      <th>0</th>\n",
       "      <td>D1ABA3E2887B6A73</td>\n",
       "      <td>A</td>\n",
       "      <td>recommender_system_test</td>\n",
       "      <td>2020-12-07 14:43:27</td>\n",
       "      <td>purchase</td>\n",
       "      <td>99.99</td>\n",
       "      <td>2020-12-07</td>\n",
       "      <td>2020-12-07</td>\n",
       "      <td>2020-12-07</td>\n",
       "      <td>0</td>\n",
       "    </tr>\n",
       "  </tbody>\n",
       "</table>\n",
       "</div>"
      ],
      "text/plain": [
       "            user_id group                  ab_test            event_dt  \\\n",
       "0  D1ABA3E2887B6A73     A  recommender_system_test 2020-12-07 14:43:27   \n",
       "\n",
       "  event_name  details   date_test first_date event_date  lifetime_event  \n",
       "0   purchase    99.99  2020-12-07 2020-12-07 2020-12-07               0  "
      ]
     },
     "execution_count": 54,
     "metadata": {},
     "output_type": "execute_result"
    }
   ],
   "source": [
    "df_merged.head(1)"
   ]
  },
  {
   "cell_type": "code",
   "execution_count": 55,
   "id": "83a00b91",
   "metadata": {},
   "outputs": [
    {
     "data": {
      "text/html": [
       "<div>\n",
       "<style scoped>\n",
       "    .dataframe tbody tr th:only-of-type {\n",
       "        vertical-align: middle;\n",
       "    }\n",
       "\n",
       "    .dataframe tbody tr th {\n",
       "        vertical-align: top;\n",
       "    }\n",
       "\n",
       "    .dataframe thead th {\n",
       "        text-align: right;\n",
       "    }\n",
       "</style>\n",
       "<table border=\"1\" class=\"dataframe\">\n",
       "  <thead>\n",
       "    <tr style=\"text-align: right;\">\n",
       "      <th></th>\n",
       "      <th>user_id</th>\n",
       "      <th>event_qty</th>\n",
       "    </tr>\n",
       "  </thead>\n",
       "  <tbody>\n",
       "    <tr>\n",
       "      <th>1643</th>\n",
       "      <td>4069A01CBE17EC56</td>\n",
       "      <td>2</td>\n",
       "    </tr>\n",
       "    <tr>\n",
       "      <th>3903</th>\n",
       "      <td>96B9DD6D1362B588</td>\n",
       "      <td>1</td>\n",
       "    </tr>\n",
       "    <tr>\n",
       "      <th>2243</th>\n",
       "      <td>571B3DD6233AEA80</td>\n",
       "      <td>1</td>\n",
       "    </tr>\n",
       "  </tbody>\n",
       "</table>\n",
       "</div>"
      ],
      "text/plain": [
       "               user_id  event_qty\n",
       "1643  4069A01CBE17EC56          2\n",
       "3903  96B9DD6D1362B588          1\n",
       "2243  571B3DD6233AEA80          1"
      ]
     },
     "execution_count": 55,
     "metadata": {},
     "output_type": "execute_result"
    }
   ],
   "source": [
    "df_user =  df_merged.groupby('user_id')['event_name'].count().reset_index()\n",
    "df_user_a =  df_merged.query('group==\"A\"').groupby('user_id').agg(event_qty=('event_name','count')).reset_index()\n",
    "df_user_b =  df_merged.query('group==\"B\"').groupby('user_id').agg(event_qty=('event_name','count')).reset_index()\n",
    "df_user = df_user.rename(columns={'event_name':'event_qty'})\n",
    "df_user.sample(n=3, random_state=0)"
   ]
  },
  {
   "cell_type": "code",
   "execution_count": 56,
   "id": "8d249b44",
   "metadata": {},
   "outputs": [
    {
     "data": {
      "text/plain": [
       "count   6,701.00\n",
       "mean        4.04\n",
       "std         3.92\n",
       "min         1.00\n",
       "25%         1.00\n",
       "50%         2.00\n",
       "75%         6.00\n",
       "max        24.00\n",
       "Name: event_qty, dtype: float64"
      ]
     },
     "execution_count": 56,
     "metadata": {},
     "output_type": "execute_result"
    }
   ],
   "source": [
    "df_user['event_qty'].describe()"
   ]
  },
  {
   "cell_type": "code",
   "execution_count": 57,
   "id": "347f5a2f",
   "metadata": {},
   "outputs": [
    {
     "data": {
      "image/png": "[encoded data removed]",
      "text/plain": [
       "<Figure size 432x288 with 1 Axes>"
      ]
     },
     "metadata": {},
     "output_type": "display_data"
    }
   ],
   "source": [
    "# df_user_b['event_qty'].hist()\n",
    "df_user['event_qty'].hist()\n",
    "plt.title('Распределение событий по пользователю', fontsize = 15)\n",
    "plt.xlabel(\"События\", fontsize = 14)\n",
    "plt.ylabel(\"Плотность\", fontsize = 14)\n",
    "\n",
    "plt.show()"
   ]
  },
  {
   "cell_type": "code",
   "execution_count": 58,
   "id": "7b48739a",
   "metadata": {},
   "outputs": [
    {
     "data": {
      "text/plain": [
       "<AxesSubplot:>"
      ]
     },
     "execution_count": 58,
     "metadata": {},
     "output_type": "execute_result"
    },
    {
     "data": {
      "image/png": "[encoded data removed]",
      "text/plain": [
       "<Figure size 432x288 with 1 Axes>"
      ]
     },
     "metadata": {},
     "output_type": "display_data"
    }
   ],
   "source": [
    "df_user.boxplot('event_qty')"
   ]
  },
  {
   "cell_type": "code",
   "execution_count": 59,
   "id": "87cf96a5",
   "metadata": {},
   "outputs": [
    {
     "data": {
      "text/plain": [
       "95"
      ]
     },
     "execution_count": 59,
     "metadata": {},
     "output_type": "execute_result"
    }
   ],
   "source": [
    "df_user.query('event_qty>15')['user_id'].count()"
   ]
  },
  {
   "cell_type": "code",
   "execution_count": 60,
   "id": "a46fa9a6",
   "metadata": {},
   "outputs": [
    {
     "data": {
      "text/plain": [
       "<AxesSubplot:>"
      ]
     },
     "execution_count": 60,
     "metadata": {},
     "output_type": "execute_result"
    },
    {
     "data": {
      "image/png": "[encoded data removed]",
      "text/plain": [
       "<Figure size 432x288 with 1 Axes>"
      ]
     },
     "metadata": {},
     "output_type": "display_data"
    }
   ],
   "source": [
    "df_user.query('event_qty<=15').boxplot('event_qty')"
   ]
  },
  {
   "cell_type": "markdown",
   "id": "34350324",
   "metadata": {},
   "source": [
    "Количество событий по пользователю распределено неравномерно. Это говорит о том, что есть выбросы. В общем это видно на самой гистрограмме: выбросы после 15 событий. Это также видно на диаграмме размаха. Среднее значение событий 5.81 практически совпадает с медианным 6.0. При этом минимальное равно 1.0, тогда как максимум =24."
   ]
  },
  {
   "cell_type": "markdown",
   "id": "6f519e0d",
   "metadata": {},
   "source": [
    "### Распределение числа событий в выборках по дням.\n",
    "\n",
    " Тест проходил всего 24 дня с 07 декабря по 30 декабря 2020. "
   ]
  },
  {
   "cell_type": "code",
   "execution_count": 61,
   "id": "b3072cf8",
   "metadata": {},
   "outputs": [
    {
     "data": {
      "text/plain": [
       "Timestamp('2020-12-07 00:05:57')"
      ]
     },
     "metadata": {},
     "output_type": "display_data"
    },
    {
     "data": {
      "text/plain": [
       "Timestamp('2020-12-29 23:38:29')"
      ]
     },
     "metadata": {},
     "output_type": "display_data"
    }
   ],
   "source": [
    "display(df_merged['event_dt'].min())\n",
    "display(df_merged['event_dt'].max())"
   ]
  },
  {
   "cell_type": "code",
   "execution_count": 62,
   "id": "8ef5fc3f",
   "metadata": {
    "scrolled": false
   },
   "outputs": [
    {
     "data": {
      "image/png": "[encoded data removed]",
      "text/plain": [
       "<Figure size 1296x648 with 1 Axes>"
      ]
     },
     "metadata": {},
     "output_type": "display_data"
    }
   ],
   "source": [
    "#Гистограмма Распределение событий во времени:\n",
    "\n",
    "plt.figure(\n",
    "    figsize=(18, 9))\n",
    "\n",
    "df_merged['event_dt'].hist(bins=160)\n",
    "\n",
    "plt.title('Распределение событий во времени', fontsize=20)\n",
    "plt.xlabel(\"Дата\", fontsize=15)\n",
    "plt.ylabel(\"Количество событий\", fontsize=15)\n",
    "# plt.xticks('event_dt')\n",
    "# old_ticks, labels = plt.xticks()\n",
    "# plt.xticks(old_ticks, list(map(lambda x : '\\n'.join(x.get_text().split()), labels)),rotation=45)\n",
    "plt.show()"
   ]
  },
  {
   "cell_type": "code",
   "execution_count": 63,
   "id": "9be1f40f",
   "metadata": {},
   "outputs": [
    {
     "data": {
      "text/html": [
       "<div>\n",
       "<style scoped>\n",
       "    .dataframe tbody tr th:only-of-type {\n",
       "        vertical-align: middle;\n",
       "    }\n",
       "\n",
       "    .dataframe tbody tr th {\n",
       "        vertical-align: top;\n",
       "    }\n",
       "\n",
       "    .dataframe thead th {\n",
       "        text-align: right;\n",
       "    }\n",
       "</style>\n",
       "<table border=\"1\" class=\"dataframe\">\n",
       "  <thead>\n",
       "    <tr style=\"text-align: right;\">\n",
       "      <th></th>\n",
       "      <th>date_test</th>\n",
       "      <th>event_name</th>\n",
       "      <th>group</th>\n",
       "      <th>event_qty</th>\n",
       "    </tr>\n",
       "  </thead>\n",
       "  <tbody>\n",
       "    <tr>\n",
       "      <th>0</th>\n",
       "      <td>2020-12-07</td>\n",
       "      <td>login</td>\n",
       "      <td>A</td>\n",
       "      <td>154</td>\n",
       "    </tr>\n",
       "    <tr>\n",
       "      <th>1</th>\n",
       "      <td>2020-12-07</td>\n",
       "      <td>login</td>\n",
       "      <td>B</td>\n",
       "      <td>165</td>\n",
       "    </tr>\n",
       "    <tr>\n",
       "      <th>2</th>\n",
       "      <td>2020-12-07</td>\n",
       "      <td>product_cart</td>\n",
       "      <td>A</td>\n",
       "      <td>35</td>\n",
       "    </tr>\n",
       "    <tr>\n",
       "      <th>3</th>\n",
       "      <td>2020-12-07</td>\n",
       "      <td>product_cart</td>\n",
       "      <td>B</td>\n",
       "      <td>46</td>\n",
       "    </tr>\n",
       "    <tr>\n",
       "      <th>4</th>\n",
       "      <td>2020-12-07</td>\n",
       "      <td>product_page</td>\n",
       "      <td>A</td>\n",
       "      <td>96</td>\n",
       "    </tr>\n",
       "    <tr>\n",
       "      <th>...</th>\n",
       "      <td>...</td>\n",
       "      <td>...</td>\n",
       "      <td>...</td>\n",
       "      <td>...</td>\n",
       "    </tr>\n",
       "    <tr>\n",
       "      <th>179</th>\n",
       "      <td>2020-12-29</td>\n",
       "      <td>product_cart</td>\n",
       "      <td>B</td>\n",
       "      <td>3</td>\n",
       "    </tr>\n",
       "    <tr>\n",
       "      <th>180</th>\n",
       "      <td>2020-12-29</td>\n",
       "      <td>product_page</td>\n",
       "      <td>A</td>\n",
       "      <td>89</td>\n",
       "    </tr>\n",
       "    <tr>\n",
       "      <th>181</th>\n",
       "      <td>2020-12-29</td>\n",
       "      <td>product_page</td>\n",
       "      <td>B</td>\n",
       "      <td>10</td>\n",
       "    </tr>\n",
       "    <tr>\n",
       "      <th>182</th>\n",
       "      <td>2020-12-29</td>\n",
       "      <td>purchase</td>\n",
       "      <td>A</td>\n",
       "      <td>37</td>\n",
       "    </tr>\n",
       "    <tr>\n",
       "      <th>183</th>\n",
       "      <td>2020-12-29</td>\n",
       "      <td>purchase</td>\n",
       "      <td>B</td>\n",
       "      <td>7</td>\n",
       "    </tr>\n",
       "  </tbody>\n",
       "</table>\n",
       "<p>184 rows × 4 columns</p>\n",
       "</div>"
      ],
      "text/plain": [
       "      date_test    event_name group  event_qty\n",
       "0    2020-12-07         login     A        154\n",
       "1    2020-12-07         login     B        165\n",
       "2    2020-12-07  product_cart     A         35\n",
       "3    2020-12-07  product_cart     B         46\n",
       "4    2020-12-07  product_page     A         96\n",
       "..          ...           ...   ...        ...\n",
       "179  2020-12-29  product_cart     B          3\n",
       "180  2020-12-29  product_page     A         89\n",
       "181  2020-12-29  product_page     B         10\n",
       "182  2020-12-29      purchase     A         37\n",
       "183  2020-12-29      purchase     B          7\n",
       "\n",
       "[184 rows x 4 columns]"
      ]
     },
     "metadata": {},
     "output_type": "display_data"
    },
    {
     "data": {
      "text/plain": [
       "array(['login', 'product_cart', 'product_page', 'purchase'], dtype=object)"
      ]
     },
     "metadata": {},
     "output_type": "display_data"
    }
   ],
   "source": [
    "# сгруппируем данные по группам, событию и дате, посчитаем количество событий:\n",
    "dates_groups = df_merged.groupby(['date_test','event_name','group']).agg(event_qty=('event_name', 'count')).reset_index()\n",
    "display(dates_groups)\n",
    "display(dates_groups['event_name'].unique())"
   ]
  },
  {
   "cell_type": "code",
   "execution_count": 64,
   "id": "5256edb7",
   "metadata": {},
   "outputs": [
    {
     "data": {
      "text/plain": [
       "datetime.date(2020, 12, 7)"
      ]
     },
     "metadata": {},
     "output_type": "display_data"
    },
    {
     "data": {
      "text/plain": [
       "datetime.date(2020, 12, 29)"
      ]
     },
     "metadata": {},
     "output_type": "display_data"
    }
   ],
   "source": [
    "display(dates_groups['date_test'].min())\n",
    "display(dates_groups['date_test'].max())"
   ]
  },
  {
   "cell_type": "code",
   "execution_count": 65,
   "id": "72f8ef30",
   "metadata": {},
   "outputs": [
    {
     "data": {
      "image/png": "[encoded data removed]",
      "text/plain": [
       "<Figure size 1296x576 with 1 Axes>"
      ]
     },
     "metadata": {},
     "output_type": "display_data"
    }
   ],
   "source": [
    "# визуализируем распределение событий по сделанной выше группировке:\n",
    "sns.set_style(\"whitegrid\")\n",
    "plt.figure(figsize = (18,8))\n",
    "sns.set_palette('Set2')\n",
    "sns.barplot(x=\"date_test\", y=\"event_qty\", hue=\"group\", data=dates_groups)\n",
    "\n",
    "plt.title('Распределение событий в группах', fontsize = 18)\n",
    "plt.xlabel(\"Дата\", fontsize = 14)\n",
    "plt.ylabel(\"Количество событий\", fontsize = 14)\n",
    "\n",
    "plt.show()"
   ]
  },
  {
   "cell_type": "code",
   "execution_count": 66,
   "id": "dee23d0e",
   "metadata": {},
   "outputs": [
    {
     "data": {
      "text/html": [
       "<div>\n",
       "<style scoped>\n",
       "    .dataframe tbody tr th:only-of-type {\n",
       "        vertical-align: middle;\n",
       "    }\n",
       "\n",
       "    .dataframe tbody tr th {\n",
       "        vertical-align: top;\n",
       "    }\n",
       "\n",
       "    .dataframe thead th {\n",
       "        text-align: right;\n",
       "    }\n",
       "</style>\n",
       "<table border=\"1\" class=\"dataframe\">\n",
       "  <thead>\n",
       "    <tr style=\"text-align: right;\">\n",
       "      <th></th>\n",
       "      <th>event_name</th>\n",
       "      <th>event_qty_mean</th>\n",
       "      <th>ratio</th>\n",
       "    </tr>\n",
       "  </thead>\n",
       "  <tbody>\n",
       "    <tr>\n",
       "      <th>0</th>\n",
       "      <td>login</td>\n",
       "      <td>365.22</td>\n",
       "      <td>44.33</td>\n",
       "    </tr>\n",
       "    <tr>\n",
       "      <th>1</th>\n",
       "      <td>product_cart</td>\n",
       "      <td>109.52</td>\n",
       "      <td>13.29</td>\n",
       "    </tr>\n",
       "    <tr>\n",
       "      <th>2</th>\n",
       "      <td>product_page</td>\n",
       "      <td>235.43</td>\n",
       "      <td>28.58</td>\n",
       "    </tr>\n",
       "    <tr>\n",
       "      <th>3</th>\n",
       "      <td>purchase</td>\n",
       "      <td>113.61</td>\n",
       "      <td>13.79</td>\n",
       "    </tr>\n",
       "  </tbody>\n",
       "</table>\n",
       "</div>"
      ],
      "text/plain": [
       "     event_name  event_qty_mean  ratio\n",
       "0         login          365.22  44.33\n",
       "1  product_cart          109.52  13.29\n",
       "2  product_page          235.43  28.58\n",
       "3      purchase          113.61  13.79"
      ]
     },
     "metadata": {},
     "output_type": "display_data"
    },
    {
     "data": {
      "text/html": [
       "<div>\n",
       "<style scoped>\n",
       "    .dataframe tbody tr th:only-of-type {\n",
       "        vertical-align: middle;\n",
       "    }\n",
       "\n",
       "    .dataframe tbody tr th {\n",
       "        vertical-align: top;\n",
       "    }\n",
       "\n",
       "    .dataframe thead th {\n",
       "        text-align: right;\n",
       "    }\n",
       "</style>\n",
       "<table border=\"1\" class=\"dataframe\">\n",
       "  <thead>\n",
       "    <tr style=\"text-align: right;\">\n",
       "      <th></th>\n",
       "      <th>event_name</th>\n",
       "      <th>event_qty_mean</th>\n",
       "      <th>ratio</th>\n",
       "    </tr>\n",
       "  </thead>\n",
       "  <tbody>\n",
       "    <tr>\n",
       "      <th>0</th>\n",
       "      <td>login</td>\n",
       "      <td>108.39</td>\n",
       "      <td>48.66</td>\n",
       "    </tr>\n",
       "    <tr>\n",
       "      <th>1</th>\n",
       "      <td>product_cart</td>\n",
       "      <td>28.65</td>\n",
       "      <td>12.86</td>\n",
       "    </tr>\n",
       "    <tr>\n",
       "      <th>2</th>\n",
       "      <td>product_page</td>\n",
       "      <td>57.87</td>\n",
       "      <td>25.98</td>\n",
       "    </tr>\n",
       "    <tr>\n",
       "      <th>3</th>\n",
       "      <td>purchase</td>\n",
       "      <td>27.83</td>\n",
       "      <td>12.49</td>\n",
       "    </tr>\n",
       "  </tbody>\n",
       "</table>\n",
       "</div>"
      ],
      "text/plain": [
       "     event_name  event_qty_mean  ratio\n",
       "0         login          108.39  48.66\n",
       "1  product_cart           28.65  12.86\n",
       "2  product_page           57.87  25.98\n",
       "3      purchase           27.83  12.49"
      ]
     },
     "metadata": {},
     "output_type": "display_data"
    }
   ],
   "source": [
    "# посчитаем средние значения и выведем долю событий в каждой группе:\n",
    "\n",
    "dates_groups.groupby(['event_name','group']).agg(event_qty_mean = ('event_qty', 'mean')).reset_index()\n",
    "\n",
    "dates_groups_a = dates_groups.query('group ==\"A\"').groupby(['event_name']).agg(event_qty_mean = ('event_qty', 'mean')).reset_index()\n",
    "dates_groups_a['ratio'] = dates_groups_a['event_qty_mean']*100/dates_groups_a['event_qty_mean'].sum()\n",
    "display(dates_groups_a)\n",
    "\n",
    "dates_groups_b = dates_groups.query('group ==\"B\"').groupby(['event_name']).agg(event_qty_mean = ('event_qty', 'mean')).reset_index()\n",
    "dates_groups_b['ratio'] = dates_groups_b['event_qty_mean']*100/dates_groups_b['event_qty_mean'].sum()\n",
    "display(dates_groups_b)"
   ]
  },
  {
   "cell_type": "markdown",
   "id": "d0cb76c3",
   "metadata": {},
   "source": [
    "Распределение событий по дням неравномерно в группах А и Б. \n",
    "\n",
    "С 07 по 13 декабря мы наблюдаем примерно одинаковое число событий изо дня в день. Начиная с 14 декабря видим резкий скачок и постепенный рост количества событий. Пик по количеству событий приходится на 21 декабря. После идет спад. Таким образом, можно выделить 3 периода:\n",
    "1. стабильное распределение 07-13.12.2020\n",
    "2. рост числа событий и пик 14-21.12.2020\n",
    "3. спад интереса 22-24.12.2020\n",
    "\n",
    "**Судя по такому распределению, данные наиболее полные в период с 14 по 24 декабря. Таким образом, тест полноценно длился 10 дней.**"
   ]
  },
  {
   "cell_type": "code",
   "execution_count": 67,
   "id": "0a501372",
   "metadata": {},
   "outputs": [
    {
     "data": {
      "text/html": [
       "<div>\n",
       "<style scoped>\n",
       "    .dataframe tbody tr th:only-of-type {\n",
       "        vertical-align: middle;\n",
       "    }\n",
       "\n",
       "    .dataframe tbody tr th {\n",
       "        vertical-align: top;\n",
       "    }\n",
       "\n",
       "    .dataframe thead th {\n",
       "        text-align: right;\n",
       "    }\n",
       "</style>\n",
       "<table border=\"1\" class=\"dataframe\">\n",
       "  <thead>\n",
       "    <tr style=\"text-align: right;\">\n",
       "      <th></th>\n",
       "      <th>group</th>\n",
       "      <th>user_qty</th>\n",
       "      <th>ratio,%</th>\n",
       "    </tr>\n",
       "  </thead>\n",
       "  <tbody>\n",
       "    <tr>\n",
       "      <th>0</th>\n",
       "      <td>A</td>\n",
       "      <td>3824</td>\n",
       "      <td>57.07</td>\n",
       "    </tr>\n",
       "    <tr>\n",
       "      <th>1</th>\n",
       "      <td>B</td>\n",
       "      <td>2877</td>\n",
       "      <td>42.93</td>\n",
       "    </tr>\n",
       "  </tbody>\n",
       "</table>\n",
       "</div>"
      ],
      "text/plain": [
       "  group  user_qty  ratio,%\n",
       "0     A      3824    57.07\n",
       "1     B      2877    42.93"
      ]
     },
     "execution_count": 67,
     "metadata": {},
     "output_type": "execute_result"
    }
   ],
   "source": [
    "# количество и доля пользователей в данных за период с 07 по 24 декабря:\n",
    "data_group_qty = df_merged.groupby('group')['user_id'].nunique().reset_index()\n",
    "data_group_qty = data_group_qty.rename(columns={'group':'group', 'user_id':'user_qty'})\n",
    "data_group_qty['ratio,%']= data_group_qty['user_qty']*100/data_group_qty['user_qty'].sum()\n",
    "data_group_qty"
   ]
  },
  {
   "cell_type": "markdown",
   "id": "048cc6c2",
   "metadata": {},
   "source": [
    "Соотношение пользователей в % неравномерно."
   ]
  },
  {
   "cell_type": "markdown",
   "id": "7b8b6151",
   "metadata": {},
   "source": [
    "### Как меняется конверсия в воронке в выборках на разных этапах?"
   ]
  },
  {
   "cell_type": "code",
   "execution_count": 68,
   "id": "e8f8a9b6",
   "metadata": {},
   "outputs": [
    {
     "data": {
      "text/html": [
       "<div>\n",
       "<style scoped>\n",
       "    .dataframe tbody tr th:only-of-type {\n",
       "        vertical-align: middle;\n",
       "    }\n",
       "\n",
       "    .dataframe tbody tr th {\n",
       "        vertical-align: top;\n",
       "    }\n",
       "\n",
       "    .dataframe thead th {\n",
       "        text-align: right;\n",
       "    }\n",
       "</style>\n",
       "<table border=\"1\" class=\"dataframe\">\n",
       "  <thead>\n",
       "    <tr style=\"text-align: right;\">\n",
       "      <th></th>\n",
       "      <th>group</th>\n",
       "      <th>event_name</th>\n",
       "      <th>event_qty</th>\n",
       "    </tr>\n",
       "  </thead>\n",
       "  <tbody>\n",
       "    <tr>\n",
       "      <th>0</th>\n",
       "      <td>A</td>\n",
       "      <td>login</td>\n",
       "      <td>8400</td>\n",
       "    </tr>\n",
       "    <tr>\n",
       "      <th>1</th>\n",
       "      <td>A</td>\n",
       "      <td>product_page</td>\n",
       "      <td>5415</td>\n",
       "    </tr>\n",
       "    <tr>\n",
       "      <th>2</th>\n",
       "      <td>A</td>\n",
       "      <td>purchase</td>\n",
       "      <td>2613</td>\n",
       "    </tr>\n",
       "    <tr>\n",
       "      <th>3</th>\n",
       "      <td>A</td>\n",
       "      <td>product_cart</td>\n",
       "      <td>2519</td>\n",
       "    </tr>\n",
       "    <tr>\n",
       "      <th>4</th>\n",
       "      <td>B</td>\n",
       "      <td>login</td>\n",
       "      <td>2493</td>\n",
       "    </tr>\n",
       "    <tr>\n",
       "      <th>5</th>\n",
       "      <td>B</td>\n",
       "      <td>only_register</td>\n",
       "      <td>1949</td>\n",
       "    </tr>\n",
       "    <tr>\n",
       "      <th>6</th>\n",
       "      <td>B</td>\n",
       "      <td>product_page</td>\n",
       "      <td>1331</td>\n",
       "    </tr>\n",
       "    <tr>\n",
       "      <th>7</th>\n",
       "      <td>A</td>\n",
       "      <td>only_register</td>\n",
       "      <td>1077</td>\n",
       "    </tr>\n",
       "    <tr>\n",
       "      <th>8</th>\n",
       "      <td>B</td>\n",
       "      <td>product_cart</td>\n",
       "      <td>659</td>\n",
       "    </tr>\n",
       "    <tr>\n",
       "      <th>9</th>\n",
       "      <td>B</td>\n",
       "      <td>purchase</td>\n",
       "      <td>640</td>\n",
       "    </tr>\n",
       "  </tbody>\n",
       "</table>\n",
       "</div>"
      ],
      "text/plain": [
       "  group     event_name  event_qty\n",
       "0     A          login       8400\n",
       "1     A   product_page       5415\n",
       "2     A       purchase       2613\n",
       "3     A   product_cart       2519\n",
       "4     B          login       2493\n",
       "5     B  only_register       1949\n",
       "6     B   product_page       1331\n",
       "7     A  only_register       1077\n",
       "8     B   product_cart        659\n",
       "9     B       purchase        640"
      ]
     },
     "execution_count": 68,
     "metadata": {},
     "output_type": "execute_result"
    }
   ],
   "source": [
    "# Посмотрим, какие события есть в логах, как часто они встречаются.\n",
    "data_event = df_merged.groupby(['group','event_name']).agg(event_qty=('event_name','count')).sort_values(by='event_qty', ascending=False).reset_index()\n",
    "data_event"
   ]
  },
  {
   "cell_type": "code",
   "execution_count": 69,
   "id": "b9a64909",
   "metadata": {},
   "outputs": [
    {
     "data": {
      "image/png": "[encoded data removed]",
      "text/plain": [
       "<Figure size 648x432 with 1 Axes>"
      ]
     },
     "metadata": {},
     "output_type": "display_data"
    }
   ],
   "source": [
    "\n",
    "plt.figure(\n",
    "    figsize=(9, 6))\n",
    "# plt.style.use('seaborn')\n",
    "# sns.set_palette('rainbow')\n",
    "sns.barplot(x='event_name', y='event_qty',hue=\"group\", data=data_event)\n",
    "plt.title(\"Количество событий\" , fontsize=15)\n",
    "\n",
    "# labels = ['Вход на сайт', 'Страница продукта', 'Покупка', 'Корзина']\n",
    "# old_ticks, labels = plt.xticks()\n",
    "\n",
    "# plt.xticks(old_ticks, list(map(lambda x : '\\n'.join(x.get_text().split()), labels)),rotation=0, fontsize=10)\n",
    "\n",
    "plt.xticks([0,1,2,3,4],['Вход\\nна сайт', 'Страница\\nпродукта', 'Покупка', 'Корзина','Только\\nрегистрация'],rotation=0, fontsize=12)\n",
    "plt.ylabel('количество событий, шт.', fontsize=15)\n",
    "plt.xlabel('Событие', fontsize=15)\n",
    "plt.show()"
   ]
  },
  {
   "cell_type": "code",
   "execution_count": 70,
   "id": "3212f0f0",
   "metadata": {},
   "outputs": [
    {
     "data": {
      "text/plain": [
       "event_name\n",
       "login           3.06\n",
       "only_register   1.00\n",
       "product_cart    3.06\n",
       "product_page    3.04\n",
       "purchase        3.00\n",
       "Name: event_qty, dtype: float64"
      ]
     },
     "metadata": {},
     "output_type": "display_data"
    },
    {
     "data": {
      "text/plain": [
       "event_name\n",
       "login           2.69\n",
       "only_register   1.00\n",
       "product_cart    2.58\n",
       "product_page    2.54\n",
       "purchase        2.50\n",
       "Name: event_qty, dtype: float64"
      ]
     },
     "metadata": {},
     "output_type": "display_data"
    }
   ],
   "source": [
    "data_event_01 = (df_merged.groupby(['group','user_id', 'event_name']).\n",
    "                 agg(event_qty=('event_name','count')).\n",
    "                 sort_values(by='event_qty', ascending=False).reset_index())\n",
    "data_event_a = (df_merged.query('group==\"A\"').groupby(['user_id', 'event_name']).\n",
    "                agg(event_qty=('event_name','count')).sort_values(by='event_qty', ascending=False).reset_index())\n",
    "data_event_b = (df_merged.query('group==\"B\"').groupby(['user_id', 'event_name']).\n",
    "                agg(event_qty=('event_name','count')).sort_values(by='event_qty', ascending=False).reset_index())\n",
    "display(data_event_a.groupby('event_name')['event_qty'].mean())\n",
    "display(data_event_b.groupby('event_name')['event_qty'].mean())"
   ]
  },
  {
   "cell_type": "code",
   "execution_count": 71,
   "id": "b05200f2",
   "metadata": {},
   "outputs": [
    {
     "data": {
      "image/png": "[encoded data removed]",
      "text/plain": [
       "<Figure size 720x360 with 1 Axes>"
      ]
     },
     "metadata": {},
     "output_type": "display_data"
    }
   ],
   "source": [
    "# визуализируем распределение событий по сделанной выше группировке:\n",
    "sns.set_style(\"whitegrid\")\n",
    "plt.figure(figsize = (10,5))\n",
    "sns.set_palette('Set2')\n",
    "sns.barplot(x=\"event_name\", y=\"event_qty\", hue=\"group\", data=data_event_01)\n",
    "\n",
    "plt.title('Частота событий по пользователю в группах', fontsize = 18)\n",
    "plt.xticks([0,1,2,3,4],['Вход\\nна сайт', 'Страница\\nпродукта', 'Покупка', 'Корзина','Только\\nрегистрация'],\n",
    "           rotation=0, fontsize=12)\n",
    "plt.xlabel(\"Событие\", fontsize = 14)\n",
    "plt.ylabel(\"Количество событий\", fontsize = 14)\n",
    "\n",
    "plt.show()"
   ]
  },
  {
   "cell_type": "markdown",
   "id": "1b337359",
   "metadata": {},
   "source": [
    "Здесь видно, что каждый пользователь совершал в среднем примерно одинаковое количество событий. "
   ]
  },
  {
   "cell_type": "code",
   "execution_count": 72,
   "id": "0dea8fc5",
   "metadata": {},
   "outputs": [
    {
     "data": {
      "text/html": [
       "<div>\n",
       "<style scoped>\n",
       "    .dataframe tbody tr th:only-of-type {\n",
       "        vertical-align: middle;\n",
       "    }\n",
       "\n",
       "    .dataframe tbody tr th {\n",
       "        vertical-align: top;\n",
       "    }\n",
       "\n",
       "    .dataframe thead th {\n",
       "        text-align: right;\n",
       "    }\n",
       "</style>\n",
       "<table border=\"1\" class=\"dataframe\">\n",
       "  <thead>\n",
       "    <tr style=\"text-align: right;\">\n",
       "      <th></th>\n",
       "      <th>group</th>\n",
       "      <th>event_name</th>\n",
       "      <th>user_qty</th>\n",
       "      <th>ratio,%</th>\n",
       "    </tr>\n",
       "  </thead>\n",
       "  <tbody>\n",
       "    <tr>\n",
       "      <th>0</th>\n",
       "      <td>A</td>\n",
       "      <td>login</td>\n",
       "      <td>2747</td>\n",
       "      <td>40.99</td>\n",
       "    </tr>\n",
       "    <tr>\n",
       "      <th>1</th>\n",
       "      <td>B</td>\n",
       "      <td>only_register</td>\n",
       "      <td>1949</td>\n",
       "      <td>29.09</td>\n",
       "    </tr>\n",
       "    <tr>\n",
       "      <th>2</th>\n",
       "      <td>A</td>\n",
       "      <td>product_page</td>\n",
       "      <td>1780</td>\n",
       "      <td>26.56</td>\n",
       "    </tr>\n",
       "    <tr>\n",
       "      <th>3</th>\n",
       "      <td>A</td>\n",
       "      <td>only_register</td>\n",
       "      <td>1077</td>\n",
       "      <td>16.07</td>\n",
       "    </tr>\n",
       "    <tr>\n",
       "      <th>4</th>\n",
       "      <td>B</td>\n",
       "      <td>login</td>\n",
       "      <td>927</td>\n",
       "      <td>13.83</td>\n",
       "    </tr>\n",
       "    <tr>\n",
       "      <th>5</th>\n",
       "      <td>A</td>\n",
       "      <td>purchase</td>\n",
       "      <td>872</td>\n",
       "      <td>13.01</td>\n",
       "    </tr>\n",
       "    <tr>\n",
       "      <th>6</th>\n",
       "      <td>A</td>\n",
       "      <td>product_cart</td>\n",
       "      <td>824</td>\n",
       "      <td>12.30</td>\n",
       "    </tr>\n",
       "    <tr>\n",
       "      <th>7</th>\n",
       "      <td>B</td>\n",
       "      <td>product_page</td>\n",
       "      <td>523</td>\n",
       "      <td>7.80</td>\n",
       "    </tr>\n",
       "    <tr>\n",
       "      <th>8</th>\n",
       "      <td>B</td>\n",
       "      <td>purchase</td>\n",
       "      <td>256</td>\n",
       "      <td>3.82</td>\n",
       "    </tr>\n",
       "    <tr>\n",
       "      <th>9</th>\n",
       "      <td>B</td>\n",
       "      <td>product_cart</td>\n",
       "      <td>255</td>\n",
       "      <td>3.81</td>\n",
       "    </tr>\n",
       "  </tbody>\n",
       "</table>\n",
       "</div>"
      ],
      "text/plain": [
       "  group     event_name  user_qty  ratio,%\n",
       "0     A          login      2747    40.99\n",
       "1     B  only_register      1949    29.09\n",
       "2     A   product_page      1780    26.56\n",
       "3     A  only_register      1077    16.07\n",
       "4     B          login       927    13.83\n",
       "5     A       purchase       872    13.01\n",
       "6     A   product_cart       824    12.30\n",
       "7     B   product_page       523     7.80\n",
       "8     B       purchase       256     3.82\n",
       "9     B   product_cart       255     3.81"
      ]
     },
     "execution_count": 72,
     "metadata": {},
     "output_type": "execute_result"
    }
   ],
   "source": [
    "# число пользователей, совершавших каждое событие:\n",
    "\n",
    "data_user = df_merged.groupby(['group','event_name'])['user_id'].nunique().sort_values(ascending=False).reset_index()\n",
    "data_user = data_user.rename(columns={'user_id':'user_qty'})\n",
    "\n",
    "# Посчитаем долю пользователей, которые хоть раз совершали событие.\n",
    "data_user['ratio,%'] = data_user['user_qty']*100/df_merged['user_id'].nunique()#data_user['user_qty'].sum()\n",
    "data_user"
   ]
  },
  {
   "cell_type": "code",
   "execution_count": 73,
   "id": "fc764474",
   "metadata": {},
   "outputs": [
    {
     "data": {
      "text/html": [
       "<div>\n",
       "<style scoped>\n",
       "    .dataframe tbody tr th:only-of-type {\n",
       "        vertical-align: middle;\n",
       "    }\n",
       "\n",
       "    .dataframe tbody tr th {\n",
       "        vertical-align: top;\n",
       "    }\n",
       "\n",
       "    .dataframe thead th {\n",
       "        text-align: right;\n",
       "    }\n",
       "</style>\n",
       "<table border=\"1\" class=\"dataframe\">\n",
       "  <thead>\n",
       "    <tr style=\"text-align: right;\">\n",
       "      <th></th>\n",
       "      <th>group</th>\n",
       "      <th>event_name</th>\n",
       "      <th>event_qty</th>\n",
       "      <th>user_qty</th>\n",
       "      <th>ratio,%</th>\n",
       "    </tr>\n",
       "  </thead>\n",
       "  <tbody>\n",
       "    <tr>\n",
       "      <th>0</th>\n",
       "      <td>A</td>\n",
       "      <td>login</td>\n",
       "      <td>8400</td>\n",
       "      <td>2747</td>\n",
       "      <td>40.99</td>\n",
       "    </tr>\n",
       "    <tr>\n",
       "      <th>1</th>\n",
       "      <td>A</td>\n",
       "      <td>product_page</td>\n",
       "      <td>5415</td>\n",
       "      <td>1780</td>\n",
       "      <td>26.56</td>\n",
       "    </tr>\n",
       "    <tr>\n",
       "      <th>2</th>\n",
       "      <td>A</td>\n",
       "      <td>purchase</td>\n",
       "      <td>2613</td>\n",
       "      <td>872</td>\n",
       "      <td>13.01</td>\n",
       "    </tr>\n",
       "    <tr>\n",
       "      <th>3</th>\n",
       "      <td>A</td>\n",
       "      <td>product_cart</td>\n",
       "      <td>2519</td>\n",
       "      <td>824</td>\n",
       "      <td>12.30</td>\n",
       "    </tr>\n",
       "    <tr>\n",
       "      <th>4</th>\n",
       "      <td>B</td>\n",
       "      <td>login</td>\n",
       "      <td>2493</td>\n",
       "      <td>927</td>\n",
       "      <td>13.83</td>\n",
       "    </tr>\n",
       "    <tr>\n",
       "      <th>6</th>\n",
       "      <td>B</td>\n",
       "      <td>product_page</td>\n",
       "      <td>1331</td>\n",
       "      <td>523</td>\n",
       "      <td>7.80</td>\n",
       "    </tr>\n",
       "    <tr>\n",
       "      <th>8</th>\n",
       "      <td>B</td>\n",
       "      <td>product_cart</td>\n",
       "      <td>659</td>\n",
       "      <td>255</td>\n",
       "      <td>3.81</td>\n",
       "    </tr>\n",
       "    <tr>\n",
       "      <th>9</th>\n",
       "      <td>B</td>\n",
       "      <td>purchase</td>\n",
       "      <td>640</td>\n",
       "      <td>256</td>\n",
       "      <td>3.82</td>\n",
       "    </tr>\n",
       "  </tbody>\n",
       "</table>\n",
       "</div>"
      ],
      "text/plain": [
       "  group    event_name  event_qty  user_qty  ratio,%\n",
       "0     A         login       8400      2747    40.99\n",
       "1     A  product_page       5415      1780    26.56\n",
       "2     A      purchase       2613       872    13.01\n",
       "3     A  product_cart       2519       824    12.30\n",
       "4     B         login       2493       927    13.83\n",
       "6     B  product_page       1331       523     7.80\n",
       "8     B  product_cart        659       255     3.81\n",
       "9     B      purchase        640       256     3.82"
      ]
     },
     "execution_count": 73,
     "metadata": {},
     "output_type": "execute_result"
    }
   ],
   "source": [
    "# объединим таблицы с количестом событий и количеством пользователей, которые совершали эти события:\n",
    "\n",
    "data_event_user = data_event.merge(data_user, on=['event_name','group'], how = 'left').sort_values(by='group')\n",
    "data_event_user.query('event_name!=\"only_register\"')"
   ]
  },
  {
   "cell_type": "markdown",
   "id": "a3c522d0",
   "metadata": {},
   "source": [
    "По цифрам выстраивается такая последовательность событий: \n",
    "- в группе А : login --> product_page --> purchase --> product_cart,\n",
    "- в группе В : login --> product_page --> product_cart --> purchase,\n",
    "\n",
    "\n",
    "Продуктовая корзина в Группе А выглядит как-будто лишней. Похоже, что товары в ней лежат и не переходят в статус purchase. А если вспомнить, что на этапе исследовательского анализа в поле detail напротив product_cart стояли пустые значения, то это так и есть. Таким образом, покупка может говорить о том, что пользователи не читают описание товара, не выбирают, а четко знают что они хотят и переходят сразу к моментальной покупке. Также наличие статуса product_cart может говорить о том, что большинство пользователей просматривают корзину перед покупкой, т.е. не пользуются бытрой оплатой. \n",
    "\n",
    "В группе В пользователи последовательно изучают товар, отправляют его в корзину и совершают покупки.\n",
    "\n",
    "Построим конверсионную воронку:"
   ]
  },
  {
   "cell_type": "code",
   "execution_count": 92,
   "id": "89b33c0f",
   "metadata": {},
   "outputs": [],
   "source": [
    "fig = go.Figure()\n",
    "\n",
    "fig.add_trace(go.Funnel(\n",
    "    name = 'group B',\n",
    "    y = data_event_user.query('group==\"B\" & event_name!=\"only_register\"')['event_name'],\n",
    "    x = data_event_user.query('group==\"B\" & event_name!=\"only_register\"')['user_qty'],\n",
    "    textinfo = \"value+percent initial\",\n",
    "#     textposition = \"outside\",\n",
    "    hoverinfo=\"percent initial+percent previous\"))\n",
    "\n",
    "fig.add_trace(go.Funnel(\n",
    "    name = 'group A',\n",
    "    y = data_event_user.query('group==\"A\" & event_name!=\"only_register\"')['event_name'],\n",
    "    x = data_event_user.query('group==\"A\" & event_name!=\"only_register\"')['user_qty'],\n",
    "    textinfo = \"value+percent initial\",\n",
    "    hoverinfo=\"percent initial+percent previous\"))\n",
    "fig.update_layout(\n",
    "    title={\n",
    "        'text': \"Воронка событий\",\n",
    "        'y':0.9,\n",
    "        'x':0.5,\n",
    "        'xanchor': 'center',\n",
    "        'yanchor': 'top'},\n",
    "   )\n",
    "fig.show()"
   ]
  },
  {
   "attachments": {
    "image.png": {
     "image/png": "[encoded data removed]"
    }
   },
   "cell_type": "markdown",
   "id": "46e9b08b",
   "metadata": {},
   "source": [
    "![image.png](attachment:image.png)"
   ]
  },
  {
   "cell_type": "markdown",
   "id": "85f8988a",
   "metadata": {},
   "source": [
    "**Вывод**\n",
    "\n",
    "`ГРУППА А`:\n",
    "65% пользователей переходит на экран с предложением/продуктом, из них 49% совершают покупку, при этом 30% пользователей добавляют товары в корзину. Наибольшее число пользователей, порядка 70% от всего числа, теряется после перехода с главного экрана к покупке и при добавлении в корзину. В целом 32% пользователей от общего числа совершают покупку. \n",
    "    \n",
    "`ГРУППА B`: \n",
    "56% пользователей переходит на экран с предложением/продуктом, из них 52% добавляют продукт в корзину и практически все пользователи, кто добавил в корзину совершают покупку - 95% покупок тз корзины. Примерно одинаковое число пользователей, порядка 50%, теряется после перехода с главного экрана к предложению и от предложения к корзине. Только 27% пользователей от всего количества совершает покупку.\n",
    "\n",
    "Конверсия группы В в процентном соотношении выглядит хуже группы А.\n",
    "\n",
    "Можно предположить, что:\n",
    "- продукт на этапах просмотра главной страницы не совсем удобен в использовании, непонятен интерфейс приложения;\n",
    "- продукт на этапе просмотра в корзине разочаровал пользователя по разным причинам. Пользователь мог сравнить его с другими предложениями в магазинах и либо характеристики, либо цена его не устроили, поэтому покупка не произошла.\n"
   ]
  },
  {
   "cell_type": "markdown",
   "id": "e3659bde",
   "metadata": {},
   "source": [
    "## Оценка результатов A/B-тестирования"
   ]
  },
  {
   "cell_type": "markdown",
   "id": "b970acfb",
   "metadata": {},
   "source": [
    "Проверим статистическую разницу долей z-критерием. За **нулевую гипотезу H0** примем утверждение, что  пропорции покупок в долях А и В равны.\n",
    "\n",
    "**Альтернативная гипотеза**: пропорции покупок в долях А и В  не равны."
   ]
  },
  {
   "cell_type": "code",
   "execution_count": 75,
   "id": "8d87dc84",
   "metadata": {},
   "outputs": [
    {
     "data": {
      "text/html": [
       "<div>\n",
       "<style scoped>\n",
       "    .dataframe tbody tr th:only-of-type {\n",
       "        vertical-align: middle;\n",
       "    }\n",
       "\n",
       "    .dataframe tbody tr th {\n",
       "        vertical-align: top;\n",
       "    }\n",
       "\n",
       "    .dataframe thead th {\n",
       "        text-align: right;\n",
       "    }\n",
       "</style>\n",
       "<table border=\"1\" class=\"dataframe\">\n",
       "  <thead>\n",
       "    <tr style=\"text-align: right;\">\n",
       "      <th>group</th>\n",
       "      <th>A</th>\n",
       "      <th>B</th>\n",
       "    </tr>\n",
       "    <tr>\n",
       "      <th>event_name</th>\n",
       "      <th></th>\n",
       "      <th></th>\n",
       "    </tr>\n",
       "  </thead>\n",
       "  <tbody>\n",
       "    <tr>\n",
       "      <th>login</th>\n",
       "      <td>2747</td>\n",
       "      <td>927</td>\n",
       "    </tr>\n",
       "    <tr>\n",
       "      <th>only_register</th>\n",
       "      <td>1077</td>\n",
       "      <td>1949</td>\n",
       "    </tr>\n",
       "    <tr>\n",
       "      <th>product_cart</th>\n",
       "      <td>824</td>\n",
       "      <td>255</td>\n",
       "    </tr>\n",
       "    <tr>\n",
       "      <th>product_page</th>\n",
       "      <td>1780</td>\n",
       "      <td>523</td>\n",
       "    </tr>\n",
       "    <tr>\n",
       "      <th>purchase</th>\n",
       "      <td>872</td>\n",
       "      <td>256</td>\n",
       "    </tr>\n",
       "  </tbody>\n",
       "</table>\n",
       "</div>"
      ],
      "text/plain": [
       "group             A     B\n",
       "event_name               \n",
       "login          2747   927\n",
       "only_register  1077  1949\n",
       "product_cart    824   255\n",
       "product_page   1780   523\n",
       "purchase        872   256"
      ]
     },
     "execution_count": 75,
     "metadata": {},
     "output_type": "execute_result"
    }
   ],
   "source": [
    "df_merged.pivot_table(index='event_name', columns='group', values='user_id', aggfunc='nunique')"
   ]
  },
  {
   "cell_type": "code",
   "execution_count": 76,
   "id": "0b303440",
   "metadata": {},
   "outputs": [],
   "source": [
    "# подготовим выборки для теста по событию purchase\n",
    "# посчитаем количество покупок в каждой группе\n",
    "purchases_a = df_merged.query('group==\"A\" & event_name==\"purchase\"')['user_id'].nunique()\n",
    "purchases_b = df_merged.query('group==\"B\" & event_name==\"purchase\"')['user_id'].nunique()\n",
    "\n",
    "# посчитаем количество уникальных пользователей в каждой группе\n",
    "leads_a = df_merged.query('group==\"A\"')['user_id'].nunique()\n",
    "leads_b = df_merged.query('group==\"B\"')['user_id'].nunique()"
   ]
  },
  {
   "cell_type": "code",
   "execution_count": 77,
   "id": "982eff11",
   "metadata": {},
   "outputs": [
    {
     "name": "stdout",
     "output_type": "stream",
     "text": [
      "p-значение:  0.0\n",
      "Отвергаем нулевую гипотезу: между долями есть значимая разница\n"
     ]
    }
   ],
   "source": [
    "alpha = 0.05  # критический уровень статистической значимости\n",
    "\n",
    "p1 = purchases_a/leads_a\n",
    "p2 = purchases_b/leads_b\n",
    "p_combined = (purchases_a + purchases_b) / (leads_a + leads_b)\n",
    "# print('p_combined:', p_combined)\n",
    "difference = p1 - p2 \n",
    "# print('difference:', difference)\n",
    "# print('mth.sqrt(p_combined):', mth.sqrt(p_combined))\n",
    "# print('(1 - p_combined):', (1 - p_combined))\n",
    "# print('(1/leads_a + 1/leads_b):', (1/leads_a + 1/leads_b))\n",
    "# print('(p_combined * (1 - p_combined) * (1/leads_a + 1/leads_b)):', (p_combined * (1 - p_combined) * (1/leads_a + 1/leads_b)))\n",
    "z_value = difference / mth.sqrt(p_combined * abs(1 - p_combined) * (1/leads_a + 1/leads_b)) # ваш код\n",
    "distr = st.norm(0, 1) \n",
    "p_value = (1 - distr.cdf(abs(z_value))) * 2 # ваш код\n",
    "print('p-значение: ', p_value)\n",
    "if p_value < alpha: # ваш код\n",
    "   print('Отвергаем нулевую гипотезу: между долями есть значимая разница')\n",
    "else:\n",
    "   print(\n",
    "       'Не получилось отвергнуть нулевую гипотезу, нет оснований считать доли разными'\n",
    "   )\n"
   ]
  },
  {
   "cell_type": "code",
   "execution_count": 78,
   "id": "b6ed2a15",
   "metadata": {},
   "outputs": [
    {
     "name": "stdout",
     "output_type": "stream",
     "text": [
      "Средние значения покупок в гр.А: 23.225744355147345\n",
      "Средние значения покупок в гр.В: 23.216562500000002\n"
     ]
    }
   ],
   "source": [
    "print('Средние значения покупок в гр.А:', df_merged.query('group==\"A\" & details!=0')['details'].mean()) \n",
    "print('Средние значения покупок в гр.В:', df_merged.query('group==\"B\" & details!=0')['details'].mean())"
   ]
  },
  {
   "cell_type": "markdown",
   "id": "ac2d8213",
   "metadata": {},
   "source": [
    "Мы увидели, что между долями есть существенная разница. В этом случае следует остановить тест. В группе А пользователи совершили покупок в среднем на большую сумму."
   ]
  },
  {
   "cell_type": "code",
   "execution_count": 79,
   "id": "922579d1",
   "metadata": {},
   "outputs": [],
   "source": [
    "# подготовим выборки для тест а по событию login\n",
    "# посчитаем количество Регистраций в каждой группе\n",
    "purchases_a_login = df_merged.query('group==\"A\" & event_name == \"login\"')['user_id'].nunique()\n",
    "purchases_b_login = df_merged.query('group==\"B\" & event_name == \"login\"')['user_id'].nunique()"
   ]
  },
  {
   "cell_type": "code",
   "execution_count": 80,
   "id": "f8ce6fb2",
   "metadata": {},
   "outputs": [
    {
     "name": "stdout",
     "output_type": "stream",
     "text": [
      "p-значение:  0.0\n",
      "Отвергаем нулевую гипотезу: между долями есть значимая разница\n"
     ]
    }
   ],
   "source": [
    "p1_login = purchases_a_login/leads_a\n",
    "p2_login = purchases_b_login/leads_b\n",
    "p_combined_login = (purchases_a_login + purchases_b_login) / (leads_a + leads_b)\n",
    "\n",
    "difference_login = p1_login - p2_login\n",
    "\n",
    "z_value_login = difference_login / mth.sqrt(p_combined_login * abs(1 - p_combined_login) * (1/leads_a + 1/leads_b))\n",
    "distr = st.norm(0, 1) \n",
    "p_value_login = (1 - distr.cdf(abs(z_value_login))) * 2 \n",
    "print('p-значение: ', p_value_login)\n",
    "if p_value_login < alpha: # ваш код\n",
    "   print('Отвергаем нулевую гипотезу: между долями есть значимая разница')\n",
    "else:\n",
    "   print(\n",
    "       'Не получилось отвергнуть нулевую гипотезу, нет оснований считать доли разными'\n",
    "   )\n"
   ]
  },
  {
   "cell_type": "code",
   "execution_count": 81,
   "id": "a8c89723",
   "metadata": {},
   "outputs": [],
   "source": [
    "# подготовим выборки для тест а по событию product_page\n",
    "# посчитаем количество Регистраций в каждой группе\n",
    "purchases_a_pp = df_merged.query('group==\"A\" & event_name == \"product_page\"')['user_id'].nunique()\n",
    "purchases_b_pp = df_merged.query('group==\"B\" & event_name == \"product_page\"')['user_id'].nunique()\n"
   ]
  },
  {
   "cell_type": "code",
   "execution_count": 82,
   "id": "13dbb87e",
   "metadata": {},
   "outputs": [
    {
     "name": "stdout",
     "output_type": "stream",
     "text": [
      "p-значение:  0.0\n",
      "Отвергаем нулевую гипотезу: между долями есть значимая разница\n"
     ]
    }
   ],
   "source": [
    "p1_pp = purchases_a_pp/leads_a\n",
    "p2_pp = purchases_b_pp/leads_b\n",
    "p_combined_pp = (purchases_a_pp + purchases_b_pp) / (leads_a + leads_b)\n",
    "\n",
    "difference_pp = p1_pp - p2_pp\n",
    "\n",
    "z_value_pp = difference_pp / mth.sqrt(p_combined_pp * abs(1 - p_combined_pp) * (1/leads_a + 1/leads_b))\n",
    "distr = st.norm(0, 1) \n",
    "p_value_pp = (1 - distr.cdf(abs(z_value_pp))) * 2 \n",
    "print('p-значение: ', p_value_pp)\n",
    "if p_value_pp < alpha: # ваш код\n",
    "   print('Отвергаем нулевую гипотезу: между долями есть значимая разница')\n",
    "else:\n",
    "   print(\n",
    "       'Не получилось отвергнуть нулевую гипотезу, нет оснований считать доли разными'\n",
    "   )"
   ]
  },
  {
   "cell_type": "code",
   "execution_count": 83,
   "id": "e86bf481",
   "metadata": {},
   "outputs": [],
   "source": [
    "# подготовим выборки для тест а по событию product_cart\n",
    "# посчитаем количество Регистраций в каждой группе\n",
    "purchases_a_pc = df_merged.query('group==\"A\" & event_name == \"product_cart\"')['user_id'].nunique()\n",
    "purchases_b_pc = df_merged.query('group==\"B\" & event_name == \"product_cart\"')['user_id'].nunique()"
   ]
  },
  {
   "cell_type": "code",
   "execution_count": 84,
   "id": "37eb1e71",
   "metadata": {},
   "outputs": [
    {
     "name": "stdout",
     "output_type": "stream",
     "text": [
      "p-значение:  0.0\n",
      "Отвергаем нулевую гипотезу: между долями есть значимая разница\n"
     ]
    }
   ],
   "source": [
    "p1_pc = purchases_a_pc/leads_a\n",
    "p2_pc = purchases_b_pc/leads_b\n",
    "p_combined_pc = (purchases_a_pc + purchases_b_pc) / (leads_a + leads_b)\n",
    "\n",
    "difference_pc = p1_pc - p2_pc\n",
    "\n",
    "z_value_pc = difference_pc / mth.sqrt(p_combined_pc * abs(1 - p_combined_pc) * (1/leads_a + 1/leads_b))\n",
    "distr = st.norm(0, 1) \n",
    "p_value_pc = (1 - distr.cdf(abs(z_value_pc))) * 2 \n",
    "print('p-значение: ', p_value_pc)\n",
    "if p_value_pc< alpha: # ваш код\n",
    "   print('Отвергаем нулевую гипотезу: между долями есть значимая разница')\n",
    "else:\n",
    "   print(\n",
    "       'Не получилось отвергнуть нулевую гипотезу, нет оснований считать доли разными'\n",
    "   )"
   ]
  },
  {
   "cell_type": "markdown",
   "id": "1060a8d1",
   "metadata": {},
   "source": [
    "Итак, по всем событиям между долями есть значимая разница. \n",
    "\n",
    "Выведем результаты расчета конверсий по всем событиям:"
   ]
  },
  {
   "cell_type": "code",
   "execution_count": 85,
   "id": "17a1c519",
   "metadata": {},
   "outputs": [
    {
     "name": "stdout",
     "output_type": "stream",
     "text": [
      "Конверсия А: 22.8%\n",
      "Конверсия B: 8.9%\n"
     ]
    }
   ],
   "source": [
    "# выведем результаты расчета конверсии по событию purchase\n",
    "print(f\"Конверсия А: {p1:.1%}\")\n",
    "print(f\"Конверсия B: {p2:.1%}\")"
   ]
  },
  {
   "cell_type": "code",
   "execution_count": 86,
   "id": "b2562c4a",
   "metadata": {},
   "outputs": [
    {
     "name": "stdout",
     "output_type": "stream",
     "text": [
      "Конверсия А: 71.8%\n",
      "Конверсия B: 32.2%\n"
     ]
    }
   ],
   "source": [
    "# выведем результаты расчета конверсии по событию login\n",
    "print(f\"Конверсия А: {p1_login:.1%}\")\n",
    "print(f\"Конверсия B: {p2_login:.1%}\")"
   ]
  },
  {
   "cell_type": "code",
   "execution_count": 87,
   "id": "423729a1",
   "metadata": {},
   "outputs": [
    {
     "name": "stdout",
     "output_type": "stream",
     "text": [
      "Конверсия А: 46.5%\n",
      "Конверсия B: 18.2%\n"
     ]
    }
   ],
   "source": [
    "# выведем результаты расчета конверсии по событию product_page\n",
    "print(f\"Конверсия А: {p1_pp:.1%}\")\n",
    "print(f\"Конверсия B: {p2_pp:.1%}\")"
   ]
  },
  {
   "cell_type": "code",
   "execution_count": 88,
   "id": "7f604dc1",
   "metadata": {},
   "outputs": [
    {
     "name": "stdout",
     "output_type": "stream",
     "text": [
      "Конверсия А: 21.5%\n",
      "Конверсия B: 8.9%\n"
     ]
    }
   ],
   "source": [
    "# выведем результаты расчета конверсии по событию product_cart\n",
    "print(f\"Конверсия А: {p1_pc:.1%}\")\n",
    "print(f\"Конверсия B: {p2_pc:.1%}\")"
   ]
  },
  {
   "cell_type": "markdown",
   "id": "3762b2b9",
   "metadata": {},
   "source": [
    "По всем событиям конверсия в группе В хуже конверсии в группа А."
   ]
  },
  {
   "cell_type": "markdown",
   "id": "2f05f130",
   "metadata": {},
   "source": [
    "## Выводы. "
   ]
  },
  {
   "cell_type": "markdown",
   "id": "1c3cdab0",
   "metadata": {},
   "source": [
    "Подведем итоги анализа:\n",
    "- Даты проведения корректны, за исключением отсутствующих данных с 30 декабря - причин мы не знаем, только предполагаем\n",
    "- пересечение с маркетинговыми событиями, по нашим предположениям не должно влиять, но факт есть\n",
    "- пересечение с конкурирующим тестом - должен оказывать одинаковое влияние, но прикорректном проектировании теста пересечений не должно быть\n",
    "- аудитория - есть и другие кроме EU, но доля действительно корректная для EU\n",
    "- поведение графика по кол-ву событий по времени явно некорректное - графики между группами отличаются по форме\n",
    "- распределение входящего трафика (участники) между группами отличается от 50\\50 - это значит, что мы хоть и набрали общее нужное кол-во, но для одной из групп не достаточно для подтверждения нужных различий (10%)\n",
    "    \n",
    "Проверки гипотез показали, что есть значимые различия между группами, если посмотреть на сами значения, в частности на конверсию по событию purchase: для грА - 23%, грВ - 9%. Результат группы В намного хуже.\n",
    "    \n",
    "Таким образом, делаем вывод:\n",
    "- тест запущен и проведен с нарушениями\n",
    "- результаты грВ статистически хуже чем результаты грА (что на самом деле к этому привело: или некорректность теста или действительно новая рекомендательная система - понять невозможно, можно только предполагать)\n",
    "    \n",
    "Учитывая все выше сказанное, и в случае важности внедрения новой рекомомендательной системы, следует спроектировать новый корректный тест."
   ]
  }
 ],
 "metadata": {
  "ExecuteTimeLog": [
   {
    "duration": 1309,
    "start_time": "2022-04-20T08:49:04.103Z"
   },
   {
    "duration": 575,
    "start_time": "2022-04-20T08:49:05.415Z"
   },
   {
    "duration": 3,
    "start_time": "2022-04-20T08:49:05.991Z"
   },
   {
    "duration": 40,
    "start_time": "2022-04-20T08:49:05.996Z"
   },
   {
    "duration": 119,
    "start_time": "2022-04-20T08:49:06.038Z"
   },
   {
    "duration": 339,
    "start_time": "2022-04-20T08:49:06.159Z"
   },
   {
    "duration": 53,
    "start_time": "2022-04-20T08:49:06.499Z"
   },
   {
    "duration": 10,
    "start_time": "2022-04-20T08:49:06.554Z"
   },
   {
    "duration": 25,
    "start_time": "2022-04-20T08:49:06.566Z"
   },
   {
    "duration": 153,
    "start_time": "2022-04-20T08:49:06.593Z"
   },
   {
    "duration": 4,
    "start_time": "2022-04-20T08:49:06.748Z"
   },
   {
    "duration": 33,
    "start_time": "2022-04-20T08:49:06.754Z"
   },
   {
    "duration": 67,
    "start_time": "2022-04-20T08:49:06.788Z"
   },
   {
    "duration": 24,
    "start_time": "2022-04-20T08:49:06.857Z"
   },
   {
    "duration": 21,
    "start_time": "2022-04-20T08:49:06.882Z"
   },
   {
    "duration": 24,
    "start_time": "2022-04-20T08:49:06.904Z"
   },
   {
    "duration": 6,
    "start_time": "2022-04-20T08:49:06.930Z"
   },
   {
    "duration": 6,
    "start_time": "2022-04-20T08:49:06.937Z"
   },
   {
    "duration": 8,
    "start_time": "2022-04-20T08:49:06.945Z"
   },
   {
    "duration": 76,
    "start_time": "2022-04-20T08:49:06.954Z"
   },
   {
    "duration": 134,
    "start_time": "2022-04-20T08:49:07.031Z"
   },
   {
    "duration": 65,
    "start_time": "2022-04-20T08:49:07.167Z"
   },
   {
    "duration": 49,
    "start_time": "2022-04-20T08:49:07.234Z"
   },
   {
    "duration": 99,
    "start_time": "2022-04-20T08:49:07.284Z"
   },
   {
    "duration": 11,
    "start_time": "2022-04-20T08:49:07.384Z"
   },
   {
    "duration": 39,
    "start_time": "2022-04-20T08:49:07.396Z"
   },
   {
    "duration": 24,
    "start_time": "2022-04-20T08:49:07.437Z"
   },
   {
    "duration": 21,
    "start_time": "2022-04-20T08:49:07.466Z"
   },
   {
    "duration": 37,
    "start_time": "2022-04-20T08:49:07.488Z"
   },
   {
    "duration": 6,
    "start_time": "2022-04-20T08:49:07.527Z"
   },
   {
    "duration": 10,
    "start_time": "2022-04-20T08:49:07.535Z"
   },
   {
    "duration": 13,
    "start_time": "2022-04-20T08:49:07.546Z"
   },
   {
    "duration": 19,
    "start_time": "2022-04-20T08:49:07.560Z"
   },
   {
    "duration": 6,
    "start_time": "2022-04-20T08:49:07.581Z"
   },
   {
    "duration": 53,
    "start_time": "2022-04-20T08:49:07.589Z"
   },
   {
    "duration": 236,
    "start_time": "2022-04-20T08:49:07.643Z"
   },
   {
    "duration": 42,
    "start_time": "2022-04-20T08:49:07.880Z"
   },
   {
    "duration": 124,
    "start_time": "2022-04-20T08:49:07.924Z"
   },
   {
    "duration": 173,
    "start_time": "2022-04-20T08:49:08.050Z"
   },
   {
    "duration": 198,
    "start_time": "2022-04-20T08:49:08.225Z"
   },
   {
    "duration": 84,
    "start_time": "2022-04-20T08:49:08.424Z"
   },
   {
    "duration": 46,
    "start_time": "2022-04-20T08:49:08.509Z"
   },
   {
    "duration": 11,
    "start_time": "2022-04-20T08:49:08.557Z"
   },
   {
    "duration": 239,
    "start_time": "2022-04-20T08:49:08.570Z"
   },
   {
    "duration": 202,
    "start_time": "2022-04-20T08:49:08.810Z"
   },
   {
    "duration": 39,
    "start_time": "2022-04-20T08:49:09.014Z"
   },
   {
    "duration": 8,
    "start_time": "2022-04-20T08:49:09.054Z"
   },
   {
    "duration": 16,
    "start_time": "2022-04-20T08:49:09.063Z"
   },
   {
    "duration": 91,
    "start_time": "2022-04-20T08:49:09.080Z"
   },
   {
    "duration": 157,
    "start_time": "2022-04-20T08:49:09.173Z"
   },
   {
    "duration": 102,
    "start_time": "2022-04-20T08:49:09.332Z"
   },
   {
    "duration": 6,
    "start_time": "2022-04-20T08:49:09.435Z"
   },
   {
    "duration": 103,
    "start_time": "2022-04-20T08:49:09.443Z"
   },
   {
    "duration": 6,
    "start_time": "2022-04-20T08:49:09.547Z"
   },
   {
    "duration": 549,
    "start_time": "2022-04-20T08:49:09.555Z"
   },
   {
    "duration": 47,
    "start_time": "2022-04-20T08:49:10.106Z"
   },
   {
    "duration": 7,
    "start_time": "2022-04-20T08:49:10.155Z"
   },
   {
    "duration": 1388,
    "start_time": "2022-04-20T08:49:10.164Z"
   },
   {
    "duration": 40,
    "start_time": "2022-04-20T08:49:11.554Z"
   },
   {
    "duration": 34,
    "start_time": "2022-04-20T08:49:11.596Z"
   },
   {
    "duration": 8,
    "start_time": "2022-04-20T08:49:11.631Z"
   },
   {
    "duration": 11,
    "start_time": "2022-04-20T08:49:11.640Z"
   },
   {
    "duration": 12,
    "start_time": "2022-04-20T08:49:11.653Z"
   },
   {
    "duration": 15,
    "start_time": "2022-04-20T08:49:11.666Z"
   },
   {
    "duration": 44,
    "start_time": "2022-04-20T08:49:11.683Z"
   },
   {
    "duration": 15,
    "start_time": "2022-04-20T08:49:11.729Z"
   },
   {
    "duration": 18,
    "start_time": "2022-04-20T08:49:11.746Z"
   },
   {
    "duration": 201,
    "start_time": "2022-04-20T08:49:11.766Z"
   },
   {
    "duration": 66,
    "start_time": "2022-04-20T08:49:11.968Z"
   },
   {
    "duration": 352,
    "start_time": "2022-04-20T08:49:12.036Z"
   },
   {
    "duration": 2,
    "start_time": "2022-04-20T08:49:12.390Z"
   },
   {
    "duration": 39,
    "start_time": "2022-04-20T08:49:12.393Z"
   },
   {
    "duration": 11,
    "start_time": "2022-04-20T08:49:12.433Z"
   },
   {
    "duration": 63,
    "start_time": "2022-04-20T08:49:12.446Z"
   },
   {
    "duration": 2,
    "start_time": "2022-04-20T08:49:12.511Z"
   },
   {
    "duration": 35,
    "start_time": "2022-04-20T08:49:12.514Z"
   },
   {
    "duration": 6,
    "start_time": "2022-04-20T08:49:12.550Z"
   },
   {
    "duration": 37,
    "start_time": "2022-04-20T08:49:12.558Z"
   },
   {
    "duration": 1288,
    "start_time": "2022-04-20T08:56:54.610Z"
   },
   {
    "duration": 538,
    "start_time": "2022-04-20T08:56:55.900Z"
   },
   {
    "duration": 3,
    "start_time": "2022-04-20T08:56:56.440Z"
   },
   {
    "duration": 49,
    "start_time": "2022-04-20T08:56:56.445Z"
   },
   {
    "duration": 133,
    "start_time": "2022-04-20T08:56:56.496Z"
   },
   {
    "duration": 353,
    "start_time": "2022-04-20T08:56:56.631Z"
   },
   {
    "duration": 54,
    "start_time": "2022-04-20T08:56:56.986Z"
   },
   {
    "duration": 11,
    "start_time": "2022-04-20T08:56:57.041Z"
   },
   {
    "duration": 28,
    "start_time": "2022-04-20T08:56:57.054Z"
   },
   {
    "duration": 147,
    "start_time": "2022-04-20T08:56:57.084Z"
   },
   {
    "duration": 4,
    "start_time": "2022-04-20T08:56:57.233Z"
   },
   {
    "duration": 30,
    "start_time": "2022-04-20T08:56:57.239Z"
   },
   {
    "duration": 66,
    "start_time": "2022-04-20T08:56:57.270Z"
   },
   {
    "duration": 24,
    "start_time": "2022-04-20T08:56:57.338Z"
   },
   {
    "duration": 21,
    "start_time": "2022-04-20T08:56:57.364Z"
   },
   {
    "duration": 38,
    "start_time": "2022-04-20T08:56:57.387Z"
   },
   {
    "duration": 7,
    "start_time": "2022-04-20T08:56:57.427Z"
   },
   {
    "duration": 7,
    "start_time": "2022-04-20T08:56:57.436Z"
   },
   {
    "duration": 9,
    "start_time": "2022-04-20T08:56:57.444Z"
   },
   {
    "duration": 80,
    "start_time": "2022-04-20T08:56:57.455Z"
   },
   {
    "duration": 124,
    "start_time": "2022-04-20T08:56:57.536Z"
   },
   {
    "duration": 63,
    "start_time": "2022-04-20T08:56:57.662Z"
   },
   {
    "duration": 45,
    "start_time": "2022-04-20T08:56:57.727Z"
   },
   {
    "duration": 94,
    "start_time": "2022-04-20T08:56:57.774Z"
   },
   {
    "duration": 10,
    "start_time": "2022-04-20T08:56:57.869Z"
   },
   {
    "duration": 26,
    "start_time": "2022-04-20T08:56:57.880Z"
   },
   {
    "duration": 22,
    "start_time": "2022-04-20T08:56:57.922Z"
   },
   {
    "duration": 20,
    "start_time": "2022-04-20T08:56:57.948Z"
   },
   {
    "duration": 8,
    "start_time": "2022-04-20T08:56:57.969Z"
   },
   {
    "duration": 7,
    "start_time": "2022-04-20T08:56:57.979Z"
   },
   {
    "duration": 10,
    "start_time": "2022-04-20T08:56:58.023Z"
   },
   {
    "duration": 13,
    "start_time": "2022-04-20T08:56:58.035Z"
   },
   {
    "duration": 17,
    "start_time": "2022-04-20T08:56:58.049Z"
   },
   {
    "duration": 7,
    "start_time": "2022-04-20T08:56:58.067Z"
   },
   {
    "duration": 52,
    "start_time": "2022-04-20T08:56:58.075Z"
   },
   {
    "duration": 210,
    "start_time": "2022-04-20T08:56:58.129Z"
   },
   {
    "duration": 20,
    "start_time": "2022-04-20T08:56:58.341Z"
   },
   {
    "duration": 161,
    "start_time": "2022-04-20T08:56:58.362Z"
   },
   {
    "duration": 166,
    "start_time": "2022-04-20T08:56:58.525Z"
   },
   {
    "duration": 204,
    "start_time": "2022-04-20T08:56:58.693Z"
   },
   {
    "duration": 97,
    "start_time": "2022-04-20T08:56:58.899Z"
   },
   {
    "duration": 48,
    "start_time": "2022-04-20T08:56:58.997Z"
   },
   {
    "duration": 12,
    "start_time": "2022-04-20T08:56:59.047Z"
   },
   {
    "duration": 220,
    "start_time": "2022-04-20T08:56:59.060Z"
   },
   {
    "duration": 203,
    "start_time": "2022-04-20T08:56:59.281Z"
   },
   {
    "duration": 42,
    "start_time": "2022-04-20T08:56:59.485Z"
   },
   {
    "duration": 8,
    "start_time": "2022-04-20T08:56:59.529Z"
   },
   {
    "duration": 17,
    "start_time": "2022-04-20T08:56:59.539Z"
   },
   {
    "duration": 100,
    "start_time": "2022-04-20T08:56:59.557Z"
   },
   {
    "duration": 154,
    "start_time": "2022-04-20T08:56:59.659Z"
   },
   {
    "duration": 92,
    "start_time": "2022-04-20T08:56:59.815Z"
   },
   {
    "duration": 16,
    "start_time": "2022-04-20T08:56:59.909Z"
   },
   {
    "duration": 106,
    "start_time": "2022-04-20T08:56:59.926Z"
   },
   {
    "duration": 6,
    "start_time": "2022-04-20T08:57:00.034Z"
   },
   {
    "duration": 522,
    "start_time": "2022-04-20T08:57:00.041Z"
   },
   {
    "duration": 27,
    "start_time": "2022-04-20T08:57:00.564Z"
   },
   {
    "duration": 6,
    "start_time": "2022-04-20T08:57:00.592Z"
   },
   {
    "duration": 972,
    "start_time": "2022-04-20T08:57:00.623Z"
   },
   {
    "duration": 53,
    "start_time": "2022-04-20T08:57:01.597Z"
   },
   {
    "duration": 20,
    "start_time": "2022-04-20T08:57:01.651Z"
   },
   {
    "duration": 8,
    "start_time": "2022-04-20T08:57:01.673Z"
   },
   {
    "duration": 19,
    "start_time": "2022-04-20T08:57:01.683Z"
   },
   {
    "duration": 29,
    "start_time": "2022-04-20T08:57:01.703Z"
   },
   {
    "duration": 15,
    "start_time": "2022-04-20T08:57:01.734Z"
   },
   {
    "duration": 16,
    "start_time": "2022-04-20T08:57:01.751Z"
   },
   {
    "duration": 15,
    "start_time": "2022-04-20T08:57:01.768Z"
   },
   {
    "duration": 47,
    "start_time": "2022-04-20T08:57:01.785Z"
   },
   {
    "duration": 189,
    "start_time": "2022-04-20T08:57:01.834Z"
   },
   {
    "duration": 57,
    "start_time": "2022-04-20T08:57:02.025Z"
   },
   {
    "duration": 357,
    "start_time": "2022-04-20T08:57:02.084Z"
   },
   {
    "duration": 2,
    "start_time": "2022-04-20T08:57:02.442Z"
   },
   {
    "duration": 28,
    "start_time": "2022-04-20T08:57:02.446Z"
   },
   {
    "duration": 11,
    "start_time": "2022-04-20T08:57:02.476Z"
   },
   {
    "duration": 46,
    "start_time": "2022-04-20T08:57:02.489Z"
   },
   {
    "duration": 3,
    "start_time": "2022-04-20T08:57:02.537Z"
   },
   {
    "duration": 20,
    "start_time": "2022-04-20T08:57:02.542Z"
   },
   {
    "duration": 6,
    "start_time": "2022-04-20T08:57:02.564Z"
   },
   {
    "duration": 26,
    "start_time": "2022-04-20T08:57:02.572Z"
   },
   {
    "duration": 1535,
    "start_time": "2022-04-21T03:54:20.881Z"
   },
   {
    "duration": 595,
    "start_time": "2022-04-21T03:54:22.419Z"
   },
   {
    "duration": 4,
    "start_time": "2022-04-21T03:54:23.016Z"
   },
   {
    "duration": 39,
    "start_time": "2022-04-21T03:54:23.022Z"
   },
   {
    "duration": 137,
    "start_time": "2022-04-21T03:54:23.063Z"
   },
   {
    "duration": 392,
    "start_time": "2022-04-21T03:54:23.202Z"
   },
   {
    "duration": 57,
    "start_time": "2022-04-21T03:54:23.596Z"
   },
   {
    "duration": 11,
    "start_time": "2022-04-21T03:54:23.655Z"
   },
   {
    "duration": 33,
    "start_time": "2022-04-21T03:54:23.667Z"
   },
   {
    "duration": 155,
    "start_time": "2022-04-21T03:54:23.703Z"
   },
   {
    "duration": 4,
    "start_time": "2022-04-21T03:54:23.860Z"
   },
   {
    "duration": 32,
    "start_time": "2022-04-21T03:54:23.866Z"
   },
   {
    "duration": 60,
    "start_time": "2022-04-21T03:54:23.899Z"
   },
   {
    "duration": 22,
    "start_time": "2022-04-21T03:54:23.960Z"
   },
   {
    "duration": 38,
    "start_time": "2022-04-21T03:54:23.984Z"
   },
   {
    "duration": 8,
    "start_time": "2022-04-21T03:54:24.024Z"
   },
   {
    "duration": 17,
    "start_time": "2022-04-21T03:54:24.033Z"
   },
   {
    "duration": 26,
    "start_time": "2022-04-21T03:54:24.052Z"
   },
   {
    "duration": 16,
    "start_time": "2022-04-21T03:54:24.079Z"
   },
   {
    "duration": 56,
    "start_time": "2022-04-21T03:54:24.097Z"
   },
   {
    "duration": 127,
    "start_time": "2022-04-21T03:54:24.154Z"
   },
   {
    "duration": 58,
    "start_time": "2022-04-21T03:54:24.283Z"
   },
   {
    "duration": 51,
    "start_time": "2022-04-21T03:54:24.342Z"
   },
   {
    "duration": 95,
    "start_time": "2022-04-21T03:54:24.394Z"
   },
   {
    "duration": 9,
    "start_time": "2022-04-21T03:54:24.491Z"
   },
   {
    "duration": 38,
    "start_time": "2022-04-21T03:54:24.501Z"
   },
   {
    "duration": 23,
    "start_time": "2022-04-21T03:54:24.540Z"
   },
   {
    "duration": 20,
    "start_time": "2022-04-21T03:54:24.567Z"
   },
   {
    "duration": 39,
    "start_time": "2022-04-21T03:54:24.589Z"
   },
   {
    "duration": 15,
    "start_time": "2022-04-21T03:54:24.630Z"
   },
   {
    "duration": 22,
    "start_time": "2022-04-21T03:54:24.646Z"
   },
   {
    "duration": 20,
    "start_time": "2022-04-21T03:54:24.670Z"
   },
   {
    "duration": 31,
    "start_time": "2022-04-21T03:54:24.692Z"
   },
   {
    "duration": 11,
    "start_time": "2022-04-21T03:54:24.724Z"
   },
   {
    "duration": 37,
    "start_time": "2022-04-21T03:54:24.737Z"
   },
   {
    "duration": 230,
    "start_time": "2022-04-21T03:54:24.776Z"
   },
   {
    "duration": 19,
    "start_time": "2022-04-21T03:54:25.008Z"
   },
   {
    "duration": 122,
    "start_time": "2022-04-21T03:54:25.028Z"
   },
   {
    "duration": 179,
    "start_time": "2022-04-21T03:54:25.151Z"
   },
   {
    "duration": 205,
    "start_time": "2022-04-21T03:54:25.331Z"
   },
   {
    "duration": 95,
    "start_time": "2022-04-21T03:54:25.538Z"
   },
   {
    "duration": 35,
    "start_time": "2022-04-21T03:54:25.634Z"
   },
   {
    "duration": 11,
    "start_time": "2022-04-21T03:54:25.671Z"
   },
   {
    "duration": 237,
    "start_time": "2022-04-21T03:54:25.683Z"
   },
   {
    "duration": 203,
    "start_time": "2022-04-21T03:54:25.921Z"
   },
   {
    "duration": 41,
    "start_time": "2022-04-21T03:54:26.126Z"
   },
   {
    "duration": 10,
    "start_time": "2022-04-21T03:54:26.169Z"
   },
   {
    "duration": 43,
    "start_time": "2022-04-21T03:54:26.181Z"
   },
   {
    "duration": 9,
    "start_time": "2022-04-21T03:54:26.226Z"
   },
   {
    "duration": 250,
    "start_time": "2022-04-21T03:54:26.237Z"
   },
   {
    "duration": 97,
    "start_time": "2022-04-21T03:54:26.489Z"
   },
   {
    "duration": 6,
    "start_time": "2022-04-21T03:54:26.588Z"
   },
   {
    "duration": 106,
    "start_time": "2022-04-21T03:54:26.595Z"
   },
   {
    "duration": 6,
    "start_time": "2022-04-21T03:54:26.703Z"
   },
   {
    "duration": 482,
    "start_time": "2022-04-21T03:54:26.722Z"
   },
   {
    "duration": 34,
    "start_time": "2022-04-21T03:54:27.205Z"
   },
   {
    "duration": 12,
    "start_time": "2022-04-21T03:54:27.241Z"
   },
   {
    "duration": 911,
    "start_time": "2022-04-21T03:54:27.254Z"
   },
   {
    "duration": 39,
    "start_time": "2022-04-21T03:54:28.167Z"
   },
   {
    "duration": 26,
    "start_time": "2022-04-21T03:54:28.208Z"
   },
   {
    "duration": 8,
    "start_time": "2022-04-21T03:54:28.236Z"
   },
   {
    "duration": 19,
    "start_time": "2022-04-21T03:54:28.245Z"
   },
   {
    "duration": 12,
    "start_time": "2022-04-21T03:54:28.265Z"
   },
   {
    "duration": 16,
    "start_time": "2022-04-21T03:54:28.278Z"
   },
   {
    "duration": 42,
    "start_time": "2022-04-21T03:54:28.295Z"
   },
   {
    "duration": 15,
    "start_time": "2022-04-21T03:54:28.338Z"
   },
   {
    "duration": 17,
    "start_time": "2022-04-21T03:54:28.355Z"
   },
   {
    "duration": 195,
    "start_time": "2022-04-21T03:54:28.373Z"
   },
   {
    "duration": 63,
    "start_time": "2022-04-21T03:54:28.570Z"
   },
   {
    "duration": 335,
    "start_time": "2022-04-21T03:54:28.634Z"
   },
   {
    "duration": 2,
    "start_time": "2022-04-21T03:54:28.971Z"
   },
   {
    "duration": 27,
    "start_time": "2022-04-21T03:54:28.974Z"
   },
   {
    "duration": 24,
    "start_time": "2022-04-21T03:54:29.003Z"
   },
   {
    "duration": 28,
    "start_time": "2022-04-21T03:54:29.028Z"
   },
   {
    "duration": 2,
    "start_time": "2022-04-21T03:54:29.058Z"
   },
   {
    "duration": 24,
    "start_time": "2022-04-21T03:54:29.062Z"
   },
   {
    "duration": 7,
    "start_time": "2022-04-21T03:54:29.087Z"
   },
   {
    "duration": 31,
    "start_time": "2022-04-21T03:54:29.095Z"
   },
   {
    "duration": 3,
    "start_time": "2022-04-21T03:57:08.889Z"
   },
   {
    "duration": 4,
    "start_time": "2022-04-21T03:57:15.589Z"
   },
   {
    "duration": 3,
    "start_time": "2022-04-21T03:59:51.108Z"
   },
   {
    "duration": 16,
    "start_time": "2022-04-21T04:21:16.182Z"
   },
   {
    "duration": 19,
    "start_time": "2022-04-21T04:32:35.639Z"
   },
   {
    "duration": 21,
    "start_time": "2022-04-21T04:32:52.769Z"
   },
   {
    "duration": 8,
    "start_time": "2022-04-21T04:33:17.570Z"
   },
   {
    "duration": 6,
    "start_time": "2022-04-21T04:33:29.104Z"
   },
   {
    "duration": 14,
    "start_time": "2022-04-21T04:41:17.068Z"
   },
   {
    "duration": 4,
    "start_time": "2022-04-21T04:41:28.544Z"
   },
   {
    "duration": 9,
    "start_time": "2022-04-21T04:44:03.263Z"
   },
   {
    "duration": 11,
    "start_time": "2022-04-21T04:44:05.987Z"
   },
   {
    "duration": 1480,
    "start_time": "2022-04-21T08:05:54.427Z"
   },
   {
    "duration": 532,
    "start_time": "2022-04-21T08:05:55.909Z"
   },
   {
    "duration": 4,
    "start_time": "2022-04-21T08:05:56.443Z"
   },
   {
    "duration": 3,
    "start_time": "2022-04-21T08:05:56.455Z"
   },
   {
    "duration": 38,
    "start_time": "2022-04-21T08:05:56.460Z"
   },
   {
    "duration": 143,
    "start_time": "2022-04-21T08:05:56.500Z"
   },
   {
    "duration": 531,
    "start_time": "2022-04-21T08:05:56.644Z"
   },
   {
    "duration": 98,
    "start_time": "2022-04-21T08:05:57.177Z"
   },
   {
    "duration": 11,
    "start_time": "2022-04-21T08:05:57.277Z"
   },
   {
    "duration": 77,
    "start_time": "2022-04-21T08:05:57.291Z"
   },
   {
    "duration": 286,
    "start_time": "2022-04-21T08:05:57.369Z"
   },
   {
    "duration": 5,
    "start_time": "2022-04-21T08:05:57.657Z"
   },
   {
    "duration": 35,
    "start_time": "2022-04-21T08:05:57.663Z"
   },
   {
    "duration": 44,
    "start_time": "2022-04-21T08:05:57.755Z"
   },
   {
    "duration": 71,
    "start_time": "2022-04-21T08:05:57.801Z"
   },
   {
    "duration": 20,
    "start_time": "2022-04-21T08:05:57.874Z"
   },
   {
    "duration": 60,
    "start_time": "2022-04-21T08:05:57.895Z"
   },
   {
    "duration": 7,
    "start_time": "2022-04-21T08:05:57.957Z"
   },
   {
    "duration": 7,
    "start_time": "2022-04-21T08:05:57.966Z"
   },
   {
    "duration": 9,
    "start_time": "2022-04-21T08:05:57.974Z"
   },
   {
    "duration": 95,
    "start_time": "2022-04-21T08:05:57.985Z"
   },
   {
    "duration": 280,
    "start_time": "2022-04-21T08:05:58.081Z"
   },
   {
    "duration": 106,
    "start_time": "2022-04-21T08:05:58.362Z"
   },
   {
    "duration": 101,
    "start_time": "2022-04-21T08:05:58.469Z"
   },
   {
    "duration": 210,
    "start_time": "2022-04-21T08:05:58.572Z"
   },
   {
    "duration": 10,
    "start_time": "2022-04-21T08:05:58.783Z"
   },
   {
    "duration": 80,
    "start_time": "2022-04-21T08:05:58.794Z"
   },
   {
    "duration": 77,
    "start_time": "2022-04-21T08:05:58.879Z"
   },
   {
    "duration": 22,
    "start_time": "2022-04-21T08:05:58.957Z"
   },
   {
    "duration": 7,
    "start_time": "2022-04-21T08:05:58.980Z"
   },
   {
    "duration": 10,
    "start_time": "2022-04-21T08:05:58.988Z"
   },
   {
    "duration": 14,
    "start_time": "2022-04-21T08:05:59.055Z"
   },
   {
    "duration": 18,
    "start_time": "2022-04-21T08:05:59.071Z"
   },
   {
    "duration": 83,
    "start_time": "2022-04-21T08:05:59.092Z"
   },
   {
    "duration": 11,
    "start_time": "2022-04-21T08:05:59.177Z"
   },
   {
    "duration": 87,
    "start_time": "2022-04-21T08:05:59.190Z"
   },
   {
    "duration": 365,
    "start_time": "2022-04-21T08:05:59.279Z"
   },
   {
    "duration": 26,
    "start_time": "2022-04-21T08:05:59.646Z"
   },
   {
    "duration": 154,
    "start_time": "2022-04-21T08:05:59.674Z"
   },
   {
    "duration": 166,
    "start_time": "2022-04-21T08:05:59.854Z"
   },
   {
    "duration": 207,
    "start_time": "2022-04-21T08:06:00.022Z"
   },
   {
    "duration": 103,
    "start_time": "2022-04-21T08:06:00.231Z"
   },
   {
    "duration": 67,
    "start_time": "2022-04-21T08:06:00.335Z"
   },
   {
    "duration": 17,
    "start_time": "2022-04-21T08:06:00.404Z"
   },
   {
    "duration": 358,
    "start_time": "2022-04-21T08:06:00.423Z"
   },
   {
    "duration": 324,
    "start_time": "2022-04-21T08:06:00.783Z"
   },
   {
    "duration": 73,
    "start_time": "2022-04-21T08:06:01.109Z"
   },
   {
    "duration": 12,
    "start_time": "2022-04-21T08:06:01.185Z"
   },
   {
    "duration": 34,
    "start_time": "2022-04-21T08:06:01.199Z"
   },
   {
    "duration": 24,
    "start_time": "2022-04-21T08:06:01.235Z"
   },
   {
    "duration": 372,
    "start_time": "2022-04-21T08:06:01.261Z"
   },
   {
    "duration": 105,
    "start_time": "2022-04-21T08:06:01.635Z"
   },
   {
    "duration": 17,
    "start_time": "2022-04-21T08:06:01.742Z"
   },
   {
    "duration": 175,
    "start_time": "2022-04-21T08:06:01.761Z"
   },
   {
    "duration": 8,
    "start_time": "2022-04-21T08:06:01.938Z"
   },
   {
    "duration": 993,
    "start_time": "2022-04-21T08:06:01.955Z"
   },
   {
    "duration": 41,
    "start_time": "2022-04-21T08:06:02.950Z"
   },
   {
    "duration": 7,
    "start_time": "2022-04-21T08:06:02.993Z"
   },
   {
    "duration": 1019,
    "start_time": "2022-04-21T08:06:03.002Z"
   },
   {
    "duration": 45,
    "start_time": "2022-04-21T08:06:04.023Z"
   },
   {
    "duration": 13,
    "start_time": "2022-04-21T08:06:04.070Z"
   },
   {
    "duration": 20,
    "start_time": "2022-04-21T08:06:04.085Z"
   },
   {
    "duration": 27,
    "start_time": "2022-04-21T08:06:04.107Z"
   },
   {
    "duration": 30,
    "start_time": "2022-04-21T08:06:04.136Z"
   },
   {
    "duration": 33,
    "start_time": "2022-04-21T08:06:04.167Z"
   },
   {
    "duration": 33,
    "start_time": "2022-04-21T08:06:04.202Z"
   },
   {
    "duration": 40,
    "start_time": "2022-04-21T08:06:04.237Z"
   },
   {
    "duration": 32,
    "start_time": "2022-04-21T08:06:04.279Z"
   },
   {
    "duration": 179,
    "start_time": "2022-04-21T08:06:04.313Z"
   },
   {
    "duration": 68,
    "start_time": "2022-04-21T08:06:04.495Z"
   },
   {
    "duration": 344,
    "start_time": "2022-04-21T08:06:04.565Z"
   },
   {
    "duration": 3,
    "start_time": "2022-04-21T08:06:04.911Z"
   },
   {
    "duration": 51,
    "start_time": "2022-04-21T08:06:04.916Z"
   },
   {
    "duration": 17,
    "start_time": "2022-04-21T08:06:04.969Z"
   },
   {
    "duration": 60,
    "start_time": "2022-04-21T08:06:04.988Z"
   },
   {
    "duration": 3,
    "start_time": "2022-04-21T08:06:05.050Z"
   },
   {
    "duration": 47,
    "start_time": "2022-04-21T08:06:05.055Z"
   },
   {
    "duration": 8,
    "start_time": "2022-04-21T08:06:05.105Z"
   },
   {
    "duration": 41,
    "start_time": "2022-04-21T08:06:05.115Z"
   },
   {
    "duration": 613,
    "start_time": "2022-04-21T08:28:38.755Z"
   },
   {
    "duration": 1261,
    "start_time": "2022-04-21T08:29:26.595Z"
   },
   {
    "duration": 797,
    "start_time": "2022-04-21T08:29:27.858Z"
   },
   {
    "duration": 3,
    "start_time": "2022-04-21T08:29:28.657Z"
   },
   {
    "duration": 7,
    "start_time": "2022-04-21T08:29:28.662Z"
   },
   {
    "duration": 90,
    "start_time": "2022-04-21T08:29:28.670Z"
   },
   {
    "duration": 224,
    "start_time": "2022-04-21T08:29:28.762Z"
   },
   {
    "duration": 795,
    "start_time": "2022-04-21T08:29:28.987Z"
   },
   {
    "duration": 99,
    "start_time": "2022-04-21T08:29:29.784Z"
   },
   {
    "duration": 12,
    "start_time": "2022-04-21T08:29:29.885Z"
   },
   {
    "duration": 78,
    "start_time": "2022-04-21T08:29:29.899Z"
   },
   {
    "duration": 179,
    "start_time": "2022-04-21T08:29:29.979Z"
   },
   {
    "duration": 5,
    "start_time": "2022-04-21T08:29:30.160Z"
   },
   {
    "duration": 40,
    "start_time": "2022-04-21T08:29:30.166Z"
   },
   {
    "duration": 46,
    "start_time": "2022-04-21T08:29:30.208Z"
   },
   {
    "duration": 29,
    "start_time": "2022-04-21T08:29:30.256Z"
   },
   {
    "duration": 20,
    "start_time": "2022-04-21T08:29:30.287Z"
   },
   {
    "duration": 8,
    "start_time": "2022-04-21T08:29:30.309Z"
   },
   {
    "duration": 6,
    "start_time": "2022-04-21T08:29:30.319Z"
   },
   {
    "duration": 12,
    "start_time": "2022-04-21T08:29:30.326Z"
   },
   {
    "duration": 17,
    "start_time": "2022-04-21T08:29:30.340Z"
   },
   {
    "duration": 45,
    "start_time": "2022-04-21T08:29:30.359Z"
   },
   {
    "duration": 162,
    "start_time": "2022-04-21T08:29:30.405Z"
   },
   {
    "duration": 52,
    "start_time": "2022-04-21T08:29:30.569Z"
   },
   {
    "duration": 460,
    "start_time": "2022-04-21T08:29:30.623Z"
   },
   {
    "duration": 51,
    "start_time": "2022-04-21T08:29:31.084Z"
   },
   {
    "duration": 89,
    "start_time": "2022-04-21T08:29:31.137Z"
   },
   {
    "duration": 11,
    "start_time": "2022-04-21T08:29:31.228Z"
   },
   {
    "duration": 29,
    "start_time": "2022-04-21T08:29:31.244Z"
   },
   {
    "duration": 25,
    "start_time": "2022-04-21T08:29:31.275Z"
   },
   {
    "duration": 38,
    "start_time": "2022-04-21T08:29:31.301Z"
   },
   {
    "duration": 37,
    "start_time": "2022-04-21T08:29:31.340Z"
   },
   {
    "duration": 18,
    "start_time": "2022-04-21T08:29:31.379Z"
   },
   {
    "duration": 41,
    "start_time": "2022-04-21T08:29:31.399Z"
   },
   {
    "duration": 22,
    "start_time": "2022-04-21T08:29:31.442Z"
   },
   {
    "duration": 66,
    "start_time": "2022-04-21T08:29:31.466Z"
   },
   {
    "duration": 32,
    "start_time": "2022-04-21T08:29:31.534Z"
   },
   {
    "duration": 35,
    "start_time": "2022-04-21T08:29:31.568Z"
   },
   {
    "duration": 277,
    "start_time": "2022-04-21T08:29:31.605Z"
   },
   {
    "duration": 19,
    "start_time": "2022-04-21T08:29:31.884Z"
   },
   {
    "duration": 152,
    "start_time": "2022-04-21T08:29:31.904Z"
   },
   {
    "duration": 180,
    "start_time": "2022-04-21T08:29:32.058Z"
   },
   {
    "duration": 206,
    "start_time": "2022-04-21T08:29:32.240Z"
   },
   {
    "duration": 102,
    "start_time": "2022-04-21T08:29:32.454Z"
   },
   {
    "duration": 37,
    "start_time": "2022-04-21T08:29:32.558Z"
   },
   {
    "duration": 13,
    "start_time": "2022-04-21T08:29:32.597Z"
   },
   {
    "duration": 324,
    "start_time": "2022-04-21T08:29:32.611Z"
   },
   {
    "duration": 200,
    "start_time": "2022-04-21T08:29:32.937Z"
   },
   {
    "duration": 44,
    "start_time": "2022-04-21T08:29:33.138Z"
   },
   {
    "duration": 8,
    "start_time": "2022-04-21T08:29:33.185Z"
   },
   {
    "duration": 18,
    "start_time": "2022-04-21T08:29:33.195Z"
   },
   {
    "duration": 6,
    "start_time": "2022-04-21T08:29:33.215Z"
   },
   {
    "duration": 151,
    "start_time": "2022-04-21T08:29:33.254Z"
   },
   {
    "duration": 107,
    "start_time": "2022-04-21T08:29:33.406Z"
   },
   {
    "duration": 7,
    "start_time": "2022-04-21T08:29:33.515Z"
   },
   {
    "duration": 106,
    "start_time": "2022-04-21T08:29:33.523Z"
   },
   {
    "duration": 7,
    "start_time": "2022-04-21T08:29:33.631Z"
   },
   {
    "duration": 450,
    "start_time": "2022-04-21T08:29:33.655Z"
   },
   {
    "duration": 26,
    "start_time": "2022-04-21T08:29:34.107Z"
   },
   {
    "duration": 20,
    "start_time": "2022-04-21T08:29:34.135Z"
   },
   {
    "duration": 934,
    "start_time": "2022-04-21T08:29:34.156Z"
   },
   {
    "duration": 163,
    "start_time": "2022-04-21T08:29:35.092Z"
   },
   {
    "duration": 14,
    "start_time": "2022-04-21T08:29:35.257Z"
   },
   {
    "duration": 10,
    "start_time": "2022-04-21T08:29:35.273Z"
   },
   {
    "duration": 12,
    "start_time": "2022-04-21T08:29:35.285Z"
   },
   {
    "duration": 12,
    "start_time": "2022-04-21T08:29:35.298Z"
   },
   {
    "duration": 14,
    "start_time": "2022-04-21T08:29:35.312Z"
   },
   {
    "duration": 41,
    "start_time": "2022-04-21T08:29:35.328Z"
   },
   {
    "duration": 16,
    "start_time": "2022-04-21T08:29:35.371Z"
   },
   {
    "duration": 20,
    "start_time": "2022-04-21T08:29:35.390Z"
   },
   {
    "duration": 226,
    "start_time": "2022-04-21T08:29:35.412Z"
   },
   {
    "duration": 97,
    "start_time": "2022-04-21T08:29:35.640Z"
   },
   {
    "duration": 485,
    "start_time": "2022-04-21T08:29:35.739Z"
   },
   {
    "duration": 3,
    "start_time": "2022-04-21T08:29:36.225Z"
   },
   {
    "duration": 34,
    "start_time": "2022-04-21T08:29:36.229Z"
   },
   {
    "duration": 15,
    "start_time": "2022-04-21T08:29:36.265Z"
   },
   {
    "duration": 28,
    "start_time": "2022-04-21T08:29:36.282Z"
   },
   {
    "duration": 2,
    "start_time": "2022-04-21T08:29:36.311Z"
   },
   {
    "duration": 52,
    "start_time": "2022-04-21T08:29:36.315Z"
   },
   {
    "duration": 7,
    "start_time": "2022-04-21T08:29:36.368Z"
   },
   {
    "duration": 22,
    "start_time": "2022-04-21T08:29:36.376Z"
   },
   {
    "duration": 3,
    "start_time": "2022-04-21T08:35:24.190Z"
   },
   {
    "duration": 3,
    "start_time": "2022-04-21T08:36:30.494Z"
   },
   {
    "duration": 8,
    "start_time": "2022-04-21T08:41:38.631Z"
   },
   {
    "duration": 18,
    "start_time": "2022-04-21T09:35:36.330Z"
   },
   {
    "duration": 20,
    "start_time": "2022-04-21T09:36:16.216Z"
   },
   {
    "duration": 22,
    "start_time": "2022-04-21T09:37:14.017Z"
   },
   {
    "duration": 23,
    "start_time": "2022-04-21T09:38:12.943Z"
   },
   {
    "duration": 142,
    "start_time": "2022-04-21T09:39:32.365Z"
   },
   {
    "duration": 150,
    "start_time": "2022-04-21T09:39:50.998Z"
   },
   {
    "duration": 31,
    "start_time": "2022-04-21T09:40:02.367Z"
   },
   {
    "duration": 32,
    "start_time": "2022-04-21T09:40:15.126Z"
   },
   {
    "duration": 39,
    "start_time": "2022-04-21T09:42:41.755Z"
   },
   {
    "duration": 34,
    "start_time": "2022-04-21T09:43:18.142Z"
   },
   {
    "duration": 13,
    "start_time": "2022-04-21T09:43:37.349Z"
   },
   {
    "duration": 9,
    "start_time": "2022-04-21T09:54:49.168Z"
   },
   {
    "duration": 10,
    "start_time": "2022-04-21T10:00:19.591Z"
   },
   {
    "duration": 8,
    "start_time": "2022-04-21T10:00:43.265Z"
   },
   {
    "duration": 41,
    "start_time": "2022-04-21T10:05:38.813Z"
   },
   {
    "duration": 27,
    "start_time": "2022-04-21T10:06:52.903Z"
   },
   {
    "duration": 20,
    "start_time": "2022-04-21T10:06:57.796Z"
   },
   {
    "duration": 21,
    "start_time": "2022-04-21T10:13:57.414Z"
   },
   {
    "duration": 23,
    "start_time": "2022-04-21T10:15:00.147Z"
   },
   {
    "duration": 38,
    "start_time": "2022-04-21T10:17:59.074Z"
   },
   {
    "duration": 44,
    "start_time": "2022-04-21T10:18:17.041Z"
   },
   {
    "duration": 8,
    "start_time": "2022-04-21T10:18:37.544Z"
   },
   {
    "duration": 24,
    "start_time": "2022-04-21T10:19:20.266Z"
   },
   {
    "duration": 18,
    "start_time": "2022-04-21T10:20:01.967Z"
   },
   {
    "duration": 20,
    "start_time": "2022-04-21T10:24:04.597Z"
   },
   {
    "duration": 40,
    "start_time": "2022-04-21T10:28:31.363Z"
   },
   {
    "duration": 37,
    "start_time": "2022-04-21T10:28:50.315Z"
   },
   {
    "duration": 168,
    "start_time": "2022-04-21T10:30:14.259Z"
   },
   {
    "duration": 36,
    "start_time": "2022-04-21T10:30:19.410Z"
   },
   {
    "duration": 37,
    "start_time": "2022-04-21T10:30:43.275Z"
   },
   {
    "duration": 36,
    "start_time": "2022-04-21T10:31:07.942Z"
   },
   {
    "duration": 37,
    "start_time": "2022-04-21T10:31:35.700Z"
   },
   {
    "duration": 284,
    "start_time": "2022-04-21T10:32:07.630Z"
   },
   {
    "duration": 35,
    "start_time": "2022-04-21T10:32:27.619Z"
   },
   {
    "duration": 35,
    "start_time": "2022-04-21T10:32:41.410Z"
   },
   {
    "duration": 37,
    "start_time": "2022-04-21T10:32:50.090Z"
   },
   {
    "duration": 34,
    "start_time": "2022-04-21T10:33:21.280Z"
   },
   {
    "duration": 36,
    "start_time": "2022-04-21T10:33:45.536Z"
   },
   {
    "duration": 144,
    "start_time": "2022-04-21T10:34:18.986Z"
   },
   {
    "duration": 35,
    "start_time": "2022-04-21T10:34:30.562Z"
   },
   {
    "duration": 36,
    "start_time": "2022-04-21T10:35:10.209Z"
   },
   {
    "duration": 11,
    "start_time": "2022-04-21T10:35:29.910Z"
   },
   {
    "duration": 11,
    "start_time": "2022-04-21T10:35:34.121Z"
   },
   {
    "duration": 13,
    "start_time": "2022-04-21T10:35:46.096Z"
   },
   {
    "duration": 12,
    "start_time": "2022-04-21T10:35:58.275Z"
   },
   {
    "duration": 152,
    "start_time": "2022-04-21T10:36:11.163Z"
   },
   {
    "duration": 36,
    "start_time": "2022-04-21T10:36:25.105Z"
   },
   {
    "duration": 36,
    "start_time": "2022-04-21T10:36:35.377Z"
   },
   {
    "duration": 1279,
    "start_time": "2022-04-21T11:21:24.514Z"
   },
   {
    "duration": 562,
    "start_time": "2022-04-21T11:21:25.795Z"
   },
   {
    "duration": 4,
    "start_time": "2022-04-21T11:21:26.358Z"
   },
   {
    "duration": 15,
    "start_time": "2022-04-21T11:21:26.363Z"
   },
   {
    "duration": 59,
    "start_time": "2022-04-21T11:21:26.380Z"
   },
   {
    "duration": 120,
    "start_time": "2022-04-21T11:21:26.441Z"
   },
   {
    "duration": 394,
    "start_time": "2022-04-21T11:21:26.562Z"
   },
   {
    "duration": 47,
    "start_time": "2022-04-21T11:21:26.958Z"
   },
   {
    "duration": 12,
    "start_time": "2022-04-21T11:21:27.006Z"
   },
   {
    "duration": 54,
    "start_time": "2022-04-21T11:21:27.021Z"
   },
   {
    "duration": 148,
    "start_time": "2022-04-21T11:21:27.077Z"
   },
   {
    "duration": 5,
    "start_time": "2022-04-21T11:21:27.226Z"
   },
   {
    "duration": 48,
    "start_time": "2022-04-21T11:21:27.232Z"
   },
   {
    "duration": 81,
    "start_time": "2022-04-21T11:21:27.282Z"
   },
   {
    "duration": 23,
    "start_time": "2022-04-21T11:21:27.365Z"
   },
   {
    "duration": 80,
    "start_time": "2022-04-21T11:21:27.389Z"
   },
   {
    "duration": 8,
    "start_time": "2022-04-21T11:21:27.471Z"
   },
   {
    "duration": 23,
    "start_time": "2022-04-21T11:21:27.480Z"
   },
   {
    "duration": 76,
    "start_time": "2022-04-21T11:21:27.504Z"
   },
   {
    "duration": 12,
    "start_time": "2022-04-21T11:21:27.582Z"
   },
   {
    "duration": 175,
    "start_time": "2022-04-21T11:21:27.596Z"
   },
   {
    "duration": 414,
    "start_time": "2022-04-21T11:21:27.773Z"
   },
   {
    "duration": 106,
    "start_time": "2022-04-21T11:21:28.189Z"
   },
   {
    "duration": 962,
    "start_time": "2022-04-21T11:21:28.296Z"
   },
   {
    "duration": 2,
    "start_time": "2022-04-21T11:21:29.260Z"
   },
   {
    "duration": 18,
    "start_time": "2022-04-21T11:21:29.264Z"
   },
   {
    "duration": 24,
    "start_time": "2022-04-21T11:21:29.284Z"
   },
   {
    "duration": 40,
    "start_time": "2022-04-21T11:21:29.312Z"
   },
   {
    "duration": 25,
    "start_time": "2022-04-21T11:21:29.354Z"
   },
   {
    "duration": 23,
    "start_time": "2022-04-21T11:21:29.380Z"
   },
   {
    "duration": 8,
    "start_time": "2022-04-21T11:21:29.405Z"
   },
   {
    "duration": 18,
    "start_time": "2022-04-21T11:21:29.414Z"
   },
   {
    "duration": 43,
    "start_time": "2022-04-21T11:21:29.433Z"
   },
   {
    "duration": 6,
    "start_time": "2022-04-21T11:21:29.478Z"
   },
   {
    "duration": 32,
    "start_time": "2022-04-21T11:21:29.486Z"
   },
   {
    "duration": 46,
    "start_time": "2022-04-21T11:21:29.520Z"
   },
   {
    "duration": 11,
    "start_time": "2022-04-21T11:21:29.568Z"
   },
   {
    "duration": 15,
    "start_time": "2022-04-21T11:21:29.580Z"
   },
   {
    "duration": 20,
    "start_time": "2022-04-21T11:21:29.596Z"
   },
   {
    "duration": 38,
    "start_time": "2022-04-21T11:21:29.617Z"
   },
   {
    "duration": 23,
    "start_time": "2022-04-21T11:21:29.656Z"
   },
   {
    "duration": 198,
    "start_time": "2022-04-21T11:21:29.681Z"
   },
   {
    "duration": 8,
    "start_time": "2022-04-21T11:21:29.881Z"
   },
   {
    "duration": 9,
    "start_time": "2022-04-21T11:21:29.891Z"
   },
   {
    "duration": 79,
    "start_time": "2022-04-21T11:21:29.902Z"
   },
   {
    "duration": 22,
    "start_time": "2022-04-21T11:21:29.983Z"
   },
   {
    "duration": 66,
    "start_time": "2022-04-21T11:21:30.007Z"
   },
   {
    "duration": 36,
    "start_time": "2022-04-21T11:21:30.075Z"
   },
   {
    "duration": 6,
    "start_time": "2022-04-21T11:21:30.113Z"
   },
   {
    "duration": 31,
    "start_time": "2022-04-21T11:21:30.121Z"
   },
   {
    "duration": 287,
    "start_time": "2022-04-21T11:21:30.154Z"
   },
   {
    "duration": 171,
    "start_time": "2022-04-21T11:21:30.442Z"
   },
   {
    "duration": 0,
    "start_time": "2022-04-21T11:21:30.615Z"
   },
   {
    "duration": 0,
    "start_time": "2022-04-21T11:21:30.616Z"
   },
   {
    "duration": 0,
    "start_time": "2022-04-21T11:21:30.618Z"
   },
   {
    "duration": 0,
    "start_time": "2022-04-21T11:21:30.619Z"
   },
   {
    "duration": 0,
    "start_time": "2022-04-21T11:21:30.620Z"
   },
   {
    "duration": 0,
    "start_time": "2022-04-21T11:21:30.621Z"
   },
   {
    "duration": 0,
    "start_time": "2022-04-21T11:21:30.623Z"
   },
   {
    "duration": 0,
    "start_time": "2022-04-21T11:21:30.624Z"
   },
   {
    "duration": 0,
    "start_time": "2022-04-21T11:21:30.654Z"
   },
   {
    "duration": 1,
    "start_time": "2022-04-21T11:21:30.655Z"
   },
   {
    "duration": 0,
    "start_time": "2022-04-21T11:21:30.657Z"
   },
   {
    "duration": 0,
    "start_time": "2022-04-21T11:21:30.658Z"
   },
   {
    "duration": 0,
    "start_time": "2022-04-21T11:21:30.659Z"
   },
   {
    "duration": 0,
    "start_time": "2022-04-21T11:21:30.660Z"
   },
   {
    "duration": 0,
    "start_time": "2022-04-21T11:21:30.660Z"
   },
   {
    "duration": 0,
    "start_time": "2022-04-21T11:21:30.662Z"
   },
   {
    "duration": 0,
    "start_time": "2022-04-21T11:21:30.663Z"
   },
   {
    "duration": 0,
    "start_time": "2022-04-21T11:21:30.664Z"
   },
   {
    "duration": 0,
    "start_time": "2022-04-21T11:21:30.665Z"
   },
   {
    "duration": 0,
    "start_time": "2022-04-21T11:21:30.666Z"
   },
   {
    "duration": 0,
    "start_time": "2022-04-21T11:21:30.667Z"
   },
   {
    "duration": 0,
    "start_time": "2022-04-21T11:21:30.668Z"
   },
   {
    "duration": 0,
    "start_time": "2022-04-21T11:21:30.669Z"
   },
   {
    "duration": 0,
    "start_time": "2022-04-21T11:21:30.670Z"
   },
   {
    "duration": 0,
    "start_time": "2022-04-21T11:21:30.671Z"
   },
   {
    "duration": 0,
    "start_time": "2022-04-21T11:21:30.672Z"
   },
   {
    "duration": 0,
    "start_time": "2022-04-21T11:21:30.673Z"
   },
   {
    "duration": 0,
    "start_time": "2022-04-21T11:21:30.674Z"
   },
   {
    "duration": 0,
    "start_time": "2022-04-21T11:21:30.675Z"
   },
   {
    "duration": 0,
    "start_time": "2022-04-21T11:21:30.677Z"
   },
   {
    "duration": 0,
    "start_time": "2022-04-21T11:21:30.678Z"
   },
   {
    "duration": 0,
    "start_time": "2022-04-21T11:21:30.678Z"
   },
   {
    "duration": 0,
    "start_time": "2022-04-21T11:21:30.680Z"
   },
   {
    "duration": 0,
    "start_time": "2022-04-21T11:21:30.681Z"
   },
   {
    "duration": 0,
    "start_time": "2022-04-21T11:21:30.682Z"
   },
   {
    "duration": 0,
    "start_time": "2022-04-21T11:21:30.683Z"
   },
   {
    "duration": 0,
    "start_time": "2022-04-21T11:21:30.684Z"
   },
   {
    "duration": 0,
    "start_time": "2022-04-21T11:21:30.685Z"
   },
   {
    "duration": 0,
    "start_time": "2022-04-21T11:21:30.686Z"
   },
   {
    "duration": 0,
    "start_time": "2022-04-21T11:21:30.687Z"
   },
   {
    "duration": 0,
    "start_time": "2022-04-21T11:21:30.688Z"
   },
   {
    "duration": 4,
    "start_time": "2022-04-21T11:22:50.175Z"
   },
   {
    "duration": 1232,
    "start_time": "2022-04-21T12:41:12.630Z"
   },
   {
    "duration": 551,
    "start_time": "2022-04-21T12:41:13.864Z"
   },
   {
    "duration": 3,
    "start_time": "2022-04-21T12:41:14.417Z"
   },
   {
    "duration": 22,
    "start_time": "2022-04-21T12:41:14.421Z"
   },
   {
    "duration": 51,
    "start_time": "2022-04-21T12:41:14.445Z"
   },
   {
    "duration": 124,
    "start_time": "2022-04-21T12:41:14.498Z"
   },
   {
    "duration": 661,
    "start_time": "2022-04-21T12:41:14.623Z"
   },
   {
    "duration": 96,
    "start_time": "2022-04-21T12:41:15.286Z"
   },
   {
    "duration": 12,
    "start_time": "2022-04-21T12:41:15.383Z"
   },
   {
    "duration": 83,
    "start_time": "2022-04-21T12:41:15.396Z"
   },
   {
    "duration": 304,
    "start_time": "2022-04-21T12:41:15.481Z"
   },
   {
    "duration": 5,
    "start_time": "2022-04-21T12:41:15.787Z"
   },
   {
    "duration": 89,
    "start_time": "2022-04-21T12:41:15.793Z"
   },
   {
    "duration": 102,
    "start_time": "2022-04-21T12:41:15.885Z"
   },
   {
    "duration": 74,
    "start_time": "2022-04-21T12:41:15.988Z"
   },
   {
    "duration": 19,
    "start_time": "2022-04-21T12:41:16.063Z"
   },
   {
    "duration": 73,
    "start_time": "2022-04-21T12:41:16.084Z"
   },
   {
    "duration": 7,
    "start_time": "2022-04-21T12:41:16.159Z"
   },
   {
    "duration": 21,
    "start_time": "2022-04-21T12:41:16.167Z"
   },
   {
    "duration": 21,
    "start_time": "2022-04-21T12:41:16.190Z"
   },
   {
    "duration": 43,
    "start_time": "2022-04-21T12:41:16.254Z"
   },
   {
    "duration": 148,
    "start_time": "2022-04-21T12:41:16.355Z"
   },
   {
    "duration": 64,
    "start_time": "2022-04-21T12:41:16.505Z"
   },
   {
    "duration": 454,
    "start_time": "2022-04-21T12:41:16.571Z"
   },
   {
    "duration": 2,
    "start_time": "2022-04-21T12:41:17.027Z"
   },
   {
    "duration": 37,
    "start_time": "2022-04-21T12:41:17.031Z"
   },
   {
    "duration": 32,
    "start_time": "2022-04-21T12:41:17.069Z"
   },
   {
    "duration": 31,
    "start_time": "2022-04-21T12:41:17.103Z"
   },
   {
    "duration": 29,
    "start_time": "2022-04-21T12:41:17.136Z"
   },
   {
    "duration": 31,
    "start_time": "2022-04-21T12:41:17.167Z"
   },
   {
    "duration": 7,
    "start_time": "2022-04-21T12:41:17.199Z"
   },
   {
    "duration": 27,
    "start_time": "2022-04-21T12:41:17.208Z"
   },
   {
    "duration": 18,
    "start_time": "2022-04-21T12:41:17.237Z"
   },
   {
    "duration": 17,
    "start_time": "2022-04-21T12:41:17.256Z"
   },
   {
    "duration": 55,
    "start_time": "2022-04-21T12:41:17.275Z"
   },
   {
    "duration": 37,
    "start_time": "2022-04-21T12:41:17.332Z"
   },
   {
    "duration": 10,
    "start_time": "2022-04-21T12:41:17.371Z"
   },
   {
    "duration": 29,
    "start_time": "2022-04-21T12:41:17.383Z"
   },
   {
    "duration": 41,
    "start_time": "2022-04-21T12:41:17.414Z"
   },
   {
    "duration": 7,
    "start_time": "2022-04-21T12:41:17.457Z"
   },
   {
    "duration": 45,
    "start_time": "2022-04-21T12:41:17.470Z"
   },
   {
    "duration": 181,
    "start_time": "2022-04-21T12:41:17.517Z"
   },
   {
    "duration": 9,
    "start_time": "2022-04-21T12:41:17.701Z"
   },
   {
    "duration": 43,
    "start_time": "2022-04-21T12:41:17.712Z"
   },
   {
    "duration": 63,
    "start_time": "2022-04-21T12:41:17.757Z"
   },
   {
    "duration": 48,
    "start_time": "2022-04-21T12:41:17.822Z"
   },
   {
    "duration": 24,
    "start_time": "2022-04-21T12:41:17.873Z"
   },
   {
    "duration": 59,
    "start_time": "2022-04-21T12:41:17.899Z"
   },
   {
    "duration": 12,
    "start_time": "2022-04-21T12:41:17.960Z"
   },
   {
    "duration": 28,
    "start_time": "2022-04-21T12:41:17.974Z"
   },
   {
    "duration": 40,
    "start_time": "2022-04-21T12:41:18.004Z"
   },
   {
    "duration": 321,
    "start_time": "2022-04-21T12:41:18.046Z"
   },
   {
    "duration": 172,
    "start_time": "2022-04-21T12:41:18.369Z"
   },
   {
    "duration": 0,
    "start_time": "2022-04-21T12:41:18.543Z"
   },
   {
    "duration": 1,
    "start_time": "2022-04-21T12:41:18.544Z"
   },
   {
    "duration": 0,
    "start_time": "2022-04-21T12:41:18.555Z"
   },
   {
    "duration": 0,
    "start_time": "2022-04-21T12:41:18.556Z"
   },
   {
    "duration": 0,
    "start_time": "2022-04-21T12:41:18.557Z"
   },
   {
    "duration": 0,
    "start_time": "2022-04-21T12:41:18.559Z"
   },
   {
    "duration": 0,
    "start_time": "2022-04-21T12:41:18.561Z"
   },
   {
    "duration": 0,
    "start_time": "2022-04-21T12:41:18.562Z"
   },
   {
    "duration": 0,
    "start_time": "2022-04-21T12:41:18.564Z"
   },
   {
    "duration": 0,
    "start_time": "2022-04-21T12:41:18.565Z"
   },
   {
    "duration": 0,
    "start_time": "2022-04-21T12:41:18.566Z"
   },
   {
    "duration": 0,
    "start_time": "2022-04-21T12:41:18.567Z"
   },
   {
    "duration": 0,
    "start_time": "2022-04-21T12:41:18.567Z"
   },
   {
    "duration": 0,
    "start_time": "2022-04-21T12:41:18.568Z"
   },
   {
    "duration": 0,
    "start_time": "2022-04-21T12:41:18.570Z"
   },
   {
    "duration": 0,
    "start_time": "2022-04-21T12:41:18.571Z"
   },
   {
    "duration": 0,
    "start_time": "2022-04-21T12:41:18.572Z"
   },
   {
    "duration": 0,
    "start_time": "2022-04-21T12:41:18.573Z"
   },
   {
    "duration": 0,
    "start_time": "2022-04-21T12:41:18.574Z"
   },
   {
    "duration": 0,
    "start_time": "2022-04-21T12:41:18.575Z"
   },
   {
    "duration": 0,
    "start_time": "2022-04-21T12:41:18.576Z"
   },
   {
    "duration": 0,
    "start_time": "2022-04-21T12:41:18.578Z"
   },
   {
    "duration": 0,
    "start_time": "2022-04-21T12:41:18.579Z"
   },
   {
    "duration": 0,
    "start_time": "2022-04-21T12:41:18.580Z"
   },
   {
    "duration": 0,
    "start_time": "2022-04-21T12:41:18.581Z"
   },
   {
    "duration": 0,
    "start_time": "2022-04-21T12:41:18.582Z"
   },
   {
    "duration": 0,
    "start_time": "2022-04-21T12:41:18.583Z"
   },
   {
    "duration": 0,
    "start_time": "2022-04-21T12:41:18.584Z"
   },
   {
    "duration": 0,
    "start_time": "2022-04-21T12:41:18.586Z"
   },
   {
    "duration": 0,
    "start_time": "2022-04-21T12:41:18.587Z"
   },
   {
    "duration": 0,
    "start_time": "2022-04-21T12:41:18.589Z"
   },
   {
    "duration": 0,
    "start_time": "2022-04-21T12:41:18.590Z"
   },
   {
    "duration": 0,
    "start_time": "2022-04-21T12:41:18.591Z"
   },
   {
    "duration": 0,
    "start_time": "2022-04-21T12:41:18.593Z"
   },
   {
    "duration": 0,
    "start_time": "2022-04-21T12:41:18.655Z"
   },
   {
    "duration": 0,
    "start_time": "2022-04-21T12:41:18.656Z"
   },
   {
    "duration": 0,
    "start_time": "2022-04-21T12:41:18.657Z"
   },
   {
    "duration": 0,
    "start_time": "2022-04-21T12:41:18.658Z"
   },
   {
    "duration": 0,
    "start_time": "2022-04-21T12:41:18.659Z"
   },
   {
    "duration": 0,
    "start_time": "2022-04-21T12:41:18.660Z"
   },
   {
    "duration": 0,
    "start_time": "2022-04-21T12:41:18.662Z"
   },
   {
    "duration": 36,
    "start_time": "2022-04-21T12:43:42.105Z"
   },
   {
    "duration": 34,
    "start_time": "2022-04-21T12:44:47.929Z"
   },
   {
    "duration": 55,
    "start_time": "2022-04-21T12:45:02.874Z"
   },
   {
    "duration": 37,
    "start_time": "2022-04-21T12:45:15.653Z"
   },
   {
    "duration": 37,
    "start_time": "2022-04-21T12:45:26.086Z"
   },
   {
    "duration": 38,
    "start_time": "2022-04-21T12:45:36.581Z"
   },
   {
    "duration": 36,
    "start_time": "2022-04-21T12:45:53.285Z"
   },
   {
    "duration": 35,
    "start_time": "2022-04-21T12:46:08.786Z"
   },
   {
    "duration": 39,
    "start_time": "2022-04-21T12:46:21.086Z"
   },
   {
    "duration": 37,
    "start_time": "2022-04-21T12:46:31.190Z"
   },
   {
    "duration": 38,
    "start_time": "2022-04-21T12:46:43.744Z"
   },
   {
    "duration": 39,
    "start_time": "2022-04-21T12:46:48.316Z"
   },
   {
    "duration": 36,
    "start_time": "2022-04-21T12:47:03.285Z"
   },
   {
    "duration": 38,
    "start_time": "2022-04-21T12:47:13.190Z"
   },
   {
    "duration": 12,
    "start_time": "2022-04-21T12:47:26.483Z"
   },
   {
    "duration": 35,
    "start_time": "2022-04-21T12:47:29.460Z"
   },
   {
    "duration": 11,
    "start_time": "2022-04-21T12:47:52.749Z"
   },
   {
    "duration": 37,
    "start_time": "2022-04-21T12:48:33.630Z"
   },
   {
    "duration": 37,
    "start_time": "2022-04-21T12:48:41.419Z"
   },
   {
    "duration": 20,
    "start_time": "2022-04-21T12:49:23.011Z"
   },
   {
    "duration": 21,
    "start_time": "2022-04-21T12:50:21.243Z"
   },
   {
    "duration": 377,
    "start_time": "2022-04-21T13:01:32.776Z"
   },
   {
    "duration": 383,
    "start_time": "2022-04-21T13:01:42.254Z"
   },
   {
    "duration": 34,
    "start_time": "2022-04-21T13:02:09.663Z"
   },
   {
    "duration": 198,
    "start_time": "2022-04-21T13:03:51.066Z"
   },
   {
    "duration": 86,
    "start_time": "2022-04-21T13:04:20.290Z"
   },
   {
    "duration": 169,
    "start_time": "2022-04-21T13:04:22.537Z"
   },
   {
    "duration": 270,
    "start_time": "2022-04-21T13:04:25.529Z"
   },
   {
    "duration": 105,
    "start_time": "2022-04-21T13:04:26.383Z"
   },
   {
    "duration": 39,
    "start_time": "2022-04-21T13:04:27.174Z"
   },
   {
    "duration": 39,
    "start_time": "2022-04-21T13:04:37.805Z"
   },
   {
    "duration": 448,
    "start_time": "2022-04-21T13:04:51.410Z"
   },
   {
    "duration": 196,
    "start_time": "2022-04-21T13:05:11.231Z"
   },
   {
    "duration": 366,
    "start_time": "2022-04-21T13:25:40.991Z"
   },
   {
    "duration": 308,
    "start_time": "2022-04-21T13:29:33.176Z"
   },
   {
    "duration": 27,
    "start_time": "2022-04-21T13:30:25.260Z"
   },
   {
    "duration": 22,
    "start_time": "2022-04-21T13:32:54.635Z"
   },
   {
    "duration": 33,
    "start_time": "2022-04-21T13:36:01.075Z"
   },
   {
    "duration": 153,
    "start_time": "2022-04-21T13:36:08.767Z"
   },
   {
    "duration": 18,
    "start_time": "2022-04-21T13:37:12.571Z"
   },
   {
    "duration": 28,
    "start_time": "2022-04-21T13:40:04.723Z"
   },
   {
    "duration": 89,
    "start_time": "2022-04-21T13:40:25.721Z"
   },
   {
    "duration": 4,
    "start_time": "2022-04-21T13:42:14.608Z"
   },
   {
    "duration": 13,
    "start_time": "2022-04-21T13:48:38.804Z"
   },
   {
    "duration": 59,
    "start_time": "2022-04-21T13:48:38.819Z"
   },
   {
    "duration": 202,
    "start_time": "2022-04-21T13:48:38.879Z"
   },
   {
    "duration": 42,
    "start_time": "2022-04-21T13:48:39.083Z"
   },
   {
    "duration": 9,
    "start_time": "2022-04-21T13:48:39.126Z"
   },
   {
    "duration": 19,
    "start_time": "2022-04-21T13:48:39.155Z"
   },
   {
    "duration": 8,
    "start_time": "2022-04-21T13:48:39.175Z"
   },
   {
    "duration": 180,
    "start_time": "2022-04-21T13:48:39.185Z"
   },
   {
    "duration": 113,
    "start_time": "2022-04-21T13:48:39.366Z"
   },
   {
    "duration": 7,
    "start_time": "2022-04-21T13:48:39.482Z"
   },
   {
    "duration": 127,
    "start_time": "2022-04-21T13:48:39.490Z"
   },
   {
    "duration": 6,
    "start_time": "2022-04-21T13:48:39.619Z"
   },
   {
    "duration": 570,
    "start_time": "2022-04-21T13:48:39.627Z"
   },
   {
    "duration": 27,
    "start_time": "2022-04-21T13:48:40.199Z"
   },
   {
    "duration": 6,
    "start_time": "2022-04-21T13:48:40.228Z"
   },
   {
    "duration": 1725,
    "start_time": "2022-04-21T13:48:40.255Z"
   },
   {
    "duration": 88,
    "start_time": "2022-04-21T13:48:41.982Z"
   },
   {
    "duration": 13,
    "start_time": "2022-04-21T13:48:42.072Z"
   },
   {
    "duration": 16,
    "start_time": "2022-04-21T13:48:42.087Z"
   },
   {
    "duration": 10,
    "start_time": "2022-04-21T13:48:42.154Z"
   },
   {
    "duration": 20,
    "start_time": "2022-04-21T13:48:42.165Z"
   },
   {
    "duration": 78,
    "start_time": "2022-04-21T13:48:42.186Z"
   },
   {
    "duration": 19,
    "start_time": "2022-04-21T13:48:42.266Z"
   },
   {
    "duration": 73,
    "start_time": "2022-04-21T13:48:42.287Z"
   },
   {
    "duration": 19,
    "start_time": "2022-04-21T13:48:42.361Z"
   },
   {
    "duration": 401,
    "start_time": "2022-04-21T13:48:42.382Z"
   },
   {
    "duration": 75,
    "start_time": "2022-04-21T13:48:42.784Z"
   },
   {
    "duration": 377,
    "start_time": "2022-04-21T13:48:42.863Z"
   },
   {
    "duration": 11,
    "start_time": "2022-04-21T13:48:43.243Z"
   },
   {
    "duration": 35,
    "start_time": "2022-04-21T13:48:43.256Z"
   },
   {
    "duration": 12,
    "start_time": "2022-04-21T13:48:43.293Z"
   },
   {
    "duration": 46,
    "start_time": "2022-04-21T13:48:43.307Z"
   },
   {
    "duration": 2,
    "start_time": "2022-04-21T13:48:43.355Z"
   },
   {
    "duration": 37,
    "start_time": "2022-04-21T13:48:43.359Z"
   },
   {
    "duration": 16,
    "start_time": "2022-04-21T13:48:43.397Z"
   },
   {
    "duration": 53,
    "start_time": "2022-04-21T13:48:43.415Z"
   },
   {
    "duration": 79,
    "start_time": "2022-04-21T13:51:57.013Z"
   },
   {
    "duration": 25,
    "start_time": "2022-04-21T13:59:19.164Z"
   },
   {
    "duration": 7,
    "start_time": "2022-04-21T13:59:19.191Z"
   },
   {
    "duration": 20,
    "start_time": "2022-04-21T13:59:19.200Z"
   },
   {
    "duration": 12,
    "start_time": "2022-04-21T14:00:17.636Z"
   },
   {
    "duration": 12,
    "start_time": "2022-04-21T14:00:29.194Z"
   },
   {
    "duration": 23,
    "start_time": "2022-04-21T15:18:17.708Z"
   },
   {
    "duration": 7,
    "start_time": "2022-04-21T15:18:19.666Z"
   },
   {
    "duration": 14,
    "start_time": "2022-04-21T15:46:21.504Z"
   },
   {
    "duration": 15,
    "start_time": "2022-04-21T15:46:40.392Z"
   },
   {
    "duration": 145,
    "start_time": "2022-04-21T18:25:41.246Z"
   },
   {
    "duration": 43,
    "start_time": "2022-04-21T18:25:49.449Z"
   },
   {
    "duration": 24,
    "start_time": "2022-04-21T18:26:15.051Z"
   },
   {
    "duration": 22,
    "start_time": "2022-04-21T18:26:35.534Z"
   },
   {
    "duration": 24,
    "start_time": "2022-04-21T18:26:46.099Z"
   },
   {
    "duration": 22,
    "start_time": "2022-04-21T18:27:18.127Z"
   },
   {
    "duration": 24,
    "start_time": "2022-04-21T18:27:23.053Z"
   },
   {
    "duration": 3,
    "start_time": "2022-04-21T18:27:57.161Z"
   },
   {
    "duration": 23,
    "start_time": "2022-04-21T18:28:28.838Z"
   },
   {
    "duration": 23,
    "start_time": "2022-04-21T18:28:52.292Z"
   },
   {
    "duration": 16,
    "start_time": "2022-04-21T18:29:14.014Z"
   },
   {
    "duration": 15,
    "start_time": "2022-04-21T18:29:45.663Z"
   },
   {
    "duration": 16,
    "start_time": "2022-04-21T18:29:59.828Z"
   },
   {
    "duration": 346,
    "start_time": "2022-04-21T18:32:31.141Z"
   },
   {
    "duration": 242,
    "start_time": "2022-04-21T18:32:48.099Z"
   },
   {
    "duration": 244,
    "start_time": "2022-04-21T18:33:01.940Z"
   },
   {
    "duration": 274,
    "start_time": "2022-04-21T18:33:08.154Z"
   },
   {
    "duration": 300,
    "start_time": "2022-04-21T18:33:41.411Z"
   },
   {
    "duration": 239,
    "start_time": "2022-04-21T18:33:53.307Z"
   },
   {
    "duration": 267,
    "start_time": "2022-04-21T18:36:00.331Z"
   },
   {
    "duration": 248,
    "start_time": "2022-04-21T18:36:10.100Z"
   },
   {
    "duration": 19,
    "start_time": "2022-04-21T18:36:32.026Z"
   },
   {
    "duration": 24,
    "start_time": "2022-04-21T18:36:45.740Z"
   },
   {
    "duration": 21,
    "start_time": "2022-04-21T18:37:08.018Z"
   },
   {
    "duration": 149,
    "start_time": "2022-04-21T18:39:50.841Z"
   },
   {
    "duration": 20,
    "start_time": "2022-04-21T18:40:02.392Z"
   },
   {
    "duration": 36,
    "start_time": "2022-04-21T19:10:14.289Z"
   },
   {
    "duration": 2355,
    "start_time": "2022-04-21T19:10:37.768Z"
   },
   {
    "duration": 136,
    "start_time": "2022-04-21T19:11:35.212Z"
   },
   {
    "duration": 40,
    "start_time": "2022-04-21T19:11:43.571Z"
   },
   {
    "duration": 64,
    "start_time": "2022-04-21T19:11:54.907Z"
   },
   {
    "duration": 159,
    "start_time": "2022-04-21T19:11:59.580Z"
   },
   {
    "duration": 158,
    "start_time": "2022-04-21T19:12:04.700Z"
   },
   {
    "duration": 173,
    "start_time": "2022-04-21T19:12:23.211Z"
   },
   {
    "duration": 1273,
    "start_time": "2022-04-21T19:12:39.841Z"
   },
   {
    "duration": 572,
    "start_time": "2022-04-21T19:12:41.116Z"
   },
   {
    "duration": 4,
    "start_time": "2022-04-21T19:12:41.689Z"
   },
   {
    "duration": 4,
    "start_time": "2022-04-21T19:12:41.696Z"
   },
   {
    "duration": 40,
    "start_time": "2022-04-21T19:12:41.702Z"
   },
   {
    "duration": 210,
    "start_time": "2022-04-21T19:12:41.761Z"
   },
   {
    "duration": 504,
    "start_time": "2022-04-21T19:12:41.973Z"
   },
   {
    "duration": 50,
    "start_time": "2022-04-21T19:12:42.480Z"
   },
   {
    "duration": 41,
    "start_time": "2022-04-21T19:12:42.532Z"
   },
   {
    "duration": 41,
    "start_time": "2022-04-21T19:12:42.577Z"
   },
   {
    "duration": 181,
    "start_time": "2022-04-21T19:12:42.620Z"
   },
   {
    "duration": 5,
    "start_time": "2022-04-21T19:12:42.803Z"
   },
   {
    "duration": 47,
    "start_time": "2022-04-21T19:12:42.810Z"
   },
   {
    "duration": 50,
    "start_time": "2022-04-21T19:12:42.858Z"
   },
   {
    "duration": 23,
    "start_time": "2022-04-21T19:12:42.909Z"
   },
   {
    "duration": 55,
    "start_time": "2022-04-21T19:12:42.933Z"
   },
   {
    "duration": 8,
    "start_time": "2022-04-21T19:12:42.989Z"
   },
   {
    "duration": 6,
    "start_time": "2022-04-21T19:12:42.999Z"
   },
   {
    "duration": 9,
    "start_time": "2022-04-21T19:12:43.006Z"
   },
   {
    "duration": 9,
    "start_time": "2022-04-21T19:12:43.016Z"
   },
   {
    "duration": 92,
    "start_time": "2022-04-21T19:12:43.026Z"
   },
   {
    "duration": 143,
    "start_time": "2022-04-21T19:12:43.120Z"
   },
   {
    "duration": 66,
    "start_time": "2022-04-21T19:12:43.265Z"
   },
   {
    "duration": 471,
    "start_time": "2022-04-21T19:12:43.332Z"
   },
   {
    "duration": 2,
    "start_time": "2022-04-21T19:12:43.806Z"
   },
   {
    "duration": 6,
    "start_time": "2022-04-21T19:12:43.810Z"
   },
   {
    "duration": 14,
    "start_time": "2022-04-21T19:12:43.817Z"
   },
   {
    "duration": 50,
    "start_time": "2022-04-21T19:12:43.835Z"
   },
   {
    "duration": 25,
    "start_time": "2022-04-21T19:12:43.887Z"
   },
   {
    "duration": 50,
    "start_time": "2022-04-21T19:12:43.913Z"
   },
   {
    "duration": 9,
    "start_time": "2022-04-21T19:12:43.969Z"
   },
   {
    "duration": 9,
    "start_time": "2022-04-21T19:12:43.979Z"
   },
   {
    "duration": 15,
    "start_time": "2022-04-21T19:12:43.989Z"
   },
   {
    "duration": 6,
    "start_time": "2022-04-21T19:12:44.006Z"
   },
   {
    "duration": 54,
    "start_time": "2022-04-21T19:12:44.014Z"
   },
   {
    "duration": 34,
    "start_time": "2022-04-21T19:12:44.070Z"
   },
   {
    "duration": 11,
    "start_time": "2022-04-21T19:12:44.105Z"
   },
   {
    "duration": 39,
    "start_time": "2022-04-21T19:12:44.118Z"
   },
   {
    "duration": 23,
    "start_time": "2022-04-21T19:12:44.159Z"
   },
   {
    "duration": 12,
    "start_time": "2022-04-21T19:12:44.184Z"
   },
   {
    "duration": 25,
    "start_time": "2022-04-21T19:12:44.197Z"
   },
   {
    "duration": 463,
    "start_time": "2022-04-21T19:12:44.224Z"
   },
   {
    "duration": 9,
    "start_time": "2022-04-21T19:12:44.689Z"
   },
   {
    "duration": 14,
    "start_time": "2022-04-21T19:12:44.699Z"
   },
   {
    "duration": 152,
    "start_time": "2022-04-21T19:12:44.715Z"
   },
   {
    "duration": 23,
    "start_time": "2022-04-21T19:12:44.869Z"
   },
   {
    "duration": 23,
    "start_time": "2022-04-21T19:12:44.894Z"
   },
   {
    "duration": 57,
    "start_time": "2022-04-21T19:12:44.919Z"
   },
   {
    "duration": 4,
    "start_time": "2022-04-21T19:12:44.977Z"
   },
   {
    "duration": 8,
    "start_time": "2022-04-21T19:12:44.983Z"
   },
   {
    "duration": 16,
    "start_time": "2022-04-21T19:12:44.993Z"
   },
   {
    "duration": 80,
    "start_time": "2022-04-21T19:12:45.010Z"
   },
   {
    "duration": 80,
    "start_time": "2022-04-21T19:12:45.092Z"
   },
   {
    "duration": 295,
    "start_time": "2022-04-21T19:12:45.174Z"
   },
   {
    "duration": 510,
    "start_time": "2022-04-21T19:12:45.475Z"
   },
   {
    "duration": 4,
    "start_time": "2022-04-21T19:12:45.987Z"
   },
   {
    "duration": 702,
    "start_time": "2022-04-21T19:12:45.992Z"
   },
   {
    "duration": 278,
    "start_time": "2022-04-21T19:12:46.695Z"
   },
   {
    "duration": 96,
    "start_time": "2022-04-21T19:12:46.975Z"
   },
   {
    "duration": 257,
    "start_time": "2022-04-21T19:12:47.072Z"
   },
   {
    "duration": 30,
    "start_time": "2022-04-21T19:12:47.331Z"
   },
   {
    "duration": 49,
    "start_time": "2022-04-21T19:12:47.363Z"
   },
   {
    "duration": 34,
    "start_time": "2022-04-21T19:12:47.414Z"
   },
   {
    "duration": 53,
    "start_time": "2022-04-21T19:12:47.450Z"
   },
   {
    "duration": 70,
    "start_time": "2022-04-21T19:12:47.505Z"
   },
   {
    "duration": 193,
    "start_time": "2022-04-21T19:12:47.577Z"
   },
   {
    "duration": 38,
    "start_time": "2022-04-21T19:12:47.772Z"
   },
   {
    "duration": 8,
    "start_time": "2022-04-21T19:12:47.812Z"
   },
   {
    "duration": 66,
    "start_time": "2022-04-21T19:12:47.821Z"
   },
   {
    "duration": 6,
    "start_time": "2022-04-21T19:12:47.888Z"
   },
   {
    "duration": 161,
    "start_time": "2022-04-21T19:12:47.896Z"
   },
   {
    "duration": 95,
    "start_time": "2022-04-21T19:12:48.059Z"
   },
   {
    "duration": 8,
    "start_time": "2022-04-21T19:12:48.156Z"
   },
   {
    "duration": 115,
    "start_time": "2022-04-21T19:12:48.165Z"
   },
   {
    "duration": 7,
    "start_time": "2022-04-21T19:12:48.281Z"
   },
   {
    "duration": 416,
    "start_time": "2022-04-21T19:12:48.290Z"
   },
   {
    "duration": 28,
    "start_time": "2022-04-21T19:12:48.708Z"
   },
   {
    "duration": 5,
    "start_time": "2022-04-21T19:12:48.737Z"
   },
   {
    "duration": 1316,
    "start_time": "2022-04-21T19:12:48.754Z"
   },
   {
    "duration": 38,
    "start_time": "2022-04-21T19:12:50.071Z"
   },
   {
    "duration": 13,
    "start_time": "2022-04-21T19:12:50.110Z"
   },
   {
    "duration": 7,
    "start_time": "2022-04-21T19:12:50.128Z"
   },
   {
    "duration": 17,
    "start_time": "2022-04-21T19:12:50.154Z"
   },
   {
    "duration": 16,
    "start_time": "2022-04-21T19:12:50.172Z"
   },
   {
    "duration": 22,
    "start_time": "2022-04-21T19:12:50.189Z"
   },
   {
    "duration": 16,
    "start_time": "2022-04-21T19:12:50.213Z"
   },
   {
    "duration": 26,
    "start_time": "2022-04-21T19:12:50.231Z"
   },
   {
    "duration": 17,
    "start_time": "2022-04-21T19:12:50.266Z"
   },
   {
    "duration": 197,
    "start_time": "2022-04-21T19:12:50.285Z"
   },
   {
    "duration": 63,
    "start_time": "2022-04-21T19:12:50.484Z"
   },
   {
    "duration": 351,
    "start_time": "2022-04-21T19:12:50.559Z"
   },
   {
    "duration": 3,
    "start_time": "2022-04-21T19:12:50.912Z"
   },
   {
    "duration": 33,
    "start_time": "2022-04-21T19:12:50.916Z"
   },
   {
    "duration": 13,
    "start_time": "2022-04-21T19:12:50.956Z"
   },
   {
    "duration": 44,
    "start_time": "2022-04-21T19:12:50.971Z"
   },
   {
    "duration": 2,
    "start_time": "2022-04-21T19:12:51.017Z"
   },
   {
    "duration": 26,
    "start_time": "2022-04-21T19:12:51.021Z"
   },
   {
    "duration": 41,
    "start_time": "2022-04-21T19:12:51.049Z"
   },
   {
    "duration": 6,
    "start_time": "2022-04-21T19:12:51.092Z"
   },
   {
    "duration": 27,
    "start_time": "2022-04-21T19:12:51.099Z"
   },
   {
    "duration": 2,
    "start_time": "2022-04-21T19:36:45.525Z"
   },
   {
    "duration": 3,
    "start_time": "2022-04-21T19:36:47.779Z"
   },
   {
    "duration": 205,
    "start_time": "2022-04-21T19:36:50.587Z"
   },
   {
    "duration": 192,
    "start_time": "2022-04-21T19:37:08.461Z"
   },
   {
    "duration": 160,
    "start_time": "2022-04-21T19:41:38.555Z"
   },
   {
    "duration": 80,
    "start_time": "2022-04-21T19:42:39.055Z"
   },
   {
    "duration": 10,
    "start_time": "2022-04-21T19:45:39.175Z"
   },
   {
    "duration": 34,
    "start_time": "2022-04-21T19:46:37.363Z"
   },
   {
    "duration": 8,
    "start_time": "2022-04-21T19:46:55.231Z"
   },
   {
    "duration": 55,
    "start_time": "2022-04-21T19:48:00.709Z"
   },
   {
    "duration": 19,
    "start_time": "2022-04-21T19:48:04.758Z"
   },
   {
    "duration": 21,
    "start_time": "2022-04-21T19:53:01.731Z"
   },
   {
    "duration": 5,
    "start_time": "2022-04-21T19:54:29.523Z"
   },
   {
    "duration": 325,
    "start_time": "2022-04-21T20:03:14.848Z"
   },
   {
    "duration": 4,
    "start_time": "2022-04-21T20:03:16.194Z"
   },
   {
    "duration": 275,
    "start_time": "2022-04-21T20:03:35.890Z"
   },
   {
    "duration": 90,
    "start_time": "2022-04-21T20:03:37.393Z"
   },
   {
    "duration": 5,
    "start_time": "2022-04-21T20:03:43.363Z"
   },
   {
    "duration": 196,
    "start_time": "2022-04-21T20:06:51.359Z"
   },
   {
    "duration": 5,
    "start_time": "2022-04-21T20:06:55.826Z"
   },
   {
    "duration": 277,
    "start_time": "2022-04-21T20:06:57.214Z"
   },
   {
    "duration": 95,
    "start_time": "2022-04-21T20:06:58.384Z"
   },
   {
    "duration": 5,
    "start_time": "2022-04-21T20:06:59.150Z"
   },
   {
    "duration": 35,
    "start_time": "2022-04-21T20:07:01.032Z"
   },
   {
    "duration": 354,
    "start_time": "2022-04-21T20:07:46.333Z"
   },
   {
    "duration": 29,
    "start_time": "2022-04-21T20:07:54.524Z"
   },
   {
    "duration": 22,
    "start_time": "2022-04-21T20:08:14.121Z"
   },
   {
    "duration": 21,
    "start_time": "2022-04-21T20:08:14.718Z"
   },
   {
    "duration": 17,
    "start_time": "2022-04-21T20:16:41.345Z"
   },
   {
    "duration": 7,
    "start_time": "2022-04-21T20:16:43.930Z"
   },
   {
    "duration": 21,
    "start_time": "2022-04-21T20:25:14.223Z"
   },
   {
    "duration": 13,
    "start_time": "2022-04-21T20:26:56.102Z"
   },
   {
    "duration": 29,
    "start_time": "2022-04-21T20:27:03.031Z"
   },
   {
    "duration": 8,
    "start_time": "2022-04-21T20:27:03.375Z"
   },
   {
    "duration": 18,
    "start_time": "2022-04-21T20:31:54.723Z"
   },
   {
    "duration": 6,
    "start_time": "2022-04-21T20:31:55.293Z"
   },
   {
    "duration": 17,
    "start_time": "2022-04-21T20:33:40.980Z"
   },
   {
    "duration": 7,
    "start_time": "2022-04-21T20:33:41.426Z"
   },
   {
    "duration": 1281,
    "start_time": "2022-04-22T06:45:51.813Z"
   },
   {
    "duration": 571,
    "start_time": "2022-04-22T06:45:53.096Z"
   },
   {
    "duration": 3,
    "start_time": "2022-04-22T06:45:53.669Z"
   },
   {
    "duration": 20,
    "start_time": "2022-04-22T06:45:53.675Z"
   },
   {
    "duration": 44,
    "start_time": "2022-04-22T06:45:53.697Z"
   },
   {
    "duration": 137,
    "start_time": "2022-04-22T06:45:53.743Z"
   },
   {
    "duration": 397,
    "start_time": "2022-04-22T06:45:53.882Z"
   },
   {
    "duration": 45,
    "start_time": "2022-04-22T06:45:54.281Z"
   },
   {
    "duration": 11,
    "start_time": "2022-04-22T06:45:54.328Z"
   },
   {
    "duration": 57,
    "start_time": "2022-04-22T06:45:54.342Z"
   },
   {
    "duration": 142,
    "start_time": "2022-04-22T06:45:54.401Z"
   },
   {
    "duration": 5,
    "start_time": "2022-04-22T06:45:54.545Z"
   },
   {
    "duration": 65,
    "start_time": "2022-04-22T06:45:54.551Z"
   },
   {
    "duration": 57,
    "start_time": "2022-04-22T06:45:54.618Z"
   },
   {
    "duration": 32,
    "start_time": "2022-04-22T06:45:54.676Z"
   },
   {
    "duration": 21,
    "start_time": "2022-04-22T06:45:54.710Z"
   },
   {
    "duration": 10,
    "start_time": "2022-04-22T06:45:54.732Z"
   },
   {
    "duration": 34,
    "start_time": "2022-04-22T06:45:54.744Z"
   },
   {
    "duration": 10,
    "start_time": "2022-04-22T06:45:54.779Z"
   },
   {
    "duration": 14,
    "start_time": "2022-04-22T06:45:54.791Z"
   },
   {
    "duration": 69,
    "start_time": "2022-04-22T06:45:54.807Z"
   },
   {
    "duration": 138,
    "start_time": "2022-04-22T06:45:54.878Z"
   },
   {
    "duration": 73,
    "start_time": "2022-04-22T06:45:55.018Z"
   },
   {
    "duration": 505,
    "start_time": "2022-04-22T06:45:55.092Z"
   },
   {
    "duration": 3,
    "start_time": "2022-04-22T06:45:55.598Z"
   },
   {
    "duration": 9,
    "start_time": "2022-04-22T06:45:55.602Z"
   },
   {
    "duration": 13,
    "start_time": "2022-04-22T06:45:55.612Z"
   },
   {
    "duration": 54,
    "start_time": "2022-04-22T06:45:55.629Z"
   },
   {
    "duration": 37,
    "start_time": "2022-04-22T06:45:55.685Z"
   },
   {
    "duration": 24,
    "start_time": "2022-04-22T06:45:55.723Z"
   },
   {
    "duration": 13,
    "start_time": "2022-04-22T06:45:55.772Z"
   },
   {
    "duration": 16,
    "start_time": "2022-04-22T06:45:55.787Z"
   },
   {
    "duration": 20,
    "start_time": "2022-04-22T06:45:55.805Z"
   },
   {
    "duration": 8,
    "start_time": "2022-04-22T06:45:55.827Z"
   },
   {
    "duration": 54,
    "start_time": "2022-04-22T06:45:55.837Z"
   },
   {
    "duration": 34,
    "start_time": "2022-04-22T06:45:55.892Z"
   },
   {
    "duration": 12,
    "start_time": "2022-04-22T06:45:55.928Z"
   },
   {
    "duration": 45,
    "start_time": "2022-04-22T06:45:55.942Z"
   },
   {
    "duration": 21,
    "start_time": "2022-04-22T06:45:55.989Z"
   },
   {
    "duration": 7,
    "start_time": "2022-04-22T06:45:56.011Z"
   },
   {
    "duration": 28,
    "start_time": "2022-04-22T06:45:56.020Z"
   },
   {
    "duration": 500,
    "start_time": "2022-04-22T06:45:56.050Z"
   },
   {
    "duration": 8,
    "start_time": "2022-04-22T06:45:56.552Z"
   },
   {
    "duration": 16,
    "start_time": "2022-04-22T06:45:56.562Z"
   },
   {
    "duration": 103,
    "start_time": "2022-04-22T06:45:56.584Z"
   },
   {
    "duration": 25,
    "start_time": "2022-04-22T06:45:56.689Z"
   },
   {
    "duration": 24,
    "start_time": "2022-04-22T06:45:56.715Z"
   },
   {
    "duration": 38,
    "start_time": "2022-04-22T06:45:56.773Z"
   },
   {
    "duration": 4,
    "start_time": "2022-04-22T06:45:56.812Z"
   },
   {
    "duration": 8,
    "start_time": "2022-04-22T06:45:56.817Z"
   },
   {
    "duration": 16,
    "start_time": "2022-04-22T06:45:56.827Z"
   },
   {
    "duration": 66,
    "start_time": "2022-04-22T06:45:56.844Z"
   },
   {
    "duration": 19,
    "start_time": "2022-04-22T06:45:56.912Z"
   },
   {
    "duration": 113,
    "start_time": "2022-04-22T06:45:56.932Z"
   },
   {
    "duration": 190,
    "start_time": "2022-04-22T06:45:57.047Z"
   },
   {
    "duration": 4,
    "start_time": "2022-04-22T06:45:57.238Z"
   },
   {
    "duration": 269,
    "start_time": "2022-04-22T06:45:57.244Z"
   },
   {
    "duration": 113,
    "start_time": "2022-04-22T06:45:57.515Z"
   },
   {
    "duration": 169,
    "start_time": "2022-04-22T06:45:57.630Z"
   },
   {
    "duration": 0,
    "start_time": "2022-04-22T06:45:57.802Z"
   },
   {
    "duration": 0,
    "start_time": "2022-04-22T06:45:57.803Z"
   },
   {
    "duration": 0,
    "start_time": "2022-04-22T06:45:57.804Z"
   },
   {
    "duration": 0,
    "start_time": "2022-04-22T06:45:57.805Z"
   },
   {
    "duration": 0,
    "start_time": "2022-04-22T06:45:57.807Z"
   },
   {
    "duration": 0,
    "start_time": "2022-04-22T06:45:57.808Z"
   },
   {
    "duration": 0,
    "start_time": "2022-04-22T06:45:57.809Z"
   },
   {
    "duration": 0,
    "start_time": "2022-04-22T06:45:57.810Z"
   },
   {
    "duration": 0,
    "start_time": "2022-04-22T06:45:57.811Z"
   },
   {
    "duration": 0,
    "start_time": "2022-04-22T06:45:57.812Z"
   },
   {
    "duration": 0,
    "start_time": "2022-04-22T06:45:57.813Z"
   },
   {
    "duration": 0,
    "start_time": "2022-04-22T06:45:57.814Z"
   },
   {
    "duration": 0,
    "start_time": "2022-04-22T06:45:57.816Z"
   },
   {
    "duration": 0,
    "start_time": "2022-04-22T06:45:57.816Z"
   },
   {
    "duration": 0,
    "start_time": "2022-04-22T06:45:57.817Z"
   },
   {
    "duration": 0,
    "start_time": "2022-04-22T06:45:57.818Z"
   },
   {
    "duration": 0,
    "start_time": "2022-04-22T06:45:57.819Z"
   },
   {
    "duration": 0,
    "start_time": "2022-04-22T06:45:57.820Z"
   },
   {
    "duration": 0,
    "start_time": "2022-04-22T06:45:57.821Z"
   },
   {
    "duration": 0,
    "start_time": "2022-04-22T06:45:57.822Z"
   },
   {
    "duration": 0,
    "start_time": "2022-04-22T06:45:57.823Z"
   },
   {
    "duration": 0,
    "start_time": "2022-04-22T06:45:57.824Z"
   },
   {
    "duration": 0,
    "start_time": "2022-04-22T06:45:57.825Z"
   },
   {
    "duration": 0,
    "start_time": "2022-04-22T06:45:57.826Z"
   },
   {
    "duration": 0,
    "start_time": "2022-04-22T06:45:57.827Z"
   },
   {
    "duration": 0,
    "start_time": "2022-04-22T06:45:57.828Z"
   },
   {
    "duration": 0,
    "start_time": "2022-04-22T06:45:57.877Z"
   },
   {
    "duration": 0,
    "start_time": "2022-04-22T06:45:57.878Z"
   },
   {
    "duration": 0,
    "start_time": "2022-04-22T06:45:57.883Z"
   },
   {
    "duration": 0,
    "start_time": "2022-04-22T06:45:57.886Z"
   },
   {
    "duration": 0,
    "start_time": "2022-04-22T06:45:57.887Z"
   },
   {
    "duration": 0,
    "start_time": "2022-04-22T06:45:57.889Z"
   },
   {
    "duration": 0,
    "start_time": "2022-04-22T06:45:57.890Z"
   },
   {
    "duration": 0,
    "start_time": "2022-04-22T06:45:57.891Z"
   },
   {
    "duration": 0,
    "start_time": "2022-04-22T06:45:57.892Z"
   },
   {
    "duration": 0,
    "start_time": "2022-04-22T06:45:57.893Z"
   },
   {
    "duration": 0,
    "start_time": "2022-04-22T06:45:57.896Z"
   },
   {
    "duration": 0,
    "start_time": "2022-04-22T06:45:57.897Z"
   },
   {
    "duration": 0,
    "start_time": "2022-04-22T06:45:57.899Z"
   },
   {
    "duration": 0,
    "start_time": "2022-04-22T06:45:57.900Z"
   },
   {
    "duration": 0,
    "start_time": "2022-04-22T06:45:57.901Z"
   },
   {
    "duration": 0,
    "start_time": "2022-04-22T06:45:57.902Z"
   },
   {
    "duration": 0,
    "start_time": "2022-04-22T06:45:57.903Z"
   },
   {
    "duration": 0,
    "start_time": "2022-04-22T06:45:57.904Z"
   },
   {
    "duration": 0,
    "start_time": "2022-04-22T06:45:57.905Z"
   },
   {
    "duration": 0,
    "start_time": "2022-04-22T06:45:57.906Z"
   },
   {
    "duration": 34,
    "start_time": "2022-04-22T06:58:19.246Z"
   },
   {
    "duration": 17,
    "start_time": "2022-04-22T07:09:41.537Z"
   },
   {
    "duration": 18,
    "start_time": "2022-04-22T07:09:54.555Z"
   },
   {
    "duration": 10,
    "start_time": "2022-04-22T07:10:12.251Z"
   },
   {
    "duration": 11,
    "start_time": "2022-04-22T07:10:29.982Z"
   },
   {
    "duration": 10,
    "start_time": "2022-04-22T07:10:51.600Z"
   },
   {
    "duration": 45,
    "start_time": "2022-04-22T07:11:05.586Z"
   },
   {
    "duration": 47,
    "start_time": "2022-04-22T07:11:13.805Z"
   },
   {
    "duration": 53,
    "start_time": "2022-04-22T07:11:26.167Z"
   },
   {
    "duration": 52,
    "start_time": "2022-04-22T07:12:17.172Z"
   },
   {
    "duration": 9,
    "start_time": "2022-04-22T07:13:16.298Z"
   },
   {
    "duration": 16,
    "start_time": "2022-04-22T07:13:30.448Z"
   },
   {
    "duration": 72,
    "start_time": "2022-04-22T07:14:01.596Z"
   },
   {
    "duration": 13,
    "start_time": "2022-04-22T07:14:09.256Z"
   },
   {
    "duration": 12,
    "start_time": "2022-04-22T07:14:19.507Z"
   },
   {
    "duration": 94,
    "start_time": "2022-04-22T07:14:35.339Z"
   },
   {
    "duration": 132,
    "start_time": "2022-04-22T07:16:18.336Z"
   },
   {
    "duration": 192,
    "start_time": "2022-04-22T07:16:20.958Z"
   },
   {
    "duration": 189,
    "start_time": "2022-04-22T07:25:55.456Z"
   },
   {
    "duration": 207,
    "start_time": "2022-04-22T07:26:13.290Z"
   },
   {
    "duration": 197,
    "start_time": "2022-04-22T07:31:26.875Z"
   },
   {
    "duration": 15,
    "start_time": "2022-04-22T07:31:35.657Z"
   },
   {
    "duration": 115,
    "start_time": "2022-04-22T07:31:49.072Z"
   },
   {
    "duration": 45,
    "start_time": "2022-04-22T07:31:51.927Z"
   },
   {
    "duration": 18,
    "start_time": "2022-04-22T07:32:20.489Z"
   },
   {
    "duration": 17,
    "start_time": "2022-04-22T07:32:41.471Z"
   },
   {
    "duration": 17,
    "start_time": "2022-04-22T07:32:46.656Z"
   },
   {
    "duration": 31,
    "start_time": "2022-04-22T07:34:10.030Z"
   },
   {
    "duration": 43,
    "start_time": "2022-04-22T07:34:30.652Z"
   },
   {
    "duration": 26,
    "start_time": "2022-04-22T07:34:46.399Z"
   },
   {
    "duration": 21,
    "start_time": "2022-04-22T07:35:41.736Z"
   },
   {
    "duration": 14,
    "start_time": "2022-04-22T07:48:27.842Z"
   },
   {
    "duration": 11,
    "start_time": "2022-04-22T07:48:49.999Z"
   },
   {
    "duration": 1354,
    "start_time": "2022-04-22T07:49:23.870Z"
   },
   {
    "duration": 551,
    "start_time": "2022-04-22T07:49:25.226Z"
   },
   {
    "duration": 4,
    "start_time": "2022-04-22T07:49:25.779Z"
   },
   {
    "duration": 5,
    "start_time": "2022-04-22T07:49:25.785Z"
   },
   {
    "duration": 45,
    "start_time": "2022-04-22T07:49:25.792Z"
   },
   {
    "duration": 142,
    "start_time": "2022-04-22T07:49:25.839Z"
   },
   {
    "duration": 394,
    "start_time": "2022-04-22T07:49:25.982Z"
   },
   {
    "duration": 46,
    "start_time": "2022-04-22T07:49:26.377Z"
   },
   {
    "duration": 12,
    "start_time": "2022-04-22T07:49:26.425Z"
   },
   {
    "duration": 26,
    "start_time": "2022-04-22T07:49:26.473Z"
   },
   {
    "duration": 149,
    "start_time": "2022-04-22T07:49:26.501Z"
   },
   {
    "duration": 22,
    "start_time": "2022-04-22T07:49:26.652Z"
   },
   {
    "duration": 35,
    "start_time": "2022-04-22T07:49:26.676Z"
   },
   {
    "duration": 62,
    "start_time": "2022-04-22T07:49:26.712Z"
   },
   {
    "duration": 25,
    "start_time": "2022-04-22T07:49:26.776Z"
   },
   {
    "duration": 21,
    "start_time": "2022-04-22T07:49:26.803Z"
   },
   {
    "duration": 9,
    "start_time": "2022-04-22T07:49:26.825Z"
   },
   {
    "duration": 40,
    "start_time": "2022-04-22T07:49:26.836Z"
   },
   {
    "duration": 6,
    "start_time": "2022-04-22T07:49:26.878Z"
   },
   {
    "duration": 10,
    "start_time": "2022-04-22T07:49:26.885Z"
   },
   {
    "duration": 46,
    "start_time": "2022-04-22T07:49:26.897Z"
   },
   {
    "duration": 151,
    "start_time": "2022-04-22T07:49:26.945Z"
   },
   {
    "duration": 52,
    "start_time": "2022-04-22T07:49:27.097Z"
   },
   {
    "duration": 505,
    "start_time": "2022-04-22T07:49:27.151Z"
   },
   {
    "duration": 3,
    "start_time": "2022-04-22T07:49:27.658Z"
   },
   {
    "duration": 12,
    "start_time": "2022-04-22T07:49:27.662Z"
   },
   {
    "duration": 26,
    "start_time": "2022-04-22T07:49:27.675Z"
   },
   {
    "duration": 25,
    "start_time": "2022-04-22T07:49:27.705Z"
   },
   {
    "duration": 25,
    "start_time": "2022-04-22T07:49:27.731Z"
   },
   {
    "duration": 23,
    "start_time": "2022-04-22T07:49:27.774Z"
   },
   {
    "duration": 7,
    "start_time": "2022-04-22T07:49:27.799Z"
   },
   {
    "duration": 11,
    "start_time": "2022-04-22T07:49:27.807Z"
   },
   {
    "duration": 17,
    "start_time": "2022-04-22T07:49:27.819Z"
   },
   {
    "duration": 36,
    "start_time": "2022-04-22T07:49:27.838Z"
   },
   {
    "duration": 32,
    "start_time": "2022-04-22T07:49:27.876Z"
   },
   {
    "duration": 34,
    "start_time": "2022-04-22T07:49:27.910Z"
   },
   {
    "duration": 36,
    "start_time": "2022-04-22T07:49:27.945Z"
   },
   {
    "duration": 16,
    "start_time": "2022-04-22T07:49:27.982Z"
   },
   {
    "duration": 21,
    "start_time": "2022-04-22T07:49:28.000Z"
   },
   {
    "duration": 9,
    "start_time": "2022-04-22T07:49:28.023Z"
   },
   {
    "duration": 59,
    "start_time": "2022-04-22T07:49:28.034Z"
   },
   {
    "duration": 458,
    "start_time": "2022-04-22T07:49:28.095Z"
   },
   {
    "duration": 10,
    "start_time": "2022-04-22T07:49:28.554Z"
   },
   {
    "duration": 10,
    "start_time": "2022-04-22T07:49:28.565Z"
   },
   {
    "duration": 107,
    "start_time": "2022-04-22T07:49:28.576Z"
   },
   {
    "duration": 23,
    "start_time": "2022-04-22T07:49:28.685Z"
   },
   {
    "duration": 67,
    "start_time": "2022-04-22T07:49:28.709Z"
   },
   {
    "duration": 42,
    "start_time": "2022-04-22T07:49:28.778Z"
   },
   {
    "duration": 4,
    "start_time": "2022-04-22T07:49:28.822Z"
   },
   {
    "duration": 12,
    "start_time": "2022-04-22T07:49:28.828Z"
   },
   {
    "duration": 37,
    "start_time": "2022-04-22T07:49:28.841Z"
   },
   {
    "duration": 34,
    "start_time": "2022-04-22T07:49:28.880Z"
   },
   {
    "duration": 63,
    "start_time": "2022-04-22T07:49:28.915Z"
   },
   {
    "duration": 19,
    "start_time": "2022-04-22T07:49:28.980Z"
   },
   {
    "duration": 111,
    "start_time": "2022-04-22T07:49:29.001Z"
   },
   {
    "duration": 190,
    "start_time": "2022-04-22T07:49:29.113Z"
   },
   {
    "duration": 4,
    "start_time": "2022-04-22T07:49:29.304Z"
   },
   {
    "duration": 267,
    "start_time": "2022-04-22T07:49:29.309Z"
   },
   {
    "duration": 109,
    "start_time": "2022-04-22T07:49:29.577Z"
   },
   {
    "duration": 153,
    "start_time": "2022-04-22T07:49:29.688Z"
   },
   {
    "duration": 0,
    "start_time": "2022-04-22T07:49:29.843Z"
   },
   {
    "duration": 0,
    "start_time": "2022-04-22T07:49:29.845Z"
   },
   {
    "duration": 0,
    "start_time": "2022-04-22T07:49:29.846Z"
   },
   {
    "duration": 0,
    "start_time": "2022-04-22T07:49:29.847Z"
   },
   {
    "duration": 0,
    "start_time": "2022-04-22T07:49:29.848Z"
   },
   {
    "duration": 0,
    "start_time": "2022-04-22T07:49:29.849Z"
   },
   {
    "duration": 0,
    "start_time": "2022-04-22T07:49:29.850Z"
   },
   {
    "duration": 0,
    "start_time": "2022-04-22T07:49:29.852Z"
   },
   {
    "duration": 0,
    "start_time": "2022-04-22T07:49:29.853Z"
   },
   {
    "duration": 0,
    "start_time": "2022-04-22T07:49:29.854Z"
   },
   {
    "duration": 0,
    "start_time": "2022-04-22T07:49:29.872Z"
   },
   {
    "duration": 0,
    "start_time": "2022-04-22T07:49:29.874Z"
   },
   {
    "duration": 0,
    "start_time": "2022-04-22T07:49:29.875Z"
   },
   {
    "duration": 0,
    "start_time": "2022-04-22T07:49:29.876Z"
   },
   {
    "duration": 0,
    "start_time": "2022-04-22T07:49:29.877Z"
   },
   {
    "duration": 0,
    "start_time": "2022-04-22T07:49:29.878Z"
   },
   {
    "duration": 0,
    "start_time": "2022-04-22T07:49:29.879Z"
   },
   {
    "duration": 0,
    "start_time": "2022-04-22T07:49:29.880Z"
   },
   {
    "duration": 0,
    "start_time": "2022-04-22T07:49:29.881Z"
   },
   {
    "duration": 0,
    "start_time": "2022-04-22T07:49:29.882Z"
   },
   {
    "duration": 0,
    "start_time": "2022-04-22T07:49:29.883Z"
   },
   {
    "duration": 0,
    "start_time": "2022-04-22T07:49:29.883Z"
   },
   {
    "duration": 0,
    "start_time": "2022-04-22T07:49:29.884Z"
   },
   {
    "duration": 0,
    "start_time": "2022-04-22T07:49:29.885Z"
   },
   {
    "duration": 0,
    "start_time": "2022-04-22T07:49:29.886Z"
   },
   {
    "duration": 0,
    "start_time": "2022-04-22T07:49:29.888Z"
   },
   {
    "duration": 0,
    "start_time": "2022-04-22T07:49:29.888Z"
   },
   {
    "duration": 0,
    "start_time": "2022-04-22T07:49:29.890Z"
   },
   {
    "duration": 0,
    "start_time": "2022-04-22T07:49:29.891Z"
   },
   {
    "duration": 0,
    "start_time": "2022-04-22T07:49:29.892Z"
   },
   {
    "duration": 0,
    "start_time": "2022-04-22T07:49:29.893Z"
   },
   {
    "duration": 0,
    "start_time": "2022-04-22T07:49:29.894Z"
   },
   {
    "duration": 0,
    "start_time": "2022-04-22T07:49:29.895Z"
   },
   {
    "duration": 0,
    "start_time": "2022-04-22T07:49:29.896Z"
   },
   {
    "duration": 0,
    "start_time": "2022-04-22T07:49:29.897Z"
   },
   {
    "duration": 0,
    "start_time": "2022-04-22T07:49:29.898Z"
   },
   {
    "duration": 0,
    "start_time": "2022-04-22T07:49:29.899Z"
   },
   {
    "duration": 0,
    "start_time": "2022-04-22T07:49:29.900Z"
   },
   {
    "duration": 0,
    "start_time": "2022-04-22T07:49:29.901Z"
   },
   {
    "duration": 0,
    "start_time": "2022-04-22T07:49:29.902Z"
   },
   {
    "duration": 0,
    "start_time": "2022-04-22T07:49:29.903Z"
   },
   {
    "duration": 1,
    "start_time": "2022-04-22T07:49:29.903Z"
   },
   {
    "duration": 0,
    "start_time": "2022-04-22T07:49:29.904Z"
   },
   {
    "duration": 0,
    "start_time": "2022-04-22T07:49:29.905Z"
   },
   {
    "duration": 0,
    "start_time": "2022-04-22T07:49:29.906Z"
   },
   {
    "duration": 0,
    "start_time": "2022-04-22T07:49:29.907Z"
   },
   {
    "duration": 0,
    "start_time": "2022-04-22T07:49:29.908Z"
   },
   {
    "duration": 0,
    "start_time": "2022-04-22T07:49:29.973Z"
   },
   {
    "duration": 0,
    "start_time": "2022-04-22T07:49:29.974Z"
   },
   {
    "duration": 0,
    "start_time": "2022-04-22T07:49:29.975Z"
   },
   {
    "duration": 1317,
    "start_time": "2022-04-22T08:01:28.481Z"
   },
   {
    "duration": 575,
    "start_time": "2022-04-22T08:01:29.800Z"
   },
   {
    "duration": 4,
    "start_time": "2022-04-22T08:01:30.377Z"
   },
   {
    "duration": 17,
    "start_time": "2022-04-22T08:01:30.383Z"
   },
   {
    "duration": 51,
    "start_time": "2022-04-22T08:01:30.401Z"
   },
   {
    "duration": 131,
    "start_time": "2022-04-22T08:01:30.454Z"
   },
   {
    "duration": 407,
    "start_time": "2022-04-22T08:01:30.586Z"
   },
   {
    "duration": 50,
    "start_time": "2022-04-22T08:01:30.995Z"
   },
   {
    "duration": 14,
    "start_time": "2022-04-22T08:01:31.072Z"
   },
   {
    "duration": 40,
    "start_time": "2022-04-22T08:01:31.089Z"
   },
   {
    "duration": 158,
    "start_time": "2022-04-22T08:01:31.131Z"
   },
   {
    "duration": 5,
    "start_time": "2022-04-22T08:01:31.291Z"
   },
   {
    "duration": 49,
    "start_time": "2022-04-22T08:01:31.297Z"
   },
   {
    "duration": 53,
    "start_time": "2022-04-22T08:01:31.348Z"
   },
   {
    "duration": 23,
    "start_time": "2022-04-22T08:01:31.403Z"
   },
   {
    "duration": 24,
    "start_time": "2022-04-22T08:01:31.428Z"
   },
   {
    "duration": 27,
    "start_time": "2022-04-22T08:01:31.454Z"
   },
   {
    "duration": 9,
    "start_time": "2022-04-22T08:01:31.482Z"
   },
   {
    "duration": 33,
    "start_time": "2022-04-22T08:01:31.493Z"
   },
   {
    "duration": 15,
    "start_time": "2022-04-22T08:01:31.528Z"
   },
   {
    "duration": 86,
    "start_time": "2022-04-22T08:01:31.545Z"
   },
   {
    "duration": 124,
    "start_time": "2022-04-22T08:01:31.633Z"
   },
   {
    "duration": 57,
    "start_time": "2022-04-22T08:01:31.758Z"
   },
   {
    "duration": 517,
    "start_time": "2022-04-22T08:01:31.817Z"
   },
   {
    "duration": 2,
    "start_time": "2022-04-22T08:01:32.336Z"
   },
   {
    "duration": 10,
    "start_time": "2022-04-22T08:01:32.340Z"
   },
   {
    "duration": 16,
    "start_time": "2022-04-22T08:01:32.352Z"
   },
   {
    "duration": 25,
    "start_time": "2022-04-22T08:01:32.375Z"
   },
   {
    "duration": 27,
    "start_time": "2022-04-22T08:01:32.402Z"
   },
   {
    "duration": 52,
    "start_time": "2022-04-22T08:01:32.430Z"
   },
   {
    "duration": 7,
    "start_time": "2022-04-22T08:01:32.483Z"
   },
   {
    "duration": 8,
    "start_time": "2022-04-22T08:01:32.492Z"
   },
   {
    "duration": 15,
    "start_time": "2022-04-22T08:01:32.502Z"
   },
   {
    "duration": 12,
    "start_time": "2022-04-22T08:01:32.518Z"
   },
   {
    "duration": 55,
    "start_time": "2022-04-22T08:01:32.532Z"
   },
   {
    "duration": 33,
    "start_time": "2022-04-22T08:01:32.589Z"
   },
   {
    "duration": 11,
    "start_time": "2022-04-22T08:01:32.624Z"
   },
   {
    "duration": 43,
    "start_time": "2022-04-22T08:01:32.636Z"
   },
   {
    "duration": 21,
    "start_time": "2022-04-22T08:01:32.680Z"
   },
   {
    "duration": 8,
    "start_time": "2022-04-22T08:01:32.702Z"
   },
   {
    "duration": 27,
    "start_time": "2022-04-22T08:01:32.712Z"
   },
   {
    "duration": 469,
    "start_time": "2022-04-22T08:01:32.741Z"
   },
   {
    "duration": 8,
    "start_time": "2022-04-22T08:01:33.212Z"
   },
   {
    "duration": 51,
    "start_time": "2022-04-22T08:01:33.222Z"
   },
   {
    "duration": 99,
    "start_time": "2022-04-22T08:01:33.275Z"
   },
   {
    "duration": 21,
    "start_time": "2022-04-22T08:01:33.376Z"
   },
   {
    "duration": 22,
    "start_time": "2022-04-22T08:01:33.399Z"
   },
   {
    "duration": 61,
    "start_time": "2022-04-22T08:01:33.423Z"
   },
   {
    "duration": 4,
    "start_time": "2022-04-22T08:01:33.485Z"
   },
   {
    "duration": 20,
    "start_time": "2022-04-22T08:01:33.490Z"
   },
   {
    "duration": 18,
    "start_time": "2022-04-22T08:01:33.512Z"
   },
   {
    "duration": 54,
    "start_time": "2022-04-22T08:01:33.531Z"
   },
   {
    "duration": 44,
    "start_time": "2022-04-22T08:01:33.587Z"
   },
   {
    "duration": 43,
    "start_time": "2022-04-22T08:01:33.632Z"
   },
   {
    "duration": 109,
    "start_time": "2022-04-22T08:01:33.677Z"
   },
   {
    "duration": 192,
    "start_time": "2022-04-22T08:01:33.788Z"
   },
   {
    "duration": 4,
    "start_time": "2022-04-22T08:01:33.981Z"
   },
   {
    "duration": 266,
    "start_time": "2022-04-22T08:01:33.987Z"
   },
   {
    "duration": 103,
    "start_time": "2022-04-22T08:01:34.254Z"
   },
   {
    "duration": 155,
    "start_time": "2022-04-22T08:01:34.359Z"
   },
   {
    "duration": 0,
    "start_time": "2022-04-22T08:01:34.517Z"
   },
   {
    "duration": 0,
    "start_time": "2022-04-22T08:01:34.517Z"
   },
   {
    "duration": 0,
    "start_time": "2022-04-22T08:01:34.518Z"
   },
   {
    "duration": 0,
    "start_time": "2022-04-22T08:01:34.519Z"
   },
   {
    "duration": 0,
    "start_time": "2022-04-22T08:01:34.520Z"
   },
   {
    "duration": 0,
    "start_time": "2022-04-22T08:01:34.521Z"
   },
   {
    "duration": 0,
    "start_time": "2022-04-22T08:01:34.522Z"
   },
   {
    "duration": 0,
    "start_time": "2022-04-22T08:01:34.523Z"
   },
   {
    "duration": 0,
    "start_time": "2022-04-22T08:01:34.524Z"
   },
   {
    "duration": 0,
    "start_time": "2022-04-22T08:01:34.525Z"
   },
   {
    "duration": 0,
    "start_time": "2022-04-22T08:01:34.526Z"
   },
   {
    "duration": 0,
    "start_time": "2022-04-22T08:01:34.527Z"
   },
   {
    "duration": 0,
    "start_time": "2022-04-22T08:01:34.528Z"
   },
   {
    "duration": 0,
    "start_time": "2022-04-22T08:01:34.529Z"
   },
   {
    "duration": 0,
    "start_time": "2022-04-22T08:01:34.530Z"
   },
   {
    "duration": 0,
    "start_time": "2022-04-22T08:01:34.530Z"
   },
   {
    "duration": 0,
    "start_time": "2022-04-22T08:01:34.531Z"
   },
   {
    "duration": 0,
    "start_time": "2022-04-22T08:01:34.532Z"
   },
   {
    "duration": 0,
    "start_time": "2022-04-22T08:01:34.533Z"
   },
   {
    "duration": 0,
    "start_time": "2022-04-22T08:01:34.534Z"
   },
   {
    "duration": 0,
    "start_time": "2022-04-22T08:01:34.535Z"
   },
   {
    "duration": 0,
    "start_time": "2022-04-22T08:01:34.536Z"
   },
   {
    "duration": 0,
    "start_time": "2022-04-22T08:01:34.537Z"
   },
   {
    "duration": 0,
    "start_time": "2022-04-22T08:01:34.537Z"
   },
   {
    "duration": 0,
    "start_time": "2022-04-22T08:01:34.574Z"
   },
   {
    "duration": 0,
    "start_time": "2022-04-22T08:01:34.575Z"
   },
   {
    "duration": 0,
    "start_time": "2022-04-22T08:01:34.576Z"
   },
   {
    "duration": 0,
    "start_time": "2022-04-22T08:01:34.576Z"
   },
   {
    "duration": 0,
    "start_time": "2022-04-22T08:01:34.577Z"
   },
   {
    "duration": 0,
    "start_time": "2022-04-22T08:01:34.578Z"
   },
   {
    "duration": 0,
    "start_time": "2022-04-22T08:01:34.580Z"
   },
   {
    "duration": 0,
    "start_time": "2022-04-22T08:01:34.580Z"
   },
   {
    "duration": 0,
    "start_time": "2022-04-22T08:01:34.581Z"
   },
   {
    "duration": 0,
    "start_time": "2022-04-22T08:01:34.582Z"
   },
   {
    "duration": 0,
    "start_time": "2022-04-22T08:01:34.583Z"
   },
   {
    "duration": 0,
    "start_time": "2022-04-22T08:01:34.584Z"
   },
   {
    "duration": 0,
    "start_time": "2022-04-22T08:01:34.585Z"
   },
   {
    "duration": 0,
    "start_time": "2022-04-22T08:01:34.586Z"
   },
   {
    "duration": 0,
    "start_time": "2022-04-22T08:01:34.587Z"
   },
   {
    "duration": 0,
    "start_time": "2022-04-22T08:01:34.588Z"
   },
   {
    "duration": 0,
    "start_time": "2022-04-22T08:01:34.589Z"
   },
   {
    "duration": 0,
    "start_time": "2022-04-22T08:01:34.590Z"
   },
   {
    "duration": 0,
    "start_time": "2022-04-22T08:01:34.591Z"
   },
   {
    "duration": 0,
    "start_time": "2022-04-22T08:01:34.592Z"
   },
   {
    "duration": 0,
    "start_time": "2022-04-22T08:01:34.594Z"
   },
   {
    "duration": 0,
    "start_time": "2022-04-22T08:01:34.595Z"
   },
   {
    "duration": 0,
    "start_time": "2022-04-22T08:01:34.596Z"
   },
   {
    "duration": 0,
    "start_time": "2022-04-22T08:01:34.597Z"
   },
   {
    "duration": 0,
    "start_time": "2022-04-22T08:01:34.598Z"
   },
   {
    "duration": 0,
    "start_time": "2022-04-22T08:01:34.598Z"
   },
   {
    "duration": 0,
    "start_time": "2022-04-22T08:01:34.599Z"
   },
   {
    "duration": 1453,
    "start_time": "2022-04-22T08:01:58.841Z"
   },
   {
    "duration": 585,
    "start_time": "2022-04-22T08:02:00.296Z"
   },
   {
    "duration": 4,
    "start_time": "2022-04-22T08:02:00.883Z"
   },
   {
    "duration": 25,
    "start_time": "2022-04-22T08:02:00.889Z"
   },
   {
    "duration": 45,
    "start_time": "2022-04-22T08:02:00.916Z"
   },
   {
    "duration": 146,
    "start_time": "2022-04-22T08:02:00.963Z"
   },
   {
    "duration": 430,
    "start_time": "2022-04-22T08:02:01.111Z"
   },
   {
    "duration": 66,
    "start_time": "2022-04-22T08:02:01.543Z"
   },
   {
    "duration": 14,
    "start_time": "2022-04-22T08:02:01.612Z"
   },
   {
    "duration": 60,
    "start_time": "2022-04-22T08:02:01.630Z"
   },
   {
    "duration": 153,
    "start_time": "2022-04-22T08:02:01.692Z"
   },
   {
    "duration": 7,
    "start_time": "2022-04-22T08:02:01.847Z"
   },
   {
    "duration": 37,
    "start_time": "2022-04-22T08:02:01.874Z"
   },
   {
    "duration": 72,
    "start_time": "2022-04-22T08:02:01.913Z"
   },
   {
    "duration": 27,
    "start_time": "2022-04-22T08:02:01.987Z"
   },
   {
    "duration": 39,
    "start_time": "2022-04-22T08:02:02.017Z"
   },
   {
    "duration": 22,
    "start_time": "2022-04-22T08:02:02.059Z"
   },
   {
    "duration": 62,
    "start_time": "2022-04-22T08:02:02.084Z"
   },
   {
    "duration": 40,
    "start_time": "2022-04-22T08:02:02.148Z"
   },
   {
    "duration": 19,
    "start_time": "2022-04-22T08:02:02.189Z"
   },
   {
    "duration": 77,
    "start_time": "2022-04-22T08:02:02.209Z"
   },
   {
    "duration": 129,
    "start_time": "2022-04-22T08:02:02.288Z"
   },
   {
    "duration": 64,
    "start_time": "2022-04-22T08:02:02.419Z"
   },
   {
    "duration": 508,
    "start_time": "2022-04-22T08:02:02.484Z"
   },
   {
    "duration": 2,
    "start_time": "2022-04-22T08:02:02.994Z"
   },
   {
    "duration": 51,
    "start_time": "2022-04-22T08:02:02.998Z"
   },
   {
    "duration": 52,
    "start_time": "2022-04-22T08:02:03.051Z"
   },
   {
    "duration": 35,
    "start_time": "2022-04-22T08:02:03.108Z"
   },
   {
    "duration": 46,
    "start_time": "2022-04-22T08:02:03.145Z"
   },
   {
    "duration": 37,
    "start_time": "2022-04-22T08:02:03.193Z"
   },
   {
    "duration": 20,
    "start_time": "2022-04-22T08:02:03.234Z"
   },
   {
    "duration": 41,
    "start_time": "2022-04-22T08:02:03.260Z"
   },
   {
    "duration": 25,
    "start_time": "2022-04-22T08:02:03.304Z"
   },
   {
    "duration": 18,
    "start_time": "2022-04-22T08:02:03.331Z"
   },
   {
    "duration": 44,
    "start_time": "2022-04-22T08:02:03.350Z"
   },
   {
    "duration": 43,
    "start_time": "2022-04-22T08:02:03.396Z"
   },
   {
    "duration": 35,
    "start_time": "2022-04-22T08:02:03.441Z"
   },
   {
    "duration": 26,
    "start_time": "2022-04-22T08:02:03.479Z"
   },
   {
    "duration": 21,
    "start_time": "2022-04-22T08:02:03.507Z"
   },
   {
    "duration": 11,
    "start_time": "2022-04-22T08:02:03.530Z"
   },
   {
    "duration": 51,
    "start_time": "2022-04-22T08:02:03.543Z"
   },
   {
    "duration": 521,
    "start_time": "2022-04-22T08:02:03.596Z"
   },
   {
    "duration": 10,
    "start_time": "2022-04-22T08:02:04.119Z"
   },
   {
    "duration": 49,
    "start_time": "2022-04-22T08:02:04.131Z"
   },
   {
    "duration": 102,
    "start_time": "2022-04-22T08:02:04.181Z"
   },
   {
    "duration": 24,
    "start_time": "2022-04-22T08:02:04.285Z"
   },
   {
    "duration": 26,
    "start_time": "2022-04-22T08:02:04.310Z"
   },
   {
    "duration": 66,
    "start_time": "2022-04-22T08:02:04.338Z"
   },
   {
    "duration": 4,
    "start_time": "2022-04-22T08:02:04.406Z"
   },
   {
    "duration": 13,
    "start_time": "2022-04-22T08:02:04.412Z"
   },
   {
    "duration": 18,
    "start_time": "2022-04-22T08:02:04.427Z"
   },
   {
    "duration": 40,
    "start_time": "2022-04-22T08:02:04.474Z"
   },
   {
    "duration": 73,
    "start_time": "2022-04-22T08:02:04.515Z"
   },
   {
    "duration": 22,
    "start_time": "2022-04-22T08:02:04.589Z"
   },
   {
    "duration": 126,
    "start_time": "2022-04-22T08:02:04.613Z"
   },
   {
    "duration": 209,
    "start_time": "2022-04-22T08:02:04.741Z"
   },
   {
    "duration": 5,
    "start_time": "2022-04-22T08:02:04.951Z"
   },
   {
    "duration": 275,
    "start_time": "2022-04-22T08:02:04.973Z"
   },
   {
    "duration": 111,
    "start_time": "2022-04-22T08:02:05.249Z"
   },
   {
    "duration": 188,
    "start_time": "2022-04-22T08:02:05.361Z"
   },
   {
    "duration": 50,
    "start_time": "2022-04-22T08:02:05.551Z"
   },
   {
    "duration": 341,
    "start_time": "2022-04-22T08:02:05.603Z"
   },
   {
    "duration": 37,
    "start_time": "2022-04-22T08:02:05.946Z"
   },
   {
    "duration": 32,
    "start_time": "2022-04-22T08:02:05.984Z"
   },
   {
    "duration": 28,
    "start_time": "2022-04-22T08:02:06.018Z"
   },
   {
    "duration": 177,
    "start_time": "2022-04-22T08:02:06.048Z"
   },
   {
    "duration": 199,
    "start_time": "2022-04-22T08:02:06.227Z"
   },
   {
    "duration": 30,
    "start_time": "2022-04-22T08:02:06.428Z"
   },
   {
    "duration": 34,
    "start_time": "2022-04-22T08:02:06.460Z"
   },
   {
    "duration": 225,
    "start_time": "2022-04-22T08:02:06.496Z"
   },
   {
    "duration": 58,
    "start_time": "2022-04-22T08:02:06.723Z"
   },
   {
    "duration": 10,
    "start_time": "2022-04-22T08:02:06.782Z"
   },
   {
    "duration": 53,
    "start_time": "2022-04-22T08:02:06.793Z"
   },
   {
    "duration": 8,
    "start_time": "2022-04-22T08:02:06.847Z"
   },
   {
    "duration": 180,
    "start_time": "2022-04-22T08:02:06.874Z"
   },
   {
    "duration": 117,
    "start_time": "2022-04-22T08:02:07.056Z"
   },
   {
    "duration": 6,
    "start_time": "2022-04-22T08:02:07.175Z"
   },
   {
    "duration": 126,
    "start_time": "2022-04-22T08:02:07.183Z"
   },
   {
    "duration": 7,
    "start_time": "2022-04-22T08:02:07.311Z"
   },
   {
    "duration": 467,
    "start_time": "2022-04-22T08:02:07.320Z"
   },
   {
    "duration": 29,
    "start_time": "2022-04-22T08:02:07.788Z"
   },
   {
    "duration": 6,
    "start_time": "2022-04-22T08:02:07.823Z"
   },
   {
    "duration": 1264,
    "start_time": "2022-04-22T08:02:07.831Z"
   },
   {
    "duration": 185,
    "start_time": "2022-04-22T08:02:09.096Z"
   },
   {
    "duration": 15,
    "start_time": "2022-04-22T08:02:09.282Z"
   },
   {
    "duration": 10,
    "start_time": "2022-04-22T08:02:09.299Z"
   },
   {
    "duration": 14,
    "start_time": "2022-04-22T08:02:09.310Z"
   },
   {
    "duration": 23,
    "start_time": "2022-04-22T08:02:09.326Z"
   },
   {
    "duration": 36,
    "start_time": "2022-04-22T08:02:09.351Z"
   },
   {
    "duration": 25,
    "start_time": "2022-04-22T08:02:09.389Z"
   },
   {
    "duration": 17,
    "start_time": "2022-04-22T08:02:09.415Z"
   },
   {
    "duration": 41,
    "start_time": "2022-04-22T08:02:09.434Z"
   },
   {
    "duration": 206,
    "start_time": "2022-04-22T08:02:09.477Z"
   },
   {
    "duration": 66,
    "start_time": "2022-04-22T08:02:09.685Z"
   },
   {
    "duration": 405,
    "start_time": "2022-04-22T08:02:09.753Z"
   },
   {
    "duration": 3,
    "start_time": "2022-04-22T08:02:10.159Z"
   },
   {
    "duration": 39,
    "start_time": "2022-04-22T08:02:10.163Z"
   },
   {
    "duration": 14,
    "start_time": "2022-04-22T08:02:10.203Z"
   },
   {
    "duration": 35,
    "start_time": "2022-04-22T08:02:10.218Z"
   },
   {
    "duration": 19,
    "start_time": "2022-04-22T08:02:10.254Z"
   },
   {
    "duration": 21,
    "start_time": "2022-04-22T08:02:10.275Z"
   },
   {
    "duration": 23,
    "start_time": "2022-04-22T08:02:10.298Z"
   },
   {
    "duration": 6,
    "start_time": "2022-04-22T08:02:10.323Z"
   },
   {
    "duration": 26,
    "start_time": "2022-04-22T08:02:10.331Z"
   },
   {
    "duration": 23,
    "start_time": "2022-04-22T08:02:10.373Z"
   },
   {
    "duration": 7,
    "start_time": "2022-04-22T08:02:10.397Z"
   },
   {
    "duration": 25,
    "start_time": "2022-04-22T08:02:10.405Z"
   },
   {
    "duration": 6,
    "start_time": "2022-04-22T08:02:10.432Z"
   },
   {
    "duration": 45,
    "start_time": "2022-04-22T08:02:10.439Z"
   },
   {
    "duration": 9,
    "start_time": "2022-04-22T08:02:10.485Z"
   },
   {
    "duration": 110,
    "start_time": "2022-04-22T11:29:56.836Z"
   },
   {
    "duration": 2537,
    "start_time": "2022-04-22T11:30:16.695Z"
   },
   {
    "duration": 2639,
    "start_time": "2022-04-22T11:30:19.235Z"
   },
   {
    "duration": 6,
    "start_time": "2022-04-22T11:30:21.877Z"
   },
   {
    "duration": 61,
    "start_time": "2022-04-22T11:30:21.887Z"
   },
   {
    "duration": 79,
    "start_time": "2022-04-22T11:30:21.951Z"
   },
   {
    "duration": 239,
    "start_time": "2022-04-22T11:30:22.033Z"
   },
   {
    "duration": 694,
    "start_time": "2022-04-22T11:30:22.292Z"
   },
   {
    "duration": 157,
    "start_time": "2022-04-22T11:30:22.994Z"
   },
   {
    "duration": 20,
    "start_time": "2022-04-22T11:30:23.154Z"
   },
   {
    "duration": 87,
    "start_time": "2022-04-22T11:30:23.176Z"
   },
   {
    "duration": 310,
    "start_time": "2022-04-22T11:30:23.266Z"
   },
   {
    "duration": 13,
    "start_time": "2022-04-22T11:30:23.579Z"
   },
   {
    "duration": 83,
    "start_time": "2022-04-22T11:30:23.597Z"
   },
   {
    "duration": 89,
    "start_time": "2022-04-22T11:30:23.691Z"
   },
   {
    "duration": 56,
    "start_time": "2022-04-22T11:30:23.783Z"
   },
   {
    "duration": 56,
    "start_time": "2022-04-22T11:30:23.842Z"
   },
   {
    "duration": 21,
    "start_time": "2022-04-22T11:30:23.900Z"
   },
   {
    "duration": 22,
    "start_time": "2022-04-22T11:30:23.931Z"
   },
   {
    "duration": 7,
    "start_time": "2022-04-22T11:30:23.956Z"
   },
   {
    "duration": 23,
    "start_time": "2022-04-22T11:30:23.966Z"
   },
   {
    "duration": 127,
    "start_time": "2022-04-22T11:30:23.993Z"
   },
   {
    "duration": 261,
    "start_time": "2022-04-22T11:30:24.122Z"
   },
   {
    "duration": 102,
    "start_time": "2022-04-22T11:30:24.385Z"
   },
   {
    "duration": 1047,
    "start_time": "2022-04-22T11:30:24.489Z"
   },
   {
    "duration": 3,
    "start_time": "2022-04-22T11:30:25.543Z"
   },
   {
    "duration": 12,
    "start_time": "2022-04-22T11:30:25.549Z"
   },
   {
    "duration": 29,
    "start_time": "2022-04-22T11:30:25.563Z"
   },
   {
    "duration": 81,
    "start_time": "2022-04-22T11:30:25.595Z"
   },
   {
    "duration": 52,
    "start_time": "2022-04-22T11:30:25.679Z"
   },
   {
    "duration": 60,
    "start_time": "2022-04-22T11:30:25.734Z"
   },
   {
    "duration": 26,
    "start_time": "2022-04-22T11:30:25.797Z"
   },
   {
    "duration": 34,
    "start_time": "2022-04-22T11:30:25.826Z"
   },
   {
    "duration": 17,
    "start_time": "2022-04-22T11:30:25.863Z"
   },
   {
    "duration": 32,
    "start_time": "2022-04-22T11:30:25.891Z"
   },
   {
    "duration": 73,
    "start_time": "2022-04-22T11:30:25.925Z"
   },
   {
    "duration": 67,
    "start_time": "2022-04-22T11:30:26.001Z"
   },
   {
    "duration": 255,
    "start_time": "2022-04-22T11:30:26.070Z"
   },
   {
    "duration": 0,
    "start_time": "2022-04-22T11:30:26.338Z"
   },
   {
    "duration": 0,
    "start_time": "2022-04-22T11:30:26.340Z"
   },
   {
    "duration": 0,
    "start_time": "2022-04-22T11:30:26.343Z"
   },
   {
    "duration": 0,
    "start_time": "2022-04-22T11:30:26.345Z"
   },
   {
    "duration": 0,
    "start_time": "2022-04-22T11:30:26.348Z"
   },
   {
    "duration": 0,
    "start_time": "2022-04-22T11:30:26.350Z"
   },
   {
    "duration": 0,
    "start_time": "2022-04-22T11:30:26.352Z"
   },
   {
    "duration": 0,
    "start_time": "2022-04-22T11:30:26.355Z"
   },
   {
    "duration": 0,
    "start_time": "2022-04-22T11:30:26.387Z"
   },
   {
    "duration": 0,
    "start_time": "2022-04-22T11:30:26.390Z"
   },
   {
    "duration": 0,
    "start_time": "2022-04-22T11:30:26.394Z"
   },
   {
    "duration": 0,
    "start_time": "2022-04-22T11:30:26.399Z"
   },
   {
    "duration": 0,
    "start_time": "2022-04-22T11:30:26.401Z"
   },
   {
    "duration": 0,
    "start_time": "2022-04-22T11:30:26.405Z"
   },
   {
    "duration": 0,
    "start_time": "2022-04-22T11:30:26.407Z"
   },
   {
    "duration": 0,
    "start_time": "2022-04-22T11:30:26.409Z"
   },
   {
    "duration": 0,
    "start_time": "2022-04-22T11:30:26.415Z"
   },
   {
    "duration": 1,
    "start_time": "2022-04-22T11:30:26.424Z"
   },
   {
    "duration": 0,
    "start_time": "2022-04-22T11:30:26.426Z"
   },
   {
    "duration": 0,
    "start_time": "2022-04-22T11:30:26.433Z"
   },
   {
    "duration": 0,
    "start_time": "2022-04-22T11:30:26.437Z"
   },
   {
    "duration": 0,
    "start_time": "2022-04-22T11:30:26.439Z"
   },
   {
    "duration": 0,
    "start_time": "2022-04-22T11:30:26.443Z"
   },
   {
    "duration": 0,
    "start_time": "2022-04-22T11:30:26.444Z"
   },
   {
    "duration": 0,
    "start_time": "2022-04-22T11:30:26.449Z"
   },
   {
    "duration": 0,
    "start_time": "2022-04-22T11:30:26.450Z"
   },
   {
    "duration": 0,
    "start_time": "2022-04-22T11:30:26.451Z"
   },
   {
    "duration": 0,
    "start_time": "2022-04-22T11:30:26.453Z"
   },
   {
    "duration": 0,
    "start_time": "2022-04-22T11:30:26.516Z"
   },
   {
    "duration": 0,
    "start_time": "2022-04-22T11:30:26.521Z"
   },
   {
    "duration": 0,
    "start_time": "2022-04-22T11:30:26.523Z"
   },
   {
    "duration": 0,
    "start_time": "2022-04-22T11:30:26.525Z"
   },
   {
    "duration": 0,
    "start_time": "2022-04-22T11:30:26.527Z"
   },
   {
    "duration": 0,
    "start_time": "2022-04-22T11:30:26.529Z"
   },
   {
    "duration": 0,
    "start_time": "2022-04-22T11:30:26.532Z"
   },
   {
    "duration": 0,
    "start_time": "2022-04-22T11:30:26.535Z"
   },
   {
    "duration": 0,
    "start_time": "2022-04-22T11:30:26.537Z"
   },
   {
    "duration": 0,
    "start_time": "2022-04-22T11:30:26.539Z"
   },
   {
    "duration": 0,
    "start_time": "2022-04-22T11:30:26.541Z"
   },
   {
    "duration": 0,
    "start_time": "2022-04-22T11:30:26.542Z"
   },
   {
    "duration": 0,
    "start_time": "2022-04-22T11:30:26.544Z"
   },
   {
    "duration": 0,
    "start_time": "2022-04-22T11:30:26.545Z"
   },
   {
    "duration": 0,
    "start_time": "2022-04-22T11:30:26.546Z"
   },
   {
    "duration": 0,
    "start_time": "2022-04-22T11:30:26.548Z"
   },
   {
    "duration": 0,
    "start_time": "2022-04-22T11:30:26.549Z"
   },
   {
    "duration": 0,
    "start_time": "2022-04-22T11:30:26.551Z"
   },
   {
    "duration": 0,
    "start_time": "2022-04-22T11:30:26.553Z"
   },
   {
    "duration": 0,
    "start_time": "2022-04-22T11:30:26.554Z"
   },
   {
    "duration": 0,
    "start_time": "2022-04-22T11:30:26.555Z"
   },
   {
    "duration": 0,
    "start_time": "2022-04-22T11:30:26.557Z"
   },
   {
    "duration": 1,
    "start_time": "2022-04-22T11:30:26.558Z"
   },
   {
    "duration": 0,
    "start_time": "2022-04-22T11:30:26.560Z"
   },
   {
    "duration": 0,
    "start_time": "2022-04-22T11:30:26.561Z"
   },
   {
    "duration": 0,
    "start_time": "2022-04-22T11:30:26.563Z"
   },
   {
    "duration": 0,
    "start_time": "2022-04-22T11:30:26.582Z"
   },
   {
    "duration": 0,
    "start_time": "2022-04-22T11:30:26.583Z"
   },
   {
    "duration": 1,
    "start_time": "2022-04-22T11:30:26.599Z"
   },
   {
    "duration": 0,
    "start_time": "2022-04-22T11:30:26.601Z"
   },
   {
    "duration": 0,
    "start_time": "2022-04-22T11:30:26.609Z"
   },
   {
    "duration": 0,
    "start_time": "2022-04-22T11:30:26.611Z"
   },
   {
    "duration": 0,
    "start_time": "2022-04-22T11:30:26.620Z"
   },
   {
    "duration": 0,
    "start_time": "2022-04-22T11:30:26.622Z"
   },
   {
    "duration": 0,
    "start_time": "2022-04-22T11:30:26.625Z"
   },
   {
    "duration": 0,
    "start_time": "2022-04-22T11:30:26.627Z"
   },
   {
    "duration": 0,
    "start_time": "2022-04-22T11:30:26.629Z"
   },
   {
    "duration": 0,
    "start_time": "2022-04-22T11:30:26.633Z"
   },
   {
    "duration": 0,
    "start_time": "2022-04-22T11:30:26.640Z"
   },
   {
    "duration": 0,
    "start_time": "2022-04-22T11:30:26.642Z"
   },
   {
    "duration": 0,
    "start_time": "2022-04-22T11:30:26.644Z"
   },
   {
    "duration": 0,
    "start_time": "2022-04-22T11:30:26.645Z"
   },
   {
    "duration": 0,
    "start_time": "2022-04-22T11:30:26.647Z"
   },
   {
    "duration": 0,
    "start_time": "2022-04-22T11:30:26.651Z"
   },
   {
    "duration": 0,
    "start_time": "2022-04-22T11:30:26.682Z"
   },
   {
    "duration": 17,
    "start_time": "2022-04-22T11:30:48.259Z"
   },
   {
    "duration": 1458,
    "start_time": "2022-04-22T20:27:50.195Z"
   },
   {
    "duration": 590,
    "start_time": "2022-04-22T20:27:51.655Z"
   },
   {
    "duration": 4,
    "start_time": "2022-04-22T20:27:52.246Z"
   },
   {
    "duration": 5,
    "start_time": "2022-04-22T20:27:52.252Z"
   },
   {
    "duration": 47,
    "start_time": "2022-04-22T20:27:52.258Z"
   },
   {
    "duration": 140,
    "start_time": "2022-04-22T20:27:52.307Z"
   },
   {
    "duration": 419,
    "start_time": "2022-04-22T20:27:52.449Z"
   },
   {
    "duration": 46,
    "start_time": "2022-04-22T20:27:52.873Z"
   },
   {
    "duration": 12,
    "start_time": "2022-04-22T20:27:52.921Z"
   },
   {
    "duration": 51,
    "start_time": "2022-04-22T20:27:52.936Z"
   },
   {
    "duration": 154,
    "start_time": "2022-04-22T20:27:52.989Z"
   },
   {
    "duration": 5,
    "start_time": "2022-04-22T20:27:53.144Z"
   },
   {
    "duration": 55,
    "start_time": "2022-04-22T20:27:53.151Z"
   },
   {
    "duration": 45,
    "start_time": "2022-04-22T20:27:53.208Z"
   },
   {
    "duration": 35,
    "start_time": "2022-04-22T20:27:53.255Z"
   },
   {
    "duration": 18,
    "start_time": "2022-04-22T20:27:53.292Z"
   },
   {
    "duration": 8,
    "start_time": "2022-04-22T20:27:53.312Z"
   },
   {
    "duration": 6,
    "start_time": "2022-04-22T20:27:53.322Z"
   },
   {
    "duration": 12,
    "start_time": "2022-04-22T20:27:53.329Z"
   },
   {
    "duration": 9,
    "start_time": "2022-04-22T20:27:53.373Z"
   },
   {
    "duration": 46,
    "start_time": "2022-04-22T20:27:53.384Z"
   },
   {
    "duration": 149,
    "start_time": "2022-04-22T20:27:53.432Z"
   },
   {
    "duration": 53,
    "start_time": "2022-04-22T20:27:53.582Z"
   },
   {
    "duration": 508,
    "start_time": "2022-04-22T20:27:53.637Z"
   },
   {
    "duration": 2,
    "start_time": "2022-04-22T20:27:54.147Z"
   },
   {
    "duration": 6,
    "start_time": "2022-04-22T20:27:54.151Z"
   },
   {
    "duration": 24,
    "start_time": "2022-04-22T20:27:54.158Z"
   },
   {
    "duration": 24,
    "start_time": "2022-04-22T20:27:54.187Z"
   },
   {
    "duration": 25,
    "start_time": "2022-04-22T20:27:54.213Z"
   },
   {
    "duration": 54,
    "start_time": "2022-04-22T20:27:54.240Z"
   },
   {
    "duration": 7,
    "start_time": "2022-04-22T20:27:54.296Z"
   },
   {
    "duration": 7,
    "start_time": "2022-04-22T20:27:54.304Z"
   },
   {
    "duration": 10,
    "start_time": "2022-04-22T20:27:54.313Z"
   },
   {
    "duration": 7,
    "start_time": "2022-04-22T20:27:54.325Z"
   },
   {
    "duration": 32,
    "start_time": "2022-04-22T20:27:54.374Z"
   },
   {
    "duration": 34,
    "start_time": "2022-04-22T20:27:54.407Z"
   },
   {
    "duration": 37,
    "start_time": "2022-04-22T20:27:54.443Z"
   },
   {
    "duration": 16,
    "start_time": "2022-04-22T20:27:54.482Z"
   },
   {
    "duration": 20,
    "start_time": "2022-04-22T20:27:54.500Z"
   },
   {
    "duration": 8,
    "start_time": "2022-04-22T20:27:54.521Z"
   },
   {
    "duration": 54,
    "start_time": "2022-04-22T20:27:54.530Z"
   },
   {
    "duration": 434,
    "start_time": "2022-04-22T20:27:54.585Z"
   },
   {
    "duration": 9,
    "start_time": "2022-04-22T20:27:55.021Z"
   },
   {
    "duration": 11,
    "start_time": "2022-04-22T20:27:55.032Z"
   },
   {
    "duration": 68,
    "start_time": "2022-04-22T20:27:55.045Z"
   },
   {
    "duration": 72,
    "start_time": "2022-04-22T20:27:55.115Z"
   },
   {
    "duration": 23,
    "start_time": "2022-04-22T20:27:55.188Z"
   },
   {
    "duration": 69,
    "start_time": "2022-04-22T20:27:55.213Z"
   },
   {
    "duration": 4,
    "start_time": "2022-04-22T20:27:55.284Z"
   },
   {
    "duration": 9,
    "start_time": "2022-04-22T20:27:55.289Z"
   },
   {
    "duration": 16,
    "start_time": "2022-04-22T20:27:55.300Z"
   },
   {
    "duration": 72,
    "start_time": "2022-04-22T20:27:55.318Z"
   },
   {
    "duration": 43,
    "start_time": "2022-04-22T20:27:55.392Z"
   },
   {
    "duration": 37,
    "start_time": "2022-04-22T20:27:55.437Z"
   },
   {
    "duration": 116,
    "start_time": "2022-04-22T20:27:55.476Z"
   },
   {
    "duration": 204,
    "start_time": "2022-04-22T20:27:55.593Z"
   },
   {
    "duration": 4,
    "start_time": "2022-04-22T20:27:55.799Z"
   },
   {
    "duration": 274,
    "start_time": "2022-04-22T20:27:55.804Z"
   },
   {
    "duration": 115,
    "start_time": "2022-04-22T20:27:56.080Z"
   },
   {
    "duration": 183,
    "start_time": "2022-04-22T20:27:56.196Z"
   },
   {
    "duration": 47,
    "start_time": "2022-04-22T20:27:56.381Z"
   },
   {
    "duration": 317,
    "start_time": "2022-04-22T20:27:56.430Z"
   },
   {
    "duration": 35,
    "start_time": "2022-04-22T20:27:56.749Z"
   },
   {
    "duration": 23,
    "start_time": "2022-04-22T20:27:56.785Z"
   },
   {
    "duration": 19,
    "start_time": "2022-04-22T20:27:56.810Z"
   },
   {
    "duration": 170,
    "start_time": "2022-04-22T20:27:56.831Z"
   },
   {
    "duration": 200,
    "start_time": "2022-04-22T20:27:57.002Z"
   },
   {
    "duration": 30,
    "start_time": "2022-04-22T20:27:57.204Z"
   },
   {
    "duration": 37,
    "start_time": "2022-04-22T20:27:57.236Z"
   },
   {
    "duration": 235,
    "start_time": "2022-04-22T20:27:57.275Z"
   },
   {
    "duration": 93,
    "start_time": "2022-04-22T20:27:57.511Z"
   },
   {
    "duration": 8,
    "start_time": "2022-04-22T20:27:57.606Z"
   },
   {
    "duration": 99,
    "start_time": "2022-04-22T20:27:57.616Z"
   },
   {
    "duration": 64,
    "start_time": "2022-04-22T20:27:57.717Z"
   },
   {
    "duration": 324,
    "start_time": "2022-04-22T20:27:57.782Z"
   },
   {
    "duration": 205,
    "start_time": "2022-04-22T20:27:58.108Z"
   },
   {
    "duration": 59,
    "start_time": "2022-04-22T20:27:58.315Z"
   },
   {
    "duration": 210,
    "start_time": "2022-04-22T20:27:58.376Z"
   },
   {
    "duration": 6,
    "start_time": "2022-04-22T20:27:58.588Z"
   },
   {
    "duration": 681,
    "start_time": "2022-04-22T20:27:58.595Z"
   },
   {
    "duration": 42,
    "start_time": "2022-04-22T20:27:59.278Z"
   },
   {
    "duration": 6,
    "start_time": "2022-04-22T20:27:59.326Z"
   },
   {
    "duration": 1316,
    "start_time": "2022-04-22T20:27:59.333Z"
   },
   {
    "duration": 181,
    "start_time": "2022-04-22T20:28:00.650Z"
   },
   {
    "duration": 16,
    "start_time": "2022-04-22T20:28:00.833Z"
   },
   {
    "duration": 33,
    "start_time": "2022-04-22T20:28:00.851Z"
   },
   {
    "duration": 13,
    "start_time": "2022-04-22T20:28:00.886Z"
   },
   {
    "duration": 22,
    "start_time": "2022-04-22T20:28:00.901Z"
   },
   {
    "duration": 18,
    "start_time": "2022-04-22T20:28:00.925Z"
   },
   {
    "duration": 31,
    "start_time": "2022-04-22T20:28:00.945Z"
   },
   {
    "duration": 19,
    "start_time": "2022-04-22T20:28:00.978Z"
   },
   {
    "duration": 22,
    "start_time": "2022-04-22T20:28:00.999Z"
   },
   {
    "duration": 239,
    "start_time": "2022-04-22T20:28:01.023Z"
   },
   {
    "duration": 78,
    "start_time": "2022-04-22T20:28:01.264Z"
   },
   {
    "duration": 392,
    "start_time": "2022-04-22T20:28:01.344Z"
   },
   {
    "duration": 2,
    "start_time": "2022-04-22T20:28:01.738Z"
   },
   {
    "duration": 36,
    "start_time": "2022-04-22T20:28:01.742Z"
   },
   {
    "duration": 12,
    "start_time": "2022-04-22T20:28:01.780Z"
   },
   {
    "duration": 98,
    "start_time": "2022-04-22T20:28:01.794Z"
   },
   {
    "duration": 3,
    "start_time": "2022-04-22T20:28:01.893Z"
   },
   {
    "duration": 24,
    "start_time": "2022-04-22T20:28:01.898Z"
   },
   {
    "duration": 28,
    "start_time": "2022-04-22T20:28:01.924Z"
   },
   {
    "duration": 20,
    "start_time": "2022-04-22T20:28:01.953Z"
   },
   {
    "duration": 20,
    "start_time": "2022-04-22T20:28:01.975Z"
   },
   {
    "duration": 26,
    "start_time": "2022-04-22T20:28:01.997Z"
   },
   {
    "duration": 7,
    "start_time": "2022-04-22T20:28:02.024Z"
   },
   {
    "duration": 29,
    "start_time": "2022-04-22T20:28:02.033Z"
   },
   {
    "duration": 7,
    "start_time": "2022-04-22T20:28:02.072Z"
   },
   {
    "duration": 28,
    "start_time": "2022-04-22T20:28:02.081Z"
   },
   {
    "duration": 7,
    "start_time": "2022-04-22T20:28:02.111Z"
   },
   {
    "duration": 20,
    "start_time": "2022-04-22T20:51:42.303Z"
   },
   {
    "duration": 196,
    "start_time": "2022-04-22T20:51:46.466Z"
   },
   {
    "duration": 70,
    "start_time": "2022-04-22T20:52:00.777Z"
   },
   {
    "duration": 383,
    "start_time": "2022-04-22T20:52:18.274Z"
   },
   {
    "duration": 29,
    "start_time": "2022-04-22T20:52:29.291Z"
   },
   {
    "duration": 13,
    "start_time": "2022-04-22T20:52:34.372Z"
   },
   {
    "duration": 22,
    "start_time": "2022-04-22T20:52:56.004Z"
   },
   {
    "duration": 20,
    "start_time": "2022-04-22T20:53:05.946Z"
   },
   {
    "duration": 192,
    "start_time": "2022-04-22T21:44:08.195Z"
   },
   {
    "duration": 43,
    "start_time": "2022-04-22T21:44:31.499Z"
   },
   {
    "duration": 11,
    "start_time": "2022-04-22T21:44:39.043Z"
   },
   {
    "duration": 44,
    "start_time": "2022-04-22T21:44:57.684Z"
   },
   {
    "duration": 9,
    "start_time": "2022-04-22T21:45:05.230Z"
   },
   {
    "duration": 174,
    "start_time": "2022-04-22T21:45:13.477Z"
   },
   {
    "duration": 100,
    "start_time": "2022-04-22T21:45:20.318Z"
   },
   {
    "duration": 6,
    "start_time": "2022-04-22T21:45:23.076Z"
   },
   {
    "duration": 103,
    "start_time": "2022-04-22T21:45:25.762Z"
   },
   {
    "duration": 7,
    "start_time": "2022-04-22T21:45:40.523Z"
   },
   {
    "duration": 450,
    "start_time": "2022-04-22T21:45:48.401Z"
   },
   {
    "duration": 30,
    "start_time": "2022-04-22T21:45:54.437Z"
   },
   {
    "duration": 7,
    "start_time": "2022-04-22T21:46:05.572Z"
   },
   {
    "duration": 1309,
    "start_time": "2022-04-22T21:46:07.501Z"
   },
   {
    "duration": 38,
    "start_time": "2022-04-22T21:46:17.638Z"
   },
   {
    "duration": 15,
    "start_time": "2022-04-22T21:46:41.916Z"
   },
   {
    "duration": 3,
    "start_time": "2022-04-22T21:46:50.170Z"
   },
   {
    "duration": 4,
    "start_time": "2022-04-22T21:46:53.444Z"
   },
   {
    "duration": 3,
    "start_time": "2022-04-22T21:46:56.729Z"
   },
   {
    "duration": 3,
    "start_time": "2022-04-22T21:47:00.357Z"
   },
   {
    "duration": 2,
    "start_time": "2022-04-22T21:47:03.113Z"
   },
   {
    "duration": 16,
    "start_time": "2022-04-22T21:47:22.898Z"
   },
   {
    "duration": 2,
    "start_time": "2022-04-22T21:47:28.170Z"
   },
   {
    "duration": 20,
    "start_time": "2022-04-22T21:47:43.561Z"
   },
   {
    "duration": 204,
    "start_time": "2022-04-22T21:47:48.957Z"
   },
   {
    "duration": 69,
    "start_time": "2022-04-22T21:48:02.849Z"
   },
   {
    "duration": 372,
    "start_time": "2022-04-22T21:48:09.646Z"
   },
   {
    "duration": 26,
    "start_time": "2022-04-22T21:48:21.106Z"
   },
   {
    "duration": 16,
    "start_time": "2022-04-22T21:49:26.593Z"
   },
   {
    "duration": 9,
    "start_time": "2022-04-22T21:49:30.744Z"
   },
   {
    "duration": 9,
    "start_time": "2022-04-22T21:49:35.119Z"
   },
   {
    "duration": 14,
    "start_time": "2022-04-22T21:49:40.515Z"
   },
   {
    "duration": 20,
    "start_time": "2022-04-22T21:49:43.112Z"
   },
   {
    "duration": 18,
    "start_time": "2022-04-22T21:49:55.564Z"
   },
   {
    "duration": 15,
    "start_time": "2022-04-22T21:51:28.585Z"
   },
   {
    "duration": 22,
    "start_time": "2022-04-22T21:51:41.487Z"
   },
   {
    "duration": 17,
    "start_time": "2022-04-22T21:51:53.161Z"
   },
   {
    "duration": 18,
    "start_time": "2022-04-22T21:52:14.759Z"
   },
   {
    "duration": 218,
    "start_time": "2022-04-22T21:52:37.138Z"
   },
   {
    "duration": 52,
    "start_time": "2022-04-22T21:52:46.194Z"
   },
   {
    "duration": 47,
    "start_time": "2022-04-22T21:53:18.770Z"
   },
   {
    "duration": 9,
    "start_time": "2022-04-22T21:53:24.226Z"
   },
   {
    "duration": 154,
    "start_time": "2022-04-22T21:53:26.503Z"
   },
   {
    "duration": 8,
    "start_time": "2022-04-22T21:54:11.296Z"
   },
   {
    "duration": 420,
    "start_time": "2022-04-22T21:54:12.787Z"
   },
   {
    "duration": 29,
    "start_time": "2022-04-22T21:54:23.699Z"
   },
   {
    "duration": 6,
    "start_time": "2022-04-22T21:54:28.275Z"
   },
   {
    "duration": 1183,
    "start_time": "2022-04-22T21:54:30.747Z"
   },
   {
    "duration": 40,
    "start_time": "2022-04-22T21:54:36.214Z"
   },
   {
    "duration": 29,
    "start_time": "2022-04-22T21:55:29.435Z"
   },
   {
    "duration": 24,
    "start_time": "2022-04-22T21:55:46.800Z"
   },
   {
    "duration": 32,
    "start_time": "2022-04-22T21:56:35.519Z"
   },
   {
    "duration": 22,
    "start_time": "2022-04-22T21:56:52.255Z"
   },
   {
    "duration": 337,
    "start_time": "2022-04-22T21:57:00.225Z"
   },
   {
    "duration": 331,
    "start_time": "2022-04-22T21:57:30.723Z"
   },
   {
    "duration": 196,
    "start_time": "2022-04-22T21:57:44.752Z"
   },
   {
    "duration": 70,
    "start_time": "2022-04-22T21:57:53.668Z"
   },
   {
    "duration": 410,
    "start_time": "2022-04-22T21:57:58.757Z"
   },
   {
    "duration": 412,
    "start_time": "2022-04-22T21:58:18.048Z"
   },
   {
    "duration": 27,
    "start_time": "2022-04-22T21:58:26.058Z"
   },
   {
    "duration": 13,
    "start_time": "2022-04-22T21:58:34.087Z"
   },
   {
    "duration": 22,
    "start_time": "2022-04-22T21:58:56.312Z"
   },
   {
    "duration": 14,
    "start_time": "2022-04-22T21:59:40.423Z"
   },
   {
    "duration": 23,
    "start_time": "2022-04-22T22:01:18.950Z"
   },
   {
    "duration": 32,
    "start_time": "2022-04-22T22:02:24.496Z"
   },
   {
    "duration": 37,
    "start_time": "2022-04-22T22:03:17.788Z"
   },
   {
    "duration": 18,
    "start_time": "2022-04-22T22:03:45.941Z"
   },
   {
    "duration": 21,
    "start_time": "2022-04-22T22:03:58.261Z"
   },
   {
    "duration": 21,
    "start_time": "2022-04-22T22:04:54.886Z"
   },
   {
    "duration": 24,
    "start_time": "2022-04-22T22:05:09.125Z"
   },
   {
    "duration": 22,
    "start_time": "2022-04-22T22:05:15.302Z"
   },
   {
    "duration": 16,
    "start_time": "2022-04-22T22:06:57.851Z"
   },
   {
    "duration": 14,
    "start_time": "2022-04-22T22:07:11.251Z"
   },
   {
    "duration": 25,
    "start_time": "2022-04-22T22:07:56.043Z"
   },
   {
    "duration": 26,
    "start_time": "2022-04-22T22:08:06.014Z"
   },
   {
    "duration": 23,
    "start_time": "2022-04-22T22:08:48.698Z"
   },
   {
    "duration": 24,
    "start_time": "2022-04-22T22:08:51.384Z"
   },
   {
    "duration": 7,
    "start_time": "2022-04-22T22:08:52.982Z"
   },
   {
    "duration": 12,
    "start_time": "2022-04-22T22:09:32.953Z"
   },
   {
    "duration": 27,
    "start_time": "2022-04-22T22:13:53.408Z"
   },
   {
    "duration": 25,
    "start_time": "2022-04-22T22:15:12.895Z"
   },
   {
    "duration": 7,
    "start_time": "2022-04-22T22:15:15.754Z"
   },
   {
    "duration": 16,
    "start_time": "2022-04-22T22:18:28.494Z"
   },
   {
    "duration": 7,
    "start_time": "2022-04-22T22:18:29.118Z"
   },
   {
    "duration": 7,
    "start_time": "2022-04-22T22:20:13.498Z"
   },
   {
    "duration": 13,
    "start_time": "2022-04-22T22:20:23.038Z"
   },
   {
    "duration": 7,
    "start_time": "2022-04-22T22:20:23.647Z"
   },
   {
    "duration": 13,
    "start_time": "2022-04-22T22:21:08.103Z"
   },
   {
    "duration": 7,
    "start_time": "2022-04-22T22:21:28.303Z"
   },
   {
    "duration": 105,
    "start_time": "2022-04-22T22:22:57.886Z"
   },
   {
    "duration": 1190,
    "start_time": "2022-04-23T04:43:08.374Z"
   },
   {
    "duration": 538,
    "start_time": "2022-04-23T04:43:09.566Z"
   },
   {
    "duration": 3,
    "start_time": "2022-04-23T04:43:10.106Z"
   },
   {
    "duration": 5,
    "start_time": "2022-04-23T04:43:10.111Z"
   },
   {
    "duration": 33,
    "start_time": "2022-04-23T04:43:10.117Z"
   },
   {
    "duration": 127,
    "start_time": "2022-04-23T04:43:10.151Z"
   },
   {
    "duration": 330,
    "start_time": "2022-04-23T04:43:10.279Z"
   },
   {
    "duration": 40,
    "start_time": "2022-04-23T04:43:10.611Z"
   },
   {
    "duration": 10,
    "start_time": "2022-04-23T04:43:10.653Z"
   },
   {
    "duration": 53,
    "start_time": "2022-04-23T04:43:10.665Z"
   },
   {
    "duration": 133,
    "start_time": "2022-04-23T04:43:10.720Z"
   },
   {
    "duration": 4,
    "start_time": "2022-04-23T04:43:10.855Z"
   },
   {
    "duration": 41,
    "start_time": "2022-04-23T04:43:10.860Z"
   },
   {
    "duration": 40,
    "start_time": "2022-04-23T04:43:10.902Z"
   },
   {
    "duration": 21,
    "start_time": "2022-04-23T04:43:10.944Z"
   },
   {
    "duration": 38,
    "start_time": "2022-04-23T04:43:10.967Z"
   },
   {
    "duration": 8,
    "start_time": "2022-04-23T04:43:11.006Z"
   },
   {
    "duration": 6,
    "start_time": "2022-04-23T04:43:11.015Z"
   },
   {
    "duration": 5,
    "start_time": "2022-04-23T04:43:11.022Z"
   },
   {
    "duration": 8,
    "start_time": "2022-04-23T04:43:11.028Z"
   },
   {
    "duration": 72,
    "start_time": "2022-04-23T04:43:11.038Z"
   },
   {
    "duration": 129,
    "start_time": "2022-04-23T04:43:11.111Z"
   },
   {
    "duration": 46,
    "start_time": "2022-04-23T04:43:11.241Z"
   },
   {
    "duration": 424,
    "start_time": "2022-04-23T04:43:11.289Z"
   },
   {
    "duration": 2,
    "start_time": "2022-04-23T04:43:11.715Z"
   },
   {
    "duration": 7,
    "start_time": "2022-04-23T04:43:11.719Z"
   },
   {
    "duration": 11,
    "start_time": "2022-04-23T04:43:11.727Z"
   },
   {
    "duration": 21,
    "start_time": "2022-04-23T04:43:11.742Z"
   },
   {
    "duration": 42,
    "start_time": "2022-04-23T04:43:11.764Z"
   },
   {
    "duration": 20,
    "start_time": "2022-04-23T04:43:11.807Z"
   },
   {
    "duration": 7,
    "start_time": "2022-04-23T04:43:11.828Z"
   },
   {
    "duration": 7,
    "start_time": "2022-04-23T04:43:11.836Z"
   },
   {
    "duration": 10,
    "start_time": "2022-04-23T04:43:11.845Z"
   },
   {
    "duration": 6,
    "start_time": "2022-04-23T04:43:11.856Z"
   },
   {
    "duration": 60,
    "start_time": "2022-04-23T04:43:11.863Z"
   },
   {
    "duration": 29,
    "start_time": "2022-04-23T04:43:11.924Z"
   },
   {
    "duration": 9,
    "start_time": "2022-04-23T04:43:11.954Z"
   },
   {
    "duration": 36,
    "start_time": "2022-04-23T04:43:11.964Z"
   },
   {
    "duration": 17,
    "start_time": "2022-04-23T04:43:12.002Z"
   },
   {
    "duration": 7,
    "start_time": "2022-04-23T04:43:12.020Z"
   },
   {
    "duration": 21,
    "start_time": "2022-04-23T04:43:12.028Z"
   },
   {
    "duration": 474,
    "start_time": "2022-04-23T04:43:12.051Z"
   },
   {
    "duration": 7,
    "start_time": "2022-04-23T04:43:12.527Z"
   },
   {
    "duration": 9,
    "start_time": "2022-04-23T04:43:12.536Z"
   },
   {
    "duration": 84,
    "start_time": "2022-04-23T04:43:12.546Z"
   },
   {
    "duration": 21,
    "start_time": "2022-04-23T04:43:12.632Z"
   },
   {
    "duration": 24,
    "start_time": "2022-04-23T04:43:12.701Z"
   },
   {
    "duration": 30,
    "start_time": "2022-04-23T04:43:12.727Z"
   },
   {
    "duration": 4,
    "start_time": "2022-04-23T04:43:12.758Z"
   },
   {
    "duration": 7,
    "start_time": "2022-04-23T04:43:12.763Z"
   },
   {
    "duration": 14,
    "start_time": "2022-04-23T04:43:12.800Z"
   },
   {
    "duration": 31,
    "start_time": "2022-04-23T04:43:12.815Z"
   },
   {
    "duration": 56,
    "start_time": "2022-04-23T04:43:12.847Z"
   },
   {
    "duration": 18,
    "start_time": "2022-04-23T04:43:12.905Z"
   },
   {
    "duration": 98,
    "start_time": "2022-04-23T04:43:12.924Z"
   },
   {
    "duration": 158,
    "start_time": "2022-04-23T04:43:13.023Z"
   },
   {
    "duration": 4,
    "start_time": "2022-04-23T04:43:13.182Z"
   },
   {
    "duration": 250,
    "start_time": "2022-04-23T04:43:13.187Z"
   },
   {
    "duration": 104,
    "start_time": "2022-04-23T04:43:13.438Z"
   },
   {
    "duration": 145,
    "start_time": "2022-04-23T04:43:13.544Z"
   },
   {
    "duration": 47,
    "start_time": "2022-04-23T04:43:13.690Z"
   },
   {
    "duration": 240,
    "start_time": "2022-04-23T04:43:13.739Z"
   },
   {
    "duration": 33,
    "start_time": "2022-04-23T04:43:13.980Z"
   },
   {
    "duration": 21,
    "start_time": "2022-04-23T04:43:14.015Z"
   },
   {
    "duration": 19,
    "start_time": "2022-04-23T04:43:14.038Z"
   },
   {
    "duration": 136,
    "start_time": "2022-04-23T04:43:14.059Z"
   },
   {
    "duration": 163,
    "start_time": "2022-04-23T04:43:14.197Z"
   },
   {
    "duration": 25,
    "start_time": "2022-04-23T04:43:14.362Z"
   },
   {
    "duration": 27,
    "start_time": "2022-04-23T04:43:14.389Z"
   },
   {
    "duration": 11,
    "start_time": "2022-04-23T04:43:14.418Z"
   },
   {
    "duration": 210,
    "start_time": "2022-04-23T04:43:14.431Z"
   },
   {
    "duration": 37,
    "start_time": "2022-04-23T04:43:14.643Z"
   },
   {
    "duration": 21,
    "start_time": "2022-04-23T04:43:14.681Z"
   },
   {
    "duration": 43,
    "start_time": "2022-04-23T04:43:14.703Z"
   },
   {
    "duration": 6,
    "start_time": "2022-04-23T04:43:14.748Z"
   },
   {
    "duration": 163,
    "start_time": "2022-04-23T04:43:14.755Z"
   },
   {
    "duration": 94,
    "start_time": "2022-04-23T04:43:14.919Z"
   },
   {
    "duration": 7,
    "start_time": "2022-04-23T04:43:15.014Z"
   },
   {
    "duration": 103,
    "start_time": "2022-04-23T04:43:15.022Z"
   },
   {
    "duration": 6,
    "start_time": "2022-04-23T04:43:15.127Z"
   },
   {
    "duration": 383,
    "start_time": "2022-04-23T04:43:15.134Z"
   },
   {
    "duration": 31,
    "start_time": "2022-04-23T04:43:15.522Z"
   },
   {
    "duration": 5,
    "start_time": "2022-04-23T04:43:15.554Z"
   },
   {
    "duration": 1095,
    "start_time": "2022-04-23T04:43:15.560Z"
   },
   {
    "duration": 135,
    "start_time": "2022-04-23T04:43:16.656Z"
   },
   {
    "duration": 16,
    "start_time": "2022-04-23T04:43:16.793Z"
   },
   {
    "duration": 7,
    "start_time": "2022-04-23T04:43:16.811Z"
   },
   {
    "duration": 11,
    "start_time": "2022-04-23T04:43:16.819Z"
   },
   {
    "duration": 13,
    "start_time": "2022-04-23T04:43:16.832Z"
   },
   {
    "duration": 16,
    "start_time": "2022-04-23T04:43:16.846Z"
   },
   {
    "duration": 42,
    "start_time": "2022-04-23T04:43:16.864Z"
   },
   {
    "duration": 15,
    "start_time": "2022-04-23T04:43:16.908Z"
   },
   {
    "duration": 26,
    "start_time": "2022-04-23T04:43:16.925Z"
   },
   {
    "duration": 196,
    "start_time": "2022-04-23T04:43:16.953Z"
   },
   {
    "duration": 71,
    "start_time": "2022-04-23T04:43:17.151Z"
   },
   {
    "duration": 384,
    "start_time": "2022-04-23T04:43:17.224Z"
   },
   {
    "duration": 3,
    "start_time": "2022-04-23T04:43:17.610Z"
   },
   {
    "duration": 158,
    "start_time": "2022-04-23T04:43:17.615Z"
   },
   {
    "duration": 0,
    "start_time": "2022-04-23T04:43:17.774Z"
   },
   {
    "duration": 0,
    "start_time": "2022-04-23T04:43:17.776Z"
   },
   {
    "duration": 0,
    "start_time": "2022-04-23T04:43:17.777Z"
   },
   {
    "duration": 0,
    "start_time": "2022-04-23T04:43:17.778Z"
   },
   {
    "duration": 0,
    "start_time": "2022-04-23T04:43:17.780Z"
   },
   {
    "duration": 0,
    "start_time": "2022-04-23T04:43:17.781Z"
   },
   {
    "duration": 0,
    "start_time": "2022-04-23T04:43:17.782Z"
   },
   {
    "duration": 0,
    "start_time": "2022-04-23T04:43:17.800Z"
   },
   {
    "duration": 0,
    "start_time": "2022-04-23T04:43:17.801Z"
   },
   {
    "duration": 0,
    "start_time": "2022-04-23T04:43:17.802Z"
   },
   {
    "duration": 0,
    "start_time": "2022-04-23T04:43:17.804Z"
   },
   {
    "duration": 0,
    "start_time": "2022-04-23T04:43:17.805Z"
   },
   {
    "duration": 0,
    "start_time": "2022-04-23T04:43:17.806Z"
   },
   {
    "duration": 0,
    "start_time": "2022-04-23T04:43:17.808Z"
   },
   {
    "duration": 33,
    "start_time": "2022-04-23T04:49:02.293Z"
   },
   {
    "duration": 15,
    "start_time": "2022-04-23T04:49:20.948Z"
   },
   {
    "duration": 22,
    "start_time": "2022-04-23T04:49:22.726Z"
   },
   {
    "duration": 2,
    "start_time": "2022-04-23T04:49:27.337Z"
   },
   {
    "duration": 21,
    "start_time": "2022-04-23T04:49:30.908Z"
   },
   {
    "duration": 23,
    "start_time": "2022-04-23T04:49:42.007Z"
   },
   {
    "duration": 21,
    "start_time": "2022-04-23T04:49:43.851Z"
   },
   {
    "duration": 6,
    "start_time": "2022-04-23T04:49:44.019Z"
   },
   {
    "duration": 10,
    "start_time": "2022-04-23T04:49:44.221Z"
   },
   {
    "duration": 13,
    "start_time": "2022-04-23T04:49:50.982Z"
   },
   {
    "duration": 6,
    "start_time": "2022-04-23T04:49:51.330Z"
   },
   {
    "duration": 11,
    "start_time": "2022-04-23T04:49:51.538Z"
   },
   {
    "duration": 7,
    "start_time": "2022-04-23T04:49:51.743Z"
   },
   {
    "duration": 10,
    "start_time": "2022-04-23T04:49:52.278Z"
   },
   {
    "duration": 5,
    "start_time": "2022-04-23T04:49:52.471Z"
   },
   {
    "duration": 4,
    "start_time": "2022-04-23T04:50:28.900Z"
   },
   {
    "duration": 20,
    "start_time": "2022-04-23T05:16:40.972Z"
   },
   {
    "duration": 6,
    "start_time": "2022-04-23T05:16:42.467Z"
   },
   {
    "duration": 12,
    "start_time": "2022-04-23T05:16:45.766Z"
   },
   {
    "duration": 3,
    "start_time": "2022-04-23T05:19:21.864Z"
   }
  ],
  "kernelspec": {
   "display_name": "Python 3 (ipykernel)",
   "language": "python",
   "name": "python3"
  },
  "language_info": {
   "codemirror_mode": {
    "name": "ipython",
    "version": 3
   },
   "file_extension": ".py",
   "mimetype": "text/x-python",
   "name": "python",
   "nbconvert_exporter": "python",
   "pygments_lexer": "ipython3",
   "version": "3.9.12"
  },
  "toc": {
   "base_numbering": 1,
   "nav_menu": {},
   "number_sections": true,
   "sideBar": true,
   "skip_h1_title": true,
   "title_cell": "Table of Contents",
   "title_sidebar": "Contents",
   "toc_cell": true,
   "toc_position": {
    "height": "calc(100% - 180px)",
    "left": "10px",
    "top": "150px",
    "width": "226.575px"
   },
   "toc_section_display": true,
   "toc_window_display": true
  }
 },
 "nbformat": 4,
 "nbformat_minor": 5
}
